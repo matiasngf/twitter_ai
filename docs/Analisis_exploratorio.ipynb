{
  "nbformat": 4,
  "nbformat_minor": 0,
  "metadata": {
    "colab": {
      "name": "Analisis exploratorio.ipynb",
      "provenance": [],
      "collapsed_sections": []
    },
    "kernelspec": {
      "name": "python3",
      "display_name": "Python 3"
    }
  },
  "cells": [
    {
      "cell_type": "markdown",
      "metadata": {
        "id": "FnMUyDtuMycl",
        "colab_type": "text"
      },
      "source": [
        "Importando Librerias"
      ]
    },
    {
      "cell_type": "code",
      "metadata": {
        "id": "JIJ-s8APMdod",
        "colab_type": "code",
        "colab": {
          "base_uri": "https://localhost:8080/",
          "height": 74
        },
        "outputId": "fa0e5f8e-5c42-4cf2-cfff-44ae2f5956d1"
      },
      "source": [
        "import pandas as pd\n",
        "import matplotlib.pyplot as plt\n",
        "import seaborn as sns\n",
        "%matplotlib inline"
      ],
      "execution_count": 1,
      "outputs": [
        {
          "output_type": "stream",
          "text": [
            "/usr/local/lib/python3.6/dist-packages/statsmodels/tools/_testing.py:19: FutureWarning: pandas.util.testing is deprecated. Use the functions in the public API at pandas.testing instead.\n",
            "  import pandas.util.testing as tm\n"
          ],
          "name": "stderr"
        }
      ]
    },
    {
      "cell_type": "markdown",
      "metadata": {
        "id": "Fc08gp2VNEtM",
        "colab_type": "text"
      },
      "source": [
        "Importado Datasets"
      ]
    },
    {
      "cell_type": "code",
      "metadata": {
        "id": "nW488WQfItdE",
        "colab_type": "code",
        "colab": {
          "base_uri": "https://localhost:8080/",
          "height": 249
        },
        "outputId": "52faa15a-8ccd-4cd7-ebd3-df8ef70da7cb"
      },
      "source": [
        "df1=pd.read_csv('/content/users_202007072128.csv',parse_dates=['created_at'])\n",
        "df1.head(2)"
      ],
      "execution_count": 2,
      "outputs": [
        {
          "output_type": "execute_result",
          "data": {
            "text/html": [
              "<div>\n",
              "<style scoped>\n",
              "    .dataframe tbody tr th:only-of-type {\n",
              "        vertical-align: middle;\n",
              "    }\n",
              "\n",
              "    .dataframe tbody tr th {\n",
              "        vertical-align: top;\n",
              "    }\n",
              "\n",
              "    .dataframe thead th {\n",
              "        text-align: right;\n",
              "    }\n",
              "</style>\n",
              "<table border=\"1\" class=\"dataframe\">\n",
              "  <thead>\n",
              "    <tr style=\"text-align: right;\">\n",
              "      <th></th>\n",
              "      <th>user_id</th>\n",
              "      <th>user_name</th>\n",
              "      <th>name</th>\n",
              "      <th>description</th>\n",
              "      <th>url</th>\n",
              "      <th>created_at</th>\n",
              "      <th>geo_enabled</th>\n",
              "      <th>verified</th>\n",
              "      <th>profile_image_url</th>\n",
              "      <th>profile_image_url_large</th>\n",
              "      <th>followers_count</th>\n",
              "      <th>friends_count</th>\n",
              "      <th>listed_count</th>\n",
              "      <th>favourites_count</th>\n",
              "      <th>statuses_count</th>\n",
              "      <th>media_count</th>\n",
              "      <th>pinned_tweet</th>\n",
              "      <th>tweets_scraped</th>\n",
              "      <th>tweets_scraped_at</th>\n",
              "      <th>scrapped_at</th>\n",
              "      <th>ignore</th>\n",
              "    </tr>\n",
              "  </thead>\n",
              "  <tbody>\n",
              "    <tr>\n",
              "      <th>0</th>\n",
              "      <td>1000028381906382848</td>\n",
              "      <td>b10_julian</td>\n",
              "      <td>Juli⚽</td>\n",
              "      <td>Vélez Sarsfield/Villa Guillermina             ...</td>\n",
              "      <td>https://t.co/jYboxTgR2D</td>\n",
              "      <td>2018-05-25 14:58:40</td>\n",
              "      <td>0</td>\n",
              "      <td>0</td>\n",
              "      <td>https://pbs.twimg.com/profile_images/126945596...</td>\n",
              "      <td>https://pbs.twimg.com/profile_images/126945596...</td>\n",
              "      <td>92</td>\n",
              "      <td>164</td>\n",
              "      <td>0</td>\n",
              "      <td>4654</td>\n",
              "      <td>1019</td>\n",
              "      <td>29</td>\n",
              "      <td>1.237890e+18</td>\n",
              "      <td>0</td>\n",
              "      <td>NaN</td>\n",
              "      <td>2020-07-07 05:32:41.0</td>\n",
              "      <td>0</td>\n",
              "    </tr>\n",
              "    <tr>\n",
              "      <th>1</th>\n",
              "      <td>1000052612186722304</td>\n",
              "      <td>LibPeronistas</td>\n",
              "      <td>Libros Peronistas</td>\n",
              "      <td>Libros escolares publicados durante la segunda...</td>\n",
              "      <td>https://t.co/lV1PZq2LPy</td>\n",
              "      <td>2018-05-25 16:34:57</td>\n",
              "      <td>0</td>\n",
              "      <td>0</td>\n",
              "      <td>https://pbs.twimg.com/profile_images/100072396...</td>\n",
              "      <td>https://pbs.twimg.com/profile_images/100072396...</td>\n",
              "      <td>405</td>\n",
              "      <td>184</td>\n",
              "      <td>1</td>\n",
              "      <td>1101</td>\n",
              "      <td>999</td>\n",
              "      <td>237</td>\n",
              "      <td>NaN</td>\n",
              "      <td>0</td>\n",
              "      <td>NaN</td>\n",
              "      <td>2020-07-07 14:08:01.0</td>\n",
              "      <td>0</td>\n",
              "    </tr>\n",
              "  </tbody>\n",
              "</table>\n",
              "</div>"
            ],
            "text/plain": [
              "               user_id      user_name  ...            scrapped_at ignore\n",
              "0  1000028381906382848     b10_julian  ...  2020-07-07 05:32:41.0      0\n",
              "1  1000052612186722304  LibPeronistas  ...  2020-07-07 14:08:01.0      0\n",
              "\n",
              "[2 rows x 21 columns]"
            ]
          },
          "metadata": {
            "tags": []
          },
          "execution_count": 2
        }
      ]
    },
    {
      "cell_type": "code",
      "metadata": {
        "id": "9ZUP7IgCNiNm",
        "colab_type": "code",
        "colab": {
          "base_uri": "https://localhost:8080/",
          "height": 35
        },
        "outputId": "84a92f8d-1a74-49a5-8850-eb446cca382a"
      },
      "source": [
        "df1.shape"
      ],
      "execution_count": 3,
      "outputs": [
        {
          "output_type": "execute_result",
          "data": {
            "text/plain": [
              "(109581, 21)"
            ]
          },
          "metadata": {
            "tags": []
          },
          "execution_count": 3
        }
      ]
    },
    {
      "cell_type": "code",
      "metadata": {
        "id": "MHzPfHPsNoTD",
        "colab_type": "code",
        "colab": {
          "base_uri": "https://localhost:8080/",
          "height": 284
        },
        "outputId": "5891ed28-654c-4e20-c167-99a56a4497c7"
      },
      "source": [
        "df2=pd.read_csv('/content/tweets_202007072142.csv',parse_dates=['created_at'])\n",
        "df2.head(2)"
      ],
      "execution_count": 4,
      "outputs": [
        {
          "output_type": "execute_result",
          "data": {
            "text/html": [
              "<div>\n",
              "<style scoped>\n",
              "    .dataframe tbody tr th:only-of-type {\n",
              "        vertical-align: middle;\n",
              "    }\n",
              "\n",
              "    .dataframe tbody tr th {\n",
              "        vertical-align: top;\n",
              "    }\n",
              "\n",
              "    .dataframe thead th {\n",
              "        text-align: right;\n",
              "    }\n",
              "</style>\n",
              "<table border=\"1\" class=\"dataframe\">\n",
              "  <thead>\n",
              "    <tr style=\"text-align: right;\">\n",
              "      <th></th>\n",
              "      <th>tweet_id</th>\n",
              "      <th>conversation_id</th>\n",
              "      <th>user_id</th>\n",
              "      <th>created_at</th>\n",
              "      <th>lang</th>\n",
              "      <th>retweet_count</th>\n",
              "      <th>favorite_count</th>\n",
              "      <th>reply_count</th>\n",
              "      <th>quote_count</th>\n",
              "      <th>is_reply</th>\n",
              "      <th>replied_id</th>\n",
              "      <th>replied_user_id</th>\n",
              "      <th>is_quote</th>\n",
              "      <th>quoted_id</th>\n",
              "      <th>full_text</th>\n",
              "      <th>source</th>\n",
              "      <th>scrapped_at</th>\n",
              "      <th>user_mentions_count</th>\n",
              "      <th>hashtags_count</th>\n",
              "      <th>urls_count</th>\n",
              "      <th>media_count</th>\n",
              "      <th>replied_original</th>\n",
              "    </tr>\n",
              "  </thead>\n",
              "  <tbody>\n",
              "    <tr>\n",
              "      <th>0</th>\n",
              "      <td>1000000284486139904</td>\n",
              "      <td>1000000284486139904</td>\n",
              "      <td>2841506345</td>\n",
              "      <td>2018-05-25 13:07:01</td>\n",
              "      <td>es</td>\n",
              "      <td>23</td>\n",
              "      <td>124</td>\n",
              "      <td>5</td>\n",
              "      <td>1</td>\n",
              "      <td>0</td>\n",
              "      <td>NaN</td>\n",
              "      <td>NaN</td>\n",
              "      <td>0</td>\n",
              "      <td>NaN</td>\n",
              "      <td>Feliz día de la patria para todos los cordobes...</td>\n",
              "      <td>Twitter for Android</td>\n",
              "      <td>2020-07-07 11:42:04.0</td>\n",
              "      <td>0</td>\n",
              "      <td>0</td>\n",
              "      <td>0</td>\n",
              "      <td>3</td>\n",
              "      <td>NaN</td>\n",
              "    </tr>\n",
              "    <tr>\n",
              "      <th>1</th>\n",
              "      <td>1000000308003696640</td>\n",
              "      <td>1000000284486139904</td>\n",
              "      <td>2841506345</td>\n",
              "      <td>2018-05-25 13:07:07</td>\n",
              "      <td>es</td>\n",
              "      <td>24</td>\n",
              "      <td>83</td>\n",
              "      <td>12</td>\n",
              "      <td>0</td>\n",
              "      <td>1</td>\n",
              "      <td>1.000000e+18</td>\n",
              "      <td>2.841506e+09</td>\n",
              "      <td>0</td>\n",
              "      <td>NaN</td>\n",
              "      <td>#25deMayo Es un día en el que todos tenemos qu...</td>\n",
              "      <td>Twitter for Android</td>\n",
              "      <td>2020-07-07 11:42:04.0</td>\n",
              "      <td>0</td>\n",
              "      <td>1</td>\n",
              "      <td>0</td>\n",
              "      <td>2</td>\n",
              "      <td>1.0</td>\n",
              "    </tr>\n",
              "  </tbody>\n",
              "</table>\n",
              "</div>"
            ],
            "text/plain": [
              "              tweet_id      conversation_id  ...  media_count replied_original\n",
              "0  1000000284486139904  1000000284486139904  ...            3              NaN\n",
              "1  1000000308003696640  1000000284486139904  ...            2              1.0\n",
              "\n",
              "[2 rows x 22 columns]"
            ]
          },
          "metadata": {
            "tags": []
          },
          "execution_count": 4
        }
      ]
    },
    {
      "cell_type": "code",
      "metadata": {
        "id": "7OJnjFHLOTfg",
        "colab_type": "code",
        "colab": {
          "base_uri": "https://localhost:8080/",
          "height": 35
        },
        "outputId": "b575e453-f213-4e79-a941-756939475699"
      },
      "source": [
        "print(df2.shape)"
      ],
      "execution_count": 5,
      "outputs": [
        {
          "output_type": "stream",
          "text": [
            "(2474317, 22)\n"
          ],
          "name": "stdout"
        }
      ]
    },
    {
      "cell_type": "markdown",
      "metadata": {
        "id": "WN8AmoiDOZ7K",
        "colab_type": "text"
      },
      "source": [
        "Clasificando los usuarios segun la cantidad de seguidores"
      ]
    },
    {
      "cell_type": "code",
      "metadata": {
        "id": "RfiH6Da0LUtY",
        "colab_type": "code",
        "colab": {
          "base_uri": "https://localhost:8080/",
          "height": 72
        },
        "outputId": "63639fcd-6d4d-45cd-d9b8-f98646fcb4dd"
      },
      "source": [
        "MI=df1[(df1['followers_count']<10000) & (df1['followers_count']>1000)] #micoinfluencers entre 1000 y 10000 seguidores\n",
        "Inf=df1[(df1['followers_count']<100000) & (df1['followers_count']>10000)]#Influencers entre 10000 y 100000 seguidores\n",
        "MA=df1[df1['followers_count']>100000]#Macroinfluencers mayor a 100000 seguidores\n",
        "print(\"El dataset de usuarios tiene {} Microinfluencers\".format(MI.shape[0]))\n",
        "print(\"El dataset de usuarios tiene {} Influencers\".format(Inf.shape[0]))\n",
        "print(\"El dataset de usuarios tiene {} Macroinfluencers\".format(MA.shape[0]))"
      ],
      "execution_count": 6,
      "outputs": [
        {
          "output_type": "stream",
          "text": [
            "El dataset de usuarios tiene 35745 Microinfluencers\n",
            "El dataset de usuarios tiene 14376 Influencers\n",
            "El dataset de usuarios tiene 6314 Macroinfluencers\n"
          ],
          "name": "stdout"
        }
      ]
    },
    {
      "cell_type": "markdown",
      "metadata": {
        "id": "L5aNbfYK2Drc",
        "colab_type": "text"
      },
      "source": [
        "Usuario mas popular"
      ]
    },
    {
      "cell_type": "code",
      "metadata": {
        "id": "owtHHoKXv-46",
        "colab_type": "code",
        "colab": {
          "base_uri": "https://localhost:8080/",
          "height": 35
        },
        "outputId": "0198abf2-86fa-494b-bf34-5603d5886bd8"
      },
      "source": [
        "df1['followers_count'].values.max()"
      ],
      "execution_count": 48,
      "outputs": [
        {
          "output_type": "execute_result",
          "data": {
            "text/plain": [
              "120453390"
            ]
          },
          "metadata": {
            "tags": []
          },
          "execution_count": 48
        }
      ]
    },
    {
      "cell_type": "code",
      "metadata": {
        "id": "_9uWOZfAxTAL",
        "colab_type": "code",
        "colab": {
          "base_uri": "https://localhost:8080/",
          "height": 78
        },
        "outputId": "f40f589d-d9c6-4b5c-867c-36c9fa7fb182"
      },
      "source": [
        "Most_popular=df1.loc[df1['followers_count']==120453390]\n",
        "Most_popular[['user_id', 'user_name', 'name']]"
      ],
      "execution_count": 49,
      "outputs": [
        {
          "output_type": "execute_result",
          "data": {
            "text/html": [
              "<div>\n",
              "<style scoped>\n",
              "    .dataframe tbody tr th:only-of-type {\n",
              "        vertical-align: middle;\n",
              "    }\n",
              "\n",
              "    .dataframe tbody tr th {\n",
              "        vertical-align: top;\n",
              "    }\n",
              "\n",
              "    .dataframe thead th {\n",
              "        text-align: right;\n",
              "    }\n",
              "</style>\n",
              "<table border=\"1\" class=\"dataframe\">\n",
              "  <thead>\n",
              "    <tr style=\"text-align: right;\">\n",
              "      <th></th>\n",
              "      <th>user_id</th>\n",
              "      <th>user_name</th>\n",
              "      <th>name</th>\n",
              "    </tr>\n",
              "  </thead>\n",
              "  <tbody>\n",
              "    <tr>\n",
              "      <th>96583</th>\n",
              "      <td>813286</td>\n",
              "      <td>BarackObama</td>\n",
              "      <td>Barack Obama</td>\n",
              "    </tr>\n",
              "  </tbody>\n",
              "</table>\n",
              "</div>"
            ],
            "text/plain": [
              "       user_id    user_name          name\n",
              "96583   813286  BarackObama  Barack Obama"
            ]
          },
          "metadata": {
            "tags": []
          },
          "execution_count": 49
        }
      ]
    },
    {
      "cell_type": "markdown",
      "metadata": {
        "id": "qxrpezUDmJr9",
        "colab_type": "text"
      },
      "source": [
        "Mergeando Tweets con sus respectivos usuarios"
      ]
    },
    {
      "cell_type": "code",
      "metadata": {
        "id": "PrU2yQiUlMUq",
        "colab_type": "code",
        "colab": {}
      },
      "source": [
        "#df1[df1['user_id']==2841506345]"
      ],
      "execution_count": 7,
      "outputs": []
    },
    {
      "cell_type": "code",
      "metadata": {
        "id": "nd_7RhP64qDG",
        "colab_type": "code",
        "colab": {}
      },
      "source": [
        "#df2[df2['user_id']==2841506345]"
      ],
      "execution_count": 8,
      "outputs": []
    },
    {
      "cell_type": "code",
      "metadata": {
        "id": "3PVqKeLjlie8",
        "colab_type": "code",
        "colab": {
          "base_uri": "https://localhost:8080/",
          "height": 249
        },
        "outputId": "21acb8de-a711-475f-fd40-700f0f68fe1b"
      },
      "source": [
        "df_merge = pd.merge(df1, df2, on='user_id', how='outer')\n",
        "df_merge.head(2)"
      ],
      "execution_count": 9,
      "outputs": [
        {
          "output_type": "execute_result",
          "data": {
            "text/html": [
              "<div>\n",
              "<style scoped>\n",
              "    .dataframe tbody tr th:only-of-type {\n",
              "        vertical-align: middle;\n",
              "    }\n",
              "\n",
              "    .dataframe tbody tr th {\n",
              "        vertical-align: top;\n",
              "    }\n",
              "\n",
              "    .dataframe thead th {\n",
              "        text-align: right;\n",
              "    }\n",
              "</style>\n",
              "<table border=\"1\" class=\"dataframe\">\n",
              "  <thead>\n",
              "    <tr style=\"text-align: right;\">\n",
              "      <th></th>\n",
              "      <th>user_id</th>\n",
              "      <th>user_name</th>\n",
              "      <th>name</th>\n",
              "      <th>description</th>\n",
              "      <th>url</th>\n",
              "      <th>created_at_x</th>\n",
              "      <th>geo_enabled</th>\n",
              "      <th>verified</th>\n",
              "      <th>profile_image_url</th>\n",
              "      <th>profile_image_url_large</th>\n",
              "      <th>followers_count</th>\n",
              "      <th>friends_count</th>\n",
              "      <th>listed_count</th>\n",
              "      <th>favourites_count</th>\n",
              "      <th>statuses_count</th>\n",
              "      <th>media_count_x</th>\n",
              "      <th>pinned_tweet</th>\n",
              "      <th>tweets_scraped</th>\n",
              "      <th>tweets_scraped_at</th>\n",
              "      <th>scrapped_at_x</th>\n",
              "      <th>ignore</th>\n",
              "      <th>tweet_id</th>\n",
              "      <th>conversation_id</th>\n",
              "      <th>created_at_y</th>\n",
              "      <th>lang</th>\n",
              "      <th>retweet_count</th>\n",
              "      <th>favorite_count</th>\n",
              "      <th>reply_count</th>\n",
              "      <th>quote_count</th>\n",
              "      <th>is_reply</th>\n",
              "      <th>replied_id</th>\n",
              "      <th>replied_user_id</th>\n",
              "      <th>is_quote</th>\n",
              "      <th>quoted_id</th>\n",
              "      <th>full_text</th>\n",
              "      <th>source</th>\n",
              "      <th>scrapped_at_y</th>\n",
              "      <th>user_mentions_count</th>\n",
              "      <th>hashtags_count</th>\n",
              "      <th>urls_count</th>\n",
              "      <th>media_count_y</th>\n",
              "      <th>replied_original</th>\n",
              "    </tr>\n",
              "  </thead>\n",
              "  <tbody>\n",
              "    <tr>\n",
              "      <th>0</th>\n",
              "      <td>1000028381906382848</td>\n",
              "      <td>b10_julian</td>\n",
              "      <td>Juli⚽</td>\n",
              "      <td>Vélez Sarsfield/Villa Guillermina             ...</td>\n",
              "      <td>https://t.co/jYboxTgR2D</td>\n",
              "      <td>2018-05-25 14:58:40</td>\n",
              "      <td>0</td>\n",
              "      <td>0</td>\n",
              "      <td>https://pbs.twimg.com/profile_images/126945596...</td>\n",
              "      <td>https://pbs.twimg.com/profile_images/126945596...</td>\n",
              "      <td>92</td>\n",
              "      <td>164</td>\n",
              "      <td>0</td>\n",
              "      <td>4654</td>\n",
              "      <td>1019</td>\n",
              "      <td>29</td>\n",
              "      <td>1.237890e+18</td>\n",
              "      <td>0</td>\n",
              "      <td>NaN</td>\n",
              "      <td>2020-07-07 05:32:41.0</td>\n",
              "      <td>0</td>\n",
              "      <td>1.274194e+18</td>\n",
              "      <td>1.274194e+18</td>\n",
              "      <td>2020-06-20 04:13:46</td>\n",
              "      <td>es</td>\n",
              "      <td>5.0</td>\n",
              "      <td>20.0</td>\n",
              "      <td>2.0</td>\n",
              "      <td>0.0</td>\n",
              "      <td>0.0</td>\n",
              "      <td>NaN</td>\n",
              "      <td>NaN</td>\n",
              "      <td>1.0</td>\n",
              "      <td>1.274135e+18</td>\n",
              "      <td>Unas ganas de que me pase:(\\n@JoseLChilavert_</td>\n",
              "      <td>Twitter for Android</td>\n",
              "      <td>2020-07-07 05:32:47.0</td>\n",
              "      <td>1.0</td>\n",
              "      <td>0.0</td>\n",
              "      <td>0.0</td>\n",
              "      <td>0.0</td>\n",
              "      <td>NaN</td>\n",
              "    </tr>\n",
              "    <tr>\n",
              "      <th>1</th>\n",
              "      <td>1000052612186722304</td>\n",
              "      <td>LibPeronistas</td>\n",
              "      <td>Libros Peronistas</td>\n",
              "      <td>Libros escolares publicados durante la segunda...</td>\n",
              "      <td>https://t.co/lV1PZq2LPy</td>\n",
              "      <td>2018-05-25 16:34:57</td>\n",
              "      <td>0</td>\n",
              "      <td>0</td>\n",
              "      <td>https://pbs.twimg.com/profile_images/100072396...</td>\n",
              "      <td>https://pbs.twimg.com/profile_images/100072396...</td>\n",
              "      <td>405</td>\n",
              "      <td>184</td>\n",
              "      <td>1</td>\n",
              "      <td>1101</td>\n",
              "      <td>999</td>\n",
              "      <td>237</td>\n",
              "      <td>NaN</td>\n",
              "      <td>0</td>\n",
              "      <td>NaN</td>\n",
              "      <td>2020-07-07 14:08:01.0</td>\n",
              "      <td>0</td>\n",
              "      <td>1.272325e+18</td>\n",
              "      <td>1.272307e+18</td>\n",
              "      <td>2020-06-15 00:28:22</td>\n",
              "      <td>es</td>\n",
              "      <td>3.0</td>\n",
              "      <td>9.0</td>\n",
              "      <td>7.0</td>\n",
              "      <td>1.0</td>\n",
              "      <td>1.0</td>\n",
              "      <td>1.272307e+18</td>\n",
              "      <td>177612041.0</td>\n",
              "      <td>0.0</td>\n",
              "      <td>NaN</td>\n",
              "      <td>@MargaWirkierman @LegadoPeron @horaciorlarreta...</td>\n",
              "      <td>Twitter for iPhone</td>\n",
              "      <td>2020-07-07 14:08:04.0</td>\n",
              "      <td>3.0</td>\n",
              "      <td>0.0</td>\n",
              "      <td>0.0</td>\n",
              "      <td>0.0</td>\n",
              "      <td>1.0</td>\n",
              "    </tr>\n",
              "  </tbody>\n",
              "</table>\n",
              "</div>"
            ],
            "text/plain": [
              "               user_id      user_name  ... media_count_y replied_original\n",
              "0  1000028381906382848     b10_julian  ...           0.0              NaN\n",
              "1  1000052612186722304  LibPeronistas  ...           0.0              1.0\n",
              "\n",
              "[2 rows x 42 columns]"
            ]
          },
          "metadata": {
            "tags": []
          },
          "execution_count": 9
        }
      ]
    },
    {
      "cell_type": "code",
      "metadata": {
        "id": "l0nbFFA83y99",
        "colab_type": "code",
        "colab": {}
      },
      "source": [
        "#df_merge[df_merge['user_id']==2841506345]"
      ],
      "execution_count": 10,
      "outputs": []
    },
    {
      "cell_type": "code",
      "metadata": {
        "id": "67r63ngE4DBa",
        "colab_type": "code",
        "colab": {
          "base_uri": "https://localhost:8080/",
          "height": 217
        },
        "outputId": "e8ad7635-af77-4c7a-aacd-99ae224b8322"
      },
      "source": [
        "df_merge.columns"
      ],
      "execution_count": 11,
      "outputs": [
        {
          "output_type": "execute_result",
          "data": {
            "text/plain": [
              "Index(['user_id', 'user_name', 'name', 'description', 'url', 'created_at_x',\n",
              "       'geo_enabled', 'verified', 'profile_image_url',\n",
              "       'profile_image_url_large', 'followers_count', 'friends_count',\n",
              "       'listed_count', 'favourites_count', 'statuses_count', 'media_count_x',\n",
              "       'pinned_tweet', 'tweets_scraped', 'tweets_scraped_at', 'scrapped_at_x',\n",
              "       'ignore', 'tweet_id', 'conversation_id', 'created_at_y', 'lang',\n",
              "       'retweet_count', 'favorite_count', 'reply_count', 'quote_count',\n",
              "       'is_reply', 'replied_id', 'replied_user_id', 'is_quote', 'quoted_id',\n",
              "       'full_text', 'source', 'scrapped_at_y', 'user_mentions_count',\n",
              "       'hashtags_count', 'urls_count', 'media_count_y', 'replied_original'],\n",
              "      dtype='object')"
            ]
          },
          "metadata": {
            "tags": []
          },
          "execution_count": 11
        }
      ]
    },
    {
      "cell_type": "code",
      "metadata": {
        "id": "_KjRhc8d_zoA",
        "colab_type": "code",
        "colab": {
          "base_uri": "https://localhost:8080/",
          "height": 35
        },
        "outputId": "f1d83ad0-48b4-4d7f-c981-345ee434b1cb"
      },
      "source": [
        "df_merge.shape"
      ],
      "execution_count": 12,
      "outputs": [
        {
          "output_type": "execute_result",
          "data": {
            "text/plain": [
              "(2475037, 42)"
            ]
          },
          "metadata": {
            "tags": []
          },
          "execution_count": 12
        }
      ]
    },
    {
      "cell_type": "markdown",
      "metadata": {
        "id": "f1iFOEhLOpus",
        "colab_type": "text"
      },
      "source": [
        "Determinando el porcentaje de datos nulos por columnas"
      ]
    },
    {
      "cell_type": "code",
      "metadata": {
        "id": "0cqMtJ6IA7mM",
        "colab_type": "code",
        "colab": {
          "base_uri": "https://localhost:8080/",
          "height": 781
        },
        "outputId": "4f233111-a52f-4b3b-8d76-c2ae8990a6fc"
      },
      "source": [
        "for i in df_merge.columns:\n",
        "    print(\"La columna\",i, \"tiene\",round((df_merge[i].isnull().sum()*100)/len(df_merge[i]),3),\"% de valores nulos\")"
      ],
      "execution_count": 13,
      "outputs": [
        {
          "output_type": "stream",
          "text": [
            "La columna user_id tiene 0.0 % de valores nulos\n",
            "La columna user_name tiene 0.0 % de valores nulos\n",
            "La columna name tiene 0.0 % de valores nulos\n",
            "La columna description tiene 3.007 % de valores nulos\n",
            "La columna url tiene 25.397 % de valores nulos\n",
            "La columna created_at_x tiene 0.0 % de valores nulos\n",
            "La columna geo_enabled tiene 0.0 % de valores nulos\n",
            "La columna verified tiene 0.0 % de valores nulos\n",
            "La columna profile_image_url tiene 0.0 % de valores nulos\n",
            "La columna profile_image_url_large tiene 0.0 % de valores nulos\n",
            "La columna followers_count tiene 0.0 % de valores nulos\n",
            "La columna friends_count tiene 0.0 % de valores nulos\n",
            "La columna listed_count tiene 0.0 % de valores nulos\n",
            "La columna favourites_count tiene 0.0 % de valores nulos\n",
            "La columna statuses_count tiene 0.0 % de valores nulos\n",
            "La columna media_count_x tiene 0.0 % de valores nulos\n",
            "La columna pinned_tweet tiene 52.403 % de valores nulos\n",
            "La columna tweets_scraped tiene 0.0 % de valores nulos\n",
            "La columna tweets_scraped_at tiene 20.912 % de valores nulos\n",
            "La columna scrapped_at_x tiene 0.0 % de valores nulos\n",
            "La columna ignore tiene 0.0 % de valores nulos\n",
            "La columna tweet_id tiene 0.029 % de valores nulos\n",
            "La columna conversation_id tiene 0.029 % de valores nulos\n",
            "La columna created_at_y tiene 0.029 % de valores nulos\n",
            "La columna lang tiene 0.029 % de valores nulos\n",
            "La columna retweet_count tiene 0.029 % de valores nulos\n",
            "La columna favorite_count tiene 0.029 % de valores nulos\n",
            "La columna reply_count tiene 0.029 % de valores nulos\n",
            "La columna quote_count tiene 0.029 % de valores nulos\n",
            "La columna is_reply tiene 0.029 % de valores nulos\n",
            "La columna replied_id tiene 76.654 % de valores nulos\n",
            "La columna replied_user_id tiene 76.654 % de valores nulos\n",
            "La columna is_quote tiene 0.029 % de valores nulos\n",
            "La columna quoted_id tiene 91.809 % de valores nulos\n",
            "La columna full_text tiene 0.029 % de valores nulos\n",
            "La columna source tiene 0.029 % de valores nulos\n",
            "La columna scrapped_at_y tiene 0.029 % de valores nulos\n",
            "La columna user_mentions_count tiene 0.029 % de valores nulos\n",
            "La columna hashtags_count tiene 0.029 % de valores nulos\n",
            "La columna urls_count tiene 0.029 % de valores nulos\n",
            "La columna media_count_y tiene 0.029 % de valores nulos\n",
            "La columna replied_original tiene 76.654 % de valores nulos\n"
          ],
          "name": "stdout"
        }
      ]
    },
    {
      "cell_type": "markdown",
      "metadata": {
        "id": "W1iyFQ9qOzxV",
        "colab_type": "text"
      },
      "source": [
        "Limpieza del nuevo dataset"
      ]
    },
    {
      "cell_type": "code",
      "metadata": {
        "id": "feYpCqpDDdTR",
        "colab_type": "code",
        "colab": {
          "base_uri": "https://localhost:8080/",
          "height": 35
        },
        "outputId": "cf525ae3-c7e9-4fda-b9c6-38b9a62191c1"
      },
      "source": [
        "max_null=[]\n",
        "for i in df_merge.columns:\n",
        "  if (df_merge[i].isnull().sum()*100)/len(df_merge[i]) >20:\n",
        "    max_null.append(i)\n",
        "print(max_null)"
      ],
      "execution_count": 14,
      "outputs": [
        {
          "output_type": "stream",
          "text": [
            "['url', 'pinned_tweet', 'tweets_scraped_at', 'replied_id', 'replied_user_id', 'quoted_id', 'replied_original']\n"
          ],
          "name": "stdout"
        }
      ]
    },
    {
      "cell_type": "code",
      "metadata": {
        "id": "rx7wqAELBh5L",
        "colab_type": "code",
        "colab": {
          "base_uri": "https://localhost:8080/",
          "height": 249
        },
        "outputId": "a8cf8b4b-6971-4c3d-eb98-313f8f0b4731"
      },
      "source": [
        "df_merge.drop(max_null,axis=1, inplace = True)\n",
        "#df1.drop([[0, 4, 2]], axis = 1, inplace = True) \n",
        "df_merge.head(2)"
      ],
      "execution_count": 15,
      "outputs": [
        {
          "output_type": "execute_result",
          "data": {
            "text/html": [
              "<div>\n",
              "<style scoped>\n",
              "    .dataframe tbody tr th:only-of-type {\n",
              "        vertical-align: middle;\n",
              "    }\n",
              "\n",
              "    .dataframe tbody tr th {\n",
              "        vertical-align: top;\n",
              "    }\n",
              "\n",
              "    .dataframe thead th {\n",
              "        text-align: right;\n",
              "    }\n",
              "</style>\n",
              "<table border=\"1\" class=\"dataframe\">\n",
              "  <thead>\n",
              "    <tr style=\"text-align: right;\">\n",
              "      <th></th>\n",
              "      <th>user_id</th>\n",
              "      <th>user_name</th>\n",
              "      <th>name</th>\n",
              "      <th>description</th>\n",
              "      <th>created_at_x</th>\n",
              "      <th>geo_enabled</th>\n",
              "      <th>verified</th>\n",
              "      <th>profile_image_url</th>\n",
              "      <th>profile_image_url_large</th>\n",
              "      <th>followers_count</th>\n",
              "      <th>friends_count</th>\n",
              "      <th>listed_count</th>\n",
              "      <th>favourites_count</th>\n",
              "      <th>statuses_count</th>\n",
              "      <th>media_count_x</th>\n",
              "      <th>tweets_scraped</th>\n",
              "      <th>scrapped_at_x</th>\n",
              "      <th>ignore</th>\n",
              "      <th>tweet_id</th>\n",
              "      <th>conversation_id</th>\n",
              "      <th>created_at_y</th>\n",
              "      <th>lang</th>\n",
              "      <th>retweet_count</th>\n",
              "      <th>favorite_count</th>\n",
              "      <th>reply_count</th>\n",
              "      <th>quote_count</th>\n",
              "      <th>is_reply</th>\n",
              "      <th>is_quote</th>\n",
              "      <th>full_text</th>\n",
              "      <th>source</th>\n",
              "      <th>scrapped_at_y</th>\n",
              "      <th>user_mentions_count</th>\n",
              "      <th>hashtags_count</th>\n",
              "      <th>urls_count</th>\n",
              "      <th>media_count_y</th>\n",
              "    </tr>\n",
              "  </thead>\n",
              "  <tbody>\n",
              "    <tr>\n",
              "      <th>0</th>\n",
              "      <td>1000028381906382848</td>\n",
              "      <td>b10_julian</td>\n",
              "      <td>Juli⚽</td>\n",
              "      <td>Vélez Sarsfield/Villa Guillermina             ...</td>\n",
              "      <td>2018-05-25 14:58:40</td>\n",
              "      <td>0</td>\n",
              "      <td>0</td>\n",
              "      <td>https://pbs.twimg.com/profile_images/126945596...</td>\n",
              "      <td>https://pbs.twimg.com/profile_images/126945596...</td>\n",
              "      <td>92</td>\n",
              "      <td>164</td>\n",
              "      <td>0</td>\n",
              "      <td>4654</td>\n",
              "      <td>1019</td>\n",
              "      <td>29</td>\n",
              "      <td>0</td>\n",
              "      <td>2020-07-07 05:32:41.0</td>\n",
              "      <td>0</td>\n",
              "      <td>1.274194e+18</td>\n",
              "      <td>1.274194e+18</td>\n",
              "      <td>2020-06-20 04:13:46</td>\n",
              "      <td>es</td>\n",
              "      <td>5.0</td>\n",
              "      <td>20.0</td>\n",
              "      <td>2.0</td>\n",
              "      <td>0.0</td>\n",
              "      <td>0.0</td>\n",
              "      <td>1.0</td>\n",
              "      <td>Unas ganas de que me pase:(\\n@JoseLChilavert_</td>\n",
              "      <td>Twitter for Android</td>\n",
              "      <td>2020-07-07 05:32:47.0</td>\n",
              "      <td>1.0</td>\n",
              "      <td>0.0</td>\n",
              "      <td>0.0</td>\n",
              "      <td>0.0</td>\n",
              "    </tr>\n",
              "    <tr>\n",
              "      <th>1</th>\n",
              "      <td>1000052612186722304</td>\n",
              "      <td>LibPeronistas</td>\n",
              "      <td>Libros Peronistas</td>\n",
              "      <td>Libros escolares publicados durante la segunda...</td>\n",
              "      <td>2018-05-25 16:34:57</td>\n",
              "      <td>0</td>\n",
              "      <td>0</td>\n",
              "      <td>https://pbs.twimg.com/profile_images/100072396...</td>\n",
              "      <td>https://pbs.twimg.com/profile_images/100072396...</td>\n",
              "      <td>405</td>\n",
              "      <td>184</td>\n",
              "      <td>1</td>\n",
              "      <td>1101</td>\n",
              "      <td>999</td>\n",
              "      <td>237</td>\n",
              "      <td>0</td>\n",
              "      <td>2020-07-07 14:08:01.0</td>\n",
              "      <td>0</td>\n",
              "      <td>1.272325e+18</td>\n",
              "      <td>1.272307e+18</td>\n",
              "      <td>2020-06-15 00:28:22</td>\n",
              "      <td>es</td>\n",
              "      <td>3.0</td>\n",
              "      <td>9.0</td>\n",
              "      <td>7.0</td>\n",
              "      <td>1.0</td>\n",
              "      <td>1.0</td>\n",
              "      <td>0.0</td>\n",
              "      <td>@MargaWirkierman @LegadoPeron @horaciorlarreta...</td>\n",
              "      <td>Twitter for iPhone</td>\n",
              "      <td>2020-07-07 14:08:04.0</td>\n",
              "      <td>3.0</td>\n",
              "      <td>0.0</td>\n",
              "      <td>0.0</td>\n",
              "      <td>0.0</td>\n",
              "    </tr>\n",
              "  </tbody>\n",
              "</table>\n",
              "</div>"
            ],
            "text/plain": [
              "               user_id      user_name  ... urls_count media_count_y\n",
              "0  1000028381906382848     b10_julian  ...        0.0           0.0\n",
              "1  1000052612186722304  LibPeronistas  ...        0.0           0.0\n",
              "\n",
              "[2 rows x 35 columns]"
            ]
          },
          "metadata": {
            "tags": []
          },
          "execution_count": 15
        }
      ]
    },
    {
      "cell_type": "code",
      "metadata": {
        "id": "niiU1pifFKC4",
        "colab_type": "code",
        "colab": {
          "base_uri": "https://localhost:8080/",
          "height": 35
        },
        "outputId": "7cca64c5-9373-4b78-e1a4-4538c9e27f8e"
      },
      "source": [
        "df_merge.shape"
      ],
      "execution_count": 16,
      "outputs": [
        {
          "output_type": "execute_result",
          "data": {
            "text/plain": [
              "(2475037, 35)"
            ]
          },
          "metadata": {
            "tags": []
          },
          "execution_count": 16
        }
      ]
    },
    {
      "cell_type": "code",
      "metadata": {
        "id": "5Ks21ZpoFQVT",
        "colab_type": "code",
        "colab": {
          "base_uri": "https://localhost:8080/",
          "height": 35
        },
        "outputId": "0202f8f2-fbd1-478c-dba7-edd0a3b662be"
      },
      "source": [
        "df_merge.dropna(axis=0,inplace=True)\n",
        "df_merge.shape"
      ],
      "execution_count": 17,
      "outputs": [
        {
          "output_type": "execute_result",
          "data": {
            "text/plain": [
              "(2399945, 35)"
            ]
          },
          "metadata": {
            "tags": []
          },
          "execution_count": 17
        }
      ]
    },
    {
      "cell_type": "code",
      "metadata": {
        "id": "gBdOlrHeGIyC",
        "colab_type": "code",
        "colab": {
          "base_uri": "https://localhost:8080/",
          "height": 654
        },
        "outputId": "d0981c70-5854-43bd-e5dc-596fc8673229"
      },
      "source": [
        "for i in df_merge.columns:\n",
        "    print(\"La columna\",i, \"tiene\",round((df_merge[i].isnull().sum()*100)/len(df_merge[i]),3),\"% de valores nulos\")"
      ],
      "execution_count": 18,
      "outputs": [
        {
          "output_type": "stream",
          "text": [
            "La columna user_id tiene 0.0 % de valores nulos\n",
            "La columna user_name tiene 0.0 % de valores nulos\n",
            "La columna name tiene 0.0 % de valores nulos\n",
            "La columna description tiene 0.0 % de valores nulos\n",
            "La columna created_at_x tiene 0.0 % de valores nulos\n",
            "La columna geo_enabled tiene 0.0 % de valores nulos\n",
            "La columna verified tiene 0.0 % de valores nulos\n",
            "La columna profile_image_url tiene 0.0 % de valores nulos\n",
            "La columna profile_image_url_large tiene 0.0 % de valores nulos\n",
            "La columna followers_count tiene 0.0 % de valores nulos\n",
            "La columna friends_count tiene 0.0 % de valores nulos\n",
            "La columna listed_count tiene 0.0 % de valores nulos\n",
            "La columna favourites_count tiene 0.0 % de valores nulos\n",
            "La columna statuses_count tiene 0.0 % de valores nulos\n",
            "La columna media_count_x tiene 0.0 % de valores nulos\n",
            "La columna tweets_scraped tiene 0.0 % de valores nulos\n",
            "La columna scrapped_at_x tiene 0.0 % de valores nulos\n",
            "La columna ignore tiene 0.0 % de valores nulos\n",
            "La columna tweet_id tiene 0.0 % de valores nulos\n",
            "La columna conversation_id tiene 0.0 % de valores nulos\n",
            "La columna created_at_y tiene 0.0 % de valores nulos\n",
            "La columna lang tiene 0.0 % de valores nulos\n",
            "La columna retweet_count tiene 0.0 % de valores nulos\n",
            "La columna favorite_count tiene 0.0 % de valores nulos\n",
            "La columna reply_count tiene 0.0 % de valores nulos\n",
            "La columna quote_count tiene 0.0 % de valores nulos\n",
            "La columna is_reply tiene 0.0 % de valores nulos\n",
            "La columna is_quote tiene 0.0 % de valores nulos\n",
            "La columna full_text tiene 0.0 % de valores nulos\n",
            "La columna source tiene 0.0 % de valores nulos\n",
            "La columna scrapped_at_y tiene 0.0 % de valores nulos\n",
            "La columna user_mentions_count tiene 0.0 % de valores nulos\n",
            "La columna hashtags_count tiene 0.0 % de valores nulos\n",
            "La columna urls_count tiene 0.0 % de valores nulos\n",
            "La columna media_count_y tiene 0.0 % de valores nulos\n"
          ],
          "name": "stdout"
        }
      ]
    },
    {
      "cell_type": "code",
      "metadata": {
        "id": "iDSw10PyGi9S",
        "colab_type": "code",
        "colab": {
          "base_uri": "https://localhost:8080/",
          "height": 199
        },
        "outputId": "db353a34-a3f0-42b0-caa4-701d9a14a951"
      },
      "source": [
        "df_merge.columns"
      ],
      "execution_count": 20,
      "outputs": [
        {
          "output_type": "execute_result",
          "data": {
            "text/plain": [
              "Index(['user_id', 'user_name', 'name', 'description', 'created_at_x',\n",
              "       'geo_enabled', 'verified', 'profile_image_url',\n",
              "       'profile_image_url_large', 'followers_count', 'friends_count',\n",
              "       'listed_count', 'favourites_count', 'statuses_count', 'media_count_x',\n",
              "       'tweets_scraped', 'scrapped_at_x', 'ignore', 'tweet_id',\n",
              "       'conversation_id', 'created_at_y', 'lang', 'retweet_count',\n",
              "       'favorite_count', 'reply_count', 'quote_count', 'is_reply', 'is_quote',\n",
              "       'full_text', 'source', 'scrapped_at_y', 'user_mentions_count',\n",
              "       'hashtags_count', 'urls_count', 'media_count_y'],\n",
              "      dtype='object')"
            ]
          },
          "metadata": {
            "tags": []
          },
          "execution_count": 20
        }
      ]
    },
    {
      "cell_type": "code",
      "metadata": {
        "id": "R-pHVoDWHfsR",
        "colab_type": "code",
        "colab": {}
      },
      "source": [
        "#Aca se se me ocurrio eliminar las columnas que continienen info de las imagenes \n",
        "#ya que en teoria procesaremos solo texto y aquellas que no daban mucha informacion al al dataset\n",
        "df_merge.drop(['profile_image_url','profile_image_url_large','scrapped_at_x','scrapped_at_y'],axis=1, inplace = True)"
      ],
      "execution_count": 21,
      "outputs": []
    },
    {
      "cell_type": "code",
      "metadata": {
        "id": "5P65P_AdIqBB",
        "colab_type": "code",
        "colab": {}
      },
      "source": [
        "#Aca hice un subset, dejando solo los tweets escritos en castellano\n",
        "twitter_data=df_merge[df_merge['lang']=='es']\n"
      ],
      "execution_count": 22,
      "outputs": []
    },
    {
      "cell_type": "code",
      "metadata": {
        "id": "8itr6r0pJ8Zi",
        "colab_type": "code",
        "colab": {
          "base_uri": "https://localhost:8080/",
          "height": 35
        },
        "outputId": "260c87ea-40fc-40c7-de29-05c59ca2f636"
      },
      "source": [
        "twitter_data.shape"
      ],
      "execution_count": 23,
      "outputs": [
        {
          "output_type": "execute_result",
          "data": {
            "text/plain": [
              "(2251682, 31)"
            ]
          },
          "metadata": {
            "tags": []
          },
          "execution_count": 23
        }
      ]
    },
    {
      "cell_type": "code",
      "metadata": {
        "id": "5PjfZFyeTkTc",
        "colab_type": "code",
        "colab": {
          "base_uri": "https://localhost:8080/",
          "height": 54
        },
        "outputId": "985ae536-0014-4058-95c1-18de902a305e"
      },
      "source": [
        "print(f\" La cuenta mas antigua data del {twitter_data.created_at_x.min()}\")\n",
        "print(f\" La cuenta mas reciente data del {twitter_data.created_at_x.max()}\")"
      ],
      "execution_count": 24,
      "outputs": [
        {
          "output_type": "stream",
          "text": [
            " La cuenta mas antigua data del 1970-01-01 00:00:00\n",
            " La cuenta mas reciente data del 2020-07-06 20:20:23\n"
          ],
          "name": "stdout"
        }
      ]
    },
    {
      "cell_type": "code",
      "metadata": {
        "id": "91ZHMIY8p0qw",
        "colab_type": "code",
        "colab": {
          "base_uri": "https://localhost:8080/",
          "height": 108
        },
        "outputId": "f0549f77-f6b3-44d8-f423-e28f8ebc1744"
      },
      "source": [
        "outlier=df1.loc[df1['created_at']=='1970-01-01']\n",
        "outlier[['user_id', 'user_name', 'name']]"
      ],
      "execution_count": 25,
      "outputs": [
        {
          "output_type": "execute_result",
          "data": {
            "text/html": [
              "<div>\n",
              "<style scoped>\n",
              "    .dataframe tbody tr th:only-of-type {\n",
              "        vertical-align: middle;\n",
              "    }\n",
              "\n",
              "    .dataframe tbody tr th {\n",
              "        vertical-align: top;\n",
              "    }\n",
              "\n",
              "    .dataframe thead th {\n",
              "        text-align: right;\n",
              "    }\n",
              "</style>\n",
              "<table border=\"1\" class=\"dataframe\">\n",
              "  <thead>\n",
              "    <tr style=\"text-align: right;\">\n",
              "      <th></th>\n",
              "      <th>user_id</th>\n",
              "      <th>user_name</th>\n",
              "      <th>name</th>\n",
              "    </tr>\n",
              "  </thead>\n",
              "  <tbody>\n",
              "    <tr>\n",
              "      <th>17937</th>\n",
              "      <td>1235621862685708288</td>\n",
              "      <td>redperiofemlc</td>\n",
              "      <td>#SomosPeriodistasFeministas</td>\n",
              "    </tr>\n",
              "    <tr>\n",
              "      <th>20097</th>\n",
              "      <td>1253361448274845696</td>\n",
              "      <td>AfiliacionesU</td>\n",
              "      <td>Afiliaciones-Unidos</td>\n",
              "    </tr>\n",
              "  </tbody>\n",
              "</table>\n",
              "</div>"
            ],
            "text/plain": [
              "                   user_id      user_name                         name\n",
              "17937  1235621862685708288  redperiofemlc  #SomosPeriodistasFeministas\n",
              "20097  1253361448274845696  AfiliacionesU          Afiliaciones-Unidos"
            ]
          },
          "metadata": {
            "tags": []
          },
          "execution_count": 25
        }
      ]
    },
    {
      "cell_type": "code",
      "metadata": {
        "id": "9Dx0ATDlqiYf",
        "colab_type": "code",
        "colab": {}
      },
      "source": [
        "twitter_data = twitter_data.drop(twitter_data[twitter_data['created_at_x']=='1970-01-01'].index)"
      ],
      "execution_count": 26,
      "outputs": []
    },
    {
      "cell_type": "code",
      "metadata": {
        "id": "6jqH-fgyrJqo",
        "colab_type": "code",
        "colab": {
          "base_uri": "https://localhost:8080/",
          "height": 54
        },
        "outputId": "2b57076b-2d10-4068-907b-41e8163f627b"
      },
      "source": [
        "print(f\" La cuenta mas antigua data del {twitter_data.created_at_x.min()}\")\n",
        "print(f\" La cuenta mas reciente data del {twitter_data.created_at_x.max()}\")"
      ],
      "execution_count": 27,
      "outputs": [
        {
          "output_type": "stream",
          "text": [
            " La cuenta mas antigua data del 2006-08-09 00:39:27\n",
            " La cuenta mas reciente data del 2020-07-06 20:20:23\n"
          ],
          "name": "stdout"
        }
      ]
    },
    {
      "cell_type": "code",
      "metadata": {
        "id": "3NF2nhKPr4Z3",
        "colab_type": "code",
        "colab": {
          "base_uri": "https://localhost:8080/",
          "height": 35
        },
        "outputId": "cf1e5d11-9f6b-4687-aaaa-f2f7902deeb9"
      },
      "source": [
        "twitter_data.shape"
      ],
      "execution_count": 28,
      "outputs": [
        {
          "output_type": "execute_result",
          "data": {
            "text/plain": [
              "(2251678, 31)"
            ]
          },
          "metadata": {
            "tags": []
          },
          "execution_count": 28
        }
      ]
    },
    {
      "cell_type": "markdown",
      "metadata": {
        "id": "0iGFrhVM4Koc",
        "colab_type": "text"
      },
      "source": [
        "Tweets mas populares"
      ]
    },
    {
      "cell_type": "code",
      "metadata": {
        "id": "S5AHODyN3LRD",
        "colab_type": "code",
        "colab": {
          "base_uri": "https://localhost:8080/",
          "height": 54
        },
        "outputId": "f31e7545-381d-43f4-95d8-da2f7d6bc4a1"
      },
      "source": [
        "print(f\" Maximo numero de retweets {twitter_data.retweet_count.max()}\") #mas retweeteado\n",
        "print(f\" Maximo numero de favoritos {twitter_data.favorite_count.max()}\") #Con mas favoritos"
      ],
      "execution_count": 75,
      "outputs": [
        {
          "output_type": "stream",
          "text": [
            " Maximo numero de retweets 205823.0\n",
            " Maximo numero de favoritos 793692.0\n"
          ],
          "name": "stdout"
        }
      ]
    },
    {
      "cell_type": "markdown",
      "metadata": {
        "id": "yJu9iQ7x4rx9",
        "colab_type": "text"
      },
      "source": [
        "Tweet Mas retweeteado"
      ]
    },
    {
      "cell_type": "code",
      "metadata": {
        "id": "621uy6_f3YrX",
        "colab_type": "code",
        "colab": {
          "base_uri": "https://localhost:8080/",
          "height": 78
        },
        "outputId": "5d75d590-4954-49a2-94ed-ba09c7feacf9"
      },
      "source": [
        "twitter_data.loc[twitter_data['retweet_count']==205823.0,['user_id','user_name','name','full_text','created_at_y']]"
      ],
      "execution_count": 73,
      "outputs": [
        {
          "output_type": "execute_result",
          "data": {
            "text/html": [
              "<div>\n",
              "<style scoped>\n",
              "    .dataframe tbody tr th:only-of-type {\n",
              "        vertical-align: middle;\n",
              "    }\n",
              "\n",
              "    .dataframe tbody tr th {\n",
              "        vertical-align: top;\n",
              "    }\n",
              "\n",
              "    .dataframe thead th {\n",
              "        text-align: right;\n",
              "    }\n",
              "</style>\n",
              "<table border=\"1\" class=\"dataframe\">\n",
              "  <thead>\n",
              "    <tr style=\"text-align: right;\">\n",
              "      <th></th>\n",
              "      <th>user_id</th>\n",
              "      <th>user_name</th>\n",
              "      <th>name</th>\n",
              "      <th>full_text</th>\n",
              "      <th>created_at_y</th>\n",
              "    </tr>\n",
              "  </thead>\n",
              "  <tbody>\n",
              "    <tr>\n",
              "      <th>1119199</th>\n",
              "      <td>2468235006</td>\n",
              "      <td>LOLiTOFDEZ</td>\n",
              "      <td>LOLiTO FDEZ</td>\n",
              "      <td>Vosotros me habéis dado mucho, ya me tocaba de...</td>\n",
              "      <td>2019-06-21 17:04:18</td>\n",
              "    </tr>\n",
              "  </tbody>\n",
              "</table>\n",
              "</div>"
            ],
            "text/plain": [
              "            user_id  ...        created_at_y\n",
              "1119199  2468235006  ... 2019-06-21 17:04:18\n",
              "\n",
              "[1 rows x 5 columns]"
            ]
          },
          "metadata": {
            "tags": []
          },
          "execution_count": 73
        }
      ]
    },
    {
      "cell_type": "markdown",
      "metadata": {
        "id": "wRrmQoHw5GFE",
        "colab_type": "text"
      },
      "source": [
        "Tweet con mas favoritos"
      ]
    },
    {
      "cell_type": "code",
      "metadata": {
        "id": "JEaoTtQ13oW3",
        "colab_type": "code",
        "colab": {
          "base_uri": "https://localhost:8080/",
          "height": 78
        },
        "outputId": "826ed1ce-4a34-4f5a-b816-893e7fc7af4b"
      },
      "source": [
        "twitter_data.loc[twitter_data['favorite_count']==793692.0,['user_id','user_name','name','full_text','created_at_y']]\n",
        "#si lo quiero en forma de array agregar .values al final"
      ],
      "execution_count": 72,
      "outputs": [
        {
          "output_type": "execute_result",
          "data": {
            "text/html": [
              "<div>\n",
              "<style scoped>\n",
              "    .dataframe tbody tr th:only-of-type {\n",
              "        vertical-align: middle;\n",
              "    }\n",
              "\n",
              "    .dataframe tbody tr th {\n",
              "        vertical-align: top;\n",
              "    }\n",
              "\n",
              "    .dataframe thead th {\n",
              "        text-align: right;\n",
              "    }\n",
              "</style>\n",
              "<table border=\"1\" class=\"dataframe\">\n",
              "  <thead>\n",
              "    <tr style=\"text-align: right;\">\n",
              "      <th></th>\n",
              "      <th>user_id</th>\n",
              "      <th>user_name</th>\n",
              "      <th>name</th>\n",
              "      <th>full_text</th>\n",
              "      <th>created_at_y</th>\n",
              "    </tr>\n",
              "  </thead>\n",
              "  <tbody>\n",
              "    <tr>\n",
              "      <th>1138292</th>\n",
              "      <td>25073877</td>\n",
              "      <td>realDonaldTrump</td>\n",
              "      <td>Donald J. Trump</td>\n",
              "      <td>CHINA!</td>\n",
              "      <td>2020-05-29 13:01:56</td>\n",
              "    </tr>\n",
              "  </tbody>\n",
              "</table>\n",
              "</div>"
            ],
            "text/plain": [
              "          user_id        user_name  ... full_text        created_at_y\n",
              "1138292  25073877  realDonaldTrump  ...    CHINA! 2020-05-29 13:01:56\n",
              "\n",
              "[1 rows x 5 columns]"
            ]
          },
          "metadata": {
            "tags": []
          },
          "execution_count": 72
        }
      ]
    },
    {
      "cell_type": "markdown",
      "metadata": {
        "id": "przlgpu5UwIu",
        "colab_type": "text"
      },
      "source": [
        "Usuarios creados por año"
      ]
    },
    {
      "cell_type": "code",
      "metadata": {
        "id": "E8HJna0cIt1E",
        "colab_type": "code",
        "colab": {
          "base_uri": "https://localhost:8080/",
          "height": 368
        },
        "outputId": "d3217d8a-c57e-4c4e-89ca-da26092d40ba"
      },
      "source": [
        "count_  = twitter_data['created_at_x'].dt.year.value_counts()\n",
        "count_ = count_[:15,]\n",
        "plt.figure(figsize=(10,5))\n",
        "sns.barplot(count_.index, count_.values, alpha=0.8)\n",
        "plt.title('Cuentas creadas segun el año')\n",
        "plt.xticks(rotation='vertical')\n",
        "plt.ylabel('Numero de cuentas', fontsize=12)\n",
        "plt.xlabel('Año', fontsize=12)\n",
        "plt.show()"
      ],
      "execution_count": 29,
      "outputs": [
        {
          "output_type": "display_data",
          "data": {
            "image/png": "[encoded data removed]",
            "text/plain": [
              "<Figure size 720x360 with 1 Axes>"
            ]
          },
          "metadata": {
            "tags": [],
            "needs_background": "light"
          }
        }
      ]
    },
    {
      "cell_type": "code",
      "metadata": {
        "id": "AxtelKvaVJ1I",
        "colab_type": "code",
        "colab": {
          "base_uri": "https://localhost:8080/",
          "height": 687
        },
        "outputId": "98dc231a-e291-47d3-af52-147013410826"
      },
      "source": [
        "from plotly.offline import  plot, iplot\n",
        "twitter_data['tweeted_day_of_week'] = twitter_data['created_at_y'].dt.day_name()\n",
        "twitter_data['user_created_day_of_week'] = twitter_data['created_at_x'].dt.day_name()\n",
        "cnt_ = twitter_data['tweeted_day_of_week'].value_counts()\n",
        "cnt_ = cnt_.sort_index() \n",
        "fig = {\n",
        "  \"data\": [\n",
        "    {\n",
        "      \"values\": cnt_.values,\n",
        "      \"labels\": cnt_.index,\n",
        "      \"domain\": {\"x\": [0, .5]},\n",
        "      \"hoverinfo\":\"label+percent\",\n",
        "      \"hole\": .3,\n",
        "      \"type\": \"pie\"\n",
        "    },],\n",
        "  \"layout\": {\n",
        "        \"title\":\"% de tweets segun el dia de la semana\",\n",
        "        \"annotations\": [\n",
        "            { \"font\": { \"size\": 20},\n",
        "                 \"x\": 0.50,\n",
        "                \"y\": 1\n",
        "            },\n",
        "        ]\n",
        "    }\n",
        "}\n",
        "iplot(fig)\n",
        "cnt_"
      ],
      "execution_count": 30,
      "outputs": [
        {
          "output_type": "display_data",
          "data": {
            "text/html": [
              "<html>\n",
              "<head><meta charset=\"utf-8\" /></head>\n",
              "<body>\n",
              "    <div>\n",
              "            <script src=\"https://cdnjs.cloudflare.com/ajax/libs/mathjax/2.7.5/MathJax.js?config=TeX-AMS-MML_SVG\"></script><script type=\"text/javascript\">if (window.MathJax) {MathJax.Hub.Config({SVG: {font: \"STIX-Web\"}});}</script>\n",
              "                <script type=\"text/javascript\">window.PlotlyConfig = {MathJaxConfig: 'local'};</script>\n",
              "        <script src=\"https://cdn.plot.ly/plotly-latest.min.js\"></script>    \n",
              "            <div id=\"ceca31dc-23b6-45b2-aeea-148d8976fedb\" class=\"plotly-graph-div\" style=\"height:525px; width:100%;\"></div>\n",
              "            <script type=\"text/javascript\">\n",
              "                \n",
              "                    window.PLOTLYENV=window.PLOTLYENV || {};\n",
              "                    \n",
              "                if (document.getElementById(\"ceca31dc-23b6-45b2-aeea-148d8976fedb\")) {\n",
              "                    Plotly.newPlot(\n",
              "                        'ceca31dc-23b6-45b2-aeea-148d8976fedb',\n",
              "                        [{\"domain\": {\"x\": [0, 0.5]}, \"hole\": 0.3, \"hoverinfo\": \"label+percent\", \"labels\": [\"Friday\", \"Monday\", \"Saturday\", \"Sunday\", \"Thursday\", \"Tuesday\", \"Wednesday\"], \"type\": \"pie\", \"values\": [348762, 337625, 261199, 245812, 357058, 350469, 350753]}],\n",
              "                        {\"annotations\": [{\"font\": {\"size\": 20}, \"x\": 0.5, \"y\": 1}], \"template\": {\"data\": {\"bar\": [{\"error_x\": {\"color\": \"#2a3f5f\"}, \"error_y\": {\"color\": \"#2a3f5f\"}, \"marker\": {\"line\": {\"color\": \"#E5ECF6\", \"width\": 0.5}}, \"type\": \"bar\"}], \"barpolar\": [{\"marker\": {\"line\": {\"color\": \"#E5ECF6\", \"width\": 0.5}}, \"type\": \"barpolar\"}], \"carpet\": [{\"aaxis\": {\"endlinecolor\": \"#2a3f5f\", \"gridcolor\": \"white\", \"linecolor\": \"white\", \"minorgridcolor\": \"white\", \"startlinecolor\": \"#2a3f5f\"}, \"baxis\": {\"endlinecolor\": \"#2a3f5f\", \"gridcolor\": \"white\", \"linecolor\": \"white\", \"minorgridcolor\": \"white\", \"startlinecolor\": \"#2a3f5f\"}, \"type\": \"carpet\"}], \"choropleth\": [{\"colorbar\": {\"outlinewidth\": 0, \"ticks\": \"\"}, \"type\": \"choropleth\"}], \"contour\": [{\"colorbar\": {\"outlinewidth\": 0, \"ticks\": \"\"}, \"colorscale\": [[0.0, \"#0d0887\"], [0.1111111111111111, \"#46039f\"], [0.2222222222222222, \"#7201a8\"], [0.3333333333333333, \"#9c179e\"], [0.4444444444444444, \"#bd3786\"], [0.5555555555555556, \"#d8576b\"], [0.6666666666666666, \"#ed7953\"], [0.7777777777777778, \"#fb9f3a\"], [0.8888888888888888, \"#fdca26\"], [1.0, \"#f0f921\"]], \"type\": \"contour\"}], \"contourcarpet\": [{\"colorbar\": {\"outlinewidth\": 0, \"ticks\": \"\"}, \"type\": \"contourcarpet\"}], \"heatmap\": [{\"colorbar\": {\"outlinewidth\": 0, \"ticks\": \"\"}, \"colorscale\": [[0.0, \"#0d0887\"], [0.1111111111111111, \"#46039f\"], [0.2222222222222222, \"#7201a8\"], [0.3333333333333333, \"#9c179e\"], [0.4444444444444444, \"#bd3786\"], [0.5555555555555556, \"#d8576b\"], [0.6666666666666666, \"#ed7953\"], [0.7777777777777778, \"#fb9f3a\"], [0.8888888888888888, \"#fdca26\"], [1.0, \"#f0f921\"]], \"type\": \"heatmap\"}], \"heatmapgl\": [{\"colorbar\": {\"outlinewidth\": 0, \"ticks\": \"\"}, \"colorscale\": [[0.0, \"#0d0887\"], [0.1111111111111111, \"#46039f\"], [0.2222222222222222, \"#7201a8\"], [0.3333333333333333, \"#9c179e\"], [0.4444444444444444, \"#bd3786\"], [0.5555555555555556, \"#d8576b\"], [0.6666666666666666, \"#ed7953\"], [0.7777777777777778, \"#fb9f3a\"], [0.8888888888888888, \"#fdca26\"], [1.0, \"#f0f921\"]], \"type\": \"heatmapgl\"}], \"histogram\": [{\"marker\": {\"colorbar\": {\"outlinewidth\": 0, \"ticks\": \"\"}}, \"type\": \"histogram\"}], \"histogram2d\": [{\"colorbar\": {\"outlinewidth\": 0, \"ticks\": \"\"}, \"colorscale\": [[0.0, \"#0d0887\"], [0.1111111111111111, \"#46039f\"], [0.2222222222222222, \"#7201a8\"], [0.3333333333333333, \"#9c179e\"], [0.4444444444444444, \"#bd3786\"], [0.5555555555555556, \"#d8576b\"], [0.6666666666666666, \"#ed7953\"], [0.7777777777777778, \"#fb9f3a\"], [0.8888888888888888, \"#fdca26\"], [1.0, \"#f0f921\"]], \"type\": \"histogram2d\"}], \"histogram2dcontour\": [{\"colorbar\": {\"outlinewidth\": 0, \"ticks\": \"\"}, \"colorscale\": [[0.0, \"#0d0887\"], [0.1111111111111111, \"#46039f\"], [0.2222222222222222, \"#7201a8\"], [0.3333333333333333, \"#9c179e\"], [0.4444444444444444, \"#bd3786\"], [0.5555555555555556, \"#d8576b\"], [0.6666666666666666, \"#ed7953\"], [0.7777777777777778, \"#fb9f3a\"], [0.8888888888888888, \"#fdca26\"], [1.0, \"#f0f921\"]], \"type\": \"histogram2dcontour\"}], \"mesh3d\": [{\"colorbar\": {\"outlinewidth\": 0, \"ticks\": \"\"}, \"type\": \"mesh3d\"}], \"parcoords\": [{\"line\": {\"colorbar\": {\"outlinewidth\": 0, \"ticks\": \"\"}}, \"type\": \"parcoords\"}], \"pie\": [{\"automargin\": true, \"type\": \"pie\"}], \"scatter\": [{\"marker\": {\"colorbar\": {\"outlinewidth\": 0, \"ticks\": \"\"}}, \"type\": \"scatter\"}], \"scatter3d\": [{\"line\": {\"colorbar\": {\"outlinewidth\": 0, \"ticks\": \"\"}}, \"marker\": {\"colorbar\": {\"outlinewidth\": 0, \"ticks\": \"\"}}, \"type\": \"scatter3d\"}], \"scattercarpet\": [{\"marker\": {\"colorbar\": {\"outlinewidth\": 0, \"ticks\": \"\"}}, \"type\": \"scattercarpet\"}], \"scattergeo\": [{\"marker\": {\"colorbar\": {\"outlinewidth\": 0, \"ticks\": \"\"}}, \"type\": \"scattergeo\"}], \"scattergl\": [{\"marker\": {\"colorbar\": {\"outlinewidth\": 0, \"ticks\": \"\"}}, \"type\": \"scattergl\"}], \"scattermapbox\": [{\"marker\": {\"colorbar\": {\"outlinewidth\": 0, \"ticks\": \"\"}}, \"type\": \"scattermapbox\"}], \"scatterpolar\": [{\"marker\": {\"colorbar\": {\"outlinewidth\": 0, \"ticks\": \"\"}}, \"type\": \"scatterpolar\"}], \"scatterpolargl\": [{\"marker\": {\"colorbar\": {\"outlinewidth\": 0, \"ticks\": \"\"}}, \"type\": \"scatterpolargl\"}], \"scatterternary\": [{\"marker\": {\"colorbar\": {\"outlinewidth\": 0, \"ticks\": \"\"}}, \"type\": \"scatterternary\"}], \"surface\": [{\"colorbar\": {\"outlinewidth\": 0, \"ticks\": \"\"}, \"colorscale\": [[0.0, \"#0d0887\"], [0.1111111111111111, \"#46039f\"], [0.2222222222222222, \"#7201a8\"], [0.3333333333333333, \"#9c179e\"], [0.4444444444444444, \"#bd3786\"], [0.5555555555555556, \"#d8576b\"], [0.6666666666666666, \"#ed7953\"], [0.7777777777777778, \"#fb9f3a\"], [0.8888888888888888, \"#fdca26\"], [1.0, \"#f0f921\"]], \"type\": \"surface\"}], \"table\": [{\"cells\": {\"fill\": {\"color\": \"#EBF0F8\"}, \"line\": {\"color\": \"white\"}}, \"header\": {\"fill\": {\"color\": \"#C8D4E3\"}, \"line\": {\"color\": \"white\"}}, \"type\": \"table\"}]}, \"layout\": {\"annotationdefaults\": {\"arrowcolor\": \"#2a3f5f\", \"arrowhead\": 0, \"arrowwidth\": 1}, \"coloraxis\": {\"colorbar\": {\"outlinewidth\": 0, \"ticks\": \"\"}}, \"colorscale\": {\"diverging\": [[0, \"#8e0152\"], [0.1, \"#c51b7d\"], [0.2, \"#de77ae\"], [0.3, \"#f1b6da\"], [0.4, \"#fde0ef\"], [0.5, \"#f7f7f7\"], [0.6, \"#e6f5d0\"], [0.7, \"#b8e186\"], [0.8, \"#7fbc41\"], [0.9, \"#4d9221\"], [1, \"#276419\"]], \"sequential\": [[0.0, \"#0d0887\"], [0.1111111111111111, \"#46039f\"], [0.2222222222222222, \"#7201a8\"], [0.3333333333333333, \"#9c179e\"], [0.4444444444444444, \"#bd3786\"], [0.5555555555555556, \"#d8576b\"], [0.6666666666666666, \"#ed7953\"], [0.7777777777777778, \"#fb9f3a\"], [0.8888888888888888, \"#fdca26\"], [1.0, \"#f0f921\"]], \"sequentialminus\": [[0.0, \"#0d0887\"], [0.1111111111111111, \"#46039f\"], [0.2222222222222222, \"#7201a8\"], [0.3333333333333333, \"#9c179e\"], [0.4444444444444444, \"#bd3786\"], [0.5555555555555556, \"#d8576b\"], [0.6666666666666666, \"#ed7953\"], [0.7777777777777778, \"#fb9f3a\"], [0.8888888888888888, \"#fdca26\"], [1.0, \"#f0f921\"]]}, \"colorway\": [\"#636efa\", \"#EF553B\", \"#00cc96\", \"#ab63fa\", \"#FFA15A\", \"#19d3f3\", \"#FF6692\", \"#B6E880\", \"#FF97FF\", \"#FECB52\"], \"font\": {\"color\": \"#2a3f5f\"}, \"geo\": {\"bgcolor\": \"white\", \"lakecolor\": \"white\", \"landcolor\": \"#E5ECF6\", \"showlakes\": true, \"showland\": true, \"subunitcolor\": \"white\"}, \"hoverlabel\": {\"align\": \"left\"}, \"hovermode\": \"closest\", \"mapbox\": {\"style\": \"light\"}, \"paper_bgcolor\": \"white\", \"plot_bgcolor\": \"#E5ECF6\", \"polar\": {\"angularaxis\": {\"gridcolor\": \"white\", \"linecolor\": \"white\", \"ticks\": \"\"}, \"bgcolor\": \"#E5ECF6\", \"radialaxis\": {\"gridcolor\": \"white\", \"linecolor\": \"white\", \"ticks\": \"\"}}, \"scene\": {\"xaxis\": {\"backgroundcolor\": \"#E5ECF6\", \"gridcolor\": \"white\", \"gridwidth\": 2, \"linecolor\": \"white\", \"showbackground\": true, \"ticks\": \"\", \"zerolinecolor\": \"white\"}, \"yaxis\": {\"backgroundcolor\": \"#E5ECF6\", \"gridcolor\": \"white\", \"gridwidth\": 2, \"linecolor\": \"white\", \"showbackground\": true, \"ticks\": \"\", \"zerolinecolor\": \"white\"}, \"zaxis\": {\"backgroundcolor\": \"#E5ECF6\", \"gridcolor\": \"white\", \"gridwidth\": 2, \"linecolor\": \"white\", \"showbackground\": true, \"ticks\": \"\", \"zerolinecolor\": \"white\"}}, \"shapedefaults\": {\"line\": {\"color\": \"#2a3f5f\"}}, \"ternary\": {\"aaxis\": {\"gridcolor\": \"white\", \"linecolor\": \"white\", \"ticks\": \"\"}, \"baxis\": {\"gridcolor\": \"white\", \"linecolor\": \"white\", \"ticks\": \"\"}, \"bgcolor\": \"#E5ECF6\", \"caxis\": {\"gridcolor\": \"white\", \"linecolor\": \"white\", \"ticks\": \"\"}}, \"title\": {\"x\": 0.05}, \"xaxis\": {\"automargin\": true, \"gridcolor\": \"white\", \"linecolor\": \"white\", \"ticks\": \"\", \"title\": {\"standoff\": 15}, \"zerolinecolor\": \"white\", \"zerolinewidth\": 2}, \"yaxis\": {\"automargin\": true, \"gridcolor\": \"white\", \"linecolor\": \"white\", \"ticks\": \"\", \"title\": {\"standoff\": 15}, \"zerolinecolor\": \"white\", \"zerolinewidth\": 2}}}, \"title\": {\"text\": \"% de tweets segun el dia de la semana\"}},\n",
              "                        {\"responsive\": true}\n",
              "                    ).then(function(){\n",
              "                            \n",
              "var gd = document.getElementById('ceca31dc-23b6-45b2-aeea-148d8976fedb');\n",
              "var x = new MutationObserver(function (mutations, observer) {{\n",
              "        var display = window.getComputedStyle(gd).display;\n",
              "        if (!display || display === 'none') {{\n",
              "            console.log([gd, 'removed!']);\n",
              "            Plotly.purge(gd);\n",
              "            observer.disconnect();\n",
              "        }}\n",
              "}});\n",
              "\n",
              "// Listen for the removal of the full notebook cells\n",
              "var notebookContainer = gd.closest('#notebook-container');\n",
              "if (notebookContainer) {{\n",
              "    x.observe(notebookContainer, {childList: true});\n",
              "}}\n",
              "\n",
              "// Listen for the clearing of the current output cell\n",
              "var outputEl = gd.closest('.output');\n",
              "if (outputEl) {{\n",
              "    x.observe(outputEl, {childList: true});\n",
              "}}\n",
              "\n",
              "                        })\n",
              "                };\n",
              "                \n",
              "            </script>\n",
              "        </div>\n",
              "</body>\n",
              "</html>"
            ]
          },
          "metadata": {
            "tags": []
          }
        },
        {
          "output_type": "execute_result",
          "data": {
            "text/plain": [
              "Friday       348762\n",
              "Monday       337625\n",
              "Saturday     261199\n",
              "Sunday       245812\n",
              "Thursday     357058\n",
              "Tuesday      350469\n",
              "Wednesday    350753\n",
              "Name: tweeted_day_of_week, dtype: int64"
            ]
          },
          "metadata": {
            "tags": []
          },
          "execution_count": 30
        }
      ]
    },
    {
      "cell_type": "code",
      "metadata": {
        "id": "_whSJT4BV9jE",
        "colab_type": "code",
        "colab": {
          "base_uri": "https://localhost:8080/",
          "height": 687
        },
        "outputId": "7fecce0f-2db1-4188-98c8-31538b844ac2"
      },
      "source": [
        "twitter_data['user_created_day_of_week'] = twitter_data['created_at_x'].dt.day_name()\n",
        "cnt_ = twitter_data['user_created_day_of_week'].value_counts()\n",
        "cnt_ = cnt_.sort_index() \n",
        "fig = {\n",
        "  \"data\": [\n",
        "    {\n",
        "      \"values\": cnt_.values,\n",
        "      \"labels\": cnt_.index,\n",
        "      \"domain\": {\"x\": [0, .5]},\n",
        "      \"hoverinfo\":\"label+percent\",\n",
        "      \"hole\": .3,\n",
        "      \"type\": \"pie\"\n",
        "    },],\n",
        "  \"layout\": {\n",
        "        \"title\":\"% de cuentas creadas segun el dia de la semana\",\n",
        "        \"annotations\": [\n",
        "            { \"font\": { \"size\": 20},\n",
        "                 \"x\": 0.50,\n",
        "                \"y\": 1\n",
        "            },\n",
        "        ]\n",
        "    }\n",
        "}\n",
        "iplot(fig)\n",
        "cnt_"
      ],
      "execution_count": 31,
      "outputs": [
        {
          "output_type": "display_data",
          "data": {
            "text/html": [
              "<html>\n",
              "<head><meta charset=\"utf-8\" /></head>\n",
              "<body>\n",
              "    <div>\n",
              "            <script src=\"https://cdnjs.cloudflare.com/ajax/libs/mathjax/2.7.5/MathJax.js?config=TeX-AMS-MML_SVG\"></script><script type=\"text/javascript\">if (window.MathJax) {MathJax.Hub.Config({SVG: {font: \"STIX-Web\"}});}</script>\n",
              "                <script type=\"text/javascript\">window.PlotlyConfig = {MathJaxConfig: 'local'};</script>\n",
              "        <script src=\"https://cdn.plot.ly/plotly-latest.min.js\"></script>    \n",
              "            <div id=\"f2d00531-49d0-4b26-ad98-be61ee17332e\" class=\"plotly-graph-div\" style=\"height:525px; width:100%;\"></div>\n",
              "            <script type=\"text/javascript\">\n",
              "                \n",
              "                    window.PLOTLYENV=window.PLOTLYENV || {};\n",
              "                    \n",
              "                if (document.getElementById(\"f2d00531-49d0-4b26-ad98-be61ee17332e\")) {\n",
              "                    Plotly.newPlot(\n",
              "                        'f2d00531-49d0-4b26-ad98-be61ee17332e',\n",
              "                        [{\"domain\": {\"x\": [0, 0.5]}, \"hole\": 0.3, \"hoverinfo\": \"label+percent\", \"labels\": [\"Friday\", \"Monday\", \"Saturday\", \"Sunday\", \"Thursday\", \"Tuesday\", \"Wednesday\"], \"type\": \"pie\", \"values\": [335861, 346406, 205309, 195138, 339734, 474765, 354465]}],\n",
              "                        {\"annotations\": [{\"font\": {\"size\": 20}, \"x\": 0.5, \"y\": 1}], \"template\": {\"data\": {\"bar\": [{\"error_x\": {\"color\": \"#2a3f5f\"}, \"error_y\": {\"color\": \"#2a3f5f\"}, \"marker\": {\"line\": {\"color\": \"#E5ECF6\", \"width\": 0.5}}, \"type\": \"bar\"}], \"barpolar\": [{\"marker\": {\"line\": {\"color\": \"#E5ECF6\", \"width\": 0.5}}, \"type\": \"barpolar\"}], \"carpet\": [{\"aaxis\": {\"endlinecolor\": \"#2a3f5f\", \"gridcolor\": \"white\", \"linecolor\": \"white\", \"minorgridcolor\": \"white\", \"startlinecolor\": \"#2a3f5f\"}, \"baxis\": {\"endlinecolor\": \"#2a3f5f\", \"gridcolor\": \"white\", \"linecolor\": \"white\", \"minorgridcolor\": \"white\", \"startlinecolor\": \"#2a3f5f\"}, \"type\": \"carpet\"}], \"choropleth\": [{\"colorbar\": {\"outlinewidth\": 0, \"ticks\": \"\"}, \"type\": \"choropleth\"}], \"contour\": [{\"colorbar\": {\"outlinewidth\": 0, \"ticks\": \"\"}, \"colorscale\": [[0.0, \"#0d0887\"], [0.1111111111111111, \"#46039f\"], [0.2222222222222222, \"#7201a8\"], [0.3333333333333333, \"#9c179e\"], [0.4444444444444444, \"#bd3786\"], [0.5555555555555556, \"#d8576b\"], [0.6666666666666666, \"#ed7953\"], [0.7777777777777778, \"#fb9f3a\"], [0.8888888888888888, \"#fdca26\"], [1.0, \"#f0f921\"]], \"type\": \"contour\"}], \"contourcarpet\": [{\"colorbar\": {\"outlinewidth\": 0, \"ticks\": \"\"}, \"type\": \"contourcarpet\"}], \"heatmap\": [{\"colorbar\": {\"outlinewidth\": 0, \"ticks\": \"\"}, \"colorscale\": [[0.0, \"#0d0887\"], [0.1111111111111111, \"#46039f\"], [0.2222222222222222, \"#7201a8\"], [0.3333333333333333, \"#9c179e\"], [0.4444444444444444, \"#bd3786\"], [0.5555555555555556, \"#d8576b\"], [0.6666666666666666, \"#ed7953\"], [0.7777777777777778, \"#fb9f3a\"], [0.8888888888888888, \"#fdca26\"], [1.0, \"#f0f921\"]], \"type\": \"heatmap\"}], \"heatmapgl\": [{\"colorbar\": {\"outlinewidth\": 0, \"ticks\": \"\"}, \"colorscale\": [[0.0, \"#0d0887\"], [0.1111111111111111, \"#46039f\"], [0.2222222222222222, \"#7201a8\"], [0.3333333333333333, \"#9c179e\"], [0.4444444444444444, \"#bd3786\"], [0.5555555555555556, \"#d8576b\"], [0.6666666666666666, \"#ed7953\"], [0.7777777777777778, \"#fb9f3a\"], [0.8888888888888888, \"#fdca26\"], [1.0, \"#f0f921\"]], \"type\": \"heatmapgl\"}], \"histogram\": [{\"marker\": {\"colorbar\": {\"outlinewidth\": 0, \"ticks\": \"\"}}, \"type\": \"histogram\"}], \"histogram2d\": [{\"colorbar\": {\"outlinewidth\": 0, \"ticks\": \"\"}, \"colorscale\": [[0.0, \"#0d0887\"], [0.1111111111111111, \"#46039f\"], [0.2222222222222222, \"#7201a8\"], [0.3333333333333333, \"#9c179e\"], [0.4444444444444444, \"#bd3786\"], [0.5555555555555556, \"#d8576b\"], [0.6666666666666666, \"#ed7953\"], [0.7777777777777778, \"#fb9f3a\"], [0.8888888888888888, \"#fdca26\"], [1.0, \"#f0f921\"]], \"type\": \"histogram2d\"}], \"histogram2dcontour\": [{\"colorbar\": {\"outlinewidth\": 0, \"ticks\": \"\"}, \"colorscale\": [[0.0, \"#0d0887\"], [0.1111111111111111, \"#46039f\"], [0.2222222222222222, \"#7201a8\"], [0.3333333333333333, \"#9c179e\"], [0.4444444444444444, \"#bd3786\"], [0.5555555555555556, \"#d8576b\"], [0.6666666666666666, \"#ed7953\"], [0.7777777777777778, \"#fb9f3a\"], [0.8888888888888888, \"#fdca26\"], [1.0, \"#f0f921\"]], \"type\": \"histogram2dcontour\"}], \"mesh3d\": [{\"colorbar\": {\"outlinewidth\": 0, \"ticks\": \"\"}, \"type\": \"mesh3d\"}], \"parcoords\": [{\"line\": {\"colorbar\": {\"outlinewidth\": 0, \"ticks\": \"\"}}, \"type\": \"parcoords\"}], \"pie\": [{\"automargin\": true, \"type\": \"pie\"}], \"scatter\": [{\"marker\": {\"colorbar\": {\"outlinewidth\": 0, \"ticks\": \"\"}}, \"type\": \"scatter\"}], \"scatter3d\": [{\"line\": {\"colorbar\": {\"outlinewidth\": 0, \"ticks\": \"\"}}, \"marker\": {\"colorbar\": {\"outlinewidth\": 0, \"ticks\": \"\"}}, \"type\": \"scatter3d\"}], \"scattercarpet\": [{\"marker\": {\"colorbar\": {\"outlinewidth\": 0, \"ticks\": \"\"}}, \"type\": \"scattercarpet\"}], \"scattergeo\": [{\"marker\": {\"colorbar\": {\"outlinewidth\": 0, \"ticks\": \"\"}}, \"type\": \"scattergeo\"}], \"scattergl\": [{\"marker\": {\"colorbar\": {\"outlinewidth\": 0, \"ticks\": \"\"}}, \"type\": \"scattergl\"}], \"scattermapbox\": [{\"marker\": {\"colorbar\": {\"outlinewidth\": 0, \"ticks\": \"\"}}, \"type\": \"scattermapbox\"}], \"scatterpolar\": [{\"marker\": {\"colorbar\": {\"outlinewidth\": 0, \"ticks\": \"\"}}, \"type\": \"scatterpolar\"}], \"scatterpolargl\": [{\"marker\": {\"colorbar\": {\"outlinewidth\": 0, \"ticks\": \"\"}}, \"type\": \"scatterpolargl\"}], \"scatterternary\": [{\"marker\": {\"colorbar\": {\"outlinewidth\": 0, \"ticks\": \"\"}}, \"type\": \"scatterternary\"}], \"surface\": [{\"colorbar\": {\"outlinewidth\": 0, \"ticks\": \"\"}, \"colorscale\": [[0.0, \"#0d0887\"], [0.1111111111111111, \"#46039f\"], [0.2222222222222222, \"#7201a8\"], [0.3333333333333333, \"#9c179e\"], [0.4444444444444444, \"#bd3786\"], [0.5555555555555556, \"#d8576b\"], [0.6666666666666666, \"#ed7953\"], [0.7777777777777778, \"#fb9f3a\"], [0.8888888888888888, \"#fdca26\"], [1.0, \"#f0f921\"]], \"type\": \"surface\"}], \"table\": [{\"cells\": {\"fill\": {\"color\": \"#EBF0F8\"}, \"line\": {\"color\": \"white\"}}, \"header\": {\"fill\": {\"color\": \"#C8D4E3\"}, \"line\": {\"color\": \"white\"}}, \"type\": \"table\"}]}, \"layout\": {\"annotationdefaults\": {\"arrowcolor\": \"#2a3f5f\", \"arrowhead\": 0, \"arrowwidth\": 1}, \"coloraxis\": {\"colorbar\": {\"outlinewidth\": 0, \"ticks\": \"\"}}, \"colorscale\": {\"diverging\": [[0, \"#8e0152\"], [0.1, \"#c51b7d\"], [0.2, \"#de77ae\"], [0.3, \"#f1b6da\"], [0.4, \"#fde0ef\"], [0.5, \"#f7f7f7\"], [0.6, \"#e6f5d0\"], [0.7, \"#b8e186\"], [0.8, \"#7fbc41\"], [0.9, \"#4d9221\"], [1, \"#276419\"]], \"sequential\": [[0.0, \"#0d0887\"], [0.1111111111111111, \"#46039f\"], [0.2222222222222222, \"#7201a8\"], [0.3333333333333333, \"#9c179e\"], [0.4444444444444444, \"#bd3786\"], [0.5555555555555556, \"#d8576b\"], [0.6666666666666666, \"#ed7953\"], [0.7777777777777778, \"#fb9f3a\"], [0.8888888888888888, \"#fdca26\"], [1.0, \"#f0f921\"]], \"sequentialminus\": [[0.0, \"#0d0887\"], [0.1111111111111111, \"#46039f\"], [0.2222222222222222, \"#7201a8\"], [0.3333333333333333, \"#9c179e\"], [0.4444444444444444, \"#bd3786\"], [0.5555555555555556, \"#d8576b\"], [0.6666666666666666, \"#ed7953\"], [0.7777777777777778, \"#fb9f3a\"], [0.8888888888888888, \"#fdca26\"], [1.0, \"#f0f921\"]]}, \"colorway\": [\"#636efa\", \"#EF553B\", \"#00cc96\", \"#ab63fa\", \"#FFA15A\", \"#19d3f3\", \"#FF6692\", \"#B6E880\", \"#FF97FF\", \"#FECB52\"], \"font\": {\"color\": \"#2a3f5f\"}, \"geo\": {\"bgcolor\": \"white\", \"lakecolor\": \"white\", \"landcolor\": \"#E5ECF6\", \"showlakes\": true, \"showland\": true, \"subunitcolor\": \"white\"}, \"hoverlabel\": {\"align\": \"left\"}, \"hovermode\": \"closest\", \"mapbox\": {\"style\": \"light\"}, \"paper_bgcolor\": \"white\", \"plot_bgcolor\": \"#E5ECF6\", \"polar\": {\"angularaxis\": {\"gridcolor\": \"white\", \"linecolor\": \"white\", \"ticks\": \"\"}, \"bgcolor\": \"#E5ECF6\", \"radialaxis\": {\"gridcolor\": \"white\", \"linecolor\": \"white\", \"ticks\": \"\"}}, \"scene\": {\"xaxis\": {\"backgroundcolor\": \"#E5ECF6\", \"gridcolor\": \"white\", \"gridwidth\": 2, \"linecolor\": \"white\", \"showbackground\": true, \"ticks\": \"\", \"zerolinecolor\": \"white\"}, \"yaxis\": {\"backgroundcolor\": \"#E5ECF6\", \"gridcolor\": \"white\", \"gridwidth\": 2, \"linecolor\": \"white\", \"showbackground\": true, \"ticks\": \"\", \"zerolinecolor\": \"white\"}, \"zaxis\": {\"backgroundcolor\": \"#E5ECF6\", \"gridcolor\": \"white\", \"gridwidth\": 2, \"linecolor\": \"white\", \"showbackground\": true, \"ticks\": \"\", \"zerolinecolor\": \"white\"}}, \"shapedefaults\": {\"line\": {\"color\": \"#2a3f5f\"}}, \"ternary\": {\"aaxis\": {\"gridcolor\": \"white\", \"linecolor\": \"white\", \"ticks\": \"\"}, \"baxis\": {\"gridcolor\": \"white\", \"linecolor\": \"white\", \"ticks\": \"\"}, \"bgcolor\": \"#E5ECF6\", \"caxis\": {\"gridcolor\": \"white\", \"linecolor\": \"white\", \"ticks\": \"\"}}, \"title\": {\"x\": 0.05}, \"xaxis\": {\"automargin\": true, \"gridcolor\": \"white\", \"linecolor\": \"white\", \"ticks\": \"\", \"title\": {\"standoff\": 15}, \"zerolinecolor\": \"white\", \"zerolinewidth\": 2}, \"yaxis\": {\"automargin\": true, \"gridcolor\": \"white\", \"linecolor\": \"white\", \"ticks\": \"\", \"title\": {\"standoff\": 15}, \"zerolinecolor\": \"white\", \"zerolinewidth\": 2}}}, \"title\": {\"text\": \"% de cuentas creadas segun el dia de la semana\"}},\n",
              "                        {\"responsive\": true}\n",
              "                    ).then(function(){\n",
              "                            \n",
              "var gd = document.getElementById('f2d00531-49d0-4b26-ad98-be61ee17332e');\n",
              "var x = new MutationObserver(function (mutations, observer) {{\n",
              "        var display = window.getComputedStyle(gd).display;\n",
              "        if (!display || display === 'none') {{\n",
              "            console.log([gd, 'removed!']);\n",
              "            Plotly.purge(gd);\n",
              "            observer.disconnect();\n",
              "        }}\n",
              "}});\n",
              "\n",
              "// Listen for the removal of the full notebook cells\n",
              "var notebookContainer = gd.closest('#notebook-container');\n",
              "if (notebookContainer) {{\n",
              "    x.observe(notebookContainer, {childList: true});\n",
              "}}\n",
              "\n",
              "// Listen for the clearing of the current output cell\n",
              "var outputEl = gd.closest('.output');\n",
              "if (outputEl) {{\n",
              "    x.observe(outputEl, {childList: true});\n",
              "}}\n",
              "\n",
              "                        })\n",
              "                };\n",
              "                \n",
              "            </script>\n",
              "        </div>\n",
              "</body>\n",
              "</html>"
            ]
          },
          "metadata": {
            "tags": []
          }
        },
        {
          "output_type": "execute_result",
          "data": {
            "text/plain": [
              "Friday       335861\n",
              "Monday       346406\n",
              "Saturday     205309\n",
              "Sunday       195138\n",
              "Thursday     339734\n",
              "Tuesday      474765\n",
              "Wednesday    354465\n",
              "Name: user_created_day_of_week, dtype: int64"
            ]
          },
          "metadata": {
            "tags": []
          },
          "execution_count": 31
        }
      ]
    },
    {
      "cell_type": "markdown",
      "metadata": {
        "id": "1uVegRNeaWlE",
        "colab_type": "text"
      },
      "source": [
        "Numero de tweets creados por hora"
      ]
    },
    {
      "cell_type": "code",
      "metadata": {
        "id": "m8skcjuQZKXT",
        "colab_type": "code",
        "colab": {
          "base_uri": "https://localhost:8080/",
          "height": 542
        },
        "outputId": "e4ecc8b6-4a6a-430e-e920-0e95a1d36471"
      },
      "source": [
        "import plotly.graph_objs as go\n",
        "twitter_data['created_at_hour'] = twitter_data['created_at_y'].dt.hour\n",
        "cnt_ = twitter_data['created_at_hour'].value_counts()\n",
        "cnt_ = cnt_.sort_index() \n",
        "trace1 = go.Scatter(\n",
        "                    x = cnt_.index,\n",
        "                    y = cnt_.values,\n",
        "                    mode = \"lines\",\n",
        "                    name = \"citations\",\n",
        "                    marker = dict(color = 'rgba(16, 112, 2, 0.8)')\n",
        "                    )\n",
        "\n",
        "data = [trace1]\n",
        "layout = dict(title = 'Numero de tweets generados por hora',\n",
        "              xaxis= dict(title= 'Tweets por hora',ticklen= 5,zeroline= False)\n",
        "             )\n",
        "fig = dict(data = data, layout = layout)\n",
        "iplot(fig)"
      ],
      "execution_count": 32,
      "outputs": [
        {
          "output_type": "display_data",
          "data": {
            "text/html": [
              "<html>\n",
              "<head><meta charset=\"utf-8\" /></head>\n",
              "<body>\n",
              "    <div>\n",
              "            <script src=\"https://cdnjs.cloudflare.com/ajax/libs/mathjax/2.7.5/MathJax.js?config=TeX-AMS-MML_SVG\"></script><script type=\"text/javascript\">if (window.MathJax) {MathJax.Hub.Config({SVG: {font: \"STIX-Web\"}});}</script>\n",
              "                <script type=\"text/javascript\">window.PlotlyConfig = {MathJaxConfig: 'local'};</script>\n",
              "        <script src=\"https://cdn.plot.ly/plotly-latest.min.js\"></script>    \n",
              "            <div id=\"f996f7c4-c065-4e05-b9ff-257794e821e1\" class=\"plotly-graph-div\" style=\"height:525px; width:100%;\"></div>\n",
              "            <script type=\"text/javascript\">\n",
              "                \n",
              "                    window.PLOTLYENV=window.PLOTLYENV || {};\n",
              "                    \n",
              "                if (document.getElementById(\"f996f7c4-c065-4e05-b9ff-257794e821e1\")) {\n",
              "                    Plotly.newPlot(\n",
              "                        'f996f7c4-c065-4e05-b9ff-257794e821e1',\n",
              "                        [{\"marker\": {\"color\": \"rgba(16, 112, 2, 0.8)\"}, \"mode\": \"lines\", \"name\": \"citations\", \"type\": \"scatter\", \"x\": [0, 1, 2, 3, 4, 5, 6, 7, 8, 9, 10, 11, 12, 13, 14, 15, 16, 17, 18, 19, 20, 21, 22, 23], \"y\": [119539, 101219, 77079, 50398, 27496, 16226, 10635, 9837, 11129, 22716, 52954, 89119, 127500, 150804, 157494, 154256, 141414, 133663, 130924, 133506, 132420, 135761, 134453, 131136]}],\n",
              "                        {\"template\": {\"data\": {\"bar\": [{\"error_x\": {\"color\": \"#2a3f5f\"}, \"error_y\": {\"color\": \"#2a3f5f\"}, \"marker\": {\"line\": {\"color\": \"#E5ECF6\", \"width\": 0.5}}, \"type\": \"bar\"}], \"barpolar\": [{\"marker\": {\"line\": {\"color\": \"#E5ECF6\", \"width\": 0.5}}, \"type\": \"barpolar\"}], \"carpet\": [{\"aaxis\": {\"endlinecolor\": \"#2a3f5f\", \"gridcolor\": \"white\", \"linecolor\": \"white\", \"minorgridcolor\": \"white\", \"startlinecolor\": \"#2a3f5f\"}, \"baxis\": {\"endlinecolor\": \"#2a3f5f\", \"gridcolor\": \"white\", \"linecolor\": \"white\", \"minorgridcolor\": \"white\", \"startlinecolor\": \"#2a3f5f\"}, \"type\": \"carpet\"}], \"choropleth\": [{\"colorbar\": {\"outlinewidth\": 0, \"ticks\": \"\"}, \"type\": \"choropleth\"}], \"contour\": [{\"colorbar\": {\"outlinewidth\": 0, \"ticks\": \"\"}, \"colorscale\": [[0.0, \"#0d0887\"], [0.1111111111111111, \"#46039f\"], [0.2222222222222222, \"#7201a8\"], [0.3333333333333333, \"#9c179e\"], [0.4444444444444444, \"#bd3786\"], [0.5555555555555556, \"#d8576b\"], [0.6666666666666666, \"#ed7953\"], [0.7777777777777778, \"#fb9f3a\"], [0.8888888888888888, \"#fdca26\"], [1.0, \"#f0f921\"]], \"type\": \"contour\"}], \"contourcarpet\": [{\"colorbar\": {\"outlinewidth\": 0, \"ticks\": \"\"}, \"type\": \"contourcarpet\"}], \"heatmap\": [{\"colorbar\": {\"outlinewidth\": 0, \"ticks\": \"\"}, \"colorscale\": [[0.0, \"#0d0887\"], [0.1111111111111111, \"#46039f\"], [0.2222222222222222, \"#7201a8\"], [0.3333333333333333, \"#9c179e\"], [0.4444444444444444, \"#bd3786\"], [0.5555555555555556, \"#d8576b\"], [0.6666666666666666, \"#ed7953\"], [0.7777777777777778, \"#fb9f3a\"], [0.8888888888888888, \"#fdca26\"], [1.0, \"#f0f921\"]], \"type\": \"heatmap\"}], \"heatmapgl\": [{\"colorbar\": {\"outlinewidth\": 0, \"ticks\": \"\"}, \"colorscale\": [[0.0, \"#0d0887\"], [0.1111111111111111, \"#46039f\"], [0.2222222222222222, \"#7201a8\"], [0.3333333333333333, \"#9c179e\"], [0.4444444444444444, \"#bd3786\"], [0.5555555555555556, \"#d8576b\"], [0.6666666666666666, \"#ed7953\"], [0.7777777777777778, \"#fb9f3a\"], [0.8888888888888888, \"#fdca26\"], [1.0, \"#f0f921\"]], \"type\": \"heatmapgl\"}], \"histogram\": [{\"marker\": {\"colorbar\": {\"outlinewidth\": 0, \"ticks\": \"\"}}, \"type\": \"histogram\"}], \"histogram2d\": [{\"colorbar\": {\"outlinewidth\": 0, \"ticks\": \"\"}, \"colorscale\": [[0.0, \"#0d0887\"], [0.1111111111111111, \"#46039f\"], [0.2222222222222222, \"#7201a8\"], [0.3333333333333333, \"#9c179e\"], [0.4444444444444444, \"#bd3786\"], [0.5555555555555556, \"#d8576b\"], [0.6666666666666666, \"#ed7953\"], [0.7777777777777778, \"#fb9f3a\"], [0.8888888888888888, \"#fdca26\"], [1.0, \"#f0f921\"]], \"type\": \"histogram2d\"}], \"histogram2dcontour\": [{\"colorbar\": {\"outlinewidth\": 0, \"ticks\": \"\"}, \"colorscale\": [[0.0, \"#0d0887\"], [0.1111111111111111, \"#46039f\"], [0.2222222222222222, \"#7201a8\"], [0.3333333333333333, \"#9c179e\"], [0.4444444444444444, \"#bd3786\"], [0.5555555555555556, \"#d8576b\"], [0.6666666666666666, \"#ed7953\"], [0.7777777777777778, \"#fb9f3a\"], [0.8888888888888888, \"#fdca26\"], [1.0, \"#f0f921\"]], \"type\": \"histogram2dcontour\"}], \"mesh3d\": [{\"colorbar\": {\"outlinewidth\": 0, \"ticks\": \"\"}, \"type\": \"mesh3d\"}], \"parcoords\": [{\"line\": {\"colorbar\": {\"outlinewidth\": 0, \"ticks\": \"\"}}, \"type\": \"parcoords\"}], \"pie\": [{\"automargin\": true, \"type\": \"pie\"}], \"scatter\": [{\"marker\": {\"colorbar\": {\"outlinewidth\": 0, \"ticks\": \"\"}}, \"type\": \"scatter\"}], \"scatter3d\": [{\"line\": {\"colorbar\": {\"outlinewidth\": 0, \"ticks\": \"\"}}, \"marker\": {\"colorbar\": {\"outlinewidth\": 0, \"ticks\": \"\"}}, \"type\": \"scatter3d\"}], \"scattercarpet\": [{\"marker\": {\"colorbar\": {\"outlinewidth\": 0, \"ticks\": \"\"}}, \"type\": \"scattercarpet\"}], \"scattergeo\": [{\"marker\": {\"colorbar\": {\"outlinewidth\": 0, \"ticks\": \"\"}}, \"type\": \"scattergeo\"}], \"scattergl\": [{\"marker\": {\"colorbar\": {\"outlinewidth\": 0, \"ticks\": \"\"}}, \"type\": \"scattergl\"}], \"scattermapbox\": [{\"marker\": {\"colorbar\": {\"outlinewidth\": 0, \"ticks\": \"\"}}, \"type\": \"scattermapbox\"}], \"scatterpolar\": [{\"marker\": {\"colorbar\": {\"outlinewidth\": 0, \"ticks\": \"\"}}, \"type\": \"scatterpolar\"}], \"scatterpolargl\": [{\"marker\": {\"colorbar\": {\"outlinewidth\": 0, \"ticks\": \"\"}}, \"type\": \"scatterpolargl\"}], \"scatterternary\": [{\"marker\": {\"colorbar\": {\"outlinewidth\": 0, \"ticks\": \"\"}}, \"type\": \"scatterternary\"}], \"surface\": [{\"colorbar\": {\"outlinewidth\": 0, \"ticks\": \"\"}, \"colorscale\": [[0.0, \"#0d0887\"], [0.1111111111111111, \"#46039f\"], [0.2222222222222222, \"#7201a8\"], [0.3333333333333333, \"#9c179e\"], [0.4444444444444444, \"#bd3786\"], [0.5555555555555556, \"#d8576b\"], [0.6666666666666666, \"#ed7953\"], [0.7777777777777778, \"#fb9f3a\"], [0.8888888888888888, \"#fdca26\"], [1.0, \"#f0f921\"]], \"type\": \"surface\"}], \"table\": [{\"cells\": {\"fill\": {\"color\": \"#EBF0F8\"}, \"line\": {\"color\": \"white\"}}, \"header\": {\"fill\": {\"color\": \"#C8D4E3\"}, \"line\": {\"color\": \"white\"}}, \"type\": \"table\"}]}, \"layout\": {\"annotationdefaults\": {\"arrowcolor\": \"#2a3f5f\", \"arrowhead\": 0, \"arrowwidth\": 1}, \"coloraxis\": {\"colorbar\": {\"outlinewidth\": 0, \"ticks\": \"\"}}, \"colorscale\": {\"diverging\": [[0, \"#8e0152\"], [0.1, \"#c51b7d\"], [0.2, \"#de77ae\"], [0.3, \"#f1b6da\"], [0.4, \"#fde0ef\"], [0.5, \"#f7f7f7\"], [0.6, \"#e6f5d0\"], [0.7, \"#b8e186\"], [0.8, \"#7fbc41\"], [0.9, \"#4d9221\"], [1, \"#276419\"]], \"sequential\": [[0.0, \"#0d0887\"], [0.1111111111111111, \"#46039f\"], [0.2222222222222222, \"#7201a8\"], [0.3333333333333333, \"#9c179e\"], [0.4444444444444444, \"#bd3786\"], [0.5555555555555556, \"#d8576b\"], [0.6666666666666666, \"#ed7953\"], [0.7777777777777778, \"#fb9f3a\"], [0.8888888888888888, \"#fdca26\"], [1.0, \"#f0f921\"]], \"sequentialminus\": [[0.0, \"#0d0887\"], [0.1111111111111111, \"#46039f\"], [0.2222222222222222, \"#7201a8\"], [0.3333333333333333, \"#9c179e\"], [0.4444444444444444, \"#bd3786\"], [0.5555555555555556, \"#d8576b\"], [0.6666666666666666, \"#ed7953\"], [0.7777777777777778, \"#fb9f3a\"], [0.8888888888888888, \"#fdca26\"], [1.0, \"#f0f921\"]]}, \"colorway\": [\"#636efa\", \"#EF553B\", \"#00cc96\", \"#ab63fa\", \"#FFA15A\", \"#19d3f3\", \"#FF6692\", \"#B6E880\", \"#FF97FF\", \"#FECB52\"], \"font\": {\"color\": \"#2a3f5f\"}, \"geo\": {\"bgcolor\": \"white\", \"lakecolor\": \"white\", \"landcolor\": \"#E5ECF6\", \"showlakes\": true, \"showland\": true, \"subunitcolor\": \"white\"}, \"hoverlabel\": {\"align\": \"left\"}, \"hovermode\": \"closest\", \"mapbox\": {\"style\": \"light\"}, \"paper_bgcolor\": \"white\", \"plot_bgcolor\": \"#E5ECF6\", \"polar\": {\"angularaxis\": {\"gridcolor\": \"white\", \"linecolor\": \"white\", \"ticks\": \"\"}, \"bgcolor\": \"#E5ECF6\", \"radialaxis\": {\"gridcolor\": \"white\", \"linecolor\": \"white\", \"ticks\": \"\"}}, \"scene\": {\"xaxis\": {\"backgroundcolor\": \"#E5ECF6\", \"gridcolor\": \"white\", \"gridwidth\": 2, \"linecolor\": \"white\", \"showbackground\": true, \"ticks\": \"\", \"zerolinecolor\": \"white\"}, \"yaxis\": {\"backgroundcolor\": \"#E5ECF6\", \"gridcolor\": \"white\", \"gridwidth\": 2, \"linecolor\": \"white\", \"showbackground\": true, \"ticks\": \"\", \"zerolinecolor\": \"white\"}, \"zaxis\": {\"backgroundcolor\": \"#E5ECF6\", \"gridcolor\": \"white\", \"gridwidth\": 2, \"linecolor\": \"white\", \"showbackground\": true, \"ticks\": \"\", \"zerolinecolor\": \"white\"}}, \"shapedefaults\": {\"line\": {\"color\": \"#2a3f5f\"}}, \"ternary\": {\"aaxis\": {\"gridcolor\": \"white\", \"linecolor\": \"white\", \"ticks\": \"\"}, \"baxis\": {\"gridcolor\": \"white\", \"linecolor\": \"white\", \"ticks\": \"\"}, \"bgcolor\": \"#E5ECF6\", \"caxis\": {\"gridcolor\": \"white\", \"linecolor\": \"white\", \"ticks\": \"\"}}, \"title\": {\"x\": 0.05}, \"xaxis\": {\"automargin\": true, \"gridcolor\": \"white\", \"linecolor\": \"white\", \"ticks\": \"\", \"title\": {\"standoff\": 15}, \"zerolinecolor\": \"white\", \"zerolinewidth\": 2}, \"yaxis\": {\"automargin\": true, \"gridcolor\": \"white\", \"linecolor\": \"white\", \"ticks\": \"\", \"title\": {\"standoff\": 15}, \"zerolinecolor\": \"white\", \"zerolinewidth\": 2}}}, \"title\": {\"text\": \"Numero de tweets generados por hora\"}, \"xaxis\": {\"ticklen\": 5, \"title\": {\"text\": \"Tweets por hora\"}, \"zeroline\": false}},\n",
              "                        {\"responsive\": true}\n",
              "                    ).then(function(){\n",
              "                            \n",
              "var gd = document.getElementById('f996f7c4-c065-4e05-b9ff-257794e821e1');\n",
              "var x = new MutationObserver(function (mutations, observer) {{\n",
              "        var display = window.getComputedStyle(gd).display;\n",
              "        if (!display || display === 'none') {{\n",
              "            console.log([gd, 'removed!']);\n",
              "            Plotly.purge(gd);\n",
              "            observer.disconnect();\n",
              "        }}\n",
              "}});\n",
              "\n",
              "// Listen for the removal of the full notebook cells\n",
              "var notebookContainer = gd.closest('#notebook-container');\n",
              "if (notebookContainer) {{\n",
              "    x.observe(notebookContainer, {childList: true});\n",
              "}}\n",
              "\n",
              "// Listen for the clearing of the current output cell\n",
              "var outputEl = gd.closest('.output');\n",
              "if (outputEl) {{\n",
              "    x.observe(outputEl, {childList: true});\n",
              "}}\n",
              "\n",
              "                        })\n",
              "                };\n",
              "                \n",
              "            </script>\n",
              "        </div>\n",
              "</body>\n",
              "</html>"
            ]
          },
          "metadata": {
            "tags": []
          }
        }
      ]
    },
    {
      "cell_type": "code",
      "metadata": {
        "id": "0X0q02bLajtf",
        "colab_type": "code",
        "colab": {
          "base_uri": "https://localhost:8080/",
          "height": 542
        },
        "outputId": "1311cc82-40cf-49d9-e97a-a3b022efff5f"
      },
      "source": [
        "twitter_data['user_created_at_hour'] = twitter_data['created_at_x'].dt.hour\n",
        "cnt_ = twitter_data['user_created_at_hour'].value_counts()\n",
        "cnt_ = cnt_.sort_index() \n",
        "trace1 = go.Scatter(\n",
        "                    x = cnt_.index,\n",
        "                    y = cnt_.values,\n",
        "                    mode = \"lines\",\n",
        "                    name = \"citations\",\n",
        "                    marker = dict(color = 'rgba(210, 113, 25, 0.8)')\n",
        "                    )\n",
        "\n",
        "data = [trace1]\n",
        "layout = dict(title = 'Numero de cuentas creadas por hora ',\n",
        "              xaxis= dict(title= 'Cuentas por hora',ticklen= 5,zeroline= True)\n",
        "             )\n",
        "fig = dict(data = data, layout = layout)\n",
        "iplot(fig)"
      ],
      "execution_count": 33,
      "outputs": [
        {
          "output_type": "display_data",
          "data": {
            "text/html": [
              "<html>\n",
              "<head><meta charset=\"utf-8\" /></head>\n",
              "<body>\n",
              "    <div>\n",
              "            <script src=\"https://cdnjs.cloudflare.com/ajax/libs/mathjax/2.7.5/MathJax.js?config=TeX-AMS-MML_SVG\"></script><script type=\"text/javascript\">if (window.MathJax) {MathJax.Hub.Config({SVG: {font: \"STIX-Web\"}});}</script>\n",
              "                <script type=\"text/javascript\">window.PlotlyConfig = {MathJaxConfig: 'local'};</script>\n",
              "        <script src=\"https://cdn.plot.ly/plotly-latest.min.js\"></script>    \n",
              "            <div id=\"e3bde17a-15de-47d5-9f9b-cc401bccbc7a\" class=\"plotly-graph-div\" style=\"height:525px; width:100%;\"></div>\n",
              "            <script type=\"text/javascript\">\n",
              "                \n",
              "                    window.PLOTLYENV=window.PLOTLYENV || {};\n",
              "                    \n",
              "                if (document.getElementById(\"e3bde17a-15de-47d5-9f9b-cc401bccbc7a\")) {\n",
              "                    Plotly.newPlot(\n",
              "                        'e3bde17a-15de-47d5-9f9b-cc401bccbc7a',\n",
              "                        [{\"marker\": {\"color\": \"rgba(210, 113, 25, 0.8)\"}, \"mode\": \"lines\", \"name\": \"citations\", \"type\": \"scatter\", \"x\": [0, 1, 2, 3, 4, 5, 6, 7, 8, 9, 10, 11, 12, 13, 14, 15, 16, 17, 18, 19, 20, 21, 22, 23], \"y\": [92816, 95978, 87511, 68046, 28254, 24065, 19810, 15761, 10724, 11461, 22719, 56323, 87938, 106714, 135578, 175646, 130584, 187656, 147328, 184667, 157975, 115863, 150725, 137536]}],\n",
              "                        {\"template\": {\"data\": {\"bar\": [{\"error_x\": {\"color\": \"#2a3f5f\"}, \"error_y\": {\"color\": \"#2a3f5f\"}, \"marker\": {\"line\": {\"color\": \"#E5ECF6\", \"width\": 0.5}}, \"type\": \"bar\"}], \"barpolar\": [{\"marker\": {\"line\": {\"color\": \"#E5ECF6\", \"width\": 0.5}}, \"type\": \"barpolar\"}], \"carpet\": [{\"aaxis\": {\"endlinecolor\": \"#2a3f5f\", \"gridcolor\": \"white\", \"linecolor\": \"white\", \"minorgridcolor\": \"white\", \"startlinecolor\": \"#2a3f5f\"}, \"baxis\": {\"endlinecolor\": \"#2a3f5f\", \"gridcolor\": \"white\", \"linecolor\": \"white\", \"minorgridcolor\": \"white\", \"startlinecolor\": \"#2a3f5f\"}, \"type\": \"carpet\"}], \"choropleth\": [{\"colorbar\": {\"outlinewidth\": 0, \"ticks\": \"\"}, \"type\": \"choropleth\"}], \"contour\": [{\"colorbar\": {\"outlinewidth\": 0, \"ticks\": \"\"}, \"colorscale\": [[0.0, \"#0d0887\"], [0.1111111111111111, \"#46039f\"], [0.2222222222222222, \"#7201a8\"], [0.3333333333333333, \"#9c179e\"], [0.4444444444444444, \"#bd3786\"], [0.5555555555555556, \"#d8576b\"], [0.6666666666666666, \"#ed7953\"], [0.7777777777777778, \"#fb9f3a\"], [0.8888888888888888, \"#fdca26\"], [1.0, \"#f0f921\"]], \"type\": \"contour\"}], \"contourcarpet\": [{\"colorbar\": {\"outlinewidth\": 0, \"ticks\": \"\"}, \"type\": \"contourcarpet\"}], \"heatmap\": [{\"colorbar\": {\"outlinewidth\": 0, \"ticks\": \"\"}, \"colorscale\": [[0.0, \"#0d0887\"], [0.1111111111111111, \"#46039f\"], [0.2222222222222222, \"#7201a8\"], [0.3333333333333333, \"#9c179e\"], [0.4444444444444444, \"#bd3786\"], [0.5555555555555556, \"#d8576b\"], [0.6666666666666666, \"#ed7953\"], [0.7777777777777778, \"#fb9f3a\"], [0.8888888888888888, \"#fdca26\"], [1.0, \"#f0f921\"]], \"type\": \"heatmap\"}], \"heatmapgl\": [{\"colorbar\": {\"outlinewidth\": 0, \"ticks\": \"\"}, \"colorscale\": [[0.0, \"#0d0887\"], [0.1111111111111111, \"#46039f\"], [0.2222222222222222, \"#7201a8\"], [0.3333333333333333, \"#9c179e\"], [0.4444444444444444, \"#bd3786\"], [0.5555555555555556, \"#d8576b\"], [0.6666666666666666, \"#ed7953\"], [0.7777777777777778, \"#fb9f3a\"], [0.8888888888888888, \"#fdca26\"], [1.0, \"#f0f921\"]], \"type\": \"heatmapgl\"}], \"histogram\": [{\"marker\": {\"colorbar\": {\"outlinewidth\": 0, \"ticks\": \"\"}}, \"type\": \"histogram\"}], \"histogram2d\": [{\"colorbar\": {\"outlinewidth\": 0, \"ticks\": \"\"}, \"colorscale\": [[0.0, \"#0d0887\"], [0.1111111111111111, \"#46039f\"], [0.2222222222222222, \"#7201a8\"], [0.3333333333333333, \"#9c179e\"], [0.4444444444444444, \"#bd3786\"], [0.5555555555555556, \"#d8576b\"], [0.6666666666666666, \"#ed7953\"], [0.7777777777777778, \"#fb9f3a\"], [0.8888888888888888, \"#fdca26\"], [1.0, \"#f0f921\"]], \"type\": \"histogram2d\"}], \"histogram2dcontour\": [{\"colorbar\": {\"outlinewidth\": 0, \"ticks\": \"\"}, \"colorscale\": [[0.0, \"#0d0887\"], [0.1111111111111111, \"#46039f\"], [0.2222222222222222, \"#7201a8\"], [0.3333333333333333, \"#9c179e\"], [0.4444444444444444, \"#bd3786\"], [0.5555555555555556, \"#d8576b\"], [0.6666666666666666, \"#ed7953\"], [0.7777777777777778, \"#fb9f3a\"], [0.8888888888888888, \"#fdca26\"], [1.0, \"#f0f921\"]], \"type\": \"histogram2dcontour\"}], \"mesh3d\": [{\"colorbar\": {\"outlinewidth\": 0, \"ticks\": \"\"}, \"type\": \"mesh3d\"}], \"parcoords\": [{\"line\": {\"colorbar\": {\"outlinewidth\": 0, \"ticks\": \"\"}}, \"type\": \"parcoords\"}], \"pie\": [{\"automargin\": true, \"type\": \"pie\"}], \"scatter\": [{\"marker\": {\"colorbar\": {\"outlinewidth\": 0, \"ticks\": \"\"}}, \"type\": \"scatter\"}], \"scatter3d\": [{\"line\": {\"colorbar\": {\"outlinewidth\": 0, \"ticks\": \"\"}}, \"marker\": {\"colorbar\": {\"outlinewidth\": 0, \"ticks\": \"\"}}, \"type\": \"scatter3d\"}], \"scattercarpet\": [{\"marker\": {\"colorbar\": {\"outlinewidth\": 0, \"ticks\": \"\"}}, \"type\": \"scattercarpet\"}], \"scattergeo\": [{\"marker\": {\"colorbar\": {\"outlinewidth\": 0, \"ticks\": \"\"}}, \"type\": \"scattergeo\"}], \"scattergl\": [{\"marker\": {\"colorbar\": {\"outlinewidth\": 0, \"ticks\": \"\"}}, \"type\": \"scattergl\"}], \"scattermapbox\": [{\"marker\": {\"colorbar\": {\"outlinewidth\": 0, \"ticks\": \"\"}}, \"type\": \"scattermapbox\"}], \"scatterpolar\": [{\"marker\": {\"colorbar\": {\"outlinewidth\": 0, \"ticks\": \"\"}}, \"type\": \"scatterpolar\"}], \"scatterpolargl\": [{\"marker\": {\"colorbar\": {\"outlinewidth\": 0, \"ticks\": \"\"}}, \"type\": \"scatterpolargl\"}], \"scatterternary\": [{\"marker\": {\"colorbar\": {\"outlinewidth\": 0, \"ticks\": \"\"}}, \"type\": \"scatterternary\"}], \"surface\": [{\"colorbar\": {\"outlinewidth\": 0, \"ticks\": \"\"}, \"colorscale\": [[0.0, \"#0d0887\"], [0.1111111111111111, \"#46039f\"], [0.2222222222222222, \"#7201a8\"], [0.3333333333333333, \"#9c179e\"], [0.4444444444444444, \"#bd3786\"], [0.5555555555555556, \"#d8576b\"], [0.6666666666666666, \"#ed7953\"], [0.7777777777777778, \"#fb9f3a\"], [0.8888888888888888, \"#fdca26\"], [1.0, \"#f0f921\"]], \"type\": \"surface\"}], \"table\": [{\"cells\": {\"fill\": {\"color\": \"#EBF0F8\"}, \"line\": {\"color\": \"white\"}}, \"header\": {\"fill\": {\"color\": \"#C8D4E3\"}, \"line\": {\"color\": \"white\"}}, \"type\": \"table\"}]}, \"layout\": {\"annotationdefaults\": {\"arrowcolor\": \"#2a3f5f\", \"arrowhead\": 0, \"arrowwidth\": 1}, \"coloraxis\": {\"colorbar\": {\"outlinewidth\": 0, \"ticks\": \"\"}}, \"colorscale\": {\"diverging\": [[0, \"#8e0152\"], [0.1, \"#c51b7d\"], [0.2, \"#de77ae\"], [0.3, \"#f1b6da\"], [0.4, \"#fde0ef\"], [0.5, \"#f7f7f7\"], [0.6, \"#e6f5d0\"], [0.7, \"#b8e186\"], [0.8, \"#7fbc41\"], [0.9, \"#4d9221\"], [1, \"#276419\"]], \"sequential\": [[0.0, \"#0d0887\"], [0.1111111111111111, \"#46039f\"], [0.2222222222222222, \"#7201a8\"], [0.3333333333333333, \"#9c179e\"], [0.4444444444444444, \"#bd3786\"], [0.5555555555555556, \"#d8576b\"], [0.6666666666666666, \"#ed7953\"], [0.7777777777777778, \"#fb9f3a\"], [0.8888888888888888, \"#fdca26\"], [1.0, \"#f0f921\"]], \"sequentialminus\": [[0.0, \"#0d0887\"], [0.1111111111111111, \"#46039f\"], [0.2222222222222222, \"#7201a8\"], [0.3333333333333333, \"#9c179e\"], [0.4444444444444444, \"#bd3786\"], [0.5555555555555556, \"#d8576b\"], [0.6666666666666666, \"#ed7953\"], [0.7777777777777778, \"#fb9f3a\"], [0.8888888888888888, \"#fdca26\"], [1.0, \"#f0f921\"]]}, \"colorway\": [\"#636efa\", \"#EF553B\", \"#00cc96\", \"#ab63fa\", \"#FFA15A\", \"#19d3f3\", \"#FF6692\", \"#B6E880\", \"#FF97FF\", \"#FECB52\"], \"font\": {\"color\": \"#2a3f5f\"}, \"geo\": {\"bgcolor\": \"white\", \"lakecolor\": \"white\", \"landcolor\": \"#E5ECF6\", \"showlakes\": true, \"showland\": true, \"subunitcolor\": \"white\"}, \"hoverlabel\": {\"align\": \"left\"}, \"hovermode\": \"closest\", \"mapbox\": {\"style\": \"light\"}, \"paper_bgcolor\": \"white\", \"plot_bgcolor\": \"#E5ECF6\", \"polar\": {\"angularaxis\": {\"gridcolor\": \"white\", \"linecolor\": \"white\", \"ticks\": \"\"}, \"bgcolor\": \"#E5ECF6\", \"radialaxis\": {\"gridcolor\": \"white\", \"linecolor\": \"white\", \"ticks\": \"\"}}, \"scene\": {\"xaxis\": {\"backgroundcolor\": \"#E5ECF6\", \"gridcolor\": \"white\", \"gridwidth\": 2, \"linecolor\": \"white\", \"showbackground\": true, \"ticks\": \"\", \"zerolinecolor\": \"white\"}, \"yaxis\": {\"backgroundcolor\": \"#E5ECF6\", \"gridcolor\": \"white\", \"gridwidth\": 2, \"linecolor\": \"white\", \"showbackground\": true, \"ticks\": \"\", \"zerolinecolor\": \"white\"}, \"zaxis\": {\"backgroundcolor\": \"#E5ECF6\", \"gridcolor\": \"white\", \"gridwidth\": 2, \"linecolor\": \"white\", \"showbackground\": true, \"ticks\": \"\", \"zerolinecolor\": \"white\"}}, \"shapedefaults\": {\"line\": {\"color\": \"#2a3f5f\"}}, \"ternary\": {\"aaxis\": {\"gridcolor\": \"white\", \"linecolor\": \"white\", \"ticks\": \"\"}, \"baxis\": {\"gridcolor\": \"white\", \"linecolor\": \"white\", \"ticks\": \"\"}, \"bgcolor\": \"#E5ECF6\", \"caxis\": {\"gridcolor\": \"white\", \"linecolor\": \"white\", \"ticks\": \"\"}}, \"title\": {\"x\": 0.05}, \"xaxis\": {\"automargin\": true, \"gridcolor\": \"white\", \"linecolor\": \"white\", \"ticks\": \"\", \"title\": {\"standoff\": 15}, \"zerolinecolor\": \"white\", \"zerolinewidth\": 2}, \"yaxis\": {\"automargin\": true, \"gridcolor\": \"white\", \"linecolor\": \"white\", \"ticks\": \"\", \"title\": {\"standoff\": 15}, \"zerolinecolor\": \"white\", \"zerolinewidth\": 2}}}, \"title\": {\"text\": \"Numero de cuentas creadas por hora \"}, \"xaxis\": {\"ticklen\": 5, \"title\": {\"text\": \"Cuentas por hora\"}, \"zeroline\": true}},\n",
              "                        {\"responsive\": true}\n",
              "                    ).then(function(){\n",
              "                            \n",
              "var gd = document.getElementById('e3bde17a-15de-47d5-9f9b-cc401bccbc7a');\n",
              "var x = new MutationObserver(function (mutations, observer) {{\n",
              "        var display = window.getComputedStyle(gd).display;\n",
              "        if (!display || display === 'none') {{\n",
              "            console.log([gd, 'removed!']);\n",
              "            Plotly.purge(gd);\n",
              "            observer.disconnect();\n",
              "        }}\n",
              "}});\n",
              "\n",
              "// Listen for the removal of the full notebook cells\n",
              "var notebookContainer = gd.closest('#notebook-container');\n",
              "if (notebookContainer) {{\n",
              "    x.observe(notebookContainer, {childList: true});\n",
              "}}\n",
              "\n",
              "// Listen for the clearing of the current output cell\n",
              "var outputEl = gd.closest('.output');\n",
              "if (outputEl) {{\n",
              "    x.observe(outputEl, {childList: true});\n",
              "}}\n",
              "\n",
              "                        })\n",
              "                };\n",
              "                \n",
              "            </script>\n",
              "        </div>\n",
              "</body>\n",
              "</html>"
            ]
          },
          "metadata": {
            "tags": []
          }
        }
      ]
    },
    {
      "cell_type": "code",
      "metadata": {
        "id": "nYCauV8Xbriq",
        "colab_type": "code",
        "colab": {
          "base_uri": "https://localhost:8080/",
          "height": 108
        },
        "outputId": "a1c1b4f6-e133-416f-f059-918fbac1f2e7"
      },
      "source": [
        "df3=pd.read_csv('/content/retweets_202007072124.csv')\n",
        "df3.head(2)"
      ],
      "execution_count": 104,
      "outputs": [
        {
          "output_type": "execute_result",
          "data": {
            "text/html": [
              "<div>\n",
              "<style scoped>\n",
              "    .dataframe tbody tr th:only-of-type {\n",
              "        vertical-align: middle;\n",
              "    }\n",
              "\n",
              "    .dataframe tbody tr th {\n",
              "        vertical-align: top;\n",
              "    }\n",
              "\n",
              "    .dataframe thead th {\n",
              "        text-align: right;\n",
              "    }\n",
              "</style>\n",
              "<table border=\"1\" class=\"dataframe\">\n",
              "  <thead>\n",
              "    <tr style=\"text-align: right;\">\n",
              "      <th></th>\n",
              "      <th>tweet_owner</th>\n",
              "      <th>tweet_id</th>\n",
              "      <th>user_id</th>\n",
              "      <th>scrapped_at</th>\n",
              "    </tr>\n",
              "  </thead>\n",
              "  <tbody>\n",
              "    <tr>\n",
              "      <th>0</th>\n",
              "      <td>140065192</td>\n",
              "      <td>1000000589944639488</td>\n",
              "      <td>187354449</td>\n",
              "      <td>2020-07-07 14:37:23.0</td>\n",
              "    </tr>\n",
              "    <tr>\n",
              "      <th>1</th>\n",
              "      <td>305764459</td>\n",
              "      <td>1000001099514990592</td>\n",
              "      <td>51714340</td>\n",
              "      <td>2020-07-07 09:58:20.0</td>\n",
              "    </tr>\n",
              "  </tbody>\n",
              "</table>\n",
              "</div>"
            ],
            "text/plain": [
              "   tweet_owner             tweet_id    user_id            scrapped_at\n",
              "0    140065192  1000000589944639488  187354449  2020-07-07 14:37:23.0\n",
              "1    305764459  1000001099514990592   51714340  2020-07-07 09:58:20.0"
            ]
          },
          "metadata": {
            "tags": []
          },
          "execution_count": 104
        }
      ]
    }
  ]
}