{
 "cells": [
  {
   "cell_type": "markdown",
   "metadata": {},
   "source": [
    "Esta notebook es solo para guardar los vectores en df"
   ]
  },
  {
   "cell_type": "code",
   "execution_count": 1,
   "metadata": {},
   "outputs": [],
   "source": [
    "import pandas as pd\n",
    "import numpy as np\n",
    "import sys\n",
    "sys.path.append(\"../scripts/\")\n",
    "import clean_text\n",
    "import TweetToVect2 as TW\n",
    "import gensim.models.fasttext\n",
    "from importlib import reload\n",
    "import UserToVect as UVect"
   ]
  },
  {
   "cell_type": "markdown",
   "metadata": {},
   "source": [
    "## Tweet vectors"
   ]
  },
  {
   "cell_type": "code",
   "execution_count": 94,
   "metadata": {},
   "outputs": [],
   "source": [
    "loaded_word_model = gensim.models.fasttext.load_facebook_vectors('../models/words_fast_text.bin')"
   ]
  },
  {
   "cell_type": "code",
   "execution_count": 119,
   "metadata": {},
   "outputs": [
    {
     "data": {
      "text/plain": [
       "<module 'TweetToVect2' from '../scripts\\\\TweetToVect2.py'>"
      ]
     },
     "execution_count": 119,
     "metadata": {},
     "output_type": "execute_result"
    }
   ],
   "source": [
    "from importlib import reload\n",
    "reload(TW)"
   ]
  },
  {
   "cell_type": "code",
   "execution_count": 125,
   "metadata": {},
   "outputs": [
    {
     "data": {
      "text/plain": [
       "(2, 100)"
      ]
     },
     "execution_count": 125,
     "metadata": {},
     "output_type": "execute_result"
    }
   ],
   "source": [
    "tweet_model = TW.TweetToVect()\n",
    "tweet_model.load_model(fast_text_model=loaded_word_model)\n",
    "tweet_model.get_vectors(['hola como estas', 'prueba dos']).shape"
   ]
  },
  {
   "cell_type": "code",
   "execution_count": 87,
   "metadata": {},
   "outputs": [],
   "source": [
    "df_tw = pd.read_pickle('../datasets/tweets_cleaned.pkl')\n",
    "df_u = pd.read_csv('../datasets/users_202008032307.csv')"
   ]
  },
  {
   "cell_type": "code",
   "execution_count": 10,
   "metadata": {},
   "outputs": [
    {
     "name": "stdout",
     "output_type": "stream",
     "text": [
      "Index(['user_id', 'user_name', 'name', 'description', 'url', 'created_at',\n",
      "       'geo_enabled', 'verified', 'profile_image_url',\n",
      "       'profile_image_url_large', 'followers_count', 'friends_count',\n",
      "       'listed_count', 'favourites_count', 'statuses_count', 'media_count',\n",
      "       'pinned_tweet', 'tweets_scraped', 'tweets_scraped_at', 'scrapped_at',\n",
      "       'ignore'],\n",
      "      dtype='object')\n",
      "Index(['tweet_id', 'conversation_id', 'user_id', 'created_at', 'lang',\n",
      "       'retweet_count', 'favorite_count', 'reply_count', 'quote_count',\n",
      "       'is_reply', 'replied_id', 'replied_user_id', 'is_quote', 'quoted_id',\n",
      "       'full_text', 'source', 'scrapped_at', 'user_mentions_count',\n",
      "       'hashtags_count', 'urls_count', 'media_count', 'replied_original',\n",
      "       'full_text_cleaned'],\n",
      "      dtype='object')\n"
     ]
    }
   ],
   "source": [
    "print(df_u.columns)\n",
    "print(df_tw.columns)"
   ]
  },
  {
   "cell_type": "code",
   "execution_count": 88,
   "metadata": {},
   "outputs": [],
   "source": [
    "df_tw = df_tw[df_tw.full_text_cleaned!='']"
   ]
  },
  {
   "cell_type": "code",
   "execution_count": 127,
   "metadata": {},
   "outputs": [],
   "source": [
    "vectores_tweets = df_tw.full_text_cleaned.apply(lambda x: tweet_model.get_vectors([x], cleaned=True)[0])"
   ]
  },
  {
   "cell_type": "code",
   "execution_count": 128,
   "metadata": {},
   "outputs": [
    {
     "data": {
      "text/html": [
       "<div>\n",
       "<style scoped>\n",
       "    .dataframe tbody tr th:only-of-type {\n",
       "        vertical-align: middle;\n",
       "    }\n",
       "\n",
       "    .dataframe tbody tr th {\n",
       "        vertical-align: top;\n",
       "    }\n",
       "\n",
       "    .dataframe thead th {\n",
       "        text-align: right;\n",
       "    }\n",
       "</style>\n",
       "<table border=\"1\" class=\"dataframe\">\n",
       "  <thead>\n",
       "    <tr style=\"text-align: right;\">\n",
       "      <th></th>\n",
       "      <th>tweet_id</th>\n",
       "      <th>vector_tweet</th>\n",
       "    </tr>\n",
       "  </thead>\n",
       "  <tbody>\n",
       "    <tr>\n",
       "      <th>1000001051574046720</th>\n",
       "      <td>1000001051574046720</td>\n",
       "      <td>[-0.050109155, 0.07308929, -0.05848807, -0.310...</td>\n",
       "    </tr>\n",
       "    <tr>\n",
       "      <th>1000002592955609088</th>\n",
       "      <td>1000002592955609088</td>\n",
       "      <td>[0.115810096, -0.0124341445, -0.016124656, -0....</td>\n",
       "    </tr>\n",
       "    <tr>\n",
       "      <th>1000002668474101761</th>\n",
       "      <td>1000002668474101761</td>\n",
       "      <td>[0.04619045, -0.049331196, -0.033828426, -0.43...</td>\n",
       "    </tr>\n",
       "    <tr>\n",
       "      <th>1000003177448697857</th>\n",
       "      <td>1000003177448697857</td>\n",
       "      <td>[0.1546355, 0.050867796, -0.047380175, 0.19968...</td>\n",
       "    </tr>\n",
       "    <tr>\n",
       "      <th>1000003312597585921</th>\n",
       "      <td>1000003312597585921</td>\n",
       "      <td>[0.04194299, 0.11239119, -0.10102855, -0.25740...</td>\n",
       "    </tr>\n",
       "  </tbody>\n",
       "</table>\n",
       "</div>"
      ],
      "text/plain": [
       "                                tweet_id  \\\n",
       "1000001051574046720  1000001051574046720   \n",
       "1000002592955609088  1000002592955609088   \n",
       "1000002668474101761  1000002668474101761   \n",
       "1000003177448697857  1000003177448697857   \n",
       "1000003312597585921  1000003312597585921   \n",
       "\n",
       "                                                          vector_tweet  \n",
       "1000001051574046720  [-0.050109155, 0.07308929, -0.05848807, -0.310...  \n",
       "1000002592955609088  [0.115810096, -0.0124341445, -0.016124656, -0....  \n",
       "1000002668474101761  [0.04619045, -0.049331196, -0.033828426, -0.43...  \n",
       "1000003177448697857  [0.1546355, 0.050867796, -0.047380175, 0.19968...  \n",
       "1000003312597585921  [0.04194299, 0.11239119, -0.10102855, -0.25740...  "
      ]
     },
     "execution_count": 128,
     "metadata": {},
     "output_type": "execute_result"
    }
   ],
   "source": [
    "df_tw_vecores = df_tw.copy()\n",
    "df_tw_vecores.loc[:,'vector_tweet'] = vectores_tweets\n",
    "df_tw_vecores.head()[['tweet_id', 'vector_tweet']]"
   ]
  },
  {
   "cell_type": "code",
   "execution_count": 135,
   "metadata": {},
   "outputs": [],
   "source": [
    "df_tw_vecores.to_pickle('../datasets/tweets_vectores.pkl')"
   ]
  },
  {
   "cell_type": "markdown",
   "metadata": {},
   "source": [
    "## User vectors"
   ]
  },
  {
   "cell_type": "code",
   "execution_count": 2,
   "metadata": {},
   "outputs": [],
   "source": [
    "model_u = UVect.UserToVect()\n",
    "model_u.load_encoder(model_path='../models/user_to_vect_encoder_b')"
   ]
  },
  {
   "cell_type": "code",
   "execution_count": 3,
   "metadata": {},
   "outputs": [
    {
     "name": "stdout",
     "output_type": "stream",
     "text": [
      "Index(['tweet_id', 'conversation_id', 'user_id', 'created_at', 'lang',\n",
      "       'retweet_count', 'favorite_count', 'reply_count', 'quote_count',\n",
      "       'is_reply', 'replied_id', 'replied_user_id', 'is_quote', 'quoted_id',\n",
      "       'full_text', 'source', 'scrapped_at', 'user_mentions_count',\n",
      "       'hashtags_count', 'urls_count', 'media_count', 'replied_original',\n",
      "       'full_text_cleaned', 'vector_tweet'],\n",
      "      dtype='object')\n"
     ]
    },
    {
     "data": {
      "text/html": [
       "<div>\n",
       "<style scoped>\n",
       "    .dataframe tbody tr th:only-of-type {\n",
       "        vertical-align: middle;\n",
       "    }\n",
       "\n",
       "    .dataframe tbody tr th {\n",
       "        vertical-align: top;\n",
       "    }\n",
       "\n",
       "    .dataframe thead th {\n",
       "        text-align: right;\n",
       "    }\n",
       "</style>\n",
       "<table border=\"1\" class=\"dataframe\">\n",
       "  <thead>\n",
       "    <tr style=\"text-align: right;\">\n",
       "      <th></th>\n",
       "      <th>tweet_id</th>\n",
       "      <th>vector_tweet</th>\n",
       "    </tr>\n",
       "  </thead>\n",
       "  <tbody>\n",
       "    <tr>\n",
       "      <th>1000001051574046720</th>\n",
       "      <td>1000001051574046720</td>\n",
       "      <td>[-0.050109155, 0.07308929, -0.05848807, -0.310...</td>\n",
       "    </tr>\n",
       "    <tr>\n",
       "      <th>1000002592955609088</th>\n",
       "      <td>1000002592955609088</td>\n",
       "      <td>[0.115810096, -0.0124341445, -0.016124656, -0....</td>\n",
       "    </tr>\n",
       "    <tr>\n",
       "      <th>1000002668474101761</th>\n",
       "      <td>1000002668474101761</td>\n",
       "      <td>[0.04619045, -0.049331196, -0.033828426, -0.43...</td>\n",
       "    </tr>\n",
       "    <tr>\n",
       "      <th>1000003177448697857</th>\n",
       "      <td>1000003177448697857</td>\n",
       "      <td>[0.1546355, 0.050867796, -0.047380175, 0.19968...</td>\n",
       "    </tr>\n",
       "    <tr>\n",
       "      <th>1000003312597585921</th>\n",
       "      <td>1000003312597585921</td>\n",
       "      <td>[0.04194299, 0.11239119, -0.10102855, -0.25740...</td>\n",
       "    </tr>\n",
       "  </tbody>\n",
       "</table>\n",
       "</div>"
      ],
      "text/plain": [
       "                                tweet_id  \\\n",
       "1000001051574046720  1000001051574046720   \n",
       "1000002592955609088  1000002592955609088   \n",
       "1000002668474101761  1000002668474101761   \n",
       "1000003177448697857  1000003177448697857   \n",
       "1000003312597585921  1000003312597585921   \n",
       "\n",
       "                                                          vector_tweet  \n",
       "1000001051574046720  [-0.050109155, 0.07308929, -0.05848807, -0.310...  \n",
       "1000002592955609088  [0.115810096, -0.0124341445, -0.016124656, -0....  \n",
       "1000002668474101761  [0.04619045, -0.049331196, -0.033828426, -0.43...  \n",
       "1000003177448697857  [0.1546355, 0.050867796, -0.047380175, 0.19968...  \n",
       "1000003312597585921  [0.04194299, 0.11239119, -0.10102855, -0.25740...  "
      ]
     },
     "execution_count": 3,
     "metadata": {},
     "output_type": "execute_result"
    }
   ],
   "source": [
    "df_tweets = pd.read_pickle('../datasets/tweets_vectores.pkl')\n",
    "print(df_tweets.columns)\n",
    "df_tweets.head()[['tweet_id', 'vector_tweet']]"
   ]
  },
  {
   "cell_type": "code",
   "execution_count": 4,
   "metadata": {},
   "outputs": [
    {
     "name": "stdout",
     "output_type": "stream",
     "text": [
      "Index(['user_id', 'user_name', 'name', 'description', 'url', 'created_at',\n",
      "       'geo_enabled', 'verified', 'profile_image_url',\n",
      "       'profile_image_url_large', 'followers_count', 'friends_count',\n",
      "       'listed_count', 'favourites_count', 'statuses_count', 'media_count',\n",
      "       'pinned_tweet', 'tweets_scraped', 'tweets_scraped_at', 'scrapped_at',\n",
      "       'ignore'],\n",
      "      dtype='object')\n"
     ]
    },
    {
     "data": {
      "text/html": [
       "<div>\n",
       "<style scoped>\n",
       "    .dataframe tbody tr th:only-of-type {\n",
       "        vertical-align: middle;\n",
       "    }\n",
       "\n",
       "    .dataframe tbody tr th {\n",
       "        vertical-align: top;\n",
       "    }\n",
       "\n",
       "    .dataframe thead th {\n",
       "        text-align: right;\n",
       "    }\n",
       "</style>\n",
       "<table border=\"1\" class=\"dataframe\">\n",
       "  <thead>\n",
       "    <tr style=\"text-align: right;\">\n",
       "      <th></th>\n",
       "      <th>user_id</th>\n",
       "      <th>user_name</th>\n",
       "      <th>name</th>\n",
       "      <th>description</th>\n",
       "      <th>url</th>\n",
       "      <th>created_at</th>\n",
       "      <th>geo_enabled</th>\n",
       "      <th>verified</th>\n",
       "      <th>profile_image_url</th>\n",
       "      <th>profile_image_url_large</th>\n",
       "      <th>...</th>\n",
       "      <th>friends_count</th>\n",
       "      <th>listed_count</th>\n",
       "      <th>favourites_count</th>\n",
       "      <th>statuses_count</th>\n",
       "      <th>media_count</th>\n",
       "      <th>pinned_tweet</th>\n",
       "      <th>tweets_scraped</th>\n",
       "      <th>tweets_scraped_at</th>\n",
       "      <th>scrapped_at</th>\n",
       "      <th>ignore</th>\n",
       "    </tr>\n",
       "  </thead>\n",
       "  <tbody>\n",
       "    <tr>\n",
       "      <th>1000012910</th>\n",
       "      <td>1000012910</td>\n",
       "      <td>ElibeGoy</td>\n",
       "      <td>EliLorenzen</td>\n",
       "      <td>Se dicen Argentinos, pero lo unico que quieren...</td>\n",
       "      <td>NaN</td>\n",
       "      <td>2012-12-09 19:43:03.0</td>\n",
       "      <td>1</td>\n",
       "      <td>0</td>\n",
       "      <td>https://pbs.twimg.com/profile_images/295368622...</td>\n",
       "      <td>https://pbs.twimg.com/profile_images/295368622...</td>\n",
       "      <td>...</td>\n",
       "      <td>1015</td>\n",
       "      <td>11</td>\n",
       "      <td>119347</td>\n",
       "      <td>150497</td>\n",
       "      <td>1239</td>\n",
       "      <td>NaN</td>\n",
       "      <td>0</td>\n",
       "      <td>NaN</td>\n",
       "      <td>2020-07-28 17:33:45.0</td>\n",
       "      <td>0</td>\n",
       "    </tr>\n",
       "    <tr>\n",
       "      <th>1000016694310522880</th>\n",
       "      <td>1000016694310522880</td>\n",
       "      <td>ampirubio_</td>\n",
       "      <td>𝒜𝓂𝓅𝒶𝓇𝑜 🦋</td>\n",
       "      <td>17 años // siempre con las pibas♀️LAE ~ Arriba...</td>\n",
       "      <td>https://t.co/ET6On7tWRN</td>\n",
       "      <td>2018-05-25 14:12:14.0</td>\n",
       "      <td>0</td>\n",
       "      <td>0</td>\n",
       "      <td>https://pbs.twimg.com/profile_images/128064563...</td>\n",
       "      <td>https://pbs.twimg.com/profile_images/128064563...</td>\n",
       "      <td>...</td>\n",
       "      <td>714</td>\n",
       "      <td>2</td>\n",
       "      <td>46794</td>\n",
       "      <td>37603</td>\n",
       "      <td>65</td>\n",
       "      <td>1.210915e+18</td>\n",
       "      <td>0</td>\n",
       "      <td>NaN</td>\n",
       "      <td>2020-07-28 03:58:39.0</td>\n",
       "      <td>0</td>\n",
       "    </tr>\n",
       "    <tr>\n",
       "      <th>1000050140</th>\n",
       "      <td>1000050140</td>\n",
       "      <td>Petey_57</td>\n",
       "      <td>Salvador#tropak</td>\n",
       "      <td>Radical alfonsinista, Un día sin darme cuenta ...</td>\n",
       "      <td>NaN</td>\n",
       "      <td>2012-12-09 20:01:59.0</td>\n",
       "      <td>1</td>\n",
       "      <td>0</td>\n",
       "      <td>https://pbs.twimg.com/profile_images/415566131...</td>\n",
       "      <td>https://pbs.twimg.com/profile_images/415566131...</td>\n",
       "      <td>...</td>\n",
       "      <td>2817</td>\n",
       "      <td>0</td>\n",
       "      <td>37429</td>\n",
       "      <td>15079</td>\n",
       "      <td>5530</td>\n",
       "      <td>1.116528e+18</td>\n",
       "      <td>0</td>\n",
       "      <td>NaN</td>\n",
       "      <td>2020-07-28 03:48:15.0</td>\n",
       "      <td>0</td>\n",
       "    </tr>\n",
       "  </tbody>\n",
       "</table>\n",
       "<p>3 rows × 21 columns</p>\n",
       "</div>"
      ],
      "text/plain": [
       "                                 user_id   user_name             name  \\\n",
       "1000012910                    1000012910    ElibeGoy      EliLorenzen   \n",
       "1000016694310522880  1000016694310522880  ampirubio_         𝒜𝓂𝓅𝒶𝓇𝑜 🦋   \n",
       "1000050140                    1000050140    Petey_57  Salvador#tropak   \n",
       "\n",
       "                                                           description  \\\n",
       "1000012910           Se dicen Argentinos, pero lo unico que quieren...   \n",
       "1000016694310522880  17 años // siempre con las pibas♀️LAE ~ Arriba...   \n",
       "1000050140           Radical alfonsinista, Un día sin darme cuenta ...   \n",
       "\n",
       "                                         url             created_at  \\\n",
       "1000012910                               NaN  2012-12-09 19:43:03.0   \n",
       "1000016694310522880  https://t.co/ET6On7tWRN  2018-05-25 14:12:14.0   \n",
       "1000050140                               NaN  2012-12-09 20:01:59.0   \n",
       "\n",
       "                     geo_enabled  verified  \\\n",
       "1000012910                     1         0   \n",
       "1000016694310522880            0         0   \n",
       "1000050140                     1         0   \n",
       "\n",
       "                                                     profile_image_url  \\\n",
       "1000012910           https://pbs.twimg.com/profile_images/295368622...   \n",
       "1000016694310522880  https://pbs.twimg.com/profile_images/128064563...   \n",
       "1000050140           https://pbs.twimg.com/profile_images/415566131...   \n",
       "\n",
       "                                               profile_image_url_large  ...    \\\n",
       "1000012910           https://pbs.twimg.com/profile_images/295368622...  ...     \n",
       "1000016694310522880  https://pbs.twimg.com/profile_images/128064563...  ...     \n",
       "1000050140           https://pbs.twimg.com/profile_images/415566131...  ...     \n",
       "\n",
       "                     friends_count  listed_count  favourites_count  \\\n",
       "1000012910                    1015            11            119347   \n",
       "1000016694310522880            714             2             46794   \n",
       "1000050140                    2817             0             37429   \n",
       "\n",
       "                     statuses_count  media_count  pinned_tweet  \\\n",
       "1000012910                   150497         1239           NaN   \n",
       "1000016694310522880           37603           65  1.210915e+18   \n",
       "1000050140                    15079         5530  1.116528e+18   \n",
       "\n",
       "                     tweets_scraped  tweets_scraped_at            scrapped_at  \\\n",
       "1000012910                        0                NaN  2020-07-28 17:33:45.0   \n",
       "1000016694310522880               0                NaN  2020-07-28 03:58:39.0   \n",
       "1000050140                        0                NaN  2020-07-28 03:48:15.0   \n",
       "\n",
       "                    ignore  \n",
       "1000012910               0  \n",
       "1000016694310522880      0  \n",
       "1000050140               0  \n",
       "\n",
       "[3 rows x 21 columns]"
      ]
     },
     "execution_count": 4,
     "metadata": {},
     "output_type": "execute_result"
    }
   ],
   "source": [
    "users = pd.read_csv('../datasets/users_202008032307.csv')\n",
    "users.index = users.user_id.values\n",
    "print(users.columns)\n",
    "users.head(3)"
   ]
  },
  {
   "cell_type": "code",
   "execution_count": 29,
   "metadata": {},
   "outputs": [
    {
     "data": {
      "text/plain": [
       "(100,)"
      ]
     },
     "execution_count": 29,
     "metadata": {},
     "output_type": "execute_result"
    }
   ],
   "source": [
    "model_u.get_vector(df_tweets.vector_tweet.values[:10]).shape"
   ]
  },
  {
   "cell_type": "code",
   "execution_count": 6,
   "metadata": {},
   "outputs": [
    {
     "data": {
      "text/plain": [
       "120065"
      ]
     },
     "execution_count": 6,
     "metadata": {},
     "output_type": "execute_result"
    }
   ],
   "source": [
    "len(users)"
   ]
  },
  {
   "cell_type": "code",
   "execution_count": 23,
   "metadata": {},
   "outputs": [
    {
     "data": {
      "text/plain": [
       "86009"
      ]
     },
     "execution_count": 23,
     "metadata": {},
     "output_type": "execute_result"
    }
   ],
   "source": [
    "len(users[users.user_id.isin(df_tweets.user_id)]) # solo usuarios que tengamos tweets"
   ]
  },
  {
   "cell_type": "code",
   "execution_count": 25,
   "metadata": {},
   "outputs": [],
   "source": [
    "users = users[users.user_id.isin(df_tweets.user_id)]"
   ]
  },
  {
   "cell_type": "code",
   "execution_count": 40,
   "metadata": {},
   "outputs": [
    {
     "data": {
      "text/plain": [
       "(100,)"
      ]
     },
     "execution_count": 40,
     "metadata": {},
     "output_type": "execute_result"
    }
   ],
   "source": [
    "def get_vectors_user(uid):\n",
    "    tweets_from_user = df_tweets[df_tweets.user_id==uid].vector_tweet.values\n",
    "    return model_u.get_vector(tweets_from_user, 50) #max 500 tweets\n",
    "\n",
    "get_vectors_user(149991703).shape"
   ]
  },
  {
   "cell_type": "code",
   "execution_count": 41,
   "metadata": {},
   "outputs": [],
   "source": [
    "users_vectors = users.user_id.apply( lambda uid: get_vectors_user(uid))"
   ]
  },
  {
   "cell_type": "code",
   "execution_count": 42,
   "metadata": {},
   "outputs": [
    {
     "data": {
      "text/plain": [
       "1000012910             [0.46599352, -1.0871716, -0.33004016, -0.84107...\n",
       "1000016694310522880    [-0.025936568, 0.15234873, -0.66376126, -0.618...\n",
       "1000050140             [-0.1915166, -0.87641656, -0.09021445, -0.8930...\n",
       "1000052612186722304    [0.6845059, -0.1743484, -0.36514416, -0.698532...\n",
       "100006904              [-0.19243807, -0.94704485, -0.8511393, 0.55519...\n",
       "Name: user_id, dtype: object"
      ]
     },
     "execution_count": 42,
     "metadata": {},
     "output_type": "execute_result"
    }
   ],
   "source": [
    "users_vectors.head()"
   ]
  },
  {
   "cell_type": "code",
   "execution_count": 43,
   "metadata": {},
   "outputs": [],
   "source": [
    "users_count_tw = users.user_id.apply(lambda uid: len(df_tweets[df_tweets.user_id==uid]))"
   ]
  },
  {
   "cell_type": "code",
   "execution_count": 44,
   "metadata": {},
   "outputs": [],
   "source": [
    "users_v = users.copy()\n",
    "users_v.loc[:,'vector_user'] = users_vectors\n",
    "users_v.loc[:,'n_tweets'] = users_count_tw"
   ]
  },
  {
   "cell_type": "code",
   "execution_count": 45,
   "metadata": {},
   "outputs": [
    {
     "data": {
      "text/html": [
       "<div>\n",
       "<style scoped>\n",
       "    .dataframe tbody tr th:only-of-type {\n",
       "        vertical-align: middle;\n",
       "    }\n",
       "\n",
       "    .dataframe tbody tr th {\n",
       "        vertical-align: top;\n",
       "    }\n",
       "\n",
       "    .dataframe thead th {\n",
       "        text-align: right;\n",
       "    }\n",
       "</style>\n",
       "<table border=\"1\" class=\"dataframe\">\n",
       "  <thead>\n",
       "    <tr style=\"text-align: right;\">\n",
       "      <th></th>\n",
       "      <th>user_id</th>\n",
       "      <th>user_name</th>\n",
       "      <th>name</th>\n",
       "      <th>description</th>\n",
       "      <th>url</th>\n",
       "      <th>created_at</th>\n",
       "      <th>geo_enabled</th>\n",
       "      <th>verified</th>\n",
       "      <th>profile_image_url</th>\n",
       "      <th>profile_image_url_large</th>\n",
       "      <th>...</th>\n",
       "      <th>favourites_count</th>\n",
       "      <th>statuses_count</th>\n",
       "      <th>media_count</th>\n",
       "      <th>pinned_tweet</th>\n",
       "      <th>tweets_scraped</th>\n",
       "      <th>tweets_scraped_at</th>\n",
       "      <th>scrapped_at</th>\n",
       "      <th>ignore</th>\n",
       "      <th>vector_user</th>\n",
       "      <th>n_tweets</th>\n",
       "    </tr>\n",
       "  </thead>\n",
       "  <tbody>\n",
       "    <tr>\n",
       "      <th>1000012910</th>\n",
       "      <td>1000012910</td>\n",
       "      <td>ElibeGoy</td>\n",
       "      <td>EliLorenzen</td>\n",
       "      <td>Se dicen Argentinos, pero lo unico que quieren...</td>\n",
       "      <td>NaN</td>\n",
       "      <td>2012-12-09 19:43:03.0</td>\n",
       "      <td>1</td>\n",
       "      <td>0</td>\n",
       "      <td>https://pbs.twimg.com/profile_images/295368622...</td>\n",
       "      <td>https://pbs.twimg.com/profile_images/295368622...</td>\n",
       "      <td>...</td>\n",
       "      <td>119347</td>\n",
       "      <td>150497</td>\n",
       "      <td>1239</td>\n",
       "      <td>NaN</td>\n",
       "      <td>0</td>\n",
       "      <td>NaN</td>\n",
       "      <td>2020-07-28 17:33:45.0</td>\n",
       "      <td>0</td>\n",
       "      <td>[0.46599352, -1.0871716, -0.33004016, -0.84107...</td>\n",
       "      <td>1</td>\n",
       "    </tr>\n",
       "    <tr>\n",
       "      <th>1000016694310522880</th>\n",
       "      <td>1000016694310522880</td>\n",
       "      <td>ampirubio_</td>\n",
       "      <td>𝒜𝓂𝓅𝒶𝓇𝑜 🦋</td>\n",
       "      <td>17 años // siempre con las pibas♀️LAE ~ Arriba...</td>\n",
       "      <td>https://t.co/ET6On7tWRN</td>\n",
       "      <td>2018-05-25 14:12:14.0</td>\n",
       "      <td>0</td>\n",
       "      <td>0</td>\n",
       "      <td>https://pbs.twimg.com/profile_images/128064563...</td>\n",
       "      <td>https://pbs.twimg.com/profile_images/128064563...</td>\n",
       "      <td>...</td>\n",
       "      <td>46794</td>\n",
       "      <td>37603</td>\n",
       "      <td>65</td>\n",
       "      <td>1.210915e+18</td>\n",
       "      <td>0</td>\n",
       "      <td>NaN</td>\n",
       "      <td>2020-07-28 03:58:39.0</td>\n",
       "      <td>0</td>\n",
       "      <td>[-0.025936568, 0.15234873, -0.66376126, -0.618...</td>\n",
       "      <td>4</td>\n",
       "    </tr>\n",
       "    <tr>\n",
       "      <th>1000050140</th>\n",
       "      <td>1000050140</td>\n",
       "      <td>Petey_57</td>\n",
       "      <td>Salvador#tropak</td>\n",
       "      <td>Radical alfonsinista, Un día sin darme cuenta ...</td>\n",
       "      <td>NaN</td>\n",
       "      <td>2012-12-09 20:01:59.0</td>\n",
       "      <td>1</td>\n",
       "      <td>0</td>\n",
       "      <td>https://pbs.twimg.com/profile_images/415566131...</td>\n",
       "      <td>https://pbs.twimg.com/profile_images/415566131...</td>\n",
       "      <td>...</td>\n",
       "      <td>37429</td>\n",
       "      <td>15079</td>\n",
       "      <td>5530</td>\n",
       "      <td>1.116528e+18</td>\n",
       "      <td>0</td>\n",
       "      <td>NaN</td>\n",
       "      <td>2020-07-28 03:48:15.0</td>\n",
       "      <td>0</td>\n",
       "      <td>[-0.1915166, -0.87641656, -0.09021445, -0.8930...</td>\n",
       "      <td>1</td>\n",
       "    </tr>\n",
       "    <tr>\n",
       "      <th>1000052612186722304</th>\n",
       "      <td>1000052612186722304</td>\n",
       "      <td>LibPeronistas</td>\n",
       "      <td>Libros Peronistas</td>\n",
       "      <td>Libros escolares publicados durante la segunda...</td>\n",
       "      <td>https://t.co/lV1PZq2LPy</td>\n",
       "      <td>2018-05-25 16:34:57.0</td>\n",
       "      <td>0</td>\n",
       "      <td>0</td>\n",
       "      <td>https://pbs.twimg.com/profile_images/100072396...</td>\n",
       "      <td>https://pbs.twimg.com/profile_images/100072396...</td>\n",
       "      <td>...</td>\n",
       "      <td>1166</td>\n",
       "      <td>1058</td>\n",
       "      <td>245</td>\n",
       "      <td>NaN</td>\n",
       "      <td>0</td>\n",
       "      <td>NaN</td>\n",
       "      <td>2020-07-28 17:20:46.0</td>\n",
       "      <td>0</td>\n",
       "      <td>[0.6845059, -0.1743484, -0.36514416, -0.698532...</td>\n",
       "      <td>1</td>\n",
       "    </tr>\n",
       "    <tr>\n",
       "      <th>100006904</th>\n",
       "      <td>100006904</td>\n",
       "      <td>AlexLopezMaya</td>\n",
       "      <td>Alexander López Maya</td>\n",
       "      <td>Senador del @PoloDemocratico (2018 – 2022). Lu...</td>\n",
       "      <td>https://t.co/nOPgRO6USA</td>\n",
       "      <td>2009-12-28 17:51:59.0</td>\n",
       "      <td>1</td>\n",
       "      <td>1</td>\n",
       "      <td>https://pbs.twimg.com/profile_images/118880768...</td>\n",
       "      <td>https://pbs.twimg.com/profile_images/118880768...</td>\n",
       "      <td>...</td>\n",
       "      <td>2799</td>\n",
       "      <td>24436</td>\n",
       "      <td>2452</td>\n",
       "      <td>1.241343e+18</td>\n",
       "      <td>0</td>\n",
       "      <td>NaN</td>\n",
       "      <td>2020-07-28 05:41:21.0</td>\n",
       "      <td>0</td>\n",
       "      <td>[-0.19243807, -0.94704485, -0.8511393, 0.55519...</td>\n",
       "      <td>2</td>\n",
       "    </tr>\n",
       "  </tbody>\n",
       "</table>\n",
       "<p>5 rows × 23 columns</p>\n",
       "</div>"
      ],
      "text/plain": [
       "                                 user_id      user_name                  name  \\\n",
       "1000012910                    1000012910       ElibeGoy           EliLorenzen   \n",
       "1000016694310522880  1000016694310522880     ampirubio_              𝒜𝓂𝓅𝒶𝓇𝑜 🦋   \n",
       "1000050140                    1000050140       Petey_57       Salvador#tropak   \n",
       "1000052612186722304  1000052612186722304  LibPeronistas     Libros Peronistas   \n",
       "100006904                      100006904  AlexLopezMaya  Alexander López Maya   \n",
       "\n",
       "                                                           description  \\\n",
       "1000012910           Se dicen Argentinos, pero lo unico que quieren...   \n",
       "1000016694310522880  17 años // siempre con las pibas♀️LAE ~ Arriba...   \n",
       "1000050140           Radical alfonsinista, Un día sin darme cuenta ...   \n",
       "1000052612186722304  Libros escolares publicados durante la segunda...   \n",
       "100006904            Senador del @PoloDemocratico (2018 – 2022). Lu...   \n",
       "\n",
       "                                         url             created_at  \\\n",
       "1000012910                               NaN  2012-12-09 19:43:03.0   \n",
       "1000016694310522880  https://t.co/ET6On7tWRN  2018-05-25 14:12:14.0   \n",
       "1000050140                               NaN  2012-12-09 20:01:59.0   \n",
       "1000052612186722304  https://t.co/lV1PZq2LPy  2018-05-25 16:34:57.0   \n",
       "100006904            https://t.co/nOPgRO6USA  2009-12-28 17:51:59.0   \n",
       "\n",
       "                     geo_enabled  verified  \\\n",
       "1000012910                     1         0   \n",
       "1000016694310522880            0         0   \n",
       "1000050140                     1         0   \n",
       "1000052612186722304            0         0   \n",
       "100006904                      1         1   \n",
       "\n",
       "                                                     profile_image_url  \\\n",
       "1000012910           https://pbs.twimg.com/profile_images/295368622...   \n",
       "1000016694310522880  https://pbs.twimg.com/profile_images/128064563...   \n",
       "1000050140           https://pbs.twimg.com/profile_images/415566131...   \n",
       "1000052612186722304  https://pbs.twimg.com/profile_images/100072396...   \n",
       "100006904            https://pbs.twimg.com/profile_images/118880768...   \n",
       "\n",
       "                                               profile_image_url_large  \\\n",
       "1000012910           https://pbs.twimg.com/profile_images/295368622...   \n",
       "1000016694310522880  https://pbs.twimg.com/profile_images/128064563...   \n",
       "1000050140           https://pbs.twimg.com/profile_images/415566131...   \n",
       "1000052612186722304  https://pbs.twimg.com/profile_images/100072396...   \n",
       "100006904            https://pbs.twimg.com/profile_images/118880768...   \n",
       "\n",
       "                      ...     favourites_count  statuses_count  media_count  \\\n",
       "1000012910            ...               119347          150497         1239   \n",
       "1000016694310522880   ...                46794           37603           65   \n",
       "1000050140            ...                37429           15079         5530   \n",
       "1000052612186722304   ...                 1166            1058          245   \n",
       "100006904             ...                 2799           24436         2452   \n",
       "\n",
       "                     pinned_tweet  tweets_scraped  tweets_scraped_at  \\\n",
       "1000012910                    NaN               0                NaN   \n",
       "1000016694310522880  1.210915e+18               0                NaN   \n",
       "1000050140           1.116528e+18               0                NaN   \n",
       "1000052612186722304           NaN               0                NaN   \n",
       "100006904            1.241343e+18               0                NaN   \n",
       "\n",
       "                               scrapped_at  ignore  \\\n",
       "1000012910           2020-07-28 17:33:45.0       0   \n",
       "1000016694310522880  2020-07-28 03:58:39.0       0   \n",
       "1000050140           2020-07-28 03:48:15.0       0   \n",
       "1000052612186722304  2020-07-28 17:20:46.0       0   \n",
       "100006904            2020-07-28 05:41:21.0       0   \n",
       "\n",
       "                                                           vector_user  \\\n",
       "1000012910           [0.46599352, -1.0871716, -0.33004016, -0.84107...   \n",
       "1000016694310522880  [-0.025936568, 0.15234873, -0.66376126, -0.618...   \n",
       "1000050140           [-0.1915166, -0.87641656, -0.09021445, -0.8930...   \n",
       "1000052612186722304  [0.6845059, -0.1743484, -0.36514416, -0.698532...   \n",
       "100006904            [-0.19243807, -0.94704485, -0.8511393, 0.55519...   \n",
       "\n",
       "                    n_tweets  \n",
       "1000012910                 1  \n",
       "1000016694310522880        4  \n",
       "1000050140                 1  \n",
       "1000052612186722304        1  \n",
       "100006904                  2  \n",
       "\n",
       "[5 rows x 23 columns]"
      ]
     },
     "execution_count": 45,
     "metadata": {},
     "output_type": "execute_result"
    }
   ],
   "source": [
    "users_v.head()"
   ]
  },
  {
   "cell_type": "code",
   "execution_count": 46,
   "metadata": {},
   "outputs": [],
   "source": [
    "users_v.to_pickle('../datasets/users_vectores.pkl')"
   ]
  }
 ],
 "metadata": {
  "kernelspec": {
   "display_name": "Python 3",
   "language": "python",
   "name": "python3"
  },
  "language_info": {
   "codemirror_mode": {
    "name": "ipython",
    "version": 3
   },
   "file_extension": ".py",
   "mimetype": "text/x-python",
   "name": "python",
   "nbconvert_exporter": "python",
   "pygments_lexer": "ipython3",
   "version": "3.7.1"
  }
 },
 "nbformat": 4,
 "nbformat_minor": 2
}
