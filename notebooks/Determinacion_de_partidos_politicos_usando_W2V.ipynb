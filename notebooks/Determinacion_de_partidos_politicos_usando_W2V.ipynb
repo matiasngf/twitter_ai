{
  "nbformat": 4,
  "nbformat_minor": 0,
  "metadata": {
    "colab": {
      "name": "Determinacion de partidos politicos usando W2V.ipynb",
      "provenance": [],
      "collapsed_sections": []
    },
    "kernelspec": {
      "name": "python3",
      "display_name": "Python 3"
    }
  },
  "cells": [
    {
      "cell_type": "markdown",
      "metadata": {
        "id": "ijkTDkEeorW3",
        "colab_type": "text"
      },
      "source": [
        "Importando Librerias"
      ]
    },
    {
      "cell_type": "code",
      "metadata": {
        "id": "AY94kjIwov1j",
        "colab_type": "code",
        "colab": {
          "base_uri": "https://localhost:8080/",
          "height": 34
        },
        "outputId": "d4814d9d-8b31-4ecf-a4ac-54c75d292b17"
      },
      "source": [
        "!pip install Unidecode"
      ],
      "execution_count": 1,
      "outputs": [
        {
          "output_type": "stream",
          "text": [
            "Requirement already satisfied: Unidecode in /usr/local/lib/python3.6/dist-packages (1.1.1)\n"
          ],
          "name": "stdout"
        }
      ]
    },
    {
      "cell_type": "code",
      "metadata": {
        "id": "RXXh6Gs4owkH",
        "colab_type": "code",
        "colab": {}
      },
      "source": [
        "from gensim.models import Word2Vec, KeyedVectors\n",
        "import pandas as pd\n",
        "import numpy as np\n",
        "import re\n",
        "import warnings  \n",
        "import unidecode\n",
        "\n",
        "warnings.filterwarnings(action='ignore',category=UserWarning,module='gensim')  \n",
        "warnings.filterwarnings(action='ignore',category=FutureWarning,module='gensim') "
      ],
      "execution_count": 2,
      "outputs": []
    },
    {
      "cell_type": "code",
      "metadata": {
        "id": "_3uCMIUyo-OW",
        "colab_type": "code",
        "colab": {
          "base_uri": "https://localhost:8080/",
          "height": 51
        },
        "outputId": "a8729cea-7516-4f01-a45d-ac0d7cb0f326"
      },
      "source": [
        "# Montamos el Google Drive para acceder facilmente a los archivos que necesitamos\n",
        "%cd ..\n",
        "from google.colab import drive\n",
        "drive.mount('/content/gdrive')"
      ],
      "execution_count": 4,
      "outputs": [
        {
          "output_type": "stream",
          "text": [
            "/\n",
            "Drive already mounted at /content/gdrive; to attempt to forcibly remount, call drive.mount(\"/content/gdrive\", force_remount=True).\n"
          ],
          "name": "stdout"
        }
      ]
    },
    {
      "cell_type": "markdown",
      "metadata": {
        "id": "jwXlvuyuuMY9",
        "colab_type": "text"
      },
      "source": [
        "Cargando Dataset de tweets"
      ]
    },
    {
      "cell_type": "code",
      "metadata": {
        "id": "9pPHJ9muqlMf",
        "colab_type": "code",
        "colab": {}
      },
      "source": [
        "Tweets = pd.read_pickle('/content/gdrive/My Drive/Dataset/Proyecto final DH/Data_tweet/PKL/tweets_cleaned.pkl')"
      ],
      "execution_count": 5,
      "outputs": []
    },
    {
      "cell_type": "code",
      "metadata": {
        "id": "ixnqv4dBrnSg",
        "colab_type": "code",
        "colab": {}
      },
      "source": [
        "Tweets = Tweets[(Tweets.lang=='es')&(Tweets.favorite_count>1)]"
      ],
      "execution_count": 6,
      "outputs": []
    },
    {
      "cell_type": "code",
      "metadata": {
        "id": "-x2vwbFYpoIq",
        "colab_type": "code",
        "colab": {
          "base_uri": "https://localhost:8080/",
          "height": 34
        },
        "outputId": "f29e81fe-ab9e-4ae0-9b33-9588da7e5252"
      },
      "source": [
        "Tweets.head(2)\n",
        "print(Tweets.shape)"
      ],
      "execution_count": 7,
      "outputs": [
        {
          "output_type": "stream",
          "text": [
            "(1118383, 23)\n"
          ],
          "name": "stdout"
        }
      ]
    },
    {
      "cell_type": "markdown",
      "metadata": {
        "id": "z4VVC9VIuRIq",
        "colab_type": "text"
      },
      "source": [
        "Caragando Dataset de Partidos politicos por usuarios"
      ]
    },
    {
      "cell_type": "code",
      "metadata": {
        "id": "IXZU6InBl-Ek",
        "colab_type": "code",
        "colab": {}
      },
      "source": [
        "Usuarios_partidos=pd.read_csv('/content/gdrive/My Drive/Dataset/Proyecto final DH/Data_tweet/PKL/Copia de User_Partido.csv')"
      ],
      "execution_count": 8,
      "outputs": []
    },
    {
      "cell_type": "code",
      "metadata": {
        "id": "G0HK6G5RoFxI",
        "colab_type": "code",
        "colab": {
          "base_uri": "https://localhost:8080/",
          "height": 102
        },
        "outputId": "372f0547-d259-4954-ab3c-f9eb71bb6745"
      },
      "source": [
        "Usuarios_partidos.isnull().sum()"
      ],
      "execution_count": 9,
      "outputs": [
        {
          "output_type": "execute_result",
          "data": {
            "text/plain": [
              "u.user_id                0\n",
              "u.user_name              0\n",
              "u.partido                0\n",
              "u.partido_original    3685\n",
              "dtype: int64"
            ]
          },
          "metadata": {
            "tags": []
          },
          "execution_count": 9
        }
      ]
    },
    {
      "cell_type": "code",
      "metadata": {
        "id": "2wEwgaHIoxQt",
        "colab_type": "code",
        "colab": {}
      },
      "source": [
        "Usuarios_partidos=Usuarios_partidos[['u.user_id','u.partido']]"
      ],
      "execution_count": 10,
      "outputs": []
    },
    {
      "cell_type": "code",
      "metadata": {
        "id": "1S00-VUXoxde",
        "colab_type": "code",
        "colab": {
          "base_uri": "https://localhost:8080/",
          "height": 68
        },
        "outputId": "b8c40861-f201-4e60-a111-f62ded9ab912"
      },
      "source": [
        "Usuarios_partidos=Usuarios_partidos.rename(columns={'u.user_id':'user_id','u.partido':'Partido'})\n",
        "print(Usuarios_partidos.head(2))"
      ],
      "execution_count": 11,
      "outputs": [
        {
          "output_type": "stream",
          "text": [
            "               user_id          Partido\n",
            "0            100014747  FRENTE DE TODOS\n",
            "1  1000385229641670656  FRENTE DE TODOS\n"
          ],
          "name": "stdout"
        }
      ]
    },
    {
      "cell_type": "markdown",
      "metadata": {
        "id": "tOxHV2kDuZAu",
        "colab_type": "text"
      },
      "source": [
        "Cargando Dataset de usuarios de Tweeter"
      ]
    },
    {
      "cell_type": "code",
      "metadata": {
        "id": "keCUBQm7ulhC",
        "colab_type": "code",
        "colab": {}
      },
      "source": [
        "Usuarios=pd.read_csv('/content/gdrive/My Drive/Dataset/Proyecto final DH/ users_202008032307.csv')"
      ],
      "execution_count": 12,
      "outputs": []
    },
    {
      "cell_type": "code",
      "metadata": {
        "id": "kUw7wCEQulem",
        "colab_type": "code",
        "colab": {}
      },
      "source": [
        "df_merged = pd.merge(Tweets, Usuarios, on='user_id', how='outer')"
      ],
      "execution_count": 13,
      "outputs": []
    },
    {
      "cell_type": "code",
      "metadata": {
        "id": "awwgViZtulcD",
        "colab_type": "code",
        "colab": {
          "base_uri": "https://localhost:8080/",
          "height": 34
        },
        "outputId": "9b480b77-01ec-4433-e052-9290a643f68f"
      },
      "source": [
        "df_merged.shape"
      ],
      "execution_count": 14,
      "outputs": [
        {
          "output_type": "execute_result",
          "data": {
            "text/plain": [
              "(1152436, 43)"
            ]
          },
          "metadata": {
            "tags": []
          },
          "execution_count": 14
        }
      ]
    },
    {
      "cell_type": "code",
      "metadata": {
        "id": "NWaF6DTFulZd",
        "colab_type": "code",
        "colab": {}
      },
      "source": [
        "df=pd.merge(df_merged, Usuarios_partidos, on='user_id', how='inner')"
      ],
      "execution_count": 15,
      "outputs": []
    },
    {
      "cell_type": "code",
      "metadata": {
        "id": "UoF4fBsrulXE",
        "colab_type": "code",
        "colab": {
          "base_uri": "https://localhost:8080/",
          "height": 34
        },
        "outputId": "a51b9318-21e0-4b2d-b910-1625d1d8de8d"
      },
      "source": [
        "df.shape"
      ],
      "execution_count": 16,
      "outputs": [
        {
          "output_type": "execute_result",
          "data": {
            "text/plain": [
              "(597778, 44)"
            ]
          },
          "metadata": {
            "tags": []
          },
          "execution_count": 16
        }
      ]
    },
    {
      "cell_type": "code",
      "metadata": {
        "id": "5QtUXjpRulUs",
        "colab_type": "code",
        "colab": {
          "base_uri": "https://localhost:8080/",
          "height": 765
        },
        "outputId": "1166cfdb-1b51-4c85-d021-20449bc2549e"
      },
      "source": [
        "for i in df.columns:\n",
        "    print(\"La columna\",i, \"tiene\",round((df[i].isnull().sum()*100)/len(df[i]),3),\"% de valores nulos\")"
      ],
      "execution_count": 17,
      "outputs": [
        {
          "output_type": "stream",
          "text": [
            "La columna tweet_id tiene 0.005 % de valores nulos\n",
            "La columna conversation_id tiene 0.005 % de valores nulos\n",
            "La columna user_id tiene 0.0 % de valores nulos\n",
            "La columna created_at_x tiene 0.005 % de valores nulos\n",
            "La columna lang tiene 0.005 % de valores nulos\n",
            "La columna retweet_count tiene 0.005 % de valores nulos\n",
            "La columna favorite_count tiene 0.005 % de valores nulos\n",
            "La columna reply_count tiene 0.005 % de valores nulos\n",
            "La columna quote_count tiene 0.005 % de valores nulos\n",
            "La columna is_reply tiene 0.005 % de valores nulos\n",
            "La columna replied_id tiene 84.843 % de valores nulos\n",
            "La columna replied_user_id tiene 84.843 % de valores nulos\n",
            "La columna is_quote tiene 0.005 % de valores nulos\n",
            "La columna quoted_id tiene 89.149 % de valores nulos\n",
            "La columna full_text tiene 0.005 % de valores nulos\n",
            "La columna source tiene 0.005 % de valores nulos\n",
            "La columna scrapped_at_x tiene 0.005 % de valores nulos\n",
            "La columna user_mentions_count tiene 0.005 % de valores nulos\n",
            "La columna hashtags_count tiene 0.005 % de valores nulos\n",
            "La columna urls_count tiene 0.005 % de valores nulos\n",
            "La columna media_count_x tiene 0.005 % de valores nulos\n",
            "La columna replied_original tiene 84.843 % de valores nulos\n",
            "La columna full_text_cleaned tiene 0.005 % de valores nulos\n",
            "La columna user_name tiene 0.0 % de valores nulos\n",
            "La columna name tiene 0.0 % de valores nulos\n",
            "La columna description tiene 2.591 % de valores nulos\n",
            "La columna url tiene 33.843 % de valores nulos\n",
            "La columna created_at_y tiene 0.0 % de valores nulos\n",
            "La columna geo_enabled tiene 0.0 % de valores nulos\n",
            "La columna verified tiene 0.0 % de valores nulos\n",
            "La columna profile_image_url tiene 0.0 % de valores nulos\n",
            "La columna profile_image_url_large tiene 0.0 % de valores nulos\n",
            "La columna followers_count tiene 0.0 % de valores nulos\n",
            "La columna friends_count tiene 0.0 % de valores nulos\n",
            "La columna listed_count tiene 0.0 % de valores nulos\n",
            "La columna favourites_count tiene 0.0 % de valores nulos\n",
            "La columna statuses_count tiene 0.0 % de valores nulos\n",
            "La columna media_count_y tiene 0.0 % de valores nulos\n",
            "La columna pinned_tweet tiene 57.854 % de valores nulos\n",
            "La columna tweets_scraped tiene 0.0 % de valores nulos\n",
            "La columna tweets_scraped_at tiene 0.228 % de valores nulos\n",
            "La columna scrapped_at_y tiene 0.0 % de valores nulos\n",
            "La columna ignore tiene 0.0 % de valores nulos\n",
            "La columna Partido tiene 0.0 % de valores nulos\n"
          ],
          "name": "stdout"
        }
      ]
    },
    {
      "cell_type": "code",
      "metadata": {
        "id": "ENp_gQ1eulSI",
        "colab_type": "code",
        "colab": {
          "base_uri": "https://localhost:8080/",
          "height": 34
        },
        "outputId": "350524ca-a9d8-4697-d082-82cbca22f54c"
      },
      "source": [
        "max_null=[]\n",
        "for i in df.columns:\n",
        "  if (df[i].isnull().sum()*100)/len(df[i]) >20:\n",
        "    max_null.append(i)\n",
        "print(max_null)"
      ],
      "execution_count": 18,
      "outputs": [
        {
          "output_type": "stream",
          "text": [
            "['replied_id', 'replied_user_id', 'quoted_id', 'replied_original', 'url', 'pinned_tweet']\n"
          ],
          "name": "stdout"
        }
      ]
    },
    {
      "cell_type": "code",
      "metadata": {
        "id": "YGDDFFp9ulOU",
        "colab_type": "code",
        "colab": {}
      },
      "source": [
        "df.drop(max_null,axis=1, inplace = True)"
      ],
      "execution_count": 19,
      "outputs": []
    },
    {
      "cell_type": "code",
      "metadata": {
        "id": "cpza-niPulK0",
        "colab_type": "code",
        "colab": {
          "base_uri": "https://localhost:8080/",
          "height": 204
        },
        "outputId": "7c0c3752-33c8-4978-d35d-b052c58c55e1"
      },
      "source": [
        "df.columns"
      ],
      "execution_count": 20,
      "outputs": [
        {
          "output_type": "execute_result",
          "data": {
            "text/plain": [
              "Index(['tweet_id', 'conversation_id', 'user_id', 'created_at_x', 'lang',\n",
              "       'retweet_count', 'favorite_count', 'reply_count', 'quote_count',\n",
              "       'is_reply', 'is_quote', 'full_text', 'source', 'scrapped_at_x',\n",
              "       'user_mentions_count', 'hashtags_count', 'urls_count', 'media_count_x',\n",
              "       'full_text_cleaned', 'user_name', 'name', 'description', 'created_at_y',\n",
              "       'geo_enabled', 'verified', 'profile_image_url',\n",
              "       'profile_image_url_large', 'followers_count', 'friends_count',\n",
              "       'listed_count', 'favourites_count', 'statuses_count', 'media_count_y',\n",
              "       'tweets_scraped', 'tweets_scraped_at', 'scrapped_at_y', 'ignore',\n",
              "       'Partido'],\n",
              "      dtype='object')"
            ]
          },
          "metadata": {
            "tags": []
          },
          "execution_count": 20
        }
      ]
    },
    {
      "cell_type": "code",
      "metadata": {
        "id": "0AIemt-ZulIZ",
        "colab_type": "code",
        "colab": {}
      },
      "source": [
        "df_final=df[['user_id','full_text_cleaned', 'user_name', 'name', 'description','Partido']]"
      ],
      "execution_count": 21,
      "outputs": []
    },
    {
      "cell_type": "code",
      "metadata": {
        "id": "OPqFbJN2zlXy",
        "colab_type": "code",
        "colab": {}
      },
      "source": [
        "df_final=df_final.dropna()"
      ],
      "execution_count": 22,
      "outputs": []
    },
    {
      "cell_type": "code",
      "metadata": {
        "id": "02pZJX4czlUx",
        "colab_type": "code",
        "colab": {
          "base_uri": "https://localhost:8080/",
          "height": 111
        },
        "outputId": "6a7b88f4-3c0e-4e19-c939-761bf5a1a7d0"
      },
      "source": [
        "df_final.head(2)"
      ],
      "execution_count": 23,
      "outputs": [
        {
          "output_type": "execute_result",
          "data": {
            "text/html": [
              "<div>\n",
              "<style scoped>\n",
              "    .dataframe tbody tr th:only-of-type {\n",
              "        vertical-align: middle;\n",
              "    }\n",
              "\n",
              "    .dataframe tbody tr th {\n",
              "        vertical-align: top;\n",
              "    }\n",
              "\n",
              "    .dataframe thead th {\n",
              "        text-align: right;\n",
              "    }\n",
              "</style>\n",
              "<table border=\"1\" class=\"dataframe\">\n",
              "  <thead>\n",
              "    <tr style=\"text-align: right;\">\n",
              "      <th></th>\n",
              "      <th>user_id</th>\n",
              "      <th>full_text_cleaned</th>\n",
              "      <th>user_name</th>\n",
              "      <th>name</th>\n",
              "      <th>description</th>\n",
              "      <th>Partido</th>\n",
              "    </tr>\n",
              "  </thead>\n",
              "  <tbody>\n",
              "    <tr>\n",
              "      <th>0</th>\n",
              "      <td>69668594</td>\n",
              "      <td>🇦 🇷 patria construimos juntos # felizdíadelapa...</td>\n",
              "      <td>LupeTagliaferri</td>\n",
              "      <td>Guadalupe Tagliaferri</td>\n",
              "      <td>Vehemente pero no necia. Vivo sin odio. Senado...</td>\n",
              "      <td>JUNTOS POR EL CAMBIO</td>\n",
              "    </tr>\n",
              "    <tr>\n",
              "      <th>1</th>\n",
              "      <td>69668594</td>\n",
              "      <td>día prevención violencia noviazgo sigamos desn...</td>\n",
              "      <td>LupeTagliaferri</td>\n",
              "      <td>Guadalupe Tagliaferri</td>\n",
              "      <td>Vehemente pero no necia. Vivo sin odio. Senado...</td>\n",
              "      <td>JUNTOS POR EL CAMBIO</td>\n",
              "    </tr>\n",
              "  </tbody>\n",
              "</table>\n",
              "</div>"
            ],
            "text/plain": [
              "    user_id  ...               Partido\n",
              "0  69668594  ...  JUNTOS POR EL CAMBIO\n",
              "1  69668594  ...  JUNTOS POR EL CAMBIO\n",
              "\n",
              "[2 rows x 6 columns]"
            ]
          },
          "metadata": {
            "tags": []
          },
          "execution_count": 23
        }
      ]
    },
    {
      "cell_type": "code",
      "metadata": {
        "id": "ETsDgM2QzlR9",
        "colab_type": "code",
        "colab": {}
      },
      "source": [
        "X=df_final[ 'description']\n",
        "y=df_final['Partido']"
      ],
      "execution_count": 208,
      "outputs": []
    },
    {
      "cell_type": "code",
      "metadata": {
        "id": "N30dkhlYzlO1",
        "colab_type": "code",
        "colab": {}
      },
      "source": [
        "from sklearn.preprocessing import LabelEncoder\n",
        "from sklearn.model_selection import train_test_split\n",
        "from keras.utils import to_categorical\n",
        "from keras.preprocessing import sequence\n",
        "import keras\n",
        "from keras.layers import Embedding, Dense, Flatten,BatchNormalization, Dropout\n",
        "from keras.preprocessing.text import Tokenizer"
      ],
      "execution_count": 209,
      "outputs": []
    },
    {
      "cell_type": "code",
      "metadata": {
        "id": "dqtofA9WzlLw",
        "colab_type": "code",
        "colab": {}
      },
      "source": [
        "x_train, x_test, y_train , y_test = train_test_split(X, y ,test_size=0.3, random_state=42)"
      ],
      "execution_count": 210,
      "outputs": []
    },
    {
      "cell_type": "code",
      "metadata": {
        "id": "IQpUYoR4rf6D",
        "colab_type": "code",
        "colab": {
          "base_uri": "https://localhost:8080/",
          "height": 85
        },
        "outputId": "8f96acd2-3499-49a1-d9b7-07ccbd4cd1a8"
      },
      "source": [
        "print(x_test.shape)\n",
        "print(x_train.shape)\n",
        "print(y_test.shape)\n",
        "print(y_train.shape)"
      ],
      "execution_count": 211,
      "outputs": [
        {
          "output_type": "stream",
          "text": [
            "(174681,)\n",
            "(407587,)\n",
            "(174681,)\n",
            "(407587,)\n"
          ],
          "name": "stdout"
        }
      ]
    },
    {
      "cell_type": "code",
      "metadata": {
        "id": "28ch4pvOzk_D",
        "colab_type": "code",
        "colab": {}
      },
      "source": [
        "tokenizer = Tokenizer(num_words=max_words)\n",
        "tokenizer.fit_on_texts(x_train)"
      ],
      "execution_count": 212,
      "outputs": []
    },
    {
      "cell_type": "code",
      "metadata": {
        "id": "K_UmMrqE5Drd",
        "colab_type": "code",
        "colab": {}
      },
      "source": [
        "x_train = tokenizer.texts_to_sequences(x_train)\n",
        "x_test = tokenizer.texts_to_sequences(x_test)"
      ],
      "execution_count": 213,
      "outputs": []
    },
    {
      "cell_type": "code",
      "metadata": {
        "id": "_JCBmouv5D4v",
        "colab_type": "code",
        "colab": {}
      },
      "source": [
        "labels = LabelEncoder()\n",
        "y_train = labels.fit_transform(y_train)\n",
        "y_train = to_categorical(y_train)\n",
        "\n",
        "y_test = labels.transform(y_test)\n",
        "y_test = to_categorical(y_test)"
      ],
      "execution_count": 214,
      "outputs": []
    },
    {
      "cell_type": "code",
      "metadata": {
        "id": "gBivlULA5ECy",
        "colab_type": "code",
        "colab": {}
      },
      "source": [
        "x_train = sequence.pad_sequences(x_train, maxlen=max_len, padding='post')\n",
        "x_test = sequence.pad_sequences(x_test, maxlen=max_len, padding='post')"
      ],
      "execution_count": 215,
      "outputs": []
    },
    {
      "cell_type": "code",
      "metadata": {
        "id": "icHTvDHh9vqq",
        "colab_type": "code",
        "colab": {}
      },
      "source": [
        "tokenize = lambda text: text.split(' ')\n",
        "\n",
        "class Corpus():\n",
        "    def __init__(self, df, size):\n",
        "        self.df = df\n",
        "        self.rowids = df.index.values\n",
        "        self.len = size\n",
        "\n",
        "    def __iter__(self):\n",
        "        rowids = np.random.choice(self.rowids, self.len, replace=False)\n",
        "        for doc_id in rowids:\n",
        "            yield tokenize(self.df.loc[doc_id].full_text)\n",
        "\n",
        "    def __len__(self):\n",
        "        return self.len"
      ],
      "execution_count": 216,
      "outputs": []
    },
    {
      "cell_type": "code",
      "metadata": {
        "id": "QntHPIdE9wJI",
        "colab_type": "code",
        "colab": {}
      },
      "source": [
        "vocab_corpus = df_final.full_text_cleaned.apply(tokenize).values"
      ],
      "execution_count": 197,
      "outputs": []
    },
    {
      "cell_type": "code",
      "metadata": {
        "id": "PPGE0l_sJVQv",
        "colab_type": "code",
        "colab": {
          "base_uri": "https://localhost:8080/",
          "height": 173
        },
        "outputId": "e5b3240f-d287-482c-b1a0-d373bf166447"
      },
      "source": [
        "vocab_corpus"
      ],
      "execution_count": 198,
      "outputs": [
        {
          "output_type": "execute_result",
          "data": {
            "text/plain": [
              "array([list(['🇦', '🇷', 'patria', 'construimos', 'juntos', '#', 'felizdíadelapatria', '#', '25demayo', 'URL']),\n",
              "       list(['día', 'prevención', 'violencia', 'noviazgo', 'sigamos', 'desnaturalizando', 'relaciones', 'pareja', 'todas', 'aquellas', 'situaciones', 'violentas', 'no', 'demostraciones', 'amor', 'si', 'necesitás', 'ayuda', 'comunicate', 'manera', 'gratuita', '#', 'línea144', '24', 'horas', 'URL']),\n",
              "       list(['saludamos', 'maestros', 'maestras', 'jardineras', 'día', 'especial', 'aquellos', 'desarrollan', 'tarea', 'centros', 'primera', 'infancia', 'chicos', 'ciudad', 'puedan', 'crecer', 'mejor', 'cuidado', 'igualdad', 'oportunidades', 'URL']),\n",
              "       ...,\n",
              "       list(['aún', 'viva', 'consume', 'pasión', '💋', '💗', 'griegos', 'no', 'escribían', 'necrológicas', 'sólo', 'hacían', 'pregunta', 'moría', 'hombre', 'pasión', '?']),\n",
              "       list(['@', 'karakachoff1', '@', 'chechocipcic', '@', 'yaco_emiliano', '@', 'comuna1uno', '@', 'jrcapital', '@', 'libertad1065', '@', 'jrcomunauno1', '@', 'humbertopri1155', '@', 'abelschopfer', '@', 'ucrcomuna1', '@', 'saperhernan', 'allí', '!']),\n",
              "       list(['jornada', 'lucha', 'trata', 'personas', 'URL'])],\n",
              "      dtype=object)"
            ]
          },
          "metadata": {
            "tags": []
          },
          "execution_count": 198
        }
      ]
    },
    {
      "cell_type": "code",
      "metadata": {
        "id": "K8WhQsFY8Ss1",
        "colab_type": "code",
        "colab": {
          "base_uri": "https://localhost:8080/",
          "height": 51
        },
        "outputId": "a0dbe62d-72bd-4c0c-b153-6057693c7682"
      },
      "source": [
        "%load_ext cython\n",
        "import time\n",
        "\n",
        "start = time.time()\n",
        "n_dim = 300\n",
        "w2v = Word2Vec(vocab_corpus, workers=4, size=n_dim, min_count = 10, window = 10, sample = 1e-3, negative=10, sg=1, hs=0)\n",
        "end = time.time()"
      ],
      "execution_count": 55,
      "outputs": [
        {
          "output_type": "stream",
          "text": [
            "The cython extension is already loaded. To reload it, use:\n",
            "  %reload_ext cython\n"
          ],
          "name": "stdout"
        }
      ]
    },
    {
      "cell_type": "code",
      "metadata": {
        "id": "wtkBj2-vTnch",
        "colab_type": "code",
        "colab": {}
      },
      "source": [
        "max_words = 250 ## numero maximo de palabras\n",
        "max_len = 64 ## maximo numero de palabras x secuencia \n",
        "embedding_dim = 100 ## numero de dimensiones del embedding\n",
        "n_clases = len(df_final['Partido'].unique())"
      ],
      "execution_count": 217,
      "outputs": []
    },
    {
      "cell_type": "code",
      "metadata": {
        "id": "30kocu8Fdn9b",
        "colab_type": "code",
        "colab": {
          "base_uri": "https://localhost:8080/",
          "height": 102
        },
        "outputId": "20121e30-5390-46c8-b741-3d791a12b3fd"
      },
      "source": [
        "df_final['Partido'].unique()"
      ],
      "execution_count": 218,
      "outputs": [
        {
          "output_type": "execute_result",
          "data": {
            "text/plain": [
              "array(['JUNTOS POR EL CAMBIO', 'FRENTE DE TODOS',\n",
              "       'PTS - FRENTE DE IZQUIERDA', 'CONSENSO FEDERAL',\n",
              "       'UNIDAD FEDERAL PARA EL DESARROLLO ',\n",
              "       'FRENTE DE IZQUIERDA Y DE LOS TRABAJADORES',\n",
              "       'PARLAMENTARIO FEDERAL'], dtype=object)"
            ]
          },
          "metadata": {
            "tags": []
          },
          "execution_count": 218
        }
      ]
    },
    {
      "cell_type": "markdown",
      "metadata": {
        "id": "wAsFmwRe5DCP",
        "colab_type": "text"
      },
      "source": [
        "# Modelo que estima ideologia politica segun la descripcion del perfil"
      ]
    },
    {
      "cell_type": "markdown",
      "metadata": {
        "id": "X47-OdNd5DLC",
        "colab_type": "text"
      },
      "source": [
        "Arquitectura 1"
      ]
    },
    {
      "cell_type": "code",
      "metadata": {
        "id": "Hiaw4k_WH-Vm",
        "colab_type": "code",
        "colab": {}
      },
      "source": [
        "inputs = keras.Input(shape=(max_len,))\n",
        "embedding = Embedding(max_words, embedding_dim, input_length = max_len)(inputs)\n",
        "flat = Flatten()(embedding)\n",
        "hidden = Dense(512, activation=\"relu\")(flat)\n",
        "hidden= Dropout(.6)(hidden)\n",
        "hidden = BatchNormalization()(hidden)\n",
        "\n",
        "hidden2 = Dense(512, activation=\"relu\")(hidden)\n",
        "hidden2= Dropout(.5)(hidden2)\n",
        "hidden2 = BatchNormalization()(hidden2)\n",
        "\n",
        "hidden3 = Dense(256, activation=\"relu\")(hidden2)\n",
        "hidden3= Dropout(.4)(hidden3)\n",
        "hidden3 = BatchNormalization()(hidden3)\n",
        "\n",
        "hidden4 = Dense(256, activation=\"relu\")(hidden3)\n",
        "hidden4= Dropout(.3)(hidden4)\n",
        "hidden4 = BatchNormalization()(hidden4)\n",
        "\n",
        "hidden5 = Dense(64, activation=\"relu\")(hidden4)\n",
        "hidden5= Dropout(.4)(hidden5)\n",
        "hidden5 = BatchNormalization()(hidden5)\n",
        "\n",
        "hidden6 = Dense(32, activation=\"relu\")(hidden5)\n",
        "hidden6= Dropout(.2)(hidden4)\n",
        "hidden6 = BatchNormalization()(hidden6)\n",
        "\n",
        "hidden7 = Dense(16, activation=\"relu\")(hidden6)\n",
        "hidden7= Dropout(.2)(hidden7)\n",
        "hidden7 = BatchNormalization()(hidden7)\n",
        "\n",
        "out = Dense(n_clases, activation=\"softmax\")(hidden7)\n",
        "model = keras.Model(inputs=inputs, outputs=out)"
      ],
      "execution_count": 219,
      "outputs": []
    },
    {
      "cell_type": "code",
      "metadata": {
        "id": "8F3I5eZ_H-oD",
        "colab_type": "code",
        "colab": {
          "base_uri": "https://localhost:8080/",
          "height": 867
        },
        "outputId": "d637e33c-ccf9-481d-e1dd-08d99fc2ec36"
      },
      "source": [
        "model.summary()"
      ],
      "execution_count": 220,
      "outputs": [
        {
          "output_type": "stream",
          "text": [
            "Model: \"functional_39\"\n",
            "_________________________________________________________________\n",
            "Layer (type)                 Output Shape              Param #   \n",
            "=================================================================\n",
            "input_21 (InputLayer)        [(None, 64)]              0         \n",
            "_________________________________________________________________\n",
            "embedding_20 (Embedding)     (None, 64, 100)           25000     \n",
            "_________________________________________________________________\n",
            "flatten_20 (Flatten)         (None, 6400)              0         \n",
            "_________________________________________________________________\n",
            "dense_104 (Dense)            (None, 512)               3277312   \n",
            "_________________________________________________________________\n",
            "dropout_68 (Dropout)         (None, 512)               0         \n",
            "_________________________________________________________________\n",
            "batch_normalization_77 (Batc (None, 512)               2048      \n",
            "_________________________________________________________________\n",
            "dense_105 (Dense)            (None, 512)               262656    \n",
            "_________________________________________________________________\n",
            "dropout_69 (Dropout)         (None, 512)               0         \n",
            "_________________________________________________________________\n",
            "batch_normalization_78 (Batc (None, 512)               2048      \n",
            "_________________________________________________________________\n",
            "dense_106 (Dense)            (None, 256)               131328    \n",
            "_________________________________________________________________\n",
            "dropout_70 (Dropout)         (None, 256)               0         \n",
            "_________________________________________________________________\n",
            "batch_normalization_79 (Batc (None, 256)               1024      \n",
            "_________________________________________________________________\n",
            "dense_107 (Dense)            (None, 256)               65792     \n",
            "_________________________________________________________________\n",
            "dropout_71 (Dropout)         (None, 256)               0         \n",
            "_________________________________________________________________\n",
            "batch_normalization_80 (Batc (None, 256)               1024      \n",
            "_________________________________________________________________\n",
            "dropout_73 (Dropout)         (None, 256)               0         \n",
            "_________________________________________________________________\n",
            "batch_normalization_82 (Batc (None, 256)               1024      \n",
            "_________________________________________________________________\n",
            "dense_110 (Dense)            (None, 16)                4112      \n",
            "_________________________________________________________________\n",
            "dropout_74 (Dropout)         (None, 16)                0         \n",
            "_________________________________________________________________\n",
            "batch_normalization_83 (Batc (None, 16)                64        \n",
            "_________________________________________________________________\n",
            "dense_111 (Dense)            (None, 7)                 119       \n",
            "=================================================================\n",
            "Total params: 3,773,551\n",
            "Trainable params: 3,769,935\n",
            "Non-trainable params: 3,616\n",
            "_________________________________________________________________\n"
          ],
          "name": "stdout"
        }
      ]
    },
    {
      "cell_type": "code",
      "metadata": {
        "id": "CSizsiP0fufE",
        "colab_type": "code",
        "colab": {
          "base_uri": "https://localhost:8080/",
          "height": 52
        },
        "outputId": "35e2dea1-35fb-414f-f6f9-440a6c25fd7a"
      },
      "source": [
        "from keras.callbacks import EarlyStopping\n",
        "\n",
        "early_stopping = EarlyStopping(monitor='val_accuracy', min_delta=0.15, patience=3, restore_best_weights=True, verbose=1)\n",
        "callbacks_list = [early_stopping]"
      ],
      "execution_count": 221,
      "outputs": [
        {
          "output_type": "execute_result",
          "data": {
            "application/vnd.google.colaboratory.intrinsic+json": {
              "type": "string"
            },
            "text/plain": [
              "\"from keras.callbacks import EarlyStopping\\n\\nearly_stopping = EarlyStopping(monitor='val_accuracy', min_delta=0.15, patience=3, restore_best_weights=True, verbose=1)\\ncallbacks_list = [early_stopping]\""
            ]
          },
          "metadata": {
            "tags": []
          },
          "execution_count": 221
        }
      ]
    },
    {
      "cell_type": "code",
      "metadata": {
        "id": "pUpmxlTuH-ft",
        "colab_type": "code",
        "colab": {
          "base_uri": "https://localhost:8080/",
          "height": 52
        },
        "outputId": "88dde291-f83c-4fce-9530-cc486aa8972c"
      },
      "source": [
        "\"\"\"\n",
        "model.compile(\n",
        "    loss=keras.losses.CategoricalCrossentropy(from_logits=True),\n",
        "    optimizer=keras.optimizers.RMSprop(.005),\n",
        "    metrics=[\"accuracy\"],\n",
        ")\n",
        "\"\"\"\n",
        "\n",
        "\n",
        "#history = model.fit(x_train, y_train, batch_size=64, epochs=10, validation_split=0.2)\n",
        "\n",
        "\"\"\"history_stop = model.fit(x_train, y_train,\n",
        "                         epochs=20, batch_size=512,\n",
        "                         callbacks=callbacks_list,\n",
        "                         validation_split=0.2)\"\"\"\n",
        "\n"
      ],
      "execution_count": 241,
      "outputs": [
        {
          "output_type": "execute_result",
          "data": {
            "application/vnd.google.colaboratory.intrinsic+json": {
              "type": "string"
            },
            "text/plain": [
              "'history_stop = model.fit(x_train, y_train,\\n                         epochs=20, batch_size=512,\\n                         callbacks=callbacks_list,\\n                         validation_split=0.2)'"
            ]
          },
          "metadata": {
            "tags": []
          },
          "execution_count": 241
        }
      ]
    },
    {
      "cell_type": "markdown",
      "metadata": {
        "id": "kmDAFwXm5lRM",
        "colab_type": "text"
      },
      "source": [
        "Arquitectura 2"
      ]
    },
    {
      "cell_type": "code",
      "metadata": {
        "id": "X-gcLdzWDYqP",
        "colab_type": "code",
        "colab": {}
      },
      "source": [
        "inputs = keras.Input(shape=(max_len,))\n",
        "embedding = Embedding(max_words, embedding_dim, input_length = max_len)(inputs)\n",
        "flat = Flatten()(embedding)\n",
        "hidden = Dense(512, activation=\"relu\")(flat)\n",
        "hidden= Dropout(.3)(hidden)\n",
        "hidden = BatchNormalization()(hidden)\n",
        "\n",
        "hidden2 = Dense(256, activation=\"relu\")(hidden)\n",
        "hidden2= Dropout(.3)(hidden2)\n",
        "hidden2 = BatchNormalization()(hidden2)\n",
        "\n",
        "hidden3 = Dense(64, activation=\"relu\")(hidden2)\n",
        "hidden3= Dropout(.3)(hidden3)\n",
        "hidden3 = BatchNormalization()(hidden3)\n",
        "\n",
        "hidden4 = Dense(32, activation=\"relu\")(hidden3)\n",
        "hidden4= Dropout(.3)(hidden4)\n",
        "hidden4 = BatchNormalization()(hidden4)\n",
        "\n",
        "\n",
        "\n",
        "out = Dense(n_clases, activation=\"softmax\")(hidden4)\n",
        "model2 = keras.Model(inputs=inputs, outputs=out)"
      ],
      "execution_count": 243,
      "outputs": []
    },
    {
      "cell_type": "code",
      "metadata": {
        "id": "A0CANmdtDYl0",
        "colab_type": "code",
        "colab": {
          "base_uri": "https://localhost:8080/",
          "height": 187
        },
        "outputId": "cede8a0f-b514-448e-d22b-b5991ab66f8f"
      },
      "source": [
        "model2.compile(\n",
        "    loss=keras.losses.CategoricalCrossentropy(from_logits=True),\n",
        "    optimizer=keras.optimizers.RMSprop(.005),\n",
        "    metrics=[\"accuracy\"],\n",
        ")\n",
        "\n",
        "history_stop_2 = model2.fit(x_train, y_train,\n",
        "                         epochs=5, batch_size=512,\n",
        "                         callbacks=callbacks_list,\n",
        "                         validation_split=0.2)"
      ],
      "execution_count": 244,
      "outputs": [
        {
          "output_type": "stream",
          "text": [
            "Epoch 1/5\n",
            "637/637 [==============================] - 170s 266ms/step - loss: 1.2804 - accuracy: 0.8871 - val_loss: 1.2384 - val_accuracy: 0.9273\n",
            "Epoch 2/5\n",
            "637/637 [==============================] - 160s 251ms/step - loss: 1.2392 - accuracy: 0.9262 - val_loss: 1.2909 - val_accuracy: 0.8742\n",
            "Epoch 3/5\n",
            "637/637 [==============================] - 172s 270ms/step - loss: 1.2367 - accuracy: 0.9287 - val_loss: 1.2327 - val_accuracy: 0.9333\n",
            "Epoch 4/5\n",
            "637/637 [==============================] - ETA: 0s - loss: 1.2326 - accuracy: 0.9328Restoring model weights from the end of the best epoch.\n",
            "637/637 [==============================] - 165s 260ms/step - loss: 1.2326 - accuracy: 0.9328 - val_loss: 1.2897 - val_accuracy: 0.8761\n",
            "Epoch 00004: early stopping\n"
          ],
          "name": "stdout"
        }
      ]
    },
    {
      "cell_type": "code",
      "metadata": {
        "id": "l3ZquyJ7DXsq",
        "colab_type": "code",
        "colab": {
          "base_uri": "https://localhost:8080/",
          "height": 68
        },
        "outputId": "7333d922-2a97-4b17-d7d7-beb7d42f245c"
      },
      "source": [
        "test_scores2 = model2.evaluate(x_test, y_test, verbose=2)\n",
        "print(\"Test loss:\", test_scores2[0])\n",
        "print(\"Test accuracy:\", test_scores2[1])"
      ],
      "execution_count": 245,
      "outputs": [
        {
          "output_type": "stream",
          "text": [
            "5459/5459 - 41s - loss: 1.2411 - accuracy: 0.9245\n",
            "Test loss: 1.2411054372787476\n",
            "Test accuracy: 0.9245424270629883\n"
          ],
          "name": "stdout"
        }
      ]
    },
    {
      "cell_type": "markdown",
      "metadata": {
        "id": "c53vBWbl4ncO",
        "colab_type": "text"
      },
      "source": [
        "Arquitetura 3"
      ]
    },
    {
      "cell_type": "code",
      "metadata": {
        "id": "iBwEqzoG3Mes",
        "colab_type": "code",
        "colab": {}
      },
      "source": [
        "inputs = keras.Input(shape=(max_len,))\n",
        "embedding = Embedding(max_words, embedding_dim, input_length = max_len)(inputs)\n",
        "flat = Flatten()(embedding)\n",
        "hidden = Dense(64, activation=\"relu\")(flat)\n",
        "hidden2 = Dense(16, activation=\"relu\")(hidden)\n",
        "out = Dense(n_clases, activation=\"softmax\")(hidden2)\n",
        "model = keras.Model(inputs=inputs, outputs=out)"
      ],
      "execution_count": 238,
      "outputs": []
    },
    {
      "cell_type": "code",
      "metadata": {
        "id": "uNX_9SyfCSj0",
        "colab_type": "code",
        "colab": {
          "base_uri": "https://localhost:8080/",
          "height": 357
        },
        "outputId": "651aec34-0d94-4529-f24e-f01639088c11"
      },
      "source": [
        "model.summary()"
      ],
      "execution_count": 275,
      "outputs": [
        {
          "output_type": "stream",
          "text": [
            "Model: \"functional_43\"\n",
            "_________________________________________________________________\n",
            "Layer (type)                 Output Shape              Param #   \n",
            "=================================================================\n",
            "input_23 (InputLayer)        [(None, 64)]              0         \n",
            "_________________________________________________________________\n",
            "embedding_22 (Embedding)     (None, 64, 100)           25000     \n",
            "_________________________________________________________________\n",
            "flatten_22 (Flatten)         (None, 6400)              0         \n",
            "_________________________________________________________________\n",
            "dense_117 (Dense)            (None, 64)                409664    \n",
            "_________________________________________________________________\n",
            "dense_118 (Dense)            (None, 16)                1040      \n",
            "_________________________________________________________________\n",
            "dense_119 (Dense)            (None, 7)                 119       \n",
            "=================================================================\n",
            "Total params: 435,823\n",
            "Trainable params: 435,823\n",
            "Non-trainable params: 0\n",
            "_________________________________________________________________\n"
          ],
          "name": "stdout"
        }
      ]
    },
    {
      "cell_type": "code",
      "metadata": {
        "id": "0DWNSyrQ3iqe",
        "colab_type": "code",
        "colab": {
          "base_uri": "https://localhost:8080/",
          "height": 187
        },
        "outputId": "533dc6a6-d6e5-4ac0-9c15-97acc4eb4a9a"
      },
      "source": [
        "model.compile(\n",
        "    loss=keras.losses.CategoricalCrossentropy(from_logits=True),\n",
        "    optimizer=keras.optimizers.RMSprop(.005),\n",
        "    metrics=[\"accuracy\"],\n",
        ")\n",
        "\n",
        "history_stop = model.fit(x_train, y_train,\n",
        "                         epochs=5, batch_size=512,\n",
        "                         callbacks=callbacks_list,\n",
        "                         validation_split=0.2)"
      ],
      "execution_count": 239,
      "outputs": [
        {
          "output_type": "stream",
          "text": [
            "Epoch 1/5\n",
            "637/637 [==============================] - 30s 47ms/step - loss: 1.2889 - accuracy: 0.8766 - val_loss: 1.2311 - val_accuracy: 0.9341\n",
            "Epoch 2/5\n",
            "637/637 [==============================] - 29s 45ms/step - loss: 1.2248 - accuracy: 0.9406 - val_loss: 1.2212 - val_accuracy: 0.9436\n",
            "Epoch 3/5\n",
            "637/637 [==============================] - 28s 45ms/step - loss: 1.2214 - accuracy: 0.9440 - val_loss: 1.2176 - val_accuracy: 0.9478\n",
            "Epoch 4/5\n",
            "637/637 [==============================] - ETA: 0s - loss: 1.2190 - accuracy: 0.9464Restoring model weights from the end of the best epoch.\n",
            "637/637 [==============================] - 29s 46ms/step - loss: 1.2190 - accuracy: 0.9464 - val_loss: 1.2161 - val_accuracy: 0.9493\n",
            "Epoch 00004: early stopping\n"
          ],
          "name": "stdout"
        }
      ]
    },
    {
      "cell_type": "code",
      "metadata": {
        "id": "sVtVl_5-3w_2",
        "colab_type": "code",
        "colab": {
          "base_uri": "https://localhost:8080/",
          "height": 68
        },
        "outputId": "1510d584-0fdb-4f12-a8be-353e050480cd"
      },
      "source": [
        "test_scores = model.evaluate(x_test, y_test, verbose=2)\n",
        "print(\"Test loss:\", test_scores[0])\n",
        "print(\"Test accuracy:\", test_scores[1])"
      ],
      "execution_count": 240,
      "outputs": [
        {
          "output_type": "stream",
          "text": [
            "5459/5459 - 9s - loss: 1.2327 - accuracy: 0.9326\n",
            "Test loss: 1.2327240705490112\n",
            "Test accuracy: 0.9325799345970154\n"
          ],
          "name": "stdout"
        }
      ]
    },
    {
      "cell_type": "code",
      "metadata": {
        "id": "qAzefKVg4UrX",
        "colab_type": "code",
        "colab": {}
      },
      "source": [
        "#El mejor modelos es el 3 ya que obtuvo un buen accuracy y tardo menos tiempo en correr, ademas de ser una arquitectura muy simple"
      ],
      "execution_count": 246,
      "outputs": []
    },
    {
      "cell_type": "code",
      "metadata": {
        "id": "a48UrrQRHP7R",
        "colab_type": "code",
        "colab": {}
      },
      "source": [
        "predictions_by_desc = model.predict(x_test)"
      ],
      "execution_count": 297,
      "outputs": []
    },
    {
      "cell_type": "code",
      "metadata": {
        "id": "v_pQbzF0HQJc",
        "colab_type": "code",
        "colab": {
          "base_uri": "https://localhost:8080/",
          "height": 34
        },
        "outputId": "ffa1ef19-a4a3-43f8-a3d5-eb5a4a2c1acf"
      },
      "source": [
        "np.argmax(predictions_by_desc[0])"
      ],
      "execution_count": 298,
      "outputs": [
        {
          "output_type": "execute_result",
          "data": {
            "text/plain": [
              "2"
            ]
          },
          "metadata": {
            "tags": []
          },
          "execution_count": 298
        }
      ]
    },
    {
      "cell_type": "markdown",
      "metadata": {
        "id": "SIAWzMj9_A_p",
        "colab_type": "text"
      },
      "source": [
        "#Modelo que estima el ideologia politica segun los tweet que escribe un usuario"
      ]
    },
    {
      "cell_type": "code",
      "metadata": {
        "id": "k2nLfOpi-HpS",
        "colab_type": "code",
        "colab": {}
      },
      "source": [
        "X_2=df_final[ 'full_text_cleaned']\n",
        "y_2=df_final['Partido']"
      ],
      "execution_count": 277,
      "outputs": []
    },
    {
      "cell_type": "code",
      "metadata": {
        "id": "KMsKaWMj_Zj1",
        "colab_type": "code",
        "colab": {}
      },
      "source": [
        "x_train_2, x_test_2, y_train_2 , y_test_2 = train_test_split(X_2, y_2 ,test_size=0.3, random_state=42)"
      ],
      "execution_count": 278,
      "outputs": []
    },
    {
      "cell_type": "code",
      "metadata": {
        "id": "5We0EUHu_rEz",
        "colab_type": "code",
        "colab": {}
      },
      "source": [
        "tokenizer = Tokenizer(num_words=max_words)\n",
        "tokenizer.fit_on_texts(x_train_2)"
      ],
      "execution_count": 279,
      "outputs": []
    },
    {
      "cell_type": "code",
      "metadata": {
        "id": "xYTrkCMT_0P_",
        "colab_type": "code",
        "colab": {}
      },
      "source": [
        "x_train_2 = tokenizer.texts_to_sequences(x_train_2)\n",
        "x_test_2 = tokenizer.texts_to_sequences(x_test_2)"
      ],
      "execution_count": 280,
      "outputs": []
    },
    {
      "cell_type": "code",
      "metadata": {
        "id": "iKudKtq4ABWW",
        "colab_type": "code",
        "colab": {}
      },
      "source": [
        "x_train_2 = sequence.pad_sequences(x_train_2, maxlen=max_len, padding='post')\n",
        "x_test_2 = sequence.pad_sequences(x_test_2, maxlen=max_len, padding='post')"
      ],
      "execution_count": 281,
      "outputs": []
    },
    {
      "cell_type": "code",
      "metadata": {
        "id": "bX_FJ7tREs2o",
        "colab_type": "code",
        "colab": {}
      },
      "source": [
        "labels = LabelEncoder()\n",
        "y_train_2 = labels.fit_transform(y_train_2)\n",
        "y_train_2 = to_categorical(y_train_2)\n",
        "\n",
        "y_test_2 = labels.transform(y_test_2)\n",
        "y_test_2 = to_categorical(y_test_2)"
      ],
      "execution_count": 290,
      "outputs": []
    },
    {
      "cell_type": "code",
      "metadata": {
        "id": "2mVs0fh6BtSs",
        "colab_type": "code",
        "colab": {}
      },
      "source": [
        "max_words = 250 ## numero maximo de palabras\n",
        "max_len = 64 ## maximo numero de palabras x secuencia \n",
        "embedding_dim = 100 ## numero de dimensiones del embedding\n",
        "n_clases = len(df_final['Partido'].unique())"
      ],
      "execution_count": 291,
      "outputs": []
    },
    {
      "cell_type": "code",
      "metadata": {
        "id": "31PayM6gAZ39",
        "colab_type": "code",
        "colab": {}
      },
      "source": [
        "inputs_ = keras.Input(shape=(max_len,))\n",
        "embedding_ = Embedding(max_words, embedding_dim, input_length = max_len)(inputs_)\n",
        "flat_ = Flatten()(embedding_)\n",
        "hidden_ = Dense(64, activation=\"relu\")(flat_)\n",
        "hidden2_ = Dense(16, activation=\"relu\")(hidden_)\n",
        "out_ = Dense(n_clases, activation=\"softmax\")(hidden2_)\n",
        "model_4 = keras.Model(inputs=inputs_, outputs=out_)"
      ],
      "execution_count": 292,
      "outputs": []
    },
    {
      "cell_type": "code",
      "metadata": {
        "id": "XAOznqTcB7mp",
        "colab_type": "code",
        "colab": {
          "base_uri": "https://localhost:8080/",
          "height": 357
        },
        "outputId": "313cfab8-2247-450e-8f36-73e5e7b912b3"
      },
      "source": [
        "model_4.summary()"
      ],
      "execution_count": 293,
      "outputs": [
        {
          "output_type": "stream",
          "text": [
            "Model: \"functional_54\"\n",
            "_________________________________________________________________\n",
            "Layer (type)                 Output Shape              Param #   \n",
            "=================================================================\n",
            "input_29 (InputLayer)        [(None, 64)]              0         \n",
            "_________________________________________________________________\n",
            "embedding_28 (Embedding)     (None, 64, 100)           25000     \n",
            "_________________________________________________________________\n",
            "flatten_28 (Flatten)         (None, 6400)              0         \n",
            "_________________________________________________________________\n",
            "dense_137 (Dense)            (None, 64)                409664    \n",
            "_________________________________________________________________\n",
            "dense_138 (Dense)            (None, 16)                1040      \n",
            "_________________________________________________________________\n",
            "dense_139 (Dense)            (None, 7)                 119       \n",
            "=================================================================\n",
            "Total params: 435,823\n",
            "Trainable params: 435,823\n",
            "Non-trainable params: 0\n",
            "_________________________________________________________________\n"
          ],
          "name": "stdout"
        }
      ]
    },
    {
      "cell_type": "code",
      "metadata": {
        "id": "nNgY-m_1Azex",
        "colab_type": "code",
        "colab": {
          "base_uri": "https://localhost:8080/",
          "height": 187
        },
        "outputId": "aa2b8c72-d430-42ef-b47b-57482c7b86e9"
      },
      "source": [
        "model_4.compile(\n",
        "    loss=keras.losses.CategoricalCrossentropy(from_logits=True),\n",
        "    optimizer=keras.optimizers.RMSprop(.005),\n",
        "    metrics=[\"accuracy\"],\n",
        ")\n",
        "\n",
        "history_stop_4 = model.fit(x_train_2, y_train_2,\n",
        "                         epochs=5, batch_size=512,\n",
        "                         callbacks=callbacks_list,\n",
        "                         validation_split=0.2)"
      ],
      "execution_count": 295,
      "outputs": [
        {
          "output_type": "stream",
          "text": [
            "Epoch 1/5\n",
            "637/637 [==============================] - 31s 48ms/step - loss: 1.4860 - accuracy: 0.6794 - val_loss: 1.4863 - val_accuracy: 0.6791\n",
            "Epoch 2/5\n",
            "637/637 [==============================] - 31s 48ms/step - loss: 1.4856 - accuracy: 0.6798 - val_loss: 1.4863 - val_accuracy: 0.6791\n",
            "Epoch 3/5\n",
            "637/637 [==============================] - 33s 51ms/step - loss: 1.4856 - accuracy: 0.6798 - val_loss: 1.4863 - val_accuracy: 0.6791\n",
            "Epoch 4/5\n",
            "637/637 [==============================] - ETA: 0s - loss: 1.4856 - accuracy: 0.6798Restoring model weights from the end of the best epoch.\n",
            "637/637 [==============================] - 32s 50ms/step - loss: 1.4856 - accuracy: 0.6798 - val_loss: 1.4863 - val_accuracy: 0.6791\n",
            "Epoch 00004: early stopping\n"
          ],
          "name": "stdout"
        }
      ]
    },
    {
      "cell_type": "code",
      "metadata": {
        "id": "dgQLBZ0EF5l7",
        "colab_type": "code",
        "colab": {
          "base_uri": "https://localhost:8080/",
          "height": 68
        },
        "outputId": "a461303a-dddc-4113-8b47-1b408f20ca7a"
      },
      "source": [
        "test_scores4 = model_4.evaluate(x_test_2, y_test_2, verbose=2)\n",
        "print(\"Test loss:\", test_scores4[0])\n",
        "print(\"Test accuracy:\", test_scores4[1])"
      ],
      "execution_count": 355,
      "outputs": [
        {
          "output_type": "stream",
          "text": [
            "5459/5459 - 8s - loss: 1.4843 - accuracy: 0.6812\n",
            "Test loss: 1.484320044517517\n",
            "Test accuracy: 0.6811788082122803\n"
          ],
          "name": "stdout"
        }
      ]
    },
    {
      "cell_type": "code",
      "metadata": {
        "id": "VRTXaTOFaHAQ",
        "colab_type": "code",
        "colab": {}
      },
      "source": [
        ""
      ],
      "execution_count": null,
      "outputs": []
    }
  ]
}