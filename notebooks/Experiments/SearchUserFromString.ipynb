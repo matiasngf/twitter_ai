{
 "cells": [
  {
   "cell_type": "markdown",
   "metadata": {},
   "source": [
    "**search a user by string embedding**<br>\n",
    "string => tweet_embedding => user_embedding"
   ]
  },
  {
   "cell_type": "code",
   "execution_count": 3,
   "metadata": {},
   "outputs": [],
   "source": [
    "import pandas as pd\n",
    "import numpy as np\n",
    "import sys\n",
    "sys.path.append(\"../../scripts/\")\n",
    "from importlib import reload\n",
    "import TweetToVect2 as TW\n",
    "import UserToVect as UVect"
   ]
  },
  {
   "cell_type": "code",
   "execution_count": 4,
   "metadata": {},
   "outputs": [],
   "source": [
    "users_df = pd.read_pickle('../../datasets/users_vectores.pkl')"
   ]
  },
  {
   "cell_type": "code",
   "execution_count": 5,
   "metadata": {},
   "outputs": [],
   "source": [
    "tweet_model = TW.TweetToVect()\n",
    "tweet_model.load_model(model_path='../../models/words_fast_text.bin')\n",
    "user_model = UVect.UserToVect()\n",
    "user_model.load_encoder(model_path='../../models/user_to_vect_encoder_b')"
   ]
  },
  {
   "cell_type": "code",
   "execution_count": 9,
   "metadata": {},
   "outputs": [],
   "source": [
    "pd.options.display.max_colwidth = 200"
   ]
  },
  {
   "cell_type": "code",
   "execution_count": 12,
   "metadata": {},
   "outputs": [
    {
     "name": "stdout",
     "output_type": "stream",
     "text": [
      "Results for 💚\n"
     ]
    },
    {
     "data": {
      "text/html": [
       "<div>\n",
       "<style scoped>\n",
       "    .dataframe tbody tr th:only-of-type {\n",
       "        vertical-align: middle;\n",
       "    }\n",
       "\n",
       "    .dataframe tbody tr th {\n",
       "        vertical-align: top;\n",
       "    }\n",
       "\n",
       "    .dataframe thead th {\n",
       "        text-align: right;\n",
       "    }\n",
       "</style>\n",
       "<table border=\"1\" class=\"dataframe\">\n",
       "  <thead>\n",
       "    <tr style=\"text-align: right;\">\n",
       "      <th></th>\n",
       "      <th>user_id</th>\n",
       "      <th>user_name</th>\n",
       "      <th>name</th>\n",
       "      <th>description</th>\n",
       "    </tr>\n",
       "  </thead>\n",
       "  <tbody>\n",
       "    <tr>\n",
       "      <th>512186228</th>\n",
       "      <td>512186228</td>\n",
       "      <td>Luniisha</td>\n",
       "      <td>Luna☾🌞</td>\n",
       "      <td>☼ ☾☆ ♀💚 💃🍻🍃🌈🌺🌼🌻🌸💐🌚\\nLa lucha es de igual a igual contra uno mismo, y eso es ganar</td>\n",
       "    </tr>\n",
       "    <tr>\n",
       "      <th>1009034509</th>\n",
       "      <td>1009034509</td>\n",
       "      <td>LorenaUribe9</td>\n",
       "      <td>Lore Uribe</td>\n",
       "      <td>Comunicadora Social. Locutora. Amante del Periodismo Policial y Judicial. Integrante de @ArgentinaRIPVG . Mamá de 3 personas maravillosas. Abuela de Gael y Luz</td>\n",
       "    </tr>\n",
       "    <tr>\n",
       "      <th>490667387</th>\n",
       "      <td>490667387</td>\n",
       "      <td>majobarria</td>\n",
       "      <td>majo</td>\n",
       "      <td>no te tomes lo que digo en serio // 🦡💛</td>\n",
       "    </tr>\n",
       "    <tr>\n",
       "      <th>1037437900978380811</th>\n",
       "      <td>1037437900978380811</td>\n",
       "      <td>Chanachanitach2</td>\n",
       "      <td>Chana chanita chan</td>\n",
       "      <td>lesbiana, abortera, feminista y activista del campo popular! \\n-El amor que nos negaron es nuestro impulso para cambiar el mundo- (Lohana Berkins)</td>\n",
       "    </tr>\n",
       "    <tr>\n",
       "      <th>1017775484233543680</th>\n",
       "      <td>1017775484233543680</td>\n",
       "      <td>OvejitFeminist</td>\n",
       "      <td>Mandioca💚</td>\n",
       "      <td>La feminazi de la familia antiderechos/Soy Mili porque me mantiene Soros</td>\n",
       "    </tr>\n",
       "    <tr>\n",
       "      <th>468821547</th>\n",
       "      <td>468821547</td>\n",
       "      <td>MorganaLeFay08</td>\n",
       "      <td>Morgana Le Fay 💚</td>\n",
       "      <td>Socióloga, iniciandose en Linux. En lucha para q las mujeres decidamos sobre nuestra vida y cuerpo.\\n#AutocultivoYa 🌱</td>\n",
       "    </tr>\n",
       "    <tr>\n",
       "      <th>1000855019900588032</th>\n",
       "      <td>1000855019900588032</td>\n",
       "      <td>OleadaFeminista</td>\n",
       "      <td>La Oleada Feminista</td>\n",
       "      <td>Somos un espacio feminista y sororo, les protagonistas de la marea verde. Sumate a construir feminismo popular y disidente! 💚💜</td>\n",
       "    </tr>\n",
       "    <tr>\n",
       "      <th>1673547026</th>\n",
       "      <td>1673547026</td>\n",
       "      <td>GabrielaDenisaF</td>\n",
       "      <td>Gaby F☀️</td>\n",
       "      <td>Feminista, peronista kirchnerista, abogada y juninensa.\\nLibertad a Milagro Sala</td>\n",
       "    </tr>\n",
       "    <tr>\n",
       "      <th>124911693</th>\n",
       "      <td>124911693</td>\n",
       "      <td>gabybortz</td>\n",
       "      <td>Gaby Bortz 💚</td>\n",
       "      <td>PhD | Politóloga | Investigadora Ciencia, Tech y Sociedad | Innovación inclusiva en #biotech | Swing dancer | Nostálgica de la Tierra Media</td>\n",
       "    </tr>\n",
       "    <tr>\n",
       "      <th>1178402135614078978</th>\n",
       "      <td>1178402135614078978</td>\n",
       "      <td>Vivaperon6</td>\n",
       "      <td>Vivaperon-LauraC</td>\n",
       "      <td>Pampeana, feminista, Peronista, amo a Néstor y Cristina.  \\n✌YA VOLVIMOS!!\\n        T☀️D☀️S</td>\n",
       "    </tr>\n",
       "  </tbody>\n",
       "</table>\n",
       "</div>"
      ],
      "text/plain": [
       "                                 user_id        user_name  \\\n",
       "512186228                      512186228         Luniisha   \n",
       "1009034509                    1009034509     LorenaUribe9   \n",
       "490667387                      490667387       majobarria   \n",
       "1037437900978380811  1037437900978380811  Chanachanitach2   \n",
       "1017775484233543680  1017775484233543680   OvejitFeminist   \n",
       "468821547                      468821547   MorganaLeFay08   \n",
       "1000855019900588032  1000855019900588032  OleadaFeminista   \n",
       "1673547026                    1673547026  GabrielaDenisaF   \n",
       "124911693                      124911693        gabybortz   \n",
       "1178402135614078978  1178402135614078978       Vivaperon6   \n",
       "\n",
       "                                    name  \\\n",
       "512186228                         Luna☾🌞   \n",
       "1009034509                    Lore Uribe   \n",
       "490667387                           majo   \n",
       "1037437900978380811   Chana chanita chan   \n",
       "1017775484233543680            Mandioca💚   \n",
       "468821547               Morgana Le Fay 💚   \n",
       "1000855019900588032  La Oleada Feminista   \n",
       "1673547026                      Gaby F☀️   \n",
       "124911693                   Gaby Bortz 💚   \n",
       "1178402135614078978     Vivaperon-LauraC   \n",
       "\n",
       "                                                                                                                                                                         description  \n",
       "512186228                                                                                          ☼ ☾☆ ♀💚 💃🍻🍃🌈🌺🌼🌻🌸💐🌚\\nLa lucha es de igual a igual contra uno mismo, y eso es ganar  \n",
       "1009034509           Comunicadora Social. Locutora. Amante del Periodismo Policial y Judicial. Integrante de @ArgentinaRIPVG . Mamá de 3 personas maravillosas. Abuela de Gael y Luz  \n",
       "490667387                                                                                                                                     no te tomes lo que digo en serio // 🦡💛  \n",
       "1037437900978380811               lesbiana, abortera, feminista y activista del campo popular! \\n-El amor que nos negaron es nuestro impulso para cambiar el mundo- (Lohana Berkins)  \n",
       "1017775484233543680                                                                                         La feminazi de la familia antiderechos/Soy Mili porque me mantiene Soros  \n",
       "468821547                                                      Socióloga, iniciandose en Linux. En lucha para q las mujeres decidamos sobre nuestra vida y cuerpo.\\n#AutocultivoYa 🌱  \n",
       "1000855019900588032                                   Somos un espacio feminista y sororo, les protagonistas de la marea verde. Sumate a construir feminismo popular y disidente! 💚💜  \n",
       "1673547026                                                                                          Feminista, peronista kirchnerista, abogada y juninensa.\\nLibertad a Milagro Sala  \n",
       "124911693                                PhD | Politóloga | Investigadora Ciencia, Tech y Sociedad | Innovación inclusiva en #biotech | Swing dancer | Nostálgica de la Tierra Media  \n",
       "1178402135614078978                                                                      Pampeana, feminista, Peronista, amo a Néstor y Cristina.  \\n✌YA VOLVIMOS!!\\n        T☀️D☀️S  "
      ]
     },
     "metadata": {},
     "output_type": "display_data"
    }
   ],
   "source": [
    "search_terms = ['💚']\n",
    "for search_term in search_terms:\n",
    "    search_emb = tweet_model.get_vector(search_term)\n",
    "    search_user = user_model.get_vector(np.array([search_emb]))\n",
    "    similarities = user_model.pairwise_similarity_vectors([search_user], users_df.vector_user.values.tolist())\n",
    "    sorted_keys = np.argsort(similarities[0])[::-1]\n",
    "    sorted_similarity = np.sort(similarities[0])[::-1]\n",
    "    results = users_df.iloc[sorted_keys, :].head(10)\n",
    "    print('Results for', search_term)\n",
    "    display(results[['user_id','user_name','name','description']])"
   ]
  }
 ],
 "metadata": {
  "kernelspec": {
   "display_name": "Python 3",
   "language": "python",
   "name": "python3"
  },
  "language_info": {
   "codemirror_mode": {
    "name": "ipython",
    "version": 3
   },
   "file_extension": ".py",
   "mimetype": "text/x-python",
   "name": "python",
   "nbconvert_exporter": "python",
   "pygments_lexer": "ipython3",
   "version": "3.7.1"
  }
 },
 "nbformat": 4,
 "nbformat_minor": 2
}
