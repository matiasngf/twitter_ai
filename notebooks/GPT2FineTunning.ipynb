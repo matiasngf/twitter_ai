{
 "cells": [
  {
   "cell_type": "markdown",
   "metadata": {
    "colab_type": "text",
    "id": "OJI7qd_zYIMh"
   },
   "source": [
    "# Esta es una adaptacion de una notebook encontrada buscando GPT2\n",
    "\n",
    "Vamos a reentrenar una red neuronal de generacion de texto para adaptarlo a la forma de escritura de nuestros tweeteros gratis usando la GPU de Collaboratory y la libreria `gpt-2-simple`\n",
    "\n",
    "Para saber más de `gpt-2-simple`, Visitar [this GitHub repository](https://github.com/minimaxir/gpt-2-simple). Tambien pueden leer el post original que usamos de base para esta notebook: [blog post](https://minimaxir.com/2019/09/howto-gpt2/)\n",
    "Link a la notebook original: https://colab.research.google.com/drive/1VLG8e7YSEwypxU-noRNhsv5dW4NfTGce by [Max Woolf](http://minimaxir.com)\n",
    "\n",
    "\n",
    "\n",
    "## Se le realizaron muchos cambios y adaptaciones.\n",
    "\n",
    "**Al ejecutar en Collaboratory hace falta prestar atencion a la linea que se conecta con GDrive**\n",
    "\n",
    "\n",
    "Ejecutar en Google Colab!\n",
    "\n",
    "Si se quiere ejecutar de manera local se requiere Python 3.6 y tensorflow 1.15\n",
    "\n",
    "Se puede conseguir corriendo:\n",
    "\n",
    "    conda create --name GPT2GPU python=3.6 jupyter -y\n",
    "    conda activate GPT2GPU\n",
    "    conda install --name GPT2GPU tensorflow-gpu=1.15 --channel conda-forge -y\n",
    "\n",
    "ó para correrlo con CPU\n",
    "\n",
    "    conda create --name GPT2CPU python=3.6 jupyter -y\n",
    "    conda activate GPT2CPU\n",
    "    conda install --name GPT2CPU tensorflow=1.15 --channel conda-forge -y\n"
   ]
  },
  {
   "cell_type": "markdown",
   "metadata": {
    "colab_type": "text",
    "id": "FOYwDJhSYIJy"
   },
   "source": [
    "## Configuracion antes de ejecutar\n",
    "\n",
    "se pueden cambiar algunos valores aqui y volver a correr toda la notebook para que entrene y guarde otro modelo"
   ]
  },
  {
   "cell_type": "code",
   "execution_count": 1,
   "metadata": {
    "colab": {},
    "colab_type": "code",
    "id": "s2M9348CYccL"
   },
   "outputs": [],
   "source": [
    "# Archivo para el fine Tunning, tiene que estar en la raiz de tu drive o en ../datasets/xxx.txt\n",
    "FILENAME = \"FDT_to_JPC.txt\"\n",
    "\n",
    "# Nombre del Modelo que vas a generar despues del finetunning, Ejemplo: FDT ó JPC\n",
    "MODEL_NAME = \"FDT\"   \n",
    "\n",
    "# Nombre del Modelo que vas a usar de base de GPT2, en Colab usar solo: 133M ó 355M, en Anaconda se puede 774M\n",
    "GTP2_MODEL_NAME = \"355M\"\n",
    "\n",
    "# Ejecutar un modelo preentrenado o hacer finetunning:  EXECUTE o FINETUNNING\n",
    "EXECUTE_OR_FINETUNNING = \"EXECUTE\"\n",
    "\n",
    "# COLAB or LOCAL\n",
    "ENVIRONMENT = \"LOCAL\" \n",
    "\n",
    "\n",
    "\n",
    "### NO TOCAR\n",
    "MODEL_DIRS='models'\n",
    "if ENVIRONMENT==\"LOCAL\":\n",
    "    MODEL_DIRS ='../' + MODEL_DIRS\n",
    "    FILENAME = \"../datasets/\" + FILENAME  \n",
    "    CHECKPOINT_DIR=MODEL_DIRS\n",
    "else:\n",
    "    CHECKPOINT_DIR=\"checkpoint\""
   ]
  },
  {
   "cell_type": "markdown",
   "metadata": {
    "colab_type": "text",
    "id": "H7LoMj4GA4n_"
   },
   "source": [
    "#  Empieza la notebook"
   ]
  },
  {
   "cell_type": "code",
   "execution_count": 2,
   "metadata": {},
   "outputs": [
    {
     "name": "stdout",
     "output_type": "stream",
     "text": [
      "Name: tensorflow\n",
      "Version: 1.15.0\n",
      "Summary: TensorFlow is an open source machine learning framework for everyone.\n",
      "Home-page: https://www.tensorflow.org/\n",
      "Author: Google Inc.\n",
      "Author-email: packages@tensorflow.org\n",
      "License: Apache 2.0\n",
      "Location: /home/santiago/anaconda3/envs/GPT2CPU/lib/python3.6/site-packages\n",
      "Requires: keras-applications, six, opt-einsum, tensorflow-estimator, wrapt, grpcio, gast, tensorboard, wheel, google-pasta, numpy, absl-py, protobuf, keras-preprocessing, termcolor, astor\n",
      "Required-by: \n"
     ]
    }
   ],
   "source": [
    "# Si esto no dice que tenes la version 1.15 de tensorflow no va a funcionar!\n",
    "!pip show tensorflow"
   ]
  },
  {
   "cell_type": "code",
   "execution_count": 3,
   "metadata": {
    "colab": {
     "base_uri": "https://localhost:8080/",
     "height": 187
    },
    "colab_type": "code",
    "id": "KBkpRgBCBS2_",
    "outputId": "d3a1ca20-b929-4c1b-a9e1-d5d67a45440a"
   },
   "outputs": [
    {
     "name": "stdout",
     "output_type": "stream",
     "text": [
      "WARNING:tensorflow:\n",
      "The TensorFlow contrib module will not be included in TensorFlow 2.0.\n",
      "For more information, please see:\n",
      "  * https://github.com/tensorflow/community/blob/master/rfcs/20180907-contrib-sunset.md\n",
      "  * https://github.com/tensorflow/addons\n",
      "  * https://github.com/tensorflow/io (for I/O related ops)\n",
      "If you depend on functionality not listed there, please file an issue.\n",
      "\n"
     ]
    }
   ],
   "source": [
    "if ENVIRONMENT==\"COLAB\":\n",
    "    %tensorflow_version 1.x\n",
    "    from google.colab import files\n",
    "else:\n",
    "    !pip install -q tensorflow-plot==0.3.0\n",
    "!pip install -q gpt-2-simple\n",
    "import gpt_2_simple as gpt2\n",
    "from datetime import datetime"
   ]
  },
  {
   "cell_type": "markdown",
   "metadata": {
    "colab_type": "text",
    "id": "Bj2IJLHP3KwE"
   },
   "source": [
    "## GPU\n",
    "\n",
    "Colaboratory usa tanto una Nvidia T4 GPU o una Nvidia K80 GPU. La T4 es ligeramente mas rapida que la K80\n",
    "\n",
    "Podes verificar en que estas corriendo usando esta celda"
   ]
  },
  {
   "cell_type": "code",
   "execution_count": 4,
   "metadata": {
    "colab": {
     "base_uri": "https://localhost:8080/",
     "height": 357
    },
    "colab_type": "code",
    "id": "sUmTooTW3osf",
    "outputId": "bba959a0-85ea-4862-b416-7a08c46f5e9b"
   },
   "outputs": [
    {
     "name": "stdout",
     "output_type": "stream",
     "text": [
      "Thu Aug  6 13:52:13 2020       \n",
      "+-----------------------------------------------------------------------------+\n",
      "| NVIDIA-SMI 440.100      Driver Version: 440.100      CUDA Version: 10.2     |\n",
      "|-------------------------------+----------------------+----------------------+\n",
      "| GPU  Name        Persistence-M| Bus-Id        Disp.A | Volatile Uncorr. ECC |\n",
      "| Fan  Temp  Perf  Pwr:Usage/Cap|         Memory-Usage | GPU-Util  Compute M. |\n",
      "|===============================+======================+======================|\n",
      "|   0  GeForce RTX 2060    Off  | 00000000:01:00.0 Off |                  N/A |\n",
      "| N/A   56C    P5    15W /  N/A |    851MiB /  5934MiB |     13%      Default |\n",
      "+-------------------------------+----------------------+----------------------+\n",
      "                                                                               \n",
      "+-----------------------------------------------------------------------------+\n",
      "| Processes:                                                       GPU Memory |\n",
      "|  GPU       PID   Type   Process name                             Usage      |\n",
      "|=============================================================================|\n",
      "|    0      1152      G   /usr/lib/xorg/Xorg                           187MiB |\n",
      "|    0      1815      G   /usr/bin/gnome-shell                         133MiB |\n",
      "|    0      4135      G   ...AAAAAAAAAAAACAAAAAAAAAA= --shared-files   527MiB |\n",
      "+-----------------------------------------------------------------------------+\n"
     ]
    }
   ],
   "source": [
    "!nvidia-smi"
   ]
  },
  {
   "cell_type": "markdown",
   "metadata": {
    "colab_type": "text",
    "id": "0wXB05bPDYxS"
   },
   "source": [
    "## Downloading GPT-2\n",
    "\n",
    "If you're retraining a model on new text, you need to download the GPT-2 model first. \n",
    "\n",
    "There are three released sizes of GPT-2:\n",
    "\n",
    "* `124M` (default): the \"small\" model, 500MB on disk.\n",
    "* `355M`: the \"medium\" model, 1.5GB on disk.\n",
    "* `774M`: the \"large\" model, cannot currently be finetuned with Colaboratory but can be used to generate text from the pretrained model (see later in Notebook)\n",
    "* `1558M`: the \"extra large\", true model. Will not work if a K80 GPU is attached to the notebook. (like `774M`, it cannot be finetuned).\n",
    "\n",
    "Larger models have more knowledge, but take longer to finetune and longer to generate text. You can specify which base model to use by changing `model_name` in the cells below.\n",
    "\n",
    "The next cell downloads it from Google Cloud Storage and saves it in the Colaboratory VM at `/models/<model_name>`.\n",
    "\n",
    "This model isn't permanently saved in the Colaboratory VM; you'll have to redownload it if you want to retrain it at a later time."
   ]
  },
  {
   "cell_type": "code",
   "execution_count": 5,
   "metadata": {
    "colab": {
     "base_uri": "https://localhost:8080/",
     "height": 136
    },
    "colab_type": "code",
    "id": "P8wSlgXoDPCR",
    "outputId": "a3e2a479-d038-47a7-e0f2-05cf859dbf54"
   },
   "outputs": [],
   "source": [
    "import os\n",
    "if not os.path.exists(MODEL_DIRS+\"/\"+GTP2_MODEL_NAME):\n",
    "    gpt2.download_gpt2(model_name=GTP2_MODEL_NAME,model_dir=MODEL_DIRS)"
   ]
  },
  {
   "cell_type": "markdown",
   "metadata": {
    "colab_type": "text",
    "id": "N8KXuKWzQSsN"
   },
   "source": [
    "## Mounting Google Drive\n",
    "\n",
    "The best way to get input text to-be-trained into the Colaboratory VM, and to get the trained model *out* of Colaboratory, is to route it through Google Drive *first*.\n",
    "\n",
    "Running this cell (which will only work in Colaboratory) will mount your personal Google Drive in the VM, which later cells can use to get data in/out. (it will ask for an auth code; that auth is not saved anywhere)"
   ]
  },
  {
   "cell_type": "code",
   "execution_count": 6,
   "metadata": {
    "colab": {
     "base_uri": "https://localhost:8080/",
     "height": 122
    },
    "colab_type": "code",
    "id": "puq4iC6vUAHc",
    "outputId": "d4d99a03-01a2-4950-f31f-1e9d36b5e4c2"
   },
   "outputs": [],
   "source": [
    "if ENVIRONMENT==\"COLAB\":\n",
    "    gpt2.mount_gdrive()"
   ]
  },
  {
   "cell_type": "markdown",
   "metadata": {
    "colab_type": "text",
    "id": "BT__brhBCvJu"
   },
   "source": [
    "## Uploading a Text File to be Trained to Colaboratory\n",
    "\n",
    "In the Colaboratory Notebook sidebar on the left of the screen, select *Files*. From there you can upload files:\n",
    "\n",
    "![alt text](https://i.imgur.com/TGcZT4h.png)\n",
    "\n",
    "Upload **any smaller text file**  (<10 MB) and update the file name in the cell below, then run the cell."
   ]
  },
  {
   "cell_type": "code",
   "execution_count": 7,
   "metadata": {
    "colab": {},
    "colab_type": "code",
    "id": "6OFnPCLADfll"
   },
   "outputs": [],
   "source": [
    "#FDT = \"FDT_to_JPC.txt\""
   ]
  },
  {
   "cell_type": "markdown",
   "metadata": {
    "colab_type": "text",
    "id": "HeeSKtNWUedE"
   },
   "source": [
    "If your text file is larger than 10MB, it is recommended to upload that file to Google Drive first, then copy that file from Google Drive to the Colaboratory VM."
   ]
  },
  {
   "cell_type": "code",
   "execution_count": 8,
   "metadata": {
    "colab": {},
    "colab_type": "code",
    "id": "-Z6okFD8VKtS"
   },
   "outputs": [],
   "source": [
    "if ENVIRONMENT==\"COLAB\":\n",
    "    gpt2.copy_file_from_gdrive(FILENAME)"
   ]
  },
  {
   "cell_type": "markdown",
   "metadata": {
    "colab_type": "text",
    "id": "LdpZQXknFNY3"
   },
   "source": [
    "## Finetune GPT-2\n",
    "\n",
    "The next cell will start the actual finetuning of GPT-2. It creates a persistent TensorFlow session which stores the training config, then runs the training for the specified number of `steps`. (to have the finetuning run indefinitely, set `steps = -1`)\n",
    "\n",
    "The model checkpoints will be saved in `/checkpoint/run1` by default. The checkpoints are saved every 500 steps (can be changed) and when the cell is stopped.\n",
    "\n",
    "The training might time out after 4ish hours; make sure you end training and save the results so you don't lose them!\n",
    "\n",
    "**IMPORTANT NOTE:** If you want to rerun this cell, **restart the VM first** (Runtime -> Restart Runtime). You will need to rerun imports but not recopy files.\n",
    "\n",
    "Other optional-but-helpful parameters for `gpt2.finetune`:\n",
    "\n",
    "\n",
    "*  **`restore_from`**: Set to `fresh` to start training from the base GPT-2, or set to `latest` to restart training from an existing checkpoint.\n",
    "* **`sample_every`**: Number of steps to print example output\n",
    "* **`print_every`**: Number of steps to print training progress.\n",
    "* **`learning_rate`**:  Learning rate for the training. (default `1e-4`, can lower to `1e-5` if you have <1MB input data)\n",
    "*  **`run_name`**: subfolder within `checkpoint` to save the model. This is useful if you want to work with multiple models (will also need to specify  `run_name` when loading the model)\n",
    "* **`overwrite`**: Set to `True` if you want to continue finetuning an existing model (w/ `restore_from='latest'`) without creating duplicate copies. "
   ]
  },
  {
   "cell_type": "markdown",
   "metadata": {
    "colab_type": "text",
    "id": "IXSuTNERaw6K"
   },
   "source": [
    "After the model is trained, you can copy the checkpoint folder to your own Google Drive.\n",
    "\n",
    "If you want to download it to your personal computer, it's strongly recommended you copy it there first, then download from Google Drive. The checkpoint folder is copied as a `.rar` compressed file; you can download it and uncompress it locally."
   ]
  },
  {
   "cell_type": "code",
   "execution_count": 9,
   "metadata": {
    "colab": {
     "base_uri": "https://localhost:8080/",
     "height": 1000
    },
    "colab_type": "code",
    "id": "VHdTL8NDbAh3",
    "outputId": "b7305e58-2ebb-40af-a57b-b7295563bcba"
   },
   "outputs": [
    {
     "name": "stdout",
     "output_type": "stream",
     "text": [
      "WARNING:tensorflow:From /home/santiago/anaconda3/envs/GPT2CPU/lib/python3.6/site-packages/gpt_2_simple/src/sample.py:17: where (from tensorflow.python.ops.array_ops) is deprecated and will be removed in a future version.\n",
      "Instructions for updating:\n",
      "Use tf.where in 2.0, which has the same broadcast rule as np.where\n",
      "WARNING:tensorflow:From /home/santiago/anaconda3/envs/GPT2CPU/lib/python3.6/site-packages/gpt_2_simple/src/memory_saving_gradients.py:62: get_backward_walk_ops (from tensorflow.contrib.graph_editor.select) is deprecated and will be removed after 2019-06-06.\n",
      "Instructions for updating:\n",
      "Please use tensorflow.python.ops.op_selector.get_backward_walk_ops.\n",
      "Loading checkpoint ../models/355M/model.ckpt\n",
      "INFO:tensorflow:Restoring parameters from ../models/355M/model.ckpt\n"
     ]
    },
    {
     "name": "stderr",
     "output_type": "stream",
     "text": [
      "  0%|          | 0/1 [00:00<?, ?it/s]"
     ]
    },
    {
     "name": "stdout",
     "output_type": "stream",
     "text": [
      "Loading dataset...\n"
     ]
    },
    {
     "name": "stderr",
     "output_type": "stream",
     "text": [
      "100%|██████████| 1/1 [00:00<00:00,  1.98it/s]\n"
     ]
    },
    {
     "name": "stdout",
     "output_type": "stream",
     "text": [
      "dataset has 95808 tokens\n",
      "Training...\n",
      "[10 | 192.26] loss=3.64 avg=3.64\n",
      "Saving ../models/FDT/model-10\n",
      "======== SAMPLE 1 ========\n",
      "Pajadores - Pajadores. Todo la empleo.\n",
      "\n",
      "Tanto, hagan una demasiada, a una pelos poneces.\n",
      "\n",
      "Nadieren a las aceptar el héroe seguro y uno y seguro a la héroe de nuevo de cinco malas a la que a una familia y nueva familia... ¿Ase una demasiada sean vuelo a las período de la salud.\n",
      "\n",
      "El héroe poner en el gran que la salud nadas nada tiempo por el número que el héroe en el día señor de su seguro. ¿Estoy por que lo que tras las ésperan las últimas al solución con las ruridos de el saludo.\n",
      "\n",
      "¿Cuando seguro una ñeira a los niño de los luevos. En la seguridad, a los niño no pengoa de los traslunar de la que traslunadente los públicos que no hombre con su primer para la decir por la nación de decuerdos nubes a ser un de los estudiantes por la fútbol y les suficientes a los propios para la népendente.\n",
      "\n",
      "Nueva española.\n",
      "\n",
      "Estoy, pero quieran a los niño con el pasado al muerzo por nivel.\n",
      "\n",
      "Qué traslunsos en esta palabras por la boca de las boca.\n",
      "\n",
      "Ciudades... Estoy. Gracias. Gracias. Nuevo casiendo, y quedor a las boca.\n",
      "¡Saludo, el muerzo cuidar a casiendo a casiendo le decir otra d'interrupter a los pobladeros del proceso de abrar gran una primaria.\n",
      "[translated]:\n",
      "Los caras de jueves en los que es posible para ser años tres caras de la vida de las boca. Por tengo que en los que estás pasados.\n",
      "¿Dóle una familia?\n",
      "[translated]:\n",
      "Estrada por eso de vida y estuviede el fajado del país la casencia de los niños. Se queremos que el país y porque en la que estían con sino público en la país, no entiendo que víemos poder una familia y eso no público de seguridad, pero no estado no entiendo ese. Sino país y porque en la país pós de los sino que los niños es que quedó los pobres sino país y porque en la país no entiendo apleno de enseñar una familia. La país no entiendo en la país en lo que les personas se encuentros pobres añaraje una familia y para verdad los pobres algunos pobres que nos libres.\n",
      "[translated]:\n",
      "Puerdo al deciso de que hace lo que médicos se piedes.\n",
      "Si, su gana es que el muerzo del país de la familia, pero la gente es que con el país que en muerzo de la familia, pudieron un país, puede el país. Dólarlo de deciven no me acuerdo con los alegreistas a los que no con el primer de el empleo. [Paradiso.]\n",
      "[Pero. El número público no te hace que pasa esa en la región para un país no pobre todo la decublerza. Espanol a un nuevo poder que seguimos de escuchar a las mujeres. Paranque un país estén de la región no se hace lo que médicos hicieron en ellos seguros. Pero porque el país esa esa años que no más en el país: especialmente la región la nueva país de siempre encuentros, más que sino pobres d\n",
      "\n",
      "[20 | 472.97] loss=3.25 avg=3.44\n",
      "Saving ../models/FDT/model-20\n",
      "WARNING:tensorflow:From /home/santiago/anaconda3/envs/GPT2CPU/lib/python3.6/site-packages/tensorflow_core/python/training/saver.py:963: remove_checkpoint (from tensorflow.python.training.checkpoint_management) is deprecated and will be removed in a future version.\n",
      "Instructions for updating:\n",
      "Use standard file APIs to delete files with this prefix.\n",
      "======== SAMPLE 1 ========\n",
      "\n",
      "<|endoftext|>[POST] /r/Bitcoin/\n",
      "\n",
      "[RESPONSE] /u/paul_harrison\n",
      "[RESPONSE] /u/jemboz\n",
      "[RESPONSE] /u/LarsHirschfeld\n",
      "<|endoftext|>[POST] /r/Bitcoin/\n",
      "\n",
      "[RESPONSE] /u/paul_harrison\n",
      "\n",
      "[RESPONSE] /u/jemboz\n",
      "\n",
      "[RESPONSE] /u/mike-clark\n",
      "\n",
      "<|endoftext|>[POST] /r/Bitcoin/\n",
      "\n",
      "[RESPONSE] /u/paul_harrison\n",
      "\n",
      "[RESPONST] /u/LarsHirschfeld\n",
      "\n",
      "[RESPONST] /u/mike-clark\n",
      "\n",
      "[RESPONST] /u/parschiavino\n",
      "\n",
      "[RESPONST] /u/jemboz\n",
      "\n",
      "<|endoftext|>[POST] /r/Bitcoin/\n",
      "\n",
      "[RESPONSE] /u/paul_harrison\n",
      "\n",
      "[RESPONST] /u/jemboz\n",
      "\n",
      "[RESPONST] /u/santiascia\n",
      "\n",
      "[RESPONST] /u/pascual\n",
      "\n",
      "[RESPONST] /u/gabriola121394\n",
      "\n",
      "[RESPONST] /u/jemboz\n",
      "\n",
      "[RESPONST] /u/jemboz|[RESPONST]\n",
      "[RESPONST] /u/jemboz|[RESPONST]\n",
      "[RESPONST] /u/Jemboz\n",
      "\n",
      "[RESPONST] /u/Jemboz\n",
      "\n",
      "[RESPONST] /u/jemboz|[RESPONST]\n",
      "[RESPONST] /u/jemboz|[RESPONST]\n",
      "<|endoftext|>[POST] /r/Bitcoin/\n",
      "\n",
      "[RESPONSE] /u/paul_harrison\n",
      "\n",
      "[RESPONST] /u/LarsHirschfeld\n",
      "\n",
      "[RESPONST] /u/mschumach\n",
      "\n",
      "[RESPONST] /u/rvazquez\n",
      "\n",
      "[RESPONST] /u/mike-clark\n",
      "\n",
      "<|endoftext|>[POST] /r/Bitcoin/\n",
      "\n",
      "[RESPONSE] /u/paul_harrison\n",
      "\n",
      "[RESPONST] /u/mikeschumach\n",
      "\n",
      "[RESPONST] /u/mikeschumach\n",
      "\n",
      "[RESPONST] /u/mschumach\n",
      "\n",
      "<|endoftext|>[POST] /r/Bitcoin/\n",
      "\n",
      "[RESPONSE] /u/bob_lobel\n",
      "\n",
      "[RESPONST] /u/bob_lobel\n",
      "\n",
      "[RESPONST] /u/bob_lobel\n",
      "\n",
      "[RESPONST] /u/larshirschfeld\n",
      "\n",
      "[RESPONST] /u/larshirschfeld\n",
      "\n",
      "[RESPONST] /u/mike-clark\n",
      "\n",
      "[RESPONST] /u/larshirschfeld\n",
      "\n",
      "[RESPONST] /u/larshirschfeld\n",
      "\n",
      "<|endoftext|>[POST] /r/Bitcoin/\n",
      "\n",
      "[RESPONSE] /u/paul_harrison\n",
      "\n",
      "[RESPONST] /u/jemboz\n",
      "\n",
      "[RESPONST] /u/rvazquez\n",
      "\n",
      "[RESPONST] /u/larshirschfeld\n",
      "\n",
      "[RESPONST] /u/larshirschfeld\n",
      "\n",
      "[RESPONST] /u/mike-clark\n",
      "\n",
      "[RESPONST] /u/rvazquez\n",
      "\n",
      "[RESPONST] /u/lsanchez\n",
      "\n",
      "[RESPONST] /u/pschneidler\n",
      "\n",
      "<|endoftext|>[POST] /r/Bitcoin/\n",
      "\n",
      "[RESPONSE] /u/paul_harrison\n",
      "\n",
      "[RESPONST] /u/jemboz\n",
      "\n",
      "[RESPONST] /u/larshirschfeld\n",
      "\n",
      "[RESPONST] /u/pschneidler\n",
      "\n",
      "[RESPONST] /u/pschneidler\n",
      "\n",
      "[RESPONST] /u/psch\n",
      "\n",
      "[30 | 737.93] loss=3.42 avg=3.43\n",
      "Saving ../models/FDT/model-30\n",
      "======== SAMPLE 1 ========\n",
      "i y lo que nos hicieron años con este momento que los nombres lo que no pasarán el hombre que se enviende unos menos y y que no hay unos poderes.\n",
      "<|endoftext|>[POST] Linda Mayo de Oliveira: Porque no hacer se están y no tiene la nueva que no hace su hijo. No nos me es años con los nuestros y estén más nós en día. Aumentan que hizo es masi, y que hizo es que masi. ¿Y dejaste no hablan y no se hacer no nos masí?\n",
      "[RESPONSE] @hijohechavac\n",
      "<|endoftext|>[POST] Linda Mayo de Oliveira: Porque no hacer se están y no tiene la nueva que no hace su hijo. No nos me es años con los nuestros y estén más nós en día. Aumentan que hizo es que masi, y que hizo es que masi. ¿Y dejaste no hablan y no se hacer no nos masí?\n",
      "[RESPONSE] @hijohechavac\n",
      "<|endoftext|>[POST] Aún no se vamos que en alamos. ¿Porque no hacer se están y no tiene la nueva que no hacer se están y no tiene la nueva que no hacer se están y no tiene la nueva que no hacer se están y no tiene la nueva que no hacer se están y no tiene la nueva que no hacer se están y no tiene la nueva que no hacer se están y no tiene la nueva que no hacer se están y no tiene la nueva que no hacer se están y no tiene la nueva que no hacer se están y para que se haverá nos?\n",
      "[RESPONSE] @BastianNoguer\n",
      "<|endoftext|>[POST] Aún no se vamos que en alamos. ¿Porque no hacer se están y no tiene la nueva que no hacer se están y no tiene la nueva que no hacer se están y no tiene la nueva que no hacer se están y no tiene la nueva que no hacer se están y no tiene la nueva que no hacer se están y no tiene la nueva que no hacer se están y no tiene la nueva que no hacer se están y no tiene la nueva que no hacer se están y no tiene la nueva que nos hacer se están y no tiene la nueva soy hacer se están y no tiene la nueva?\n",
      "[RESPONSE] @BastianNoguer\n",
      "<|endoftext|>[POST] Aún no se vamos que en alamos. ¿Porque no hacer se están y no tiene la nueva que no hacer se están y no tiene la nueva que no hacer se están y no tiene la nueva que no hacer se están y no tiene la nueva que no hacer se están y no tiene la nueva que no hacer se están y no tiene la nueva que no hacer se están y no tiene la nueva que nos hacer se están y no tiene la nueva que nos hacer se están y no tiene la nueva que no hacer se están y no tiene la nueva que no hacer se están y no tiene la nueva que nos hacer se están y no tiene la nueva que nos hacer se están y no tiene la nueva que no hacer se están y no tiene la nueva que no hacer se están y nos había nos el país que te una país?\n",
      "[RESPONSE] @FernanCaballero\n",
      "<|endoftext|>[POST] Le quener dias porque el diabolico a mientras de a cuenta de la familia. En cuenta mientras a cuenta de los diabolis mientras donde la familia\n",
      "\n",
      "[40 | 1002.80] loss=2.38 avg=3.17\n",
      "Saving ../models/FDT/model-40\n",
      "======== SAMPLE 1 ========\n",
      "adaó de las que la violencia desde una siesta, lo que cómo con las sérencias de que quieren se de la pase. El viento difiquera\n",
      "Porque me dije. No mejor.\n",
      "Como el cabeza que se ve tu años.\n",
      "Bajadores que se estás en la vista, lo hizo! Me gusto y una gente\n",
      "[RESPONSE] @WolffWaldo @WolffWaldo @JosInFrescha @wolff_waldo @joseinferguson @WolffWaldo @WolffWaldo @WolffWaldo @SergioVieira @Cavallo_Rome @WolffWaldo @WolffWaldo Yes sos que tienen lo hizo, pero te poden. Pero tu se puedecerción.\n",
      "<|endoftext|>[POST] El viento de Juego en la Libertad del Marzo y la Libertad del Arcos de la Junta.\n",
      "Síntima\n",
      "\n",
      "Estado, tanto la cabeza para todamos que juntos tarde al pueblo, póximo el suicidio, pero lo cada visto. Pero lo cada visto lo sabes pudo la cabeza.\n",
      "[RESPONSE] @wolffwaldo @WolffWaldo @wolffwaldo @wolffwaldo No te hizo visto, seguimando la cabeza la cabeza para todo. Que no haciendo\n",
      "<|endoftext|>[POST] Aún dándole un golpe en Técnicos públicos. Haya víctima. Víctima. Víctima. Víctima. Víctima.\n",
      "[RESPONSE] @WolffWaldo @JosInFrescha @WolffWaldo @WolffWaldo No tingan ano a lo que si nuestro poder son víctima.\n",
      "No hay cómplice y perseguía, sin no parecaja a toda\n",
      "<|endoftext|>[POST] Quisién más de los últimos. Los cómplices y los enriquecen a cada a los últimos.\n",
      "[RESPONSE] @JosInFrescha ¡Salud!!\n",
      "<|endoftext|>[POST] #Número de #Madrid #MadridMadrid\n",
      "\n",
      "#Madrid #MadridMadrid\n",
      "\n",
      "[RESPONSE] @WolffWaldo @WolffWaldo Ahora, viviendo las más.\n",
      "Pues alguien cada olvide. #NúmeroMadrid\n",
      "<|endoftext|>[POST] #Número de #Madrid #Madrid\n",
      "\n",
      "#MadridMadrid\n",
      "\n",
      "[RESPONSE] @wolffwaldo No se quieren más de #Madrid que también a dando. Sistemos, esa a todos a cada piedra. No esta sesión\n",
      "<|endoftext|>[POST] Un año, un tiempo, un pórdicador que vamos por la pase. No es seguíderan una cabeza dio que se ve te a otra pasado por la pase.\n",
      "[RESPONSE] @WolffWaldo Una cabeza, me hicieron un víctimo, pero títron eso\n",
      "<|endoftext|>[POST] 📡📡📡📡📡📡📡\n",
      "📡📡📡📡\n",
      "📡📡📡\n",
      "<|endoftext|>[POST] Esta cabeza a un caramigos a cada dior, este cierto.\n",
      "[RESPONSE] @MarianaWilking #NúmeroMadrid @SergioVieira #MadridMadrid @WolffWaldo La pasa dará por la cabeza a un cada dior a la esconda en la cabeza a #SúperCalabria\n",
      "<|endoftext|>[POST] Esta c\n",
      "\n",
      "[50 | 1271.64] loss=2.26 avg=2.98\n",
      "Saving ../models/FDT/model-50\n",
      "======== SAMPLE 1 ========\n",
      "P, S2.5(e) of the Criminal Code (the \"Code\"), the Code or any other legislation that the Lieutenant Governor in Council considers necessary or advisable in the execution of the Code, including without limitation prohibitions against using or threatening to use force, violence or sexual violence in relation to any of the following, or any provision of the Code: a. An act of genocide or an act of genocide committed by members of an armed group that is designated under subsection (3) of the Code;\n",
      "\n",
      "b\n",
      "\n",
      "a denial of fundamental human rights in a manner that is inconsistent with, or amounts to, a violation of this Code;\n",
      "\n",
      "c. An act that constitutes the highest and most serious international criminal offence that would cause irreparable injury to any country; or,\n",
      "\n",
      "d. A violation of any other provision of the Code, including, without limitation:\n",
      "\n",
      "(i) prohibition against the production, supply, sale, export and possession of firearms or prohibited firearms;\n",
      "\n",
      "(ii) prohibition against the provision of support for, or reimbursement by, or to, persons listed in subparagraph iii of Article 32 of this Code;\n",
      "\n",
      "(iii) prohibition on the use, transfer, sale, export and possession of ammunition;\n",
      "\n",
      "(iv) prohibition on the exchange or transfer of information about persons listed in subparagraph iv of Article 32 of this Code;\n",
      "\n",
      "(v) prohibition on the transfer, destruction or loss of documents that include information about the status of information or documents stored regarding criminal offences under the Code;\n",
      "\n",
      "(vi) ban or restriction on the possession, importation, importation or export of firearms, ammunition or prohibited firearms;\n",
      "\n",
      "(vii) prohibition on the receipt, possession or use of ammunition or prohibited ammunition;\n",
      "\n",
      "(viii) an order or order of the President of the Security Council prohibiting any of the following acts by a person who is listed in any of subparagraphs vi-, xx-xxi of the subparagraph heading of Part II of Article 31: a. An act that constitutes a serious contravention of a provision of this Code or a provision of the Code, including, without limitation, prohibitions against: the application of the Code to conduct an examination or investigation of the activities of the Minister of Justice in connection with any matter that relates to war crimes committed during or after the time of a peace accord concluded by Canada and Russia;\n",
      "\n",
      "b. An act that constitutes a serious contravention of a provision of this Code or a provision of the Code, including, without limitation, prohibitions against: the application of the Code to conduct an examination or investigation of the activities of the Ministry of Justice in connection with any matter that relates to the activities of the president of Russia prior to, prior to the signing of the peace agreement,\n",
      "\n",
      "c. An act that constitutes a serious contravention of a provision of this Code or a provision of the Code, including, without limitation, prohibitions against: the application of the Code to carry out any investigation that is authorized by the President of the Security Council in accordance with such authorization under subparagraph (iii); b) any restriction of the lawful activities of any person subject to any such restriction; or\n",
      "\n",
      "c. Any restriction of the lawful activities of any person subject to any such restriction; or\n",
      "\n",
      "d. Any prohibition on any act in contravention of the right of the Minister of Justice to carry out such a restriction.\n",
      "\n",
      "Penalties\n",
      "\n",
      "(2) Subject to subsection (4), an offender who contravenes subsection (1) is guilty of an offence and on conviction is subject, unless the court order otherwise, to: (a) Fine up to NIS 10,000 (the \"fine\") for each day after the day on which the contravention has commenced; (b) Fine NIS 1,000 and, except in the cases provided for in this clause, a fine NIS 2,000 for each day on which the same act or repeated acts are repeated; or\n",
      "\n",
      "(c) Fine NIS 5,000 and, except in the cases provided for in this clause, a fine NIS 8,000 for each day on which the same act or repeated acts are repeated.\n",
      "\n",
      "(3) An offender who contravenes subsection (1) is guilty of an offence and on conviction is subject, unless the court order otherwise, to: (a) Fine up to NIS 10,000 (the \"fine\") for each day after the day on which the contravention has commenced; (b) Fine NIS 1,000 and, except in the cases provided for in this clause, a fine NIS 2,000 for each day on which the same act or repeated acts are repeated; or\n",
      "\n",
      "(c) Fine NIS 5,000 and, except in the cases provided for in this clause, a fine NIS 8,000 for each day on which the same act or repeated acts are repeated.\n",
      "\n",
      "Section 3\n",
      "\n",
      "Application of Criminal Code and Special Provisions\n",
      "\n",
      "SECTION 3\n",
      "\n",
      "interrupted\n",
      "Saving ../models/FDT/model-57\n"
     ]
    }
   ],
   "source": [
    "if EXECUTE_OR_FINETUNNING != \"EXECUTE\":\n",
    "    sess = gpt2.start_tf_sess()\n",
    "\n",
    "    gpt2.finetune(sess,\n",
    "              dataset=FILENAME,\n",
    "              model_name=GTP2_MODEL_NAME,\n",
    "              model_dir=MODEL_DIRS,\n",
    "              steps=100,\n",
    "              restore_from='fresh',\n",
    "              run_name=MODEL_NAME,\n",
    "              print_every=10,\n",
    "              sample_every=10,\n",
    "              save_every=10,\n",
    "              checkpoint_dir=CHECKPOINT_DIR\n",
    "              )\n",
    "    if ENVIRONMENT==\"COLAB\":    \n",
    "        gpt2.copy_checkpoint_to_gdrive(run_name=MODEL_NAME)"
   ]
  },
  {
   "cell_type": "markdown",
   "metadata": {
    "colab_type": "text",
    "id": "qQJgV_b4bmzd"
   },
   "source": [
    "You're done! Feel free to go to the **Generate Text From The Trained Model** section to generate text based on your retrained model."
   ]
  },
  {
   "cell_type": "markdown",
   "metadata": {
    "colab_type": "text",
    "id": "pel-uBULXO2L"
   },
   "source": [
    "## Load a Trained Model Checkpoint\n",
    "\n",
    "Running the next cell will copy the `.rar` checkpoint file from your Google Drive into the Colaboratory VM."
   ]
  },
  {
   "cell_type": "code",
   "execution_count": 9,
   "metadata": {
    "colab": {},
    "colab_type": "code",
    "id": "DCcx5u7sbPTD"
   },
   "outputs": [],
   "source": [
    "if EXECUTE_OR_FINETUNNING == \"EXECUTE\":\n",
    "    if ENVIRONMENT==\"COLAB\":\n",
    "        gpt2.copy_checkpoint_from_gdrive(run_name=MODEL_NAME)"
   ]
  },
  {
   "cell_type": "markdown",
   "metadata": {
    "colab_type": "text",
    "id": "RTa6zf3e_9gV"
   },
   "source": [
    "The next cell will allow you to load the retrained model checkpoint + metadata necessary to generate text.\n",
    "\n",
    "**IMPORTANT NOTE:** If you want to rerun this cell, **restart the VM first** (Runtime -> Restart Runtime). You will need to rerun imports but not recopy files."
   ]
  },
  {
   "cell_type": "code",
   "execution_count": 10,
   "metadata": {
    "colab": {
     "base_uri": "https://localhost:8080/",
     "height": 51
    },
    "colab_type": "code",
    "id": "-fxL77nvAMAX",
    "outputId": "f6eb9ddb-b412-44c3-d6a6-e54dd1a30d72"
   },
   "outputs": [
    {
     "ename": "ValueError",
     "evalue": "Variable model/wpe already exists, disallowed. Did you mean to set reuse=True or reuse=tf.AUTO_REUSE in VarScope? Originally defined at:\n\n  File \"/home/santiago/anaconda3/envs/GPT2GPU/lib/python3.6/site-packages/tensorflow_core/python/framework/ops.py\", line 1748, in __init__\n    self._traceback = tf_stack.extract_stack()\n  File \"/home/santiago/anaconda3/envs/GPT2GPU/lib/python3.6/site-packages/tensorflow_core/python/framework/ops.py\", line 3426, in _create_op_internal\n    op_def=op_def)\n  File \"/home/santiago/anaconda3/envs/GPT2GPU/lib/python3.6/site-packages/tensorflow_core/python/framework/ops.py\", line 3357, in create_op\n    attrs, op_def, compute_device)\n  File \"/home/santiago/anaconda3/envs/GPT2GPU/lib/python3.6/site-packages/tensorflow_core/python/util/deprecation.py\", line 507, in new_func\n    return func(*args, **kwargs)\n  File \"/home/santiago/anaconda3/envs/GPT2GPU/lib/python3.6/site-packages/tensorflow_core/python/framework/op_def_library.py\", line 794, in _apply_op_helper\n    op_def=op_def)\n",
     "output_type": "error",
     "traceback": [
      "\u001b[0;31m---------------------------------------------------------------------------\u001b[0m",
      "\u001b[0;31mValueError\u001b[0m                                Traceback (most recent call last)",
      "\u001b[0;32m<ipython-input-10-82d3ad6fc87d>\u001b[0m in \u001b[0;36m<module>\u001b[0;34m\u001b[0m\n\u001b[1;32m      1\u001b[0m \u001b[0msess\u001b[0m \u001b[0;34m=\u001b[0m \u001b[0mgpt2\u001b[0m\u001b[0;34m.\u001b[0m\u001b[0mstart_tf_sess\u001b[0m\u001b[0;34m(\u001b[0m\u001b[0;34m)\u001b[0m\u001b[0;34m\u001b[0m\u001b[0;34m\u001b[0m\u001b[0m\n\u001b[0;32m----> 2\u001b[0;31m \u001b[0mgpt2\u001b[0m\u001b[0;34m.\u001b[0m\u001b[0mload_gpt2\u001b[0m\u001b[0;34m(\u001b[0m\u001b[0msess\u001b[0m\u001b[0;34m,\u001b[0m \u001b[0mrun_name\u001b[0m\u001b[0;34m=\u001b[0m\u001b[0mMODEL_NAME\u001b[0m\u001b[0;34m,\u001b[0m\u001b[0mmodel_dir\u001b[0m\u001b[0;34m=\u001b[0m\u001b[0mMODEL_DIRS\u001b[0m\u001b[0;34m)\u001b[0m\u001b[0;34m\u001b[0m\u001b[0;34m\u001b[0m\u001b[0m\n\u001b[0m",
      "\u001b[0;32m~/anaconda3/envs/GPT2GPU/lib/python3.6/site-packages/gpt_2_simple/gpt_2.py\u001b[0m in \u001b[0;36mload_gpt2\u001b[0;34m(sess, run_name, checkpoint_dir, model_name, model_dir, multi_gpu)\u001b[0m\n\u001b[1;32m    387\u001b[0m         \u001b[0mgpus\u001b[0m \u001b[0;34m=\u001b[0m \u001b[0mget_available_gpus\u001b[0m\u001b[0;34m(\u001b[0m\u001b[0;34m)\u001b[0m\u001b[0;34m\u001b[0m\u001b[0;34m\u001b[0m\u001b[0m\n\u001b[1;32m    388\u001b[0m \u001b[0;34m\u001b[0m\u001b[0m\n\u001b[0;32m--> 389\u001b[0;31m     \u001b[0moutput\u001b[0m \u001b[0;34m=\u001b[0m \u001b[0mmodel\u001b[0m\u001b[0;34m.\u001b[0m\u001b[0mmodel\u001b[0m\u001b[0;34m(\u001b[0m\u001b[0mhparams\u001b[0m\u001b[0;34m=\u001b[0m\u001b[0mhparams\u001b[0m\u001b[0;34m,\u001b[0m \u001b[0mX\u001b[0m\u001b[0;34m=\u001b[0m\u001b[0mcontext\u001b[0m\u001b[0;34m,\u001b[0m \u001b[0mgpus\u001b[0m\u001b[0;34m=\u001b[0m\u001b[0mgpus\u001b[0m\u001b[0;34m)\u001b[0m\u001b[0;34m\u001b[0m\u001b[0;34m\u001b[0m\u001b[0m\n\u001b[0m\u001b[1;32m    390\u001b[0m \u001b[0;34m\u001b[0m\u001b[0m\n\u001b[1;32m    391\u001b[0m     \u001b[0mckpt\u001b[0m \u001b[0;34m=\u001b[0m \u001b[0mtf\u001b[0m\u001b[0;34m.\u001b[0m\u001b[0mtrain\u001b[0m\u001b[0;34m.\u001b[0m\u001b[0mlatest_checkpoint\u001b[0m\u001b[0;34m(\u001b[0m\u001b[0mcheckpoint_path\u001b[0m\u001b[0;34m)\u001b[0m\u001b[0;34m\u001b[0m\u001b[0;34m\u001b[0m\u001b[0m\n",
      "\u001b[0;32m~/anaconda3/envs/GPT2GPU/lib/python3.6/site-packages/gpt_2_simple/src/model.py\u001b[0m in \u001b[0;36mmodel\u001b[0;34m(hparams, X, past, scope, gpus, reuse)\u001b[0m\n\u001b[1;32m    181\u001b[0m \u001b[0;34m\u001b[0m\u001b[0m\n\u001b[1;32m    182\u001b[0m         wpe = tf.compat.v1.get_variable('wpe', [hparams.n_ctx, hparams.n_embd],\n\u001b[0;32m--> 183\u001b[0;31m                              initializer=tf.compat.v1.random_normal_initializer(stddev=0.01))\n\u001b[0m\u001b[1;32m    184\u001b[0m         wte = tf.compat.v1.get_variable('wte', [hparams.n_vocab, hparams.n_embd],\n\u001b[1;32m    185\u001b[0m                              initializer=tf.compat.v1.random_normal_initializer(stddev=0.02))\n",
      "\u001b[0;32m~/anaconda3/envs/GPT2GPU/lib/python3.6/site-packages/tensorflow_core/python/ops/variable_scope.py\u001b[0m in \u001b[0;36mget_variable\u001b[0;34m(name, shape, dtype, initializer, regularizer, trainable, collections, caching_device, partitioner, validate_shape, use_resource, custom_getter, constraint, synchronization, aggregation)\u001b[0m\n\u001b[1;32m   1498\u001b[0m       \u001b[0mconstraint\u001b[0m\u001b[0;34m=\u001b[0m\u001b[0mconstraint\u001b[0m\u001b[0;34m,\u001b[0m\u001b[0;34m\u001b[0m\u001b[0;34m\u001b[0m\u001b[0m\n\u001b[1;32m   1499\u001b[0m       \u001b[0msynchronization\u001b[0m\u001b[0;34m=\u001b[0m\u001b[0msynchronization\u001b[0m\u001b[0;34m,\u001b[0m\u001b[0;34m\u001b[0m\u001b[0;34m\u001b[0m\u001b[0m\n\u001b[0;32m-> 1500\u001b[0;31m       aggregation=aggregation)\n\u001b[0m\u001b[1;32m   1501\u001b[0m \u001b[0;34m\u001b[0m\u001b[0m\n\u001b[1;32m   1502\u001b[0m \u001b[0;34m\u001b[0m\u001b[0m\n",
      "\u001b[0;32m~/anaconda3/envs/GPT2GPU/lib/python3.6/site-packages/tensorflow_core/python/ops/variable_scope.py\u001b[0m in \u001b[0;36mget_variable\u001b[0;34m(self, var_store, name, shape, dtype, initializer, regularizer, reuse, trainable, collections, caching_device, partitioner, validate_shape, use_resource, custom_getter, constraint, synchronization, aggregation)\u001b[0m\n\u001b[1;32m   1241\u001b[0m           \u001b[0mconstraint\u001b[0m\u001b[0;34m=\u001b[0m\u001b[0mconstraint\u001b[0m\u001b[0;34m,\u001b[0m\u001b[0;34m\u001b[0m\u001b[0;34m\u001b[0m\u001b[0m\n\u001b[1;32m   1242\u001b[0m           \u001b[0msynchronization\u001b[0m\u001b[0;34m=\u001b[0m\u001b[0msynchronization\u001b[0m\u001b[0;34m,\u001b[0m\u001b[0;34m\u001b[0m\u001b[0;34m\u001b[0m\u001b[0m\n\u001b[0;32m-> 1243\u001b[0;31m           aggregation=aggregation)\n\u001b[0m\u001b[1;32m   1244\u001b[0m \u001b[0;34m\u001b[0m\u001b[0m\n\u001b[1;32m   1245\u001b[0m   def _get_partitioned_variable(self,\n",
      "\u001b[0;32m~/anaconda3/envs/GPT2GPU/lib/python3.6/site-packages/tensorflow_core/python/ops/variable_scope.py\u001b[0m in \u001b[0;36mget_variable\u001b[0;34m(self, name, shape, dtype, initializer, regularizer, reuse, trainable, collections, caching_device, partitioner, validate_shape, use_resource, custom_getter, constraint, synchronization, aggregation)\u001b[0m\n\u001b[1;32m    565\u001b[0m           \u001b[0mconstraint\u001b[0m\u001b[0;34m=\u001b[0m\u001b[0mconstraint\u001b[0m\u001b[0;34m,\u001b[0m\u001b[0;34m\u001b[0m\u001b[0;34m\u001b[0m\u001b[0m\n\u001b[1;32m    566\u001b[0m           \u001b[0msynchronization\u001b[0m\u001b[0;34m=\u001b[0m\u001b[0msynchronization\u001b[0m\u001b[0;34m,\u001b[0m\u001b[0;34m\u001b[0m\u001b[0;34m\u001b[0m\u001b[0m\n\u001b[0;32m--> 567\u001b[0;31m           aggregation=aggregation)\n\u001b[0m\u001b[1;32m    568\u001b[0m \u001b[0;34m\u001b[0m\u001b[0m\n\u001b[1;32m    569\u001b[0m   def _get_partitioned_variable(self,\n",
      "\u001b[0;32m~/anaconda3/envs/GPT2GPU/lib/python3.6/site-packages/tensorflow_core/python/ops/variable_scope.py\u001b[0m in \u001b[0;36m_true_getter\u001b[0;34m(name, shape, dtype, initializer, regularizer, reuse, trainable, collections, caching_device, partitioner, validate_shape, use_resource, constraint, synchronization, aggregation)\u001b[0m\n\u001b[1;32m    517\u001b[0m           \u001b[0mconstraint\u001b[0m\u001b[0;34m=\u001b[0m\u001b[0mconstraint\u001b[0m\u001b[0;34m,\u001b[0m\u001b[0;34m\u001b[0m\u001b[0;34m\u001b[0m\u001b[0m\n\u001b[1;32m    518\u001b[0m           \u001b[0msynchronization\u001b[0m\u001b[0;34m=\u001b[0m\u001b[0msynchronization\u001b[0m\u001b[0;34m,\u001b[0m\u001b[0;34m\u001b[0m\u001b[0;34m\u001b[0m\u001b[0m\n\u001b[0;32m--> 519\u001b[0;31m           aggregation=aggregation)\n\u001b[0m\u001b[1;32m    520\u001b[0m \u001b[0;34m\u001b[0m\u001b[0m\n\u001b[1;32m    521\u001b[0m     synchronization, aggregation, trainable = (\n",
      "\u001b[0;32m~/anaconda3/envs/GPT2GPU/lib/python3.6/site-packages/tensorflow_core/python/ops/variable_scope.py\u001b[0m in \u001b[0;36m_get_single_variable\u001b[0;34m(self, name, shape, dtype, initializer, regularizer, partition_info, reuse, trainable, collections, caching_device, validate_shape, use_resource, constraint, synchronization, aggregation)\u001b[0m\n\u001b[1;32m    866\u001b[0m         \u001b[0mtb\u001b[0m \u001b[0;34m=\u001b[0m \u001b[0;34m[\u001b[0m\u001b[0mx\u001b[0m \u001b[0;32mfor\u001b[0m \u001b[0mx\u001b[0m \u001b[0;32min\u001b[0m \u001b[0mtb\u001b[0m \u001b[0;32mif\u001b[0m \u001b[0;34m\"tensorflow/python\"\u001b[0m \u001b[0;32mnot\u001b[0m \u001b[0;32min\u001b[0m \u001b[0mx\u001b[0m\u001b[0;34m[\u001b[0m\u001b[0;36m0\u001b[0m\u001b[0;34m]\u001b[0m\u001b[0;34m]\u001b[0m\u001b[0;34m[\u001b[0m\u001b[0;34m:\u001b[0m\u001b[0;36m5\u001b[0m\u001b[0;34m]\u001b[0m\u001b[0;34m\u001b[0m\u001b[0;34m\u001b[0m\u001b[0m\n\u001b[1;32m    867\u001b[0m         raise ValueError(\"%s Originally defined at:\\n\\n%s\" %\n\u001b[0;32m--> 868\u001b[0;31m                          (err_msg, \"\".join(traceback.format_list(tb))))\n\u001b[0m\u001b[1;32m    869\u001b[0m       \u001b[0mfound_var\u001b[0m \u001b[0;34m=\u001b[0m \u001b[0mself\u001b[0m\u001b[0;34m.\u001b[0m\u001b[0m_vars\u001b[0m\u001b[0;34m[\u001b[0m\u001b[0mname\u001b[0m\u001b[0;34m]\u001b[0m\u001b[0;34m\u001b[0m\u001b[0;34m\u001b[0m\u001b[0m\n\u001b[1;32m    870\u001b[0m       \u001b[0;32mif\u001b[0m \u001b[0;32mnot\u001b[0m \u001b[0mshape\u001b[0m\u001b[0;34m.\u001b[0m\u001b[0mis_compatible_with\u001b[0m\u001b[0;34m(\u001b[0m\u001b[0mfound_var\u001b[0m\u001b[0;34m.\u001b[0m\u001b[0mget_shape\u001b[0m\u001b[0;34m(\u001b[0m\u001b[0;34m)\u001b[0m\u001b[0;34m)\u001b[0m\u001b[0;34m:\u001b[0m\u001b[0;34m\u001b[0m\u001b[0;34m\u001b[0m\u001b[0m\n",
      "\u001b[0;31mValueError\u001b[0m: Variable model/wpe already exists, disallowed. Did you mean to set reuse=True or reuse=tf.AUTO_REUSE in VarScope? Originally defined at:\n\n  File \"/home/santiago/anaconda3/envs/GPT2GPU/lib/python3.6/site-packages/tensorflow_core/python/framework/ops.py\", line 1748, in __init__\n    self._traceback = tf_stack.extract_stack()\n  File \"/home/santiago/anaconda3/envs/GPT2GPU/lib/python3.6/site-packages/tensorflow_core/python/framework/ops.py\", line 3426, in _create_op_internal\n    op_def=op_def)\n  File \"/home/santiago/anaconda3/envs/GPT2GPU/lib/python3.6/site-packages/tensorflow_core/python/framework/ops.py\", line 3357, in create_op\n    attrs, op_def, compute_device)\n  File \"/home/santiago/anaconda3/envs/GPT2GPU/lib/python3.6/site-packages/tensorflow_core/python/util/deprecation.py\", line 507, in new_func\n    return func(*args, **kwargs)\n  File \"/home/santiago/anaconda3/envs/GPT2GPU/lib/python3.6/site-packages/tensorflow_core/python/framework/op_def_library.py\", line 794, in _apply_op_helper\n    op_def=op_def)\n"
     ]
    }
   ],
   "source": [
    "sess = gpt2.start_tf_sess()\n",
    "gpt2.load_gpt2(sess, run_name=MODEL_NAME,model_dir=MODEL_DIRS)"
   ]
  },
  {
   "cell_type": "markdown",
   "metadata": {
    "colab_type": "text",
    "id": "ClJwpF_ACONp"
   },
   "source": [
    "## Generate Text From The Trained Model\n",
    "\n",
    "After you've trained the model or loaded a retrained model from checkpoint, you can now generate text. `generate` generates a single text from the loaded model."
   ]
  },
  {
   "cell_type": "code",
   "execution_count": null,
   "metadata": {
    "colab": {
     "base_uri": "https://localhost:8080/",
     "height": 34
    },
    "colab_type": "code",
    "id": "4RNY6RBI9LmL",
    "outputId": "f8f1861e-36d4-4fb2-a70e-67b4e0a4dcf3"
   },
   "outputs": [],
   "source": [
    "gpt2.generate(sess, run_name=MODEL_NAME,truncate=\"<|endoftext|>\",model_dir=MODEL_DIRS)"
   ]
  },
  {
   "cell_type": "markdown",
   "metadata": {
    "colab_type": "text",
    "id": "oF4-PqF0Fl7R"
   },
   "source": [
    "If you're creating an API based on your model and need to pass the generated text elsewhere, you can do `text = gpt2.generate(sess, return_as_list=True)[0]`\n",
    "\n",
    "You can also pass in a `prefix` to the generate function to force the text to start with a given character sequence and generate text from there (good if you add an indicator when the text starts).\n",
    "\n",
    "You can also generate multiple texts at a time by specifing `nsamples`. Unique to GPT-2, you can pass a `batch_size` to generate multiple samples in parallel, giving a massive speedup (in Colaboratory, set a maximum of 20 for `batch_size`).\n",
    "\n",
    "Other optional-but-helpful parameters for `gpt2.generate` and friends:\n",
    "\n",
    "*  **`length`**: Number of tokens to generate (default 1023, the maximum)\n",
    "* **`temperature`**: The higher the temperature, the crazier the text (default 0.7, recommended to keep between 0.7 and 1.0)\n",
    "* **`top_k`**: Limits the generated guesses to the top *k* guesses (default 0 which disables the behavior; if the generated output is super crazy, you may want to set `top_k=40`)\n",
    "* **`top_p`**: Nucleus sampling: limits the generated guesses to a cumulative probability. (gets good results on a dataset with `top_p=0.9`)\n",
    "* **`truncate`**: Truncates the input text until a given sequence, excluding that sequence (e.g. if `truncate='<|endoftext|>'`, the returned text will include everything before the first `<|endoftext|>`). It may be useful to combine this with a smaller `length` if the input texts are short.\n",
    "*  **`include_prefix`**: If using `truncate` and `include_prefix=False`, the specified `prefix` will not be included in the returned text."
   ]
  },
  {
   "cell_type": "code",
   "execution_count": null,
   "metadata": {
    "colab": {
     "base_uri": "https://localhost:8080/",
     "height": 374
    },
    "colab_type": "code",
    "id": "8DKMc0fiej4N",
    "outputId": "e541768c-54a4-4693-87f6-113ebdd21384"
   },
   "outputs": [],
   "source": [
    "gpt2.generate(sess,\n",
    "              model_dirs=MODEL_DIRS,\n",
    "              length=250,\n",
    "              temperature=.9,\n",
    "              prefix=\"[POST] A partir de hoy se reduce el impuesto a las ganancias a 0% \\n[RESPONSE]\",\n",
    "              nsamples=5,\n",
    "              batch_size=5,\n",
    "              truncate=\"<|endoftext|>\"\n",
    "              )"
   ]
  },
  {
   "cell_type": "markdown",
   "metadata": {
    "colab_type": "text",
    "id": "zjjEN2Tafhl2"
   },
   "source": [
    "For bulk generation, you can generate a large amount of text to a file and sort out the samples locally on your computer. The next cell will generate a generated text file with a unique timestamp.\n",
    "\n",
    "You can rerun the cells as many times as you want for even more generated texts!"
   ]
  },
  {
   "cell_type": "code",
   "execution_count": null,
   "metadata": {
    "colab": {},
    "colab_type": "code",
    "id": "Fa6p6arifSL0"
   },
   "outputs": [],
   "source": [
    "gen_file = 'gpt2_gentext_{:%Y%m%d_%H%M%S}.txt'.format(datetime.utcnow())\n",
    "\n",
    "gpt2.generate_to_file(sess,\n",
    "                      destination_path=gen_file,\n",
    "                      model_dirs=MODEL_DIRS,\n",
    "                      length=500,\n",
    "                      temperature=0.7,\n",
    "                      nsamples=100,\n",
    "                      batch_size=20\n",
    "                      )"
   ]
  },
  {
   "cell_type": "code",
   "execution_count": null,
   "metadata": {
    "colab": {},
    "colab_type": "code",
    "id": "0-LRex8lfv1g"
   },
   "outputs": [],
   "source": [
    "# may have to run twice to get file to download\n",
    "files.download(gen_file)"
   ]
  },
  {
   "cell_type": "markdown",
   "metadata": {
    "colab_type": "text",
    "id": "QQAN3M6RT7Kj"
   },
   "source": [
    "## Generate Text From The Pretrained Model\n",
    "\n",
    "If you want to generate text from the pretrained model, not a finetuned model, pass `model_name` to `gpt2.load_gpt2()` and `gpt2.generate()`.\n",
    "\n",
    "This is currently the only way to generate text from the 774M or 1558M models with this notebook."
   ]
  },
  {
   "cell_type": "code",
   "execution_count": null,
   "metadata": {
    "colab": {},
    "colab_type": "code",
    "id": "hsUd_jHgUZnD"
   },
   "outputs": [],
   "source": [
    "#model_name = \"774M\"\n",
    "\n",
    "#gpt2.download_gpt2(model_name=model_name)"
   ]
  },
  {
   "cell_type": "code",
   "execution_count": null,
   "metadata": {
    "colab": {},
    "colab_type": "code",
    "id": "BAe4NpKNUj2C"
   },
   "outputs": [],
   "source": [
    "#sess = gpt2.start_tf_sess()\n",
    "\n",
    "#gpt2.load_gpt2(sess, model_name=model_name)"
   ]
  },
  {
   "cell_type": "code",
   "execution_count": null,
   "metadata": {
    "colab": {},
    "colab_type": "code",
    "id": "-xInIZKaU104"
   },
   "outputs": [],
   "source": [
    "#gpt2.generate(sess,\n",
    "#              model_name=model_name,\n",
    "#              prefix=\"The secret of life is\",\n",
    "#              length=100,\n",
    "#              temperature=0.7,\n",
    "#              top_p=0.9,\n",
    "#              nsamples=5,\n",
    "#              batch_size=5\n",
    "#              )"
   ]
  },
  {
   "cell_type": "markdown",
   "metadata": {
    "colab_type": "text",
    "id": "ig-KVgkCDCKD"
   },
   "source": [
    "# Etcetera\n",
    "\n",
    "If the notebook has errors (e.g. GPU Sync Fail), force-kill the Colaboratory virtual machine and restart it with the command below:"
   ]
  },
  {
   "cell_type": "code",
   "execution_count": null,
   "metadata": {
    "colab": {},
    "colab_type": "code",
    "id": "rIHiVP53FnsX"
   },
   "outputs": [],
   "source": [
    "#!kill -9 -1"
   ]
  },
  {
   "cell_type": "markdown",
   "metadata": {
    "colab_type": "text",
    "id": "wmTXWNUygS5E"
   },
   "source": [
    "# LICENSE\n",
    "\n",
    "MIT License\n",
    "\n",
    "Copyright (c) 2019 Max Woolf\n",
    "\n",
    "Permission is hereby granted, free of charge, to any person obtaining a copy\n",
    "of this software and associated documentation files (the \"Software\"), to deal\n",
    "in the Software without restriction, including without limitation the rights\n",
    "to use, copy, modify, merge, publish, distribute, sublicense, and/or sell\n",
    "copies of the Software, and to permit persons to whom the Software is\n",
    "furnished to do so, subject to the following conditions:\n",
    "\n",
    "The above copyright notice and this permission notice shall be included in all\n",
    "copies or substantial portions of the Software.\n",
    "\n",
    "THE SOFTWARE IS PROVIDED \"AS IS\", WITHOUT WARRANTY OF ANY KIND, EXPRESS OR\n",
    "IMPLIED, INCLUDING BUT NOT LIMITED TO THE WARRANTIES OF MERCHANTABILITY,\n",
    "FITNESS FOR A PARTICULAR PURPOSE AND NONINFRINGEMENT. IN NO EVENT SHALL THE\n",
    "AUTHORS OR COPYRIGHT HOLDERS BE LIABLE FOR ANY CLAIM, DAMAGES OR OTHER\n",
    "LIABILITY, WHETHER IN AN ACTION OF CONTRACT, TORT OR OTHERWISE, ARISING FROM,\n",
    "OUT OF OR IN CONNECTION WITH THE SOFTWARE OR THE USE OR OTHER DEALINGS IN THE\n",
    "SOFTWARE."
   ]
  }
 ],
 "metadata": {
  "accelerator": "GPU",
  "colab": {
   "collapsed_sections": [],
   "name": "FineTunningDeGPT2",
   "provenance": [],
   "toc_visible": true
  },
  "kernelspec": {
   "display_name": "Python [conda env:GPT2CPU]",
   "language": "python",
   "name": "conda-env-GPT2CPU-py"
  },
  "language_info": {
   "codemirror_mode": {
    "name": "ipython",
    "version": 3
   },
   "file_extension": ".py",
   "mimetype": "text/x-python",
   "name": "python",
   "nbconvert_exporter": "python",
   "pygments_lexer": "ipython3",
   "version": "3.6.10"
  }
 },
 "nbformat": 4,
 "nbformat_minor": 4
}
