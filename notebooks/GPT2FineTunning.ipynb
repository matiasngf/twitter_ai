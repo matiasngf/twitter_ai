{
 "cells": [
  {
   "cell_type": "markdown",
   "metadata": {
    "colab_type": "text",
    "id": "OJI7qd_zYIMh"
   },
   "source": [
    "# Esta es una adaptacion de una notebook encontrada buscando GPT2\n",
    "\n",
    "Vamos a reentrenar una red neuronal de generacion de texto para adaptarlo a la forma de escritura de nuestros tweeteros gratis usando la GPU de Collaboratory y la libreria `gpt-2-simple`\n",
    "\n",
    "Para saber más de `gpt-2-simple`, Visitar [this GitHub repository](https://github.com/minimaxir/gpt-2-simple). Tambien pueden leer el post original que usamos de base para esta notebook: [blog post](https://minimaxir.com/2019/09/howto-gpt2/)\n",
    "Link a la notebook original: https://colab.research.google.com/drive/1VLG8e7YSEwypxU-noRNhsv5dW4NfTGce by [Max Woolf](http://minimaxir.com)\n",
    "\n",
    "\n",
    "\n",
    "## Se le realizaron muchos cambios y adaptaciones.\n",
    "\n",
    "**Al ejecutar en Collaboratory hace falta prestar atencion a la linea que se conecta con GDrive**\n",
    "\n",
    "\n",
    "Ejecutar en Google Colab!\n",
    "\n",
    "Si se quiere ejecutar de manera local se requiere Python 3.6 y tensorflow 1.15\n",
    "\n",
    "Se puede conseguir corriendo:\n",
    "\n",
    "    conda create --name GPT2GPU python=3.6 jupyter -y\n",
    "    conda activate GPT2GPU\n",
    "    conda install --name GPT2GPU tensorflow-gpu=1.15 --channel conda-forge -y\n",
    "\n",
    "ó para correrlo con CPU\n",
    "\n",
    "    conda create --name GPT2CPU python=3.6 jupyter -y\n",
    "    conda activate GPT2CPU\n",
    "    conda install --name GPT2CPU tensorflow=1.15 --channel conda-forge -y\n"
   ]
  },
  {
   "cell_type": "markdown",
   "metadata": {
    "colab_type": "text",
    "id": "FOYwDJhSYIJy"
   },
   "source": [
    "## Configuracion antes de ejecutar\n",
    "\n",
    "se pueden cambiar algunos valores aqui y volver a correr toda la notebook para que entrene y guarde otro modelo"
   ]
  },
  {
   "cell_type": "code",
   "execution_count": 1,
   "metadata": {
    "colab": {},
    "colab_type": "code",
    "id": "s2M9348CYccL"
   },
   "outputs": [],
   "source": [
    "# Archivo para el fine Tunning, tiene que estar en la raiz de tu drive o en ../datasets/xxx.txt\n",
    "FILENAME = \"FDT_to_JPC.txt\"\n",
    "\n",
    "# Nombre del Modelo que vas a generar despues del finetunning, Ejemplo: FDT ó JPC\n",
    "MODEL_NAME = \"FDT\"   \n",
    "\n",
    "# Nombre del Modelo que vas a usar de base de GPT2, en Colab usar solo: 133M ó 355M, en Anaconda se puede 774M\n",
    "GTP2_MODEL_NAME = \"355M\"\n",
    "\n",
    "# Ejecutar un modelo preentrenado o hacer finetunning:  EXECUTE o FINETUNNING\n",
    "EXECUTE_OR_FINETUNNING = \"EXECUTE\"\n",
    "\n",
    "# COLAB or LOCAL\n",
    "ENVIRONMENT = \"LOCAL\" \n",
    "\n",
    "\n",
    "\n",
    "### NO TOCAR\n",
    "MODEL_DIRS='models'\n",
    "if ENVIRONMENT==\"LOCAL\":\n",
    "    MODEL_DIRS ='../' + MODEL_DIRS\n",
    "    FILENAME = \"../datasets/\" + FILENAME  \n",
    "    CHECKPOINT_DIR=MODEL_DIRS\n",
    "else:\n",
    "    CHECKPOINT_DIR=\"checkpoint\""
   ]
  },
  {
   "cell_type": "markdown",
   "metadata": {
    "colab_type": "text",
    "id": "H7LoMj4GA4n_"
   },
   "source": [
    "#  Empieza la notebook"
   ]
  },
  {
   "cell_type": "code",
   "execution_count": 2,
   "metadata": {},
   "outputs": [
    {
     "name": "stdout",
     "output_type": "stream",
     "text": [
      "Name: tensorflow\n",
      "Version: 1.15.0\n",
      "Summary: TensorFlow is an open source machine learning framework for everyone.\n",
      "Home-page: https://www.tensorflow.org/\n",
      "Author: Google Inc.\n",
      "Author-email: packages@tensorflow.org\n",
      "License: Apache 2.0\n",
      "Location: /home/santiago/anaconda3/envs/GPT2CPU/lib/python3.6/site-packages\n",
      "Requires: termcolor, absl-py, wheel, numpy, grpcio, six, tensorflow-estimator, opt-einsum, keras-preprocessing, google-pasta, astor, wrapt, protobuf, keras-applications, tensorboard, gast\n",
      "Required-by: \n"
     ]
    }
   ],
   "source": [
    "# Si esto no dice que tenes la version 1.15 de tensorflow no va a funcionar!\n",
    "!pip show tensorflow"
   ]
  },
  {
   "cell_type": "code",
   "execution_count": 3,
   "metadata": {
    "colab": {
     "base_uri": "https://localhost:8080/",
     "height": 187
    },
    "colab_type": "code",
    "id": "KBkpRgBCBS2_",
    "outputId": "d3a1ca20-b929-4c1b-a9e1-d5d67a45440a"
   },
   "outputs": [
    {
     "name": "stdout",
     "output_type": "stream",
     "text": [
      "WARNING:tensorflow:\n",
      "The TensorFlow contrib module will not be included in TensorFlow 2.0.\n",
      "For more information, please see:\n",
      "  * https://github.com/tensorflow/community/blob/master/rfcs/20180907-contrib-sunset.md\n",
      "  * https://github.com/tensorflow/addons\n",
      "  * https://github.com/tensorflow/io (for I/O related ops)\n",
      "If you depend on functionality not listed there, please file an issue.\n",
      "\n"
     ]
    }
   ],
   "source": [
    "if ENVIRONMENT==\"COLAB\":\n",
    "    %tensorflow_version 1.x\n",
    "    from google.colab import files\n",
    "else:\n",
    "    !pip install -q tensorflow-plot==0.3.0\n",
    "!pip install -q gpt-2-simple\n",
    "import gpt_2_simple as gpt2\n",
    "from datetime import datetime"
   ]
  },
  {
   "cell_type": "markdown",
   "metadata": {
    "colab_type": "text",
    "id": "Bj2IJLHP3KwE"
   },
   "source": [
    "## GPU\n",
    "\n",
    "Colaboratory usa tanto una Nvidia T4 GPU o una Nvidia K80 GPU. La T4 es ligeramente mas rapida que la K80\n",
    "\n",
    "Podes verificar en que estas corriendo usando esta celda"
   ]
  },
  {
   "cell_type": "code",
   "execution_count": 4,
   "metadata": {
    "colab": {
     "base_uri": "https://localhost:8080/",
     "height": 357
    },
    "colab_type": "code",
    "id": "sUmTooTW3osf",
    "outputId": "bba959a0-85ea-4862-b416-7a08c46f5e9b"
   },
   "outputs": [
    {
     "name": "stdout",
     "output_type": "stream",
     "text": [
      "Thu Aug  6 14:42:49 2020       \n",
      "+-----------------------------------------------------------------------------+\n",
      "| NVIDIA-SMI 440.100      Driver Version: 440.100      CUDA Version: 10.2     |\n",
      "|-------------------------------+----------------------+----------------------+\n",
      "| GPU  Name        Persistence-M| Bus-Id        Disp.A | Volatile Uncorr. ECC |\n",
      "| Fan  Temp  Perf  Pwr:Usage/Cap|         Memory-Usage | GPU-Util  Compute M. |\n",
      "|===============================+======================+======================|\n",
      "|   0  GeForce RTX 2060    Off  | 00000000:01:00.0 Off |                  N/A |\n",
      "| N/A   61C    P8     9W /  N/A |   1139MiB /  5934MiB |     36%      Default |\n",
      "+-------------------------------+----------------------+----------------------+\n",
      "                                                                               \n",
      "+-----------------------------------------------------------------------------+\n",
      "| Processes:                                                       GPU Memory |\n",
      "|  GPU       PID   Type   Process name                             Usage      |\n",
      "|=============================================================================|\n",
      "|    0      1152      G   /usr/lib/xorg/Xorg                           195MiB |\n",
      "|    0      1815      G   /usr/bin/gnome-shell                         150MiB |\n",
      "|    0      4135      G   ...AAAAAAAAAAAACAAAAAAAAAA= --shared-files   790MiB |\n",
      "+-----------------------------------------------------------------------------+\n"
     ]
    }
   ],
   "source": [
    "!nvidia-smi"
   ]
  },
  {
   "cell_type": "markdown",
   "metadata": {
    "colab_type": "text",
    "id": "0wXB05bPDYxS"
   },
   "source": [
    "## Downloading GPT-2\n",
    "\n",
    "If you're retraining a model on new text, you need to download the GPT-2 model first. \n",
    "\n",
    "There are three released sizes of GPT-2:\n",
    "\n",
    "* `124M` (default): the \"small\" model, 500MB on disk.\n",
    "* `355M`: the \"medium\" model, 1.5GB on disk.\n",
    "* `774M`: the \"large\" model, cannot currently be finetuned with Colaboratory but can be used to generate text from the pretrained model (see later in Notebook)\n",
    "* `1558M`: the \"extra large\", true model. Will not work if a K80 GPU is attached to the notebook. (like `774M`, it cannot be finetuned).\n",
    "\n",
    "Larger models have more knowledge, but take longer to finetune and longer to generate text. You can specify which base model to use by changing `model_name` in the cells below.\n",
    "\n",
    "The next cell downloads it from Google Cloud Storage and saves it in the Colaboratory VM at `/models/<model_name>`.\n",
    "\n",
    "This model isn't permanently saved in the Colaboratory VM; you'll have to redownload it if you want to retrain it at a later time."
   ]
  },
  {
   "cell_type": "code",
   "execution_count": 5,
   "metadata": {
    "colab": {
     "base_uri": "https://localhost:8080/",
     "height": 136
    },
    "colab_type": "code",
    "id": "P8wSlgXoDPCR",
    "outputId": "a3e2a479-d038-47a7-e0f2-05cf859dbf54"
   },
   "outputs": [],
   "source": [
    "import os\n",
    "if not os.path.exists(MODEL_DIRS+\"/\"+GTP2_MODEL_NAME):\n",
    "    gpt2.download_gpt2(model_name=GTP2_MODEL_NAME,model_dir=MODEL_DIRS)"
   ]
  },
  {
   "cell_type": "markdown",
   "metadata": {
    "colab_type": "text",
    "id": "N8KXuKWzQSsN"
   },
   "source": [
    "## Mounting Google Drive\n",
    "\n",
    "The best way to get input text to-be-trained into the Colaboratory VM, and to get the trained model *out* of Colaboratory, is to route it through Google Drive *first*.\n",
    "\n",
    "Running this cell (which will only work in Colaboratory) will mount your personal Google Drive in the VM, which later cells can use to get data in/out. (it will ask for an auth code; that auth is not saved anywhere)"
   ]
  },
  {
   "cell_type": "code",
   "execution_count": 6,
   "metadata": {
    "colab": {
     "base_uri": "https://localhost:8080/",
     "height": 122
    },
    "colab_type": "code",
    "id": "puq4iC6vUAHc",
    "outputId": "d4d99a03-01a2-4950-f31f-1e9d36b5e4c2"
   },
   "outputs": [],
   "source": [
    "if ENVIRONMENT==\"COLAB\":\n",
    "    gpt2.mount_gdrive()"
   ]
  },
  {
   "cell_type": "markdown",
   "metadata": {
    "colab_type": "text",
    "id": "BT__brhBCvJu"
   },
   "source": [
    "## Uploading a Text File to be Trained to Colaboratory\n",
    "\n",
    "In the Colaboratory Notebook sidebar on the left of the screen, select *Files*. From there you can upload files:\n",
    "\n",
    "![alt text](https://i.imgur.com/TGcZT4h.png)\n",
    "\n",
    "Upload **any smaller text file**  (<10 MB) and update the file name in the cell below, then run the cell."
   ]
  },
  {
   "cell_type": "code",
   "execution_count": 7,
   "metadata": {
    "colab": {},
    "colab_type": "code",
    "id": "6OFnPCLADfll"
   },
   "outputs": [],
   "source": [
    "#FDT = \"FDT_to_JPC.txt\""
   ]
  },
  {
   "cell_type": "markdown",
   "metadata": {
    "colab_type": "text",
    "id": "HeeSKtNWUedE"
   },
   "source": [
    "If your text file is larger than 10MB, it is recommended to upload that file to Google Drive first, then copy that file from Google Drive to the Colaboratory VM."
   ]
  },
  {
   "cell_type": "code",
   "execution_count": 8,
   "metadata": {
    "colab": {},
    "colab_type": "code",
    "id": "-Z6okFD8VKtS"
   },
   "outputs": [],
   "source": [
    "if ENVIRONMENT==\"COLAB\":\n",
    "    gpt2.copy_file_from_gdrive(FILENAME)"
   ]
  },
  {
   "cell_type": "markdown",
   "metadata": {
    "colab_type": "text",
    "id": "LdpZQXknFNY3"
   },
   "source": [
    "## Finetune GPT-2\n",
    "\n",
    "The next cell will start the actual finetuning of GPT-2. It creates a persistent TensorFlow session which stores the training config, then runs the training for the specified number of `steps`. (to have the finetuning run indefinitely, set `steps = -1`)\n",
    "\n",
    "The model checkpoints will be saved in `/checkpoint/run1` by default. The checkpoints are saved every 500 steps (can be changed) and when the cell is stopped.\n",
    "\n",
    "The training might time out after 4ish hours; make sure you end training and save the results so you don't lose them!\n",
    "\n",
    "**IMPORTANT NOTE:** If you want to rerun this cell, **restart the VM first** (Runtime -> Restart Runtime). You will need to rerun imports but not recopy files.\n",
    "\n",
    "Other optional-but-helpful parameters for `gpt2.finetune`:\n",
    "\n",
    "\n",
    "*  **`restore_from`**: Set to `fresh` to start training from the base GPT-2, or set to `latest` to restart training from an existing checkpoint.\n",
    "* **`sample_every`**: Number of steps to print example output\n",
    "* **`print_every`**: Number of steps to print training progress.\n",
    "* **`learning_rate`**:  Learning rate for the training. (default `1e-4`, can lower to `1e-5` if you have <1MB input data)\n",
    "*  **`run_name`**: subfolder within `checkpoint` to save the model. This is useful if you want to work with multiple models (will also need to specify  `run_name` when loading the model)\n",
    "* **`overwrite`**: Set to `True` if you want to continue finetuning an existing model (w/ `restore_from='latest'`) without creating duplicate copies. "
   ]
  },
  {
   "cell_type": "markdown",
   "metadata": {
    "colab_type": "text",
    "id": "IXSuTNERaw6K"
   },
   "source": [
    "After the model is trained, you can copy the checkpoint folder to your own Google Drive.\n",
    "\n",
    "If you want to download it to your personal computer, it's strongly recommended you copy it there first, then download from Google Drive. The checkpoint folder is copied as a `.rar` compressed file; you can download it and uncompress it locally."
   ]
  },
  {
   "cell_type": "code",
   "execution_count": 9,
   "metadata": {
    "colab": {
     "base_uri": "https://localhost:8080/",
     "height": 1000
    },
    "colab_type": "code",
    "id": "VHdTL8NDbAh3",
    "outputId": "b7305e58-2ebb-40af-a57b-b7295563bcba"
   },
   "outputs": [],
   "source": [
    "if EXECUTE_OR_FINETUNNING != \"EXECUTE\":\n",
    "    sess = gpt2.start_tf_sess()\n",
    "\n",
    "    gpt2.finetune(sess,\n",
    "              dataset=FILENAME,\n",
    "              model_name=GTP2_MODEL_NAME,\n",
    "              model_dir=MODEL_DIRS,\n",
    "              steps=100,\n",
    "              restore_from='fresh',\n",
    "              run_name=MODEL_NAME,\n",
    "              print_every=10,\n",
    "              sample_every=10,\n",
    "              save_every=10,\n",
    "              checkpoint_dir=CHECKPOINT_DIR\n",
    "              )\n",
    "    if ENVIRONMENT==\"COLAB\":    \n",
    "        gpt2.copy_checkpoint_to_gdrive(run_name=MODEL_NAME)"
   ]
  },
  {
   "cell_type": "markdown",
   "metadata": {
    "colab_type": "text",
    "id": "qQJgV_b4bmzd"
   },
   "source": [
    "You're done! Feel free to go to the **Generate Text From The Trained Model** section to generate text based on your retrained model."
   ]
  },
  {
   "cell_type": "markdown",
   "metadata": {
    "colab_type": "text",
    "id": "pel-uBULXO2L"
   },
   "source": [
    "## Load a Trained Model Checkpoint\n",
    "\n",
    "Running the next cell will copy the `.rar` checkpoint file from your Google Drive into the Colaboratory VM."
   ]
  },
  {
   "cell_type": "code",
   "execution_count": 10,
   "metadata": {
    "colab": {},
    "colab_type": "code",
    "id": "DCcx5u7sbPTD"
   },
   "outputs": [],
   "source": [
    "if EXECUTE_OR_FINETUNNING == \"EXECUTE\":\n",
    "    if ENVIRONMENT==\"COLAB\":\n",
    "        gpt2.copy_checkpoint_from_gdrive(run_name=MODEL_NAME)"
   ]
  },
  {
   "cell_type": "markdown",
   "metadata": {
    "colab_type": "text",
    "id": "RTa6zf3e_9gV"
   },
   "source": [
    "The next cell will allow you to load the retrained model checkpoint + metadata necessary to generate text.\n",
    "\n",
    "**IMPORTANT NOTE:** If you want to rerun this cell, **restart the VM first** (Runtime -> Restart Runtime). You will need to rerun imports but not recopy files."
   ]
  },
  {
   "cell_type": "code",
   "execution_count": 11,
   "metadata": {
    "colab": {
     "base_uri": "https://localhost:8080/",
     "height": 51
    },
    "colab_type": "code",
    "id": "-fxL77nvAMAX",
    "outputId": "f6eb9ddb-b412-44c3-d6a6-e54dd1a30d72"
   },
   "outputs": [
    {
     "name": "stdout",
     "output_type": "stream",
     "text": [
      "Loading checkpoint ../models/FDT/model-2000\n",
      "INFO:tensorflow:Restoring parameters from ../models/FDT/model-2000\n"
     ]
    }
   ],
   "source": [
    "sess = gpt2.start_tf_sess()\n",
    "gpt2.load_gpt2(sess, run_name=MODEL_NAME,checkpoint_dir=MODEL_DIRS)"
   ]
  },
  {
   "cell_type": "markdown",
   "metadata": {
    "colab_type": "text",
    "id": "ClJwpF_ACONp"
   },
   "source": [
    "## Generate Text From The Trained Model\n",
    "\n",
    "After you've trained the model or loaded a retrained model from checkpoint, you can now generate text. `generate` generates a single text from the loaded model."
   ]
  },
  {
   "cell_type": "code",
   "execution_count": 13,
   "metadata": {
    "colab": {
     "base_uri": "https://localhost:8080/",
     "height": 34
    },
    "colab_type": "code",
    "id": "4RNY6RBI9LmL",
    "outputId": "f8f1861e-36d4-4fb2-a70e-67b4e0a4dcf3"
   },
   "outputs": [
    {
     "name": "stdout",
     "output_type": "stream",
     "text": [
      " que insensate y reivindicaron en la presente y future la bajeza de los clases afechas saliendo la concepcion #DondeEsta\n",
      "\n"
     ]
    }
   ],
   "source": [
    "gpt2.generate(sess, run_name=MODEL_NAME,truncate=\"<|endoftext|>\",checkpoint_dir=MODEL_DIRS)"
   ]
  },
  {
   "cell_type": "markdown",
   "metadata": {
    "colab_type": "text",
    "id": "oF4-PqF0Fl7R"
   },
   "source": [
    "If you're creating an API based on your model and need to pass the generated text elsewhere, you can do `text = gpt2.generate(sess, return_as_list=True)[0]`\n",
    "\n",
    "You can also pass in a `prefix` to the generate function to force the text to start with a given character sequence and generate text from there (good if you add an indicator when the text starts).\n",
    "\n",
    "You can also generate multiple texts at a time by specifing `nsamples`. Unique to GPT-2, you can pass a `batch_size` to generate multiple samples in parallel, giving a massive speedup (in Colaboratory, set a maximum of 20 for `batch_size`).\n",
    "\n",
    "Other optional-but-helpful parameters for `gpt2.generate` and friends:\n",
    "\n",
    "*  **`length`**: Number of tokens to generate (default 1023, the maximum)\n",
    "* **`temperature`**: The higher the temperature, the crazier the text (default 0.7, recommended to keep between 0.7 and 1.0)\n",
    "* **`top_k`**: Limits the generated guesses to the top *k* guesses (default 0 which disables the behavior; if the generated output is super crazy, you may want to set `top_k=40`)\n",
    "* **`top_p`**: Nucleus sampling: limits the generated guesses to a cumulative probability. (gets good results on a dataset with `top_p=0.9`)\n",
    "* **`truncate`**: Truncates the input text until a given sequence, excluding that sequence (e.g. if `truncate='<|endoftext|>'`, the returned text will include everything before the first `<|endoftext|>`). It may be useful to combine this with a smaller `length` if the input texts are short.\n",
    "*  **`include_prefix`**: If using `truncate` and `include_prefix=False`, the specified `prefix` will not be included in the returned text."
   ]
  },
  {
   "cell_type": "code",
   "execution_count": 20,
   "metadata": {
    "colab": {
     "base_uri": "https://localhost:8080/",
     "height": 374
    },
    "colab_type": "code",
    "id": "8DKMc0fiej4N",
    "outputId": "e541768c-54a4-4693-87f6-113ebdd21384"
   },
   "outputs": [
    {
     "name": "stdout",
     "output_type": "stream",
     "text": [
      "[POST] A partir de hoy se reduce el impuesto a las ganancias a 0% \n",
      "[RESPONSE] @diegocabot Excelente ! No hay diga cuenta lo que dicen....\n",
      "\n",
      "====================\n",
      "[POST] A partir de hoy se reduce el impuesto a las ganancias a 0% \n",
      "[RESPONSE] @martintetaz La sororidad de impuestos tuvo marginales dictamos que son lograr que lo denuncio hoy en 4 años de compañeros y doubidos. Le hablaba a un canjejar ▀ https://t.co/Vya6C5eH7a5 ▀ https://t.co/pEDAM5BxCC\n",
      "\n",
      "====================\n",
      "[POST] A partir de hoy se reduce el impuesto a las ganancias a 0% \n",
      "[RESPONSE] @JuanGrabois Todo lo que hizo, uno de los days, lo que sucedió en los años oscuros de nuestro país. Eso pensé que su decisión dice Daniel Goleman. \n",
      "Fue la convocación deloridad entre todas las etapas. Encuentran la bajeza que era ministra. https://t.co/tcbEAUr83u\n",
      "\n",
      "====================\n",
      "[POST] A partir de hoy se reduce el impuesto a las ganancias a 0% \n",
      "[RESPONSE] @lucasilardo @alferdez Algún día de lo que es un chiste? Me da asco!! Mano! Vamos a creer! \n",
      "\n",
      "====================\n",
      "[POST] A partir de hoy se reduce el impuesto a las ganancias a 0% \n",
      "[RESPONSE] @diegocabot Fin largo Los Reyes de Chaco son malos. Los cholas se la deben mucho justicia. Pero... los dueños se bajaran los dueños los dueños del table y los dueños pennativos  por la gente. \n",
      "\n",
      " À legieron falta es q let alonees los rechazos y los dueños pennativos  por la gente \n",
      "No vuelven a votar !!!!!\n",
      "\n",
      "====================\n"
     ]
    }
   ],
   "source": [
    "gpt2.generate(sess,\n",
    "              checkpoint_dir=CHECKPOINT_DIR,\n",
    "              run_name=MODEL_NAME,\n",
    "              length=250,\n",
    "              temperature=.9,\n",
    "              prefix=\"[POST] A partir de hoy se reduce el impuesto a las ganancias a 0% \\n[RESPONSE]\",\n",
    "              nsamples=5,\n",
    "              batch_size=5,\n",
    "              truncate=\"<|endoftext|>\"\n",
    "              )"
   ]
  },
  {
   "cell_type": "markdown",
   "metadata": {
    "colab_type": "text",
    "id": "zjjEN2Tafhl2"
   },
   "source": [
    "For bulk generation, you can generate a large amount of text to a file and sort out the samples locally on your computer. The next cell will generate a generated text file with a unique timestamp.\n",
    "\n",
    "You can rerun the cells as many times as you want for even more generated texts!"
   ]
  },
  {
   "cell_type": "code",
   "execution_count": null,
   "metadata": {
    "colab": {},
    "colab_type": "code",
    "id": "Fa6p6arifSL0"
   },
   "outputs": [],
   "source": [
    "gen_file = 'gpt2_gentext_{:%Y%m%d_%H%M%S}.txt'.format(datetime.utcnow())\n",
    "\n",
    "gpt2.generate_to_file(sess,\n",
    "                      destination_path=gen_file,\n",
    "                      checkpoint_dir=CHECKPOINT_DIR,\n",
    "                      run_name=MODEL_NAME,\n",
    "                      length=500,\n",
    "                      temperature=0.7,\n",
    "                      nsamples=100,\n",
    "                      batch_size=20\n",
    "                      )"
   ]
  },
  {
   "cell_type": "code",
   "execution_count": null,
   "metadata": {
    "colab": {},
    "colab_type": "code",
    "id": "0-LRex8lfv1g"
   },
   "outputs": [],
   "source": [
    "# may have to run twice to get file to download\n",
    "files.download(gen_file)"
   ]
  },
  {
   "cell_type": "markdown",
   "metadata": {
    "colab_type": "text",
    "id": "ig-KVgkCDCKD"
   },
   "source": [
    "# Etcetera\n",
    "\n",
    "If the notebook has errors (e.g. GPU Sync Fail), force-kill the Colaboratory virtual machine and restart it with the command below:"
   ]
  },
  {
   "cell_type": "code",
   "execution_count": null,
   "metadata": {
    "colab": {},
    "colab_type": "code",
    "id": "rIHiVP53FnsX"
   },
   "outputs": [],
   "source": [
    "#!kill -9 -1"
   ]
  },
  {
   "cell_type": "markdown",
   "metadata": {
    "colab_type": "text",
    "id": "wmTXWNUygS5E"
   },
   "source": [
    "# LICENSE\n",
    "\n",
    "MIT License\n",
    "\n",
    "Copyright (c) 2019 Max Woolf\n",
    "\n",
    "Permission is hereby granted, free of charge, to any person obtaining a copy\n",
    "of this software and associated documentation files (the \"Software\"), to deal\n",
    "in the Software without restriction, including without limitation the rights\n",
    "to use, copy, modify, merge, publish, distribute, sublicense, and/or sell\n",
    "copies of the Software, and to permit persons to whom the Software is\n",
    "furnished to do so, subject to the following conditions:\n",
    "\n",
    "The above copyright notice and this permission notice shall be included in all\n",
    "copies or substantial portions of the Software.\n",
    "\n",
    "THE SOFTWARE IS PROVIDED \"AS IS\", WITHOUT WARRANTY OF ANY KIND, EXPRESS OR\n",
    "IMPLIED, INCLUDING BUT NOT LIMITED TO THE WARRANTIES OF MERCHANTABILITY,\n",
    "FITNESS FOR A PARTICULAR PURPOSE AND NONINFRINGEMENT. IN NO EVENT SHALL THE\n",
    "AUTHORS OR COPYRIGHT HOLDERS BE LIABLE FOR ANY CLAIM, DAMAGES OR OTHER\n",
    "LIABILITY, WHETHER IN AN ACTION OF CONTRACT, TORT OR OTHERWISE, ARISING FROM,\n",
    "OUT OF OR IN CONNECTION WITH THE SOFTWARE OR THE USE OR OTHER DEALINGS IN THE\n",
    "SOFTWARE."
   ]
  }
 ],
 "metadata": {
  "accelerator": "GPU",
  "colab": {
   "collapsed_sections": [],
   "name": "FineTunningDeGPT2",
   "provenance": [],
   "toc_visible": true
  },
  "kernelspec": {
   "display_name": "Python [conda env:GPT2CPU]",
   "language": "python",
   "name": "conda-env-GPT2CPU-py"
  },
  "language_info": {
   "codemirror_mode": {
    "name": "ipython",
    "version": 3
   },
   "file_extension": ".py",
   "mimetype": "text/x-python",
   "name": "python",
   "nbconvert_exporter": "python",
   "pygments_lexer": "ipython3",
   "version": "3.6.10"
  }
 },
 "nbformat": 4,
 "nbformat_minor": 4
}
