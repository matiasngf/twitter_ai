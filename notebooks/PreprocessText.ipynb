{
 "cells": [
  {
   "cell_type": "code",
   "execution_count": 28,
   "metadata": {},
   "outputs": [],
   "source": [
    "import pandas as pd\n",
    "from threading import Thread\n",
    "pd.set_option('max_colwidth',500)\n",
    "import multiprocessing"
   ]
  },
  {
   "cell_type": "code",
   "execution_count": 29,
   "metadata": {},
   "outputs": [
    {
     "data": {
      "text/plain": [
       "'@ # tweet hola ! 😀'"
      ]
     },
     "execution_count": 29,
     "metadata": {},
     "output_type": "execute_result"
    }
   ],
   "source": [
    "import sys\n",
    "sys.path.append(\"../scripts/\")\n",
    "import clean_text\n",
    "from importlib import reload\n",
    "reload(clean_text)\n",
    "clean_text.clean('@esto es un #tweet. Hola!!😀', filter_stopwords=True)"
   ]
  },
  {
   "cell_type": "code",
   "execution_count": 9,
   "metadata": {},
   "outputs": [],
   "source": [
    "tweets = pd.read_csv('../datasets/tweets_202007282056.csv')"
   ]
  },
  {
   "cell_type": "code",
   "execution_count": 10,
   "metadata": {},
   "outputs": [
    {
     "name": "stdout",
     "output_type": "stream",
     "text": [
      "2240646\n",
      "Index(['tweet_id', 'conversation_id', 'user_id', 'created_at', 'lang',\n",
      "       'retweet_count', 'favorite_count', 'reply_count', 'quote_count',\n",
      "       'is_reply', 'replied_id', 'replied_user_id', 'is_quote', 'quoted_id',\n",
      "       'full_text', 'source', 'scrapped_at', 'user_mentions_count',\n",
      "       'hashtags_count', 'urls_count', 'media_count', 'replied_original'],\n",
      "      dtype='object')\n"
     ]
    },
    {
     "data": {
      "text/html": [
       "<div>\n",
       "<style scoped>\n",
       "    .dataframe tbody tr th:only-of-type {\n",
       "        vertical-align: middle;\n",
       "    }\n",
       "\n",
       "    .dataframe tbody tr th {\n",
       "        vertical-align: top;\n",
       "    }\n",
       "\n",
       "    .dataframe thead th {\n",
       "        text-align: right;\n",
       "    }\n",
       "</style>\n",
       "<table border=\"1\" class=\"dataframe\">\n",
       "  <thead>\n",
       "    <tr style=\"text-align: right;\">\n",
       "      <th></th>\n",
       "      <th>tweet_id</th>\n",
       "      <th>conversation_id</th>\n",
       "      <th>user_id</th>\n",
       "      <th>created_at</th>\n",
       "      <th>lang</th>\n",
       "      <th>retweet_count</th>\n",
       "      <th>favorite_count</th>\n",
       "      <th>reply_count</th>\n",
       "      <th>quote_count</th>\n",
       "      <th>is_reply</th>\n",
       "      <th>...</th>\n",
       "      <th>is_quote</th>\n",
       "      <th>quoted_id</th>\n",
       "      <th>full_text</th>\n",
       "      <th>source</th>\n",
       "      <th>scrapped_at</th>\n",
       "      <th>user_mentions_count</th>\n",
       "      <th>hashtags_count</th>\n",
       "      <th>urls_count</th>\n",
       "      <th>media_count</th>\n",
       "      <th>replied_original</th>\n",
       "    </tr>\n",
       "  </thead>\n",
       "  <tbody>\n",
       "    <tr>\n",
       "      <th>1000001051574046720</th>\n",
       "      <td>1000001051574046720</td>\n",
       "      <td>1000001051574046720</td>\n",
       "      <td>323956672</td>\n",
       "      <td>2018-05-25 13:10:04.0</td>\n",
       "      <td>es</td>\n",
       "      <td>9</td>\n",
       "      <td>12</td>\n",
       "      <td>1</td>\n",
       "      <td>0</td>\n",
       "      <td>0</td>\n",
       "      <td>...</td>\n",
       "      <td>0</td>\n",
       "      <td>NaN</td>\n",
       "      <td>Feliz día de la Patria! 🇦🇷 https://t.co/XfrTi29VcC</td>\n",
       "      <td>Twitter for iPhone</td>\n",
       "      <td>2020-07-28 05:10:54.0</td>\n",
       "      <td>0</td>\n",
       "      <td>0</td>\n",
       "      <td>0</td>\n",
       "      <td>1</td>\n",
       "      <td>NaN</td>\n",
       "    </tr>\n",
       "    <tr>\n",
       "      <th>1000002592955609088</th>\n",
       "      <td>1000002592955609088</td>\n",
       "      <td>1000002592955609088</td>\n",
       "      <td>53851352</td>\n",
       "      <td>2018-05-25 13:16:11.0</td>\n",
       "      <td>es</td>\n",
       "      <td>596</td>\n",
       "      <td>1486</td>\n",
       "      <td>2</td>\n",
       "      <td>4</td>\n",
       "      <td>0</td>\n",
       "      <td>...</td>\n",
       "      <td>0</td>\n",
       "      <td>NaN</td>\n",
       "      <td>No busquen explicación, es amor.\\n#117AñosDeHistoria https://t.co/b2lueUKodj</td>\n",
       "      <td>Twitter for Android</td>\n",
       "      <td>2020-07-28 04:26:30.0</td>\n",
       "      <td>0</td>\n",
       "      <td>1</td>\n",
       "      <td>0</td>\n",
       "      <td>1</td>\n",
       "      <td>NaN</td>\n",
       "    </tr>\n",
       "    <tr>\n",
       "      <th>1000002668474101761</th>\n",
       "      <td>1000002668474101761</td>\n",
       "      <td>1000002668474101761</td>\n",
       "      <td>69668594</td>\n",
       "      <td>2018-05-25 13:16:29.0</td>\n",
       "      <td>es</td>\n",
       "      <td>5</td>\n",
       "      <td>23</td>\n",
       "      <td>0</td>\n",
       "      <td>0</td>\n",
       "      <td>0</td>\n",
       "      <td>...</td>\n",
       "      <td>0</td>\n",
       "      <td>NaN</td>\n",
       "      <td>🇦🇷 La Patria somos todos y la construimos juntos. #FelizDíaDeLaPatria #25deMayo https://t.co/8IK54CBtoW</td>\n",
       "      <td>Twitter for Android</td>\n",
       "      <td>2020-07-28 02:21:15.0</td>\n",
       "      <td>0</td>\n",
       "      <td>2</td>\n",
       "      <td>0</td>\n",
       "      <td>1</td>\n",
       "      <td>NaN</td>\n",
       "    </tr>\n",
       "    <tr>\n",
       "      <th>1000003177448697857</th>\n",
       "      <td>1000003177448697857</td>\n",
       "      <td>1000003177448697857</td>\n",
       "      <td>834702151</td>\n",
       "      <td>2018-05-25 13:18:31.0</td>\n",
       "      <td>es</td>\n",
       "      <td>9897</td>\n",
       "      <td>18496</td>\n",
       "      <td>141</td>\n",
       "      <td>691</td>\n",
       "      <td>0</td>\n",
       "      <td>...</td>\n",
       "      <td>0</td>\n",
       "      <td>NaN</td>\n",
       "      <td>- Sos friolenta?\\n- https://t.co/qkQNmQTwxE</td>\n",
       "      <td>TweetDeck</td>\n",
       "      <td>2020-07-28 12:31:42.0</td>\n",
       "      <td>0</td>\n",
       "      <td>0</td>\n",
       "      <td>0</td>\n",
       "      <td>1</td>\n",
       "      <td>NaN</td>\n",
       "    </tr>\n",
       "    <tr>\n",
       "      <th>1000003312597585921</th>\n",
       "      <td>1000003312597585921</td>\n",
       "      <td>1000003312597585921</td>\n",
       "      <td>971923363038973952</td>\n",
       "      <td>2018-05-25 13:19:03.0</td>\n",
       "      <td>es</td>\n",
       "      <td>1</td>\n",
       "      <td>7</td>\n",
       "      <td>0</td>\n",
       "      <td>0</td>\n",
       "      <td>0</td>\n",
       "      <td>...</td>\n",
       "      <td>0</td>\n",
       "      <td>NaN</td>\n",
       "      <td>Feliz Dia de la Patria! ❤ https://t.co/dqSyZOLt4p</td>\n",
       "      <td>Twitter for Android</td>\n",
       "      <td>2020-07-28 17:33:35.0</td>\n",
       "      <td>0</td>\n",
       "      <td>0</td>\n",
       "      <td>0</td>\n",
       "      <td>1</td>\n",
       "      <td>NaN</td>\n",
       "    </tr>\n",
       "  </tbody>\n",
       "</table>\n",
       "<p>5 rows × 22 columns</p>\n",
       "</div>"
      ],
      "text/plain": [
       "                                tweet_id      conversation_id  \\\n",
       "1000001051574046720  1000001051574046720  1000001051574046720   \n",
       "1000002592955609088  1000002592955609088  1000002592955609088   \n",
       "1000002668474101761  1000002668474101761  1000002668474101761   \n",
       "1000003177448697857  1000003177448697857  1000003177448697857   \n",
       "1000003312597585921  1000003312597585921  1000003312597585921   \n",
       "\n",
       "                                user_id             created_at lang  \\\n",
       "1000001051574046720           323956672  2018-05-25 13:10:04.0   es   \n",
       "1000002592955609088            53851352  2018-05-25 13:16:11.0   es   \n",
       "1000002668474101761            69668594  2018-05-25 13:16:29.0   es   \n",
       "1000003177448697857           834702151  2018-05-25 13:18:31.0   es   \n",
       "1000003312597585921  971923363038973952  2018-05-25 13:19:03.0   es   \n",
       "\n",
       "                     retweet_count  favorite_count  reply_count  quote_count  \\\n",
       "1000001051574046720              9              12            1            0   \n",
       "1000002592955609088            596            1486            2            4   \n",
       "1000002668474101761              5              23            0            0   \n",
       "1000003177448697857           9897           18496          141          691   \n",
       "1000003312597585921              1               7            0            0   \n",
       "\n",
       "                     is_reply        ...         is_quote  quoted_id  \\\n",
       "1000001051574046720         0        ...                0        NaN   \n",
       "1000002592955609088         0        ...                0        NaN   \n",
       "1000002668474101761         0        ...                0        NaN   \n",
       "1000003177448697857         0        ...                0        NaN   \n",
       "1000003312597585921         0        ...                0        NaN   \n",
       "\n",
       "                                                                                                                   full_text  \\\n",
       "1000001051574046720                                                       Feliz día de la Patria! 🇦🇷 https://t.co/XfrTi29VcC   \n",
       "1000002592955609088                             No busquen explicación, es amor.\\n#117AñosDeHistoria https://t.co/b2lueUKodj   \n",
       "1000002668474101761  🇦🇷 La Patria somos todos y la construimos juntos. #FelizDíaDeLaPatria #25deMayo https://t.co/8IK54CBtoW   \n",
       "1000003177448697857                                                              - Sos friolenta?\\n- https://t.co/qkQNmQTwxE   \n",
       "1000003312597585921                                                        Feliz Dia de la Patria! ❤ https://t.co/dqSyZOLt4p   \n",
       "\n",
       "                                  source            scrapped_at  \\\n",
       "1000001051574046720   Twitter for iPhone  2020-07-28 05:10:54.0   \n",
       "1000002592955609088  Twitter for Android  2020-07-28 04:26:30.0   \n",
       "1000002668474101761  Twitter for Android  2020-07-28 02:21:15.0   \n",
       "1000003177448697857            TweetDeck  2020-07-28 12:31:42.0   \n",
       "1000003312597585921  Twitter for Android  2020-07-28 17:33:35.0   \n",
       "\n",
       "                    user_mentions_count hashtags_count  urls_count  \\\n",
       "1000001051574046720                   0              0           0   \n",
       "1000002592955609088                   0              1           0   \n",
       "1000002668474101761                   0              2           0   \n",
       "1000003177448697857                   0              0           0   \n",
       "1000003312597585921                   0              0           0   \n",
       "\n",
       "                     media_count  replied_original  \n",
       "1000001051574046720            1               NaN  \n",
       "1000002592955609088            1               NaN  \n",
       "1000002668474101761            1               NaN  \n",
       "1000003177448697857            1               NaN  \n",
       "1000003312597585921            1               NaN  \n",
       "\n",
       "[5 rows x 22 columns]"
      ]
     },
     "execution_count": 10,
     "metadata": {},
     "output_type": "execute_result"
    }
   ],
   "source": [
    "df = tweets.copy()\n",
    "df.index = df.tweet_id.values\n",
    "print(len(df))\n",
    "print(df.columns)\n",
    "df.head()"
   ]
  },
  {
   "cell_type": "code",
   "execution_count": 23,
   "metadata": {},
   "outputs": [
    {
     "name": "stdout",
     "output_type": "stream",
     "text": [
      "1118383\n",
      "2058360\n"
     ]
    },
    {
     "data": {
      "text/plain": [
       "array([1184897776775245825,\n",
       "       'Hoy, a partir de las 18 hs, vas a poder seguir en vivo a través de nuestras redes el acto nacional por el #DíaDeLaLealtad en La Pampa junto a los compañeros y compañeras del Frente de Todos ✌️🏻 https://t.co/fTxrlBEcyn'],\n",
       "      dtype=object)"
      ]
     },
     "execution_count": 23,
     "metadata": {},
     "output_type": "execute_result"
    }
   ],
   "source": [
    "print(len(df[(df.favorite_count >= 5) & (df.lang == 'es')]))\n",
    "print(len(df[df.lang=='es']))\n",
    "df.sample(1)[['tweet_id', 'full_text']].values[0]"
   ]
  },
  {
   "cell_type": "code",
   "execution_count": 32,
   "metadata": {},
   "outputs": [],
   "source": [
    "from joblib import Parallel, delayed\n",
    "\n",
    "def paralell_func(values, func, frac=8):\n",
    "    r = Parallel(n_jobs=8, backend='threading')(delayed(func)(i) for i in values)\n",
    "    return r\n",
    "\n",
    "def clean_fn(row):\n",
    "    row[1] = clean_text.clean(row[1], filter_stopwords=True)\n",
    "    return row\n",
    "\n",
    "cleaned_texts = paralell_func(df.sample(5)[['tweet_id', 'full_text']].values, clean_fn)"
   ]
  },
  {
   "cell_type": "code",
   "execution_count": 33,
   "metadata": {},
   "outputs": [
    {
     "data": {
      "text/plain": [
       "[(1287540392578121733,\n",
       "  1283554481691664391,\n",
       "  958365085604466690,\n",
       "  1140709720728227846,\n",
       "  1278471633494302722),\n",
       " ('no deja ser buena noticia tampoco significa debamos relajarnos',\n",
       "  'puré mayonesa manjar dioses',\n",
       "  'todas medidas contexto déficit presupuestario previo paritarias orden 2 441 millones marco ahorros despidos reducción servicios presta no resuelto camino',\n",
       "  'terminando primera jornada ! excelente ! @ goglobalsrl @ ferraripau @ _ceaes # acelerarespaña URL',\n",
       "  'siguen éxitos # gobiernodecientificos @ cfkargentina @ alferdez si culpa pandemia no cuarentena eligen radicarse brasil ? URL')]"
      ]
     },
     "execution_count": 33,
     "metadata": {},
     "output_type": "execute_result"
    }
   ],
   "source": [
    "list(zip(*cleaned_texts))"
   ]
  },
  {
   "cell_type": "code",
   "execution_count": 24,
   "metadata": {},
   "outputs": [],
   "source": [
    "df = df[(df.favorite_count >= 5) & (df.lang == 'es')]"
   ]
  },
  {
   "cell_type": "code",
   "execution_count": 34,
   "metadata": {},
   "outputs": [],
   "source": [
    "frac = multiprocessing.cpu_count()\n",
    "values = df[['tweet_id', 'full_text']].values\n",
    "cleaned_texts = paralell_func(values, clean_fn, frac)"
   ]
  },
  {
   "cell_type": "code",
   "execution_count": 35,
   "metadata": {},
   "outputs": [
    {
     "name": "stderr",
     "output_type": "stream",
     "text": [
      "C:\\ProgramData\\Anaconda3\\lib\\site-packages\\pandas\\core\\indexing.py:362: SettingWithCopyWarning: \n",
      "A value is trying to be set on a copy of a slice from a DataFrame.\n",
      "Try using .loc[row_indexer,col_indexer] = value instead\n",
      "\n",
      "See the caveats in the documentation: http://pandas.pydata.org/pandas-docs/stable/indexing.html#indexing-view-versus-copy\n",
      "  self.obj[key] = _infer_fill_value(value)\n",
      "C:\\ProgramData\\Anaconda3\\lib\\site-packages\\pandas\\core\\indexing.py:543: SettingWithCopyWarning: \n",
      "A value is trying to be set on a copy of a slice from a DataFrame.\n",
      "Try using .loc[row_indexer,col_indexer] = value instead\n",
      "\n",
      "See the caveats in the documentation: http://pandas.pydata.org/pandas-docs/stable/indexing.html#indexing-view-versus-copy\n",
      "  self.obj[item] = s\n"
     ]
    }
   ],
   "source": [
    "to_insert = list(zip(*cleaned_texts))\n",
    "df.loc[to_insert[0], 'full_text_cleaned'] = to_insert[1]"
   ]
  },
  {
   "cell_type": "code",
   "execution_count": 36,
   "metadata": {},
   "outputs": [
    {
     "data": {
      "text/html": [
       "<div>\n",
       "<style scoped>\n",
       "    .dataframe tbody tr th:only-of-type {\n",
       "        vertical-align: middle;\n",
       "    }\n",
       "\n",
       "    .dataframe tbody tr th {\n",
       "        vertical-align: top;\n",
       "    }\n",
       "\n",
       "    .dataframe thead th {\n",
       "        text-align: right;\n",
       "    }\n",
       "</style>\n",
       "<table border=\"1\" class=\"dataframe\">\n",
       "  <thead>\n",
       "    <tr style=\"text-align: right;\">\n",
       "      <th></th>\n",
       "      <th>full_text_cleaned</th>\n",
       "    </tr>\n",
       "  </thead>\n",
       "  <tbody>\n",
       "    <tr>\n",
       "      <th>1000001051574046720</th>\n",
       "      <td>feliz día patria ! 🇦 🇷 URL</td>\n",
       "    </tr>\n",
       "    <tr>\n",
       "      <th>1000002592955609088</th>\n",
       "      <td>no busquen explicación amor # 117añosdehistoria URL</td>\n",
       "    </tr>\n",
       "    <tr>\n",
       "      <th>1000002668474101761</th>\n",
       "      <td>🇦 🇷 patria construimos juntos # felizdíadelapatria # 25demayo URL</td>\n",
       "    </tr>\n",
       "    <tr>\n",
       "      <th>1000003177448697857</th>\n",
       "      <td>sos friolenta ? URL</td>\n",
       "    </tr>\n",
       "    <tr>\n",
       "      <th>1000003312597585921</th>\n",
       "      <td>feliz dia patria ! URL</td>\n",
       "    </tr>\n",
       "    <tr>\n",
       "      <th>1000003529396883456</th>\n",
       "      <td>participando tedeum # 25demayo parroquia santa maría carmen # necochea URL</td>\n",
       "    </tr>\n",
       "    <tr>\n",
       "      <th>1000004585124253699</th>\n",
       "      <td>feliz día patria ! día comenzamos ser libres URL</td>\n",
       "    </tr>\n",
       "    <tr>\n",
       "      <th>1000004674483900418</th>\n",
       "      <td>muchas gracias vecinos acompañaron tradicional toque diana comenzamos festejos mendoza 208 años revolución # 25demayo URL</td>\n",
       "    </tr>\n",
       "    <tr>\n",
       "      <th>1000005932535959553</th>\n",
       "      <td>hoy día importante provincia día patria inaguramos autovía rn16 peaje makallé ahora @ radioprovchaco</td>\n",
       "    </tr>\n",
       "    <tr>\n",
       "      <th>1000006106494750720</th>\n",
       "      <td>quiénes violentos ilegales subte ? videla macri breve historia grupo empresario ataca metrodelegados URL @ patriciodc @ myriambregman @ nicolasdelcano @ lupo55 @ verbitskyh</td>\n",
       "    </tr>\n",
       "    <tr>\n",
       "      <th>1000006150979497984</th>\n",
       "      <td>idea segunda etapa llegar sáenz peña haciendo marco @ planbelgrano contentos avance ahora @ radioprovchaco</td>\n",
       "    </tr>\n",
       "    <tr>\n",
       "      <th>1000007018286108672</th>\n",
       "      <td># 25demayo día hoy hace 208 años hombres mujeres reunieron actual plaza mayo expresar deseos libertad creando así primer gobierno patrio comienzo independencia # felizdiadelapatria URL</td>\n",
       "    </tr>\n",
       "    <tr>\n",
       "      <th>1000009118869008384</th>\n",
       "      <td>hoy hace 208 años volvemos gritar viva patria ! # revoluciondemayo invito actividades querida villa 25 mayo URL</td>\n",
       "    </tr>\n",
       "    <tr>\n",
       "      <th>1000009409253269506</th>\n",
       "      <td>feliz día patria argentinos sigamos construyendo juntos gran país # 25demayo URL</td>\n",
       "    </tr>\n",
       "    <tr>\n",
       "      <th>1000009494053703680</th>\n",
       "      <td>25 mayo feliz día patria ! 🇦 🇷 revolución mayo 1810 suceso histórico provocó derrumbe gobierno español buenos aires creación junta gobierno integrada criollos río plata URL</td>\n",
       "    </tr>\n",
       "    <tr>\n",
       "      <th>1000010803448250369</th>\n",
       "      <td>feliz cumpleaños river vida ! # 117añosdegloria 🐔 🇦 🇷 URL</td>\n",
       "    </tr>\n",
       "    <tr>\n",
       "      <th>1000011162434629633</th>\n",
       "      <td>hoy soberanía popular militar rechazo acuerdo fmi constitucionalmente corresponde evidenciarlo cara pueblo argentino cada exprese posicionamiento congreso nacional # 25demayo patria debe ser proyecto pueblo URL</td>\n",
       "    </tr>\n",
       "    <tr>\n",
       "      <th>1000011165228064768</th>\n",
       "      <td>foro económico rusia invitado @ cgeranacional titular marcelo fernández embajador ricardo lagorio creemos pymes oportunidad única desarrollo crecer debemos generar valor exportar trabajo argentino</td>\n",
       "    </tr>\n",
       "    <tr>\n",
       "      <th>1000011167274799104</th>\n",
       "      <td>perón demostró históricamente positivo mantenernos lejos fmi néstor cristina enseñaron soberanía política desendeudarse ser independientes económico autónomos gestión desarrollo nacional # felizdiadelapatria # nestor15anos</td>\n",
       "    </tr>\n",
       "    <tr>\n",
       "      <th>1000011268412014592</th>\n",
       "      <td>hoy celebramos creación primera junta primer gran paso hacia independencia viva patria ! 🇦 🇷 # díadelapatria URL</td>\n",
       "    </tr>\n",
       "  </tbody>\n",
       "</table>\n",
       "</div>"
      ],
      "text/plain": [
       "                                                                                                                                                                                                                                  full_text_cleaned\n",
       "1000001051574046720                                                                                                                                                                                                      feliz día patria ! 🇦 🇷 URL\n",
       "1000002592955609088                                                                                                                                                                             no busquen explicación amor # 117añosdehistoria URL\n",
       "1000002668474101761                                                                                                                                                               🇦 🇷 patria construimos juntos # felizdíadelapatria # 25demayo URL\n",
       "1000003177448697857                                                                                                                                                                                                             sos friolenta ? URL\n",
       "1000003312597585921                                                                                                                                                                                                          feliz dia patria ! URL\n",
       "1000003529396883456                                                                                                                                                      participando tedeum # 25demayo parroquia santa maría carmen # necochea URL\n",
       "1000004585124253699                                                                                                                                                                                feliz día patria ! día comenzamos ser libres URL\n",
       "1000004674483900418                                                                                                       muchas gracias vecinos acompañaron tradicional toque diana comenzamos festejos mendoza 208 años revolución # 25demayo URL\n",
       "1000005932535959553                                                                                                                            hoy día importante provincia día patria inaguramos autovía rn16 peaje makallé ahora @ radioprovchaco\n",
       "1000006106494750720                                                    quiénes violentos ilegales subte ? videla macri breve historia grupo empresario ataca metrodelegados URL @ patriciodc @ myriambregman @ nicolasdelcano @ lupo55 @ verbitskyh\n",
       "1000006150979497984                                                                                                                      idea segunda etapa llegar sáenz peña haciendo marco @ planbelgrano contentos avance ahora @ radioprovchaco\n",
       "1000007018286108672                                        # 25demayo día hoy hace 208 años hombres mujeres reunieron actual plaza mayo expresar deseos libertad creando así primer gobierno patrio comienzo independencia # felizdiadelapatria URL\n",
       "1000009118869008384                                                                                                                 hoy hace 208 años volvemos gritar viva patria ! # revoluciondemayo invito actividades querida villa 25 mayo URL\n",
       "1000009409253269506                                                                                                                                                feliz día patria argentinos sigamos construyendo juntos gran país # 25demayo URL\n",
       "1000009494053703680                                                    25 mayo feliz día patria ! 🇦 🇷 revolución mayo 1810 suceso histórico provocó derrumbe gobierno español buenos aires creación junta gobierno integrada criollos río plata URL\n",
       "1000010803448250369                                                                                                                                                                       feliz cumpleaños river vida ! # 117añosdegloria 🐔 🇦 🇷 URL\n",
       "1000011162434629633              hoy soberanía popular militar rechazo acuerdo fmi constitucionalmente corresponde evidenciarlo cara pueblo argentino cada exprese posicionamiento congreso nacional # 25demayo patria debe ser proyecto pueblo URL\n",
       "1000011165228064768                            foro económico rusia invitado @ cgeranacional titular marcelo fernández embajador ricardo lagorio creemos pymes oportunidad única desarrollo crecer debemos generar valor exportar trabajo argentino\n",
       "1000011167274799104  perón demostró históricamente positivo mantenernos lejos fmi néstor cristina enseñaron soberanía política desendeudarse ser independientes económico autónomos gestión desarrollo nacional # felizdiadelapatria # nestor15anos\n",
       "1000011268412014592                                                                                                                hoy celebramos creación primera junta primer gran paso hacia independencia viva patria ! 🇦 🇷 # díadelapatria URL"
      ]
     },
     "execution_count": 36,
     "metadata": {},
     "output_type": "execute_result"
    }
   ],
   "source": [
    "df.head(20)[['full_text_cleaned']]"
   ]
  },
  {
   "cell_type": "code",
   "execution_count": 37,
   "metadata": {},
   "outputs": [],
   "source": [
    "df.to_pickle('../datasets/tweets_cleaned.pkl')"
   ]
  },
  {
   "cell_type": "code",
   "execution_count": 18,
   "metadata": {},
   "outputs": [],
   "source": [
    "df = pd.read_pickle('../datasets/tweets_cleaned.pkl')"
   ]
  },
  {
   "cell_type": "code",
   "execution_count": 15,
   "metadata": {},
   "outputs": [
    {
     "data": {
      "text/plain": [
       "1118383"
      ]
     },
     "execution_count": 15,
     "metadata": {},
     "output_type": "execute_result"
    }
   ],
   "source": [
    "len(df[(df.favorite_count >= 5) & (df.lang == 'es')])"
   ]
  },
  {
   "cell_type": "code",
   "execution_count": 19,
   "metadata": {},
   "outputs": [
    {
     "data": {
      "text/plain": [
       "1000001051574046720                                                         feliz día de la patria ! 🇦 🇷 URL\n",
       "1000002592955609088                                   no busquen explicación es amor # 117añosdehistoria URL\n",
       "1000002668474101761    🇦 🇷 la patria somos todos y la construimos juntos # felizdíadelapatria # 25demayo URL\n",
       "1000003177448697857                                                                      sos friolenta ? URL\n",
       "1000003312597585921                                                             feliz dia de la patria ! URL\n",
       "Name: full_text, dtype: object"
      ]
     },
     "execution_count": 19,
     "metadata": {},
     "output_type": "execute_result"
    }
   ],
   "source": [
    "# df.full_text = df.full_text.apply(lambda x: '<s>'+x+'</s>')\n",
    "df.head().full_text"
   ]
  },
  {
   "cell_type": "code",
   "execution_count": 20,
   "metadata": {},
   "outputs": [],
   "source": [
    "corpus_to_save = df[(df.favorite_count >= 5) & (df.lang == 'es')].full_text.values\n",
    "with open(\"../datasets/tweets_corpus_bert.txt\", \"w\", encoding='utf-8') as text_file:\n",
    "    text_file.write(\n",
    "        \"\\n\".join(corpus_to_save)\n",
    "    )"
   ]
  },
  {
   "cell_type": "code",
   "execution_count": null,
   "metadata": {},
   "outputs": [],
   "source": []
  }
 ],
 "metadata": {
  "kernelspec": {
   "display_name": "Python 3",
   "language": "python",
   "name": "python3"
  },
  "language_info": {
   "codemirror_mode": {
    "name": "ipython",
    "version": 3
   },
   "file_extension": ".py",
   "mimetype": "text/x-python",
   "name": "python",
   "nbconvert_exporter": "python",
   "pygments_lexer": "ipython3",
   "version": "3.7.1"
  }
 },
 "nbformat": 4,
 "nbformat_minor": 2
}
