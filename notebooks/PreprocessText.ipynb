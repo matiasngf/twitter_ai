{
 "cells": [
  {
   "cell_type": "code",
   "execution_count": 1,
   "metadata": {},
   "outputs": [],
   "source": [
    "import pandas as pd\n",
    "from threading import Thread\n",
    "pd.set_option('max_colwidth',500)\n",
    "import multiprocessing"
   ]
  },
  {
   "cell_type": "code",
   "execution_count": 5,
   "metadata": {},
   "outputs": [
    {
     "data": {
      "text/plain": [
       "'@ esto es un # tweet hola ! 😀'"
      ]
     },
     "execution_count": 5,
     "metadata": {},
     "output_type": "execute_result"
    }
   ],
   "source": [
    "import sys\n",
    "sys.path.append(\"../scripts/\")\n",
    "import clean_text\n",
    "from importlib import reload\n",
    "reload(clean_text)\n",
    "clean_text.clean('@esto es un #tweet. Hola!!😀')"
   ]
  },
  {
   "cell_type": "code",
   "execution_count": 4,
   "metadata": {},
   "outputs": [],
   "source": [
    "tweets = pd.read_csv('../datasets/tweets_202007282056.csv')"
   ]
  },
  {
   "cell_type": "code",
   "execution_count": 7,
   "metadata": {},
   "outputs": [
    {
     "name": "stdout",
     "output_type": "stream",
     "text": [
      "2240646\n",
      "Index(['tweet_id', 'conversation_id', 'user_id', 'created_at', 'lang',\n",
      "       'retweet_count', 'favorite_count', 'reply_count', 'quote_count',\n",
      "       'is_reply', 'replied_id', 'replied_user_id', 'is_quote', 'quoted_id',\n",
      "       'full_text', 'source', 'scrapped_at', 'user_mentions_count',\n",
      "       'hashtags_count', 'urls_count', 'media_count', 'replied_original'],\n",
      "      dtype='object')\n"
     ]
    },
    {
     "data": {
      "text/html": [
       "<div>\n",
       "<style scoped>\n",
       "    .dataframe tbody tr th:only-of-type {\n",
       "        vertical-align: middle;\n",
       "    }\n",
       "\n",
       "    .dataframe tbody tr th {\n",
       "        vertical-align: top;\n",
       "    }\n",
       "\n",
       "    .dataframe thead th {\n",
       "        text-align: right;\n",
       "    }\n",
       "</style>\n",
       "<table border=\"1\" class=\"dataframe\">\n",
       "  <thead>\n",
       "    <tr style=\"text-align: right;\">\n",
       "      <th></th>\n",
       "      <th>tweet_id</th>\n",
       "      <th>conversation_id</th>\n",
       "      <th>user_id</th>\n",
       "      <th>created_at</th>\n",
       "      <th>lang</th>\n",
       "      <th>retweet_count</th>\n",
       "      <th>favorite_count</th>\n",
       "      <th>reply_count</th>\n",
       "      <th>quote_count</th>\n",
       "      <th>is_reply</th>\n",
       "      <th>...</th>\n",
       "      <th>is_quote</th>\n",
       "      <th>quoted_id</th>\n",
       "      <th>full_text</th>\n",
       "      <th>source</th>\n",
       "      <th>scrapped_at</th>\n",
       "      <th>user_mentions_count</th>\n",
       "      <th>hashtags_count</th>\n",
       "      <th>urls_count</th>\n",
       "      <th>media_count</th>\n",
       "      <th>replied_original</th>\n",
       "    </tr>\n",
       "  </thead>\n",
       "  <tbody>\n",
       "    <tr>\n",
       "      <th>1000001051574046720</th>\n",
       "      <td>1000001051574046720</td>\n",
       "      <td>1000001051574046720</td>\n",
       "      <td>323956672</td>\n",
       "      <td>2018-05-25 13:10:04.0</td>\n",
       "      <td>es</td>\n",
       "      <td>9</td>\n",
       "      <td>12</td>\n",
       "      <td>1</td>\n",
       "      <td>0</td>\n",
       "      <td>0</td>\n",
       "      <td>...</td>\n",
       "      <td>0</td>\n",
       "      <td>NaN</td>\n",
       "      <td>Feliz día de la Patria! 🇦🇷 https://t.co/XfrTi29VcC</td>\n",
       "      <td>Twitter for iPhone</td>\n",
       "      <td>2020-07-28 05:10:54.0</td>\n",
       "      <td>0</td>\n",
       "      <td>0</td>\n",
       "      <td>0</td>\n",
       "      <td>1</td>\n",
       "      <td>NaN</td>\n",
       "    </tr>\n",
       "    <tr>\n",
       "      <th>1000002592955609088</th>\n",
       "      <td>1000002592955609088</td>\n",
       "      <td>1000002592955609088</td>\n",
       "      <td>53851352</td>\n",
       "      <td>2018-05-25 13:16:11.0</td>\n",
       "      <td>es</td>\n",
       "      <td>596</td>\n",
       "      <td>1486</td>\n",
       "      <td>2</td>\n",
       "      <td>4</td>\n",
       "      <td>0</td>\n",
       "      <td>...</td>\n",
       "      <td>0</td>\n",
       "      <td>NaN</td>\n",
       "      <td>No busquen explicación, es amor.\\n#117AñosDeHistoria https://t.co/b2lueUKodj</td>\n",
       "      <td>Twitter for Android</td>\n",
       "      <td>2020-07-28 04:26:30.0</td>\n",
       "      <td>0</td>\n",
       "      <td>1</td>\n",
       "      <td>0</td>\n",
       "      <td>1</td>\n",
       "      <td>NaN</td>\n",
       "    </tr>\n",
       "    <tr>\n",
       "      <th>1000002668474101761</th>\n",
       "      <td>1000002668474101761</td>\n",
       "      <td>1000002668474101761</td>\n",
       "      <td>69668594</td>\n",
       "      <td>2018-05-25 13:16:29.0</td>\n",
       "      <td>es</td>\n",
       "      <td>5</td>\n",
       "      <td>23</td>\n",
       "      <td>0</td>\n",
       "      <td>0</td>\n",
       "      <td>0</td>\n",
       "      <td>...</td>\n",
       "      <td>0</td>\n",
       "      <td>NaN</td>\n",
       "      <td>🇦🇷 La Patria somos todos y la construimos juntos. #FelizDíaDeLaPatria #25deMayo https://t.co/8IK54CBtoW</td>\n",
       "      <td>Twitter for Android</td>\n",
       "      <td>2020-07-28 02:21:15.0</td>\n",
       "      <td>0</td>\n",
       "      <td>2</td>\n",
       "      <td>0</td>\n",
       "      <td>1</td>\n",
       "      <td>NaN</td>\n",
       "    </tr>\n",
       "    <tr>\n",
       "      <th>1000003177448697857</th>\n",
       "      <td>1000003177448697857</td>\n",
       "      <td>1000003177448697857</td>\n",
       "      <td>834702151</td>\n",
       "      <td>2018-05-25 13:18:31.0</td>\n",
       "      <td>es</td>\n",
       "      <td>9897</td>\n",
       "      <td>18496</td>\n",
       "      <td>141</td>\n",
       "      <td>691</td>\n",
       "      <td>0</td>\n",
       "      <td>...</td>\n",
       "      <td>0</td>\n",
       "      <td>NaN</td>\n",
       "      <td>- Sos friolenta?\\n- https://t.co/qkQNmQTwxE</td>\n",
       "      <td>TweetDeck</td>\n",
       "      <td>2020-07-28 12:31:42.0</td>\n",
       "      <td>0</td>\n",
       "      <td>0</td>\n",
       "      <td>0</td>\n",
       "      <td>1</td>\n",
       "      <td>NaN</td>\n",
       "    </tr>\n",
       "    <tr>\n",
       "      <th>1000003312597585921</th>\n",
       "      <td>1000003312597585921</td>\n",
       "      <td>1000003312597585921</td>\n",
       "      <td>971923363038973952</td>\n",
       "      <td>2018-05-25 13:19:03.0</td>\n",
       "      <td>es</td>\n",
       "      <td>1</td>\n",
       "      <td>7</td>\n",
       "      <td>0</td>\n",
       "      <td>0</td>\n",
       "      <td>0</td>\n",
       "      <td>...</td>\n",
       "      <td>0</td>\n",
       "      <td>NaN</td>\n",
       "      <td>Feliz Dia de la Patria! ❤ https://t.co/dqSyZOLt4p</td>\n",
       "      <td>Twitter for Android</td>\n",
       "      <td>2020-07-28 17:33:35.0</td>\n",
       "      <td>0</td>\n",
       "      <td>0</td>\n",
       "      <td>0</td>\n",
       "      <td>1</td>\n",
       "      <td>NaN</td>\n",
       "    </tr>\n",
       "  </tbody>\n",
       "</table>\n",
       "<p>5 rows × 22 columns</p>\n",
       "</div>"
      ],
      "text/plain": [
       "                                tweet_id      conversation_id  \\\n",
       "1000001051574046720  1000001051574046720  1000001051574046720   \n",
       "1000002592955609088  1000002592955609088  1000002592955609088   \n",
       "1000002668474101761  1000002668474101761  1000002668474101761   \n",
       "1000003177448697857  1000003177448697857  1000003177448697857   \n",
       "1000003312597585921  1000003312597585921  1000003312597585921   \n",
       "\n",
       "                                user_id             created_at lang  \\\n",
       "1000001051574046720           323956672  2018-05-25 13:10:04.0   es   \n",
       "1000002592955609088            53851352  2018-05-25 13:16:11.0   es   \n",
       "1000002668474101761            69668594  2018-05-25 13:16:29.0   es   \n",
       "1000003177448697857           834702151  2018-05-25 13:18:31.0   es   \n",
       "1000003312597585921  971923363038973952  2018-05-25 13:19:03.0   es   \n",
       "\n",
       "                     retweet_count  favorite_count  reply_count  quote_count  \\\n",
       "1000001051574046720              9              12            1            0   \n",
       "1000002592955609088            596            1486            2            4   \n",
       "1000002668474101761              5              23            0            0   \n",
       "1000003177448697857           9897           18496          141          691   \n",
       "1000003312597585921              1               7            0            0   \n",
       "\n",
       "                     is_reply        ...         is_quote  quoted_id  \\\n",
       "1000001051574046720         0        ...                0        NaN   \n",
       "1000002592955609088         0        ...                0        NaN   \n",
       "1000002668474101761         0        ...                0        NaN   \n",
       "1000003177448697857         0        ...                0        NaN   \n",
       "1000003312597585921         0        ...                0        NaN   \n",
       "\n",
       "                                                                                                                   full_text  \\\n",
       "1000001051574046720                                                       Feliz día de la Patria! 🇦🇷 https://t.co/XfrTi29VcC   \n",
       "1000002592955609088                             No busquen explicación, es amor.\\n#117AñosDeHistoria https://t.co/b2lueUKodj   \n",
       "1000002668474101761  🇦🇷 La Patria somos todos y la construimos juntos. #FelizDíaDeLaPatria #25deMayo https://t.co/8IK54CBtoW   \n",
       "1000003177448697857                                                              - Sos friolenta?\\n- https://t.co/qkQNmQTwxE   \n",
       "1000003312597585921                                                        Feliz Dia de la Patria! ❤ https://t.co/dqSyZOLt4p   \n",
       "\n",
       "                                  source            scrapped_at  \\\n",
       "1000001051574046720   Twitter for iPhone  2020-07-28 05:10:54.0   \n",
       "1000002592955609088  Twitter for Android  2020-07-28 04:26:30.0   \n",
       "1000002668474101761  Twitter for Android  2020-07-28 02:21:15.0   \n",
       "1000003177448697857            TweetDeck  2020-07-28 12:31:42.0   \n",
       "1000003312597585921  Twitter for Android  2020-07-28 17:33:35.0   \n",
       "\n",
       "                    user_mentions_count hashtags_count  urls_count  \\\n",
       "1000001051574046720                   0              0           0   \n",
       "1000002592955609088                   0              1           0   \n",
       "1000002668474101761                   0              2           0   \n",
       "1000003177448697857                   0              0           0   \n",
       "1000003312597585921                   0              0           0   \n",
       "\n",
       "                     media_count  replied_original  \n",
       "1000001051574046720            1               NaN  \n",
       "1000002592955609088            1               NaN  \n",
       "1000002668474101761            1               NaN  \n",
       "1000003177448697857            1               NaN  \n",
       "1000003312597585921            1               NaN  \n",
       "\n",
       "[5 rows x 22 columns]"
      ]
     },
     "execution_count": 7,
     "metadata": {},
     "output_type": "execute_result"
    }
   ],
   "source": [
    "df = tweets.copy()\n",
    "df.index = df.tweet_id.values\n",
    "print(len(df))\n",
    "print(df.columns)\n",
    "df.head()"
   ]
  },
  {
   "cell_type": "code",
   "execution_count": 9,
   "metadata": {},
   "outputs": [
    {
     "name": "stdout",
     "output_type": "stream",
     "text": [
      "1118383\n",
      "2058360\n"
     ]
    },
    {
     "data": {
      "text/plain": [
       "array([1243263397308874756,\n",
       "       'La flexibilidad laboral de USA a pleno. Asi como se destruye empleo en el instante que se da la crisis, se genera cuando la economía da vuelta. Esta es la mejor forma de generar empleo de calidad a largo plazo..., no dar subsidios prohibir despidos... https://t.co/sXJVYM5oGF'],\n",
       "      dtype=object)"
      ]
     },
     "execution_count": 9,
     "metadata": {},
     "output_type": "execute_result"
    }
   ],
   "source": [
    "print(len(df[(df.favorite_count >= 5) & (df.lang == 'es')]))\n",
    "print(len(df[df.lang=='es']))\n",
    "df.sample(1)[['tweet_id', 'full_text']].values[0]"
   ]
  },
  {
   "cell_type": "code",
   "execution_count": 10,
   "metadata": {},
   "outputs": [],
   "source": [
    "from joblib import Parallel, delayed\n",
    "\n",
    "def paralell_func(values, func, frac=8):\n",
    "    r = Parallel(n_jobs=8, backend='threading')(delayed(func)(i) for i in values)\n",
    "    return r\n",
    "\n",
    "def clean_fn(row):\n",
    "    row[1] = clean_text.clean(row[1])\n",
    "    return row\n",
    "\n",
    "cleaned_texts = paralell_func(df.sample(5)[['tweet_id', 'full_text']].values, clean_fn)"
   ]
  },
  {
   "cell_type": "code",
   "execution_count": 13,
   "metadata": {},
   "outputs": [
    {
     "data": {
      "text/plain": [
       "[(1026963136786493440,\n",
       "  1287795529875951618,\n",
       "  1171747810586386432,\n",
       "  1232126096260378625,\n",
       "  1285878209054113792),\n",
       " ('entre los vicios más graves de cualquier acto administrativo y que produce la nulidad a futuro es la falta de fundamentación debemos extremar estos recaudos si no queremos ser parte de las irregularidades de un miembro del poder judicial advierte @ pilattivergara',\n",
       "  '# embiarg riesgo país 🇦 🇷 2197 2020 07 27 variación diaria 1 04 URL',\n",
       "  'solo los farmacéuticos entienden lo que dice ahí',\n",
       "  'con el agua hasta el ogt pero cargando los hijos para saquearnos cada dia mas son una manada de orcos vagos y lisergicos pero manzurok los cuida gente creo que a mi marido lo llamaran cr venga a buscar a su sra cra de la comisaria 😂',\n",
       "  '# ahora diplomáticos chinos queman documentos luego de que eeuu ordenara el cierre del consulado de china en houston URL')]"
      ]
     },
     "execution_count": 13,
     "metadata": {},
     "output_type": "execute_result"
    }
   ],
   "source": [
    "list(zip(*cleaned_texts))"
   ]
  },
  {
   "cell_type": "code",
   "execution_count": 14,
   "metadata": {},
   "outputs": [],
   "source": [
    "frac = multiprocessing.cpu_count()\n",
    "values = df[['tweet_id', 'full_text']].values\n",
    "cleaned_texts = paralell_func(values, clean_fn, frac)"
   ]
  },
  {
   "cell_type": "code",
   "execution_count": 15,
   "metadata": {},
   "outputs": [],
   "source": [
    "to_insert = list(zip(*cleaned_texts))\n",
    "df.loc[to_insert[0], 'full_text'] = to_insert[1]"
   ]
  },
  {
   "cell_type": "code",
   "execution_count": 16,
   "metadata": {},
   "outputs": [
    {
     "data": {
      "text/html": [
       "<div>\n",
       "<style scoped>\n",
       "    .dataframe tbody tr th:only-of-type {\n",
       "        vertical-align: middle;\n",
       "    }\n",
       "\n",
       "    .dataframe tbody tr th {\n",
       "        vertical-align: top;\n",
       "    }\n",
       "\n",
       "    .dataframe thead th {\n",
       "        text-align: right;\n",
       "    }\n",
       "</style>\n",
       "<table border=\"1\" class=\"dataframe\">\n",
       "  <thead>\n",
       "    <tr style=\"text-align: right;\">\n",
       "      <th></th>\n",
       "      <th>full_text</th>\n",
       "    </tr>\n",
       "  </thead>\n",
       "  <tbody>\n",
       "    <tr>\n",
       "      <th>1000001051574046720</th>\n",
       "      <td>feliz día de la patria ! 🇦 🇷 URL</td>\n",
       "    </tr>\n",
       "    <tr>\n",
       "      <th>1000002592955609088</th>\n",
       "      <td>no busquen explicación es amor # 117añosdehistoria URL</td>\n",
       "    </tr>\n",
       "    <tr>\n",
       "      <th>1000002668474101761</th>\n",
       "      <td>🇦 🇷 la patria somos todos y la construimos juntos # felizdíadelapatria # 25demayo URL</td>\n",
       "    </tr>\n",
       "    <tr>\n",
       "      <th>1000003177448697857</th>\n",
       "      <td>sos friolenta ? URL</td>\n",
       "    </tr>\n",
       "    <tr>\n",
       "      <th>1000003312597585921</th>\n",
       "      <td>feliz dia de la patria ! URL</td>\n",
       "    </tr>\n",
       "    <tr>\n",
       "      <th>1000003529396883456</th>\n",
       "      <td>participando del tedeum por el # 25demayo en la parroquia santa maría del carmen # necochea URL</td>\n",
       "    </tr>\n",
       "    <tr>\n",
       "      <th>1000004585124253699</th>\n",
       "      <td>feliz día de la patria ! el día que comenzamos a ser libres URL</td>\n",
       "    </tr>\n",
       "    <tr>\n",
       "      <th>1000004674483900418</th>\n",
       "      <td>muchas gracias a todos los vecinos que me acompañaron en el tradicional toque de diana comenzamos con los festejos en mendoza de los 208 años de la revolución # 25demayo URL</td>\n",
       "    </tr>\n",
       "    <tr>\n",
       "      <th>1000005724670488577</th>\n",
       "      <td># ahora hablamos en vivo por blanco sobre negro por @ radioprovchaco fm 101 5</td>\n",
       "    </tr>\n",
       "    <tr>\n",
       "      <th>1000005727933657089</th>\n",
       "      <td># exclusiva ahora hablamos con el actor @ cesarbordonok que interpreta a # hugolópez el manager de luis miguel en la serie de # netflix # luismiguellaserie URL</td>\n",
       "    </tr>\n",
       "    <tr>\n",
       "      <th>1000005932535959553</th>\n",
       "      <td>hoy es un día importante para la provincia porque en este día de la patria inaguramos la autovía rn16 hasta el peaje de makallé ahora en @ radioprovchaco</td>\n",
       "    </tr>\n",
       "    <tr>\n",
       "      <th>1000006106494750720</th>\n",
       "      <td>quiénes son los violentos e ilegales en el subte ? de videla a macri breve historia del grupo empresario que ataca a los metrodelegados en URL @ patriciodc @ myriambregman @ nicolasdelcano @ lupo55 @ verbitskyh</td>\n",
       "    </tr>\n",
       "    <tr>\n",
       "      <th>1000006150979497984</th>\n",
       "      <td>la idea en una segunda etapa es llegar hasta sáenz peña esto lo estamos haciendo en el marco del @ planbelgrano y estamos muy contentos con el avance ahora en @ radioprovchaco</td>\n",
       "    </tr>\n",
       "    <tr>\n",
       "      <th>1000006485357793280</th>\n",
       "      <td>hay avances importantes en diferentes obras como la de la ruta 7 y la de los desagües cloacas en capitan solari donde estuve estos días ahora en @ radioprovchaco</td>\n",
       "    </tr>\n",
       "    <tr>\n",
       "      <th>1000006516898959361</th>\n",
       "      <td>increíble actor y además una humildad tremenda un placer @ cesarbordonok URL</td>\n",
       "    </tr>\n",
       "    <tr>\n",
       "      <th>1000006700773052422</th>\n",
       "      <td>participando del izamiento de bandera y acto central del 25 de mayo en plaza independencia # tucumán URL</td>\n",
       "    </tr>\n",
       "    <tr>\n",
       "      <th>1000007018286108672</th>\n",
       "      <td># 25demayo un día como hoy hace 208 años hombres y mujeres se reunieron en la actual plaza de mayo para expresar sus deseos de libertad creando así el primer gobierno patrio ese fue el comienzo de nuestra independencia # felizdiadelapatria URL</td>\n",
       "    </tr>\n",
       "    <tr>\n",
       "      <th>1000007069666332672</th>\n",
       "      <td>el segundo puente chaco corrientes será licitado en agosto y se hará bajo el esquema de participación público privada una nueva modalidad de financiación de obra pública en argentina ahora en @ radioprovchaco</td>\n",
       "    </tr>\n",
       "    <tr>\n",
       "      <th>1000007537570275329</th>\n",
       "      <td>las obras se pretenden iniciar en el mes de diciembre la decisión política está tomada y será una mega obra que los chaqueños y correntinos venimos pidiendo hace muchos años ahora en @ radioprovchaco</td>\n",
       "    </tr>\n",
       "    <tr>\n",
       "      <th>1000008086453735424</th>\n",
       "      <td>creo realmente que los que tenemos pretensiones políticas tenemos que decirlo y será la ciudadanía la que tiene que decidir pero hay que decirlo ahora en @ radioprovchaco</td>\n",
       "    </tr>\n",
       "  </tbody>\n",
       "</table>\n",
       "</div>"
      ],
      "text/plain": [
       "                                                                                                                                                                                                                                                               full_text\n",
       "1000001051574046720                                                                                                                                                                                                                     feliz día de la patria ! 🇦 🇷 URL\n",
       "1000002592955609088                                                                                                                                                                                               no busquen explicación es amor # 117añosdehistoria URL\n",
       "1000002668474101761                                                                                                                                                                🇦 🇷 la patria somos todos y la construimos juntos # felizdíadelapatria # 25demayo URL\n",
       "1000003177448697857                                                                                                                                                                                                                                  sos friolenta ? URL\n",
       "1000003312597585921                                                                                                                                                                                                                         feliz dia de la patria ! URL\n",
       "1000003529396883456                                                                                                                                                      participando del tedeum por el # 25demayo en la parroquia santa maría del carmen # necochea URL\n",
       "1000004585124253699                                                                                                                                                                                      feliz día de la patria ! el día que comenzamos a ser libres URL\n",
       "1000004674483900418                                                                        muchas gracias a todos los vecinos que me acompañaron en el tradicional toque de diana comenzamos con los festejos en mendoza de los 208 años de la revolución # 25demayo URL\n",
       "1000005724670488577                                                                                                                                                                        # ahora hablamos en vivo por blanco sobre negro por @ radioprovchaco fm 101 5\n",
       "1000005727933657089                                                                                      # exclusiva ahora hablamos con el actor @ cesarbordonok que interpreta a # hugolópez el manager de luis miguel en la serie de # netflix # luismiguellaserie URL\n",
       "1000005932535959553                                                                                            hoy es un día importante para la provincia porque en este día de la patria inaguramos la autovía rn16 hasta el peaje de makallé ahora en @ radioprovchaco\n",
       "1000006106494750720                                   quiénes son los violentos e ilegales en el subte ? de videla a macri breve historia del grupo empresario que ataca a los metrodelegados en URL @ patriciodc @ myriambregman @ nicolasdelcano @ lupo55 @ verbitskyh\n",
       "1000006150979497984                                                                      la idea en una segunda etapa es llegar hasta sáenz peña esto lo estamos haciendo en el marco del @ planbelgrano y estamos muy contentos con el avance ahora en @ radioprovchaco\n",
       "1000006485357793280                                                                                    hay avances importantes en diferentes obras como la de la ruta 7 y la de los desagües cloacas en capitan solari donde estuve estos días ahora en @ radioprovchaco\n",
       "1000006516898959361                                                                                                                                                                         increíble actor y además una humildad tremenda un placer @ cesarbordonok URL\n",
       "1000006700773052422                                                                                                                                             participando del izamiento de bandera y acto central del 25 de mayo en plaza independencia # tucumán URL\n",
       "1000007018286108672  # 25demayo un día como hoy hace 208 años hombres y mujeres se reunieron en la actual plaza de mayo para expresar sus deseos de libertad creando así el primer gobierno patrio ese fue el comienzo de nuestra independencia # felizdiadelapatria URL\n",
       "1000007069666332672                                     el segundo puente chaco corrientes será licitado en agosto y se hará bajo el esquema de participación público privada una nueva modalidad de financiación de obra pública en argentina ahora en @ radioprovchaco\n",
       "1000007537570275329                                              las obras se pretenden iniciar en el mes de diciembre la decisión política está tomada y será una mega obra que los chaqueños y correntinos venimos pidiendo hace muchos años ahora en @ radioprovchaco\n",
       "1000008086453735424                                                                           creo realmente que los que tenemos pretensiones políticas tenemos que decirlo y será la ciudadanía la que tiene que decidir pero hay que decirlo ahora en @ radioprovchaco"
      ]
     },
     "execution_count": 16,
     "metadata": {},
     "output_type": "execute_result"
    }
   ],
   "source": [
    "df.head(20)[['full_text']]"
   ]
  },
  {
   "cell_type": "code",
   "execution_count": 17,
   "metadata": {},
   "outputs": [],
   "source": [
    "# df.to_pickle('../datasets/tweets_cleaned.pkl')"
   ]
  },
  {
   "cell_type": "code",
   "execution_count": 7,
   "metadata": {},
   "outputs": [],
   "source": [
    "df = pd.read_pickle('../datasets/tweets_cleaned.pkl')"
   ]
  },
  {
   "cell_type": "code",
   "execution_count": 21,
   "metadata": {},
   "outputs": [
    {
     "data": {
      "text/plain": [
       "1418545"
      ]
     },
     "execution_count": 21,
     "metadata": {},
     "output_type": "execute_result"
    }
   ],
   "source": [
    "len(df[(df.favorite_count >= 2) & (df.lang == 'es')])"
   ]
  },
  {
   "cell_type": "code",
   "execution_count": 22,
   "metadata": {},
   "outputs": [],
   "source": [
    "corpus_to_save = df[(df.lang == 'es')].full_text.values\n",
    "with open(\"../datasets/tweets_corpus.txt\", \"w\", encoding='utf-8') as text_file:\n",
    "    text_file.write(\n",
    "        \"\\n\".join(corpus_to_save)\n",
    "    )"
   ]
  }
 ],
 "metadata": {
  "kernelspec": {
   "display_name": "Python 3",
   "language": "python",
   "name": "python3"
  },
  "language_info": {
   "codemirror_mode": {
    "name": "ipython",
    "version": 3
   },
   "file_extension": ".py",
   "mimetype": "text/x-python",
   "name": "python",
   "nbconvert_exporter": "python",
   "pygments_lexer": "ipython3",
   "version": "3.7.1"
  }
 },
 "nbformat": 4,
 "nbformat_minor": 2
}
