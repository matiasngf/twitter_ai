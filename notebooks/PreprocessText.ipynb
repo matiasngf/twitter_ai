{
 "cells": [
  {
   "cell_type": "code",
   "execution_count": 3,
   "metadata": {},
   "outputs": [],
   "source": [
    "import pandas as pd\n",
    "from threading import Thread\n",
    "pd.set_option('max_colwidth',500)\n",
    "import multiprocessing"
   ]
  },
  {
   "cell_type": "code",
   "execution_count": 4,
   "metadata": {},
   "outputs": [
    {
     "data": {
      "text/plain": [
       "'@ esto es un # tweet. hola ! 😀'"
      ]
     },
     "execution_count": 4,
     "metadata": {},
     "output_type": "execute_result"
    }
   ],
   "source": [
    "import sys\n",
    "sys.path.append(\"../scripts/\")\n",
    "import clean_text\n",
    "from importlib import reload\n",
    "reload(clean_text)\n",
    "clean_text.clean('@esto es un #tweet. Hola!!😀')"
   ]
  },
  {
   "cell_type": "code",
   "execution_count": 12,
   "metadata": {},
   "outputs": [],
   "source": [
    "tweets = pd.read_csv('../datasets/tweets_202007072142.csv.zip')"
   ]
  },
  {
   "cell_type": "code",
   "execution_count": 20,
   "metadata": {},
   "outputs": [
    {
     "name": "stdout",
     "output_type": "stream",
     "text": [
      "2474317\n",
      "Index(['tweet_id', 'conversation_id', 'user_id', 'created_at', 'lang',\n",
      "       'retweet_count', 'favorite_count', 'reply_count', 'quote_count',\n",
      "       'is_reply', 'replied_id', 'replied_user_id', 'is_quote', 'quoted_id',\n",
      "       'full_text', 'source', 'scrapped_at', 'user_mentions_count',\n",
      "       'hashtags_count', 'urls_count', 'media_count', 'replied_original'],\n",
      "      dtype='object')\n"
     ]
    },
    {
     "data": {
      "text/html": [
       "<div>\n",
       "<style scoped>\n",
       "    .dataframe tbody tr th:only-of-type {\n",
       "        vertical-align: middle;\n",
       "    }\n",
       "\n",
       "    .dataframe tbody tr th {\n",
       "        vertical-align: top;\n",
       "    }\n",
       "\n",
       "    .dataframe thead th {\n",
       "        text-align: right;\n",
       "    }\n",
       "</style>\n",
       "<table border=\"1\" class=\"dataframe\">\n",
       "  <thead>\n",
       "    <tr style=\"text-align: right;\">\n",
       "      <th></th>\n",
       "      <th>tweet_id</th>\n",
       "      <th>conversation_id</th>\n",
       "      <th>user_id</th>\n",
       "      <th>created_at</th>\n",
       "      <th>lang</th>\n",
       "      <th>retweet_count</th>\n",
       "      <th>favorite_count</th>\n",
       "      <th>reply_count</th>\n",
       "      <th>quote_count</th>\n",
       "      <th>is_reply</th>\n",
       "      <th>...</th>\n",
       "      <th>is_quote</th>\n",
       "      <th>quoted_id</th>\n",
       "      <th>full_text</th>\n",
       "      <th>source</th>\n",
       "      <th>scrapped_at</th>\n",
       "      <th>user_mentions_count</th>\n",
       "      <th>hashtags_count</th>\n",
       "      <th>urls_count</th>\n",
       "      <th>media_count</th>\n",
       "      <th>replied_original</th>\n",
       "    </tr>\n",
       "  </thead>\n",
       "  <tbody>\n",
       "    <tr>\n",
       "      <th>1000000284486139904</th>\n",
       "      <td>1000000284486139904</td>\n",
       "      <td>1000000284486139904</td>\n",
       "      <td>2841506345</td>\n",
       "      <td>2018-05-25 13:07:01.0</td>\n",
       "      <td>es</td>\n",
       "      <td>23</td>\n",
       "      <td>124</td>\n",
       "      <td>5</td>\n",
       "      <td>1</td>\n",
       "      <td>0</td>\n",
       "      <td>...</td>\n",
       "      <td>0</td>\n",
       "      <td>NaN</td>\n",
       "      <td>Feliz día de la patria para todos los cordobes...</td>\n",
       "      <td>Twitter for Android</td>\n",
       "      <td>2020-07-07 11:42:04.0</td>\n",
       "      <td>0</td>\n",
       "      <td>0</td>\n",
       "      <td>0</td>\n",
       "      <td>3</td>\n",
       "      <td>NaN</td>\n",
       "    </tr>\n",
       "    <tr>\n",
       "      <th>1000000308003696640</th>\n",
       "      <td>1000000308003696640</td>\n",
       "      <td>1000000284486139904</td>\n",
       "      <td>2841506345</td>\n",
       "      <td>2018-05-25 13:07:07.0</td>\n",
       "      <td>es</td>\n",
       "      <td>24</td>\n",
       "      <td>83</td>\n",
       "      <td>12</td>\n",
       "      <td>0</td>\n",
       "      <td>1</td>\n",
       "      <td>...</td>\n",
       "      <td>0</td>\n",
       "      <td>NaN</td>\n",
       "      <td>#25deMayo Es un día en el que todos tenemos qu...</td>\n",
       "      <td>Twitter for Android</td>\n",
       "      <td>2020-07-07 11:42:04.0</td>\n",
       "      <td>0</td>\n",
       "      <td>1</td>\n",
       "      <td>0</td>\n",
       "      <td>2</td>\n",
       "      <td>1.0</td>\n",
       "    </tr>\n",
       "    <tr>\n",
       "      <th>1000000521158234114</th>\n",
       "      <td>1000000521158234114</td>\n",
       "      <td>1000000521158234114</td>\n",
       "      <td>54414081</td>\n",
       "      <td>2018-05-25 13:07:58.0</td>\n",
       "      <td>es</td>\n",
       "      <td>1287</td>\n",
       "      <td>3959</td>\n",
       "      <td>183</td>\n",
       "      <td>36</td>\n",
       "      <td>0</td>\n",
       "      <td>...</td>\n",
       "      <td>0</td>\n",
       "      <td>NaN</td>\n",
       "      <td>Feliz #DíaDeLaPatria.\\nQuiero reconocer a todo...</td>\n",
       "      <td>Twitter for Android</td>\n",
       "      <td>2020-07-07 03:58:05.0</td>\n",
       "      <td>0</td>\n",
       "      <td>2</td>\n",
       "      <td>0</td>\n",
       "      <td>1</td>\n",
       "      <td>NaN</td>\n",
       "    </tr>\n",
       "    <tr>\n",
       "      <th>1000000589944639488</th>\n",
       "      <td>1000000589944639488</td>\n",
       "      <td>1000000589944639488</td>\n",
       "      <td>140065192</td>\n",
       "      <td>2018-05-25 13:08:14.0</td>\n",
       "      <td>es</td>\n",
       "      <td>4</td>\n",
       "      <td>20</td>\n",
       "      <td>0</td>\n",
       "      <td>0</td>\n",
       "      <td>0</td>\n",
       "      <td>...</td>\n",
       "      <td>0</td>\n",
       "      <td>NaN</td>\n",
       "      <td>(AHORA) Escuela de Robótica #Misiones. ​El vic...</td>\n",
       "      <td>Twitter Web Client</td>\n",
       "      <td>2020-07-07 14:37:01.0</td>\n",
       "      <td>0</td>\n",
       "      <td>1</td>\n",
       "      <td>0</td>\n",
       "      <td>1</td>\n",
       "      <td>NaN</td>\n",
       "    </tr>\n",
       "    <tr>\n",
       "      <th>1000000951195971584</th>\n",
       "      <td>1000000951195971584</td>\n",
       "      <td>1000000951195971584</td>\n",
       "      <td>35778170</td>\n",
       "      <td>2018-05-25 13:09:40.0</td>\n",
       "      <td>und</td>\n",
       "      <td>22</td>\n",
       "      <td>119</td>\n",
       "      <td>12</td>\n",
       "      <td>0</td>\n",
       "      <td>0</td>\n",
       "      <td>...</td>\n",
       "      <td>1</td>\n",
       "      <td>9.999982e+17</td>\n",
       "      <td>#EnVivo #Tedeum https://t.co/ERZoTL6VAJ</td>\n",
       "      <td>Twitter for Android</td>\n",
       "      <td>2020-07-07 03:59:28.0</td>\n",
       "      <td>0</td>\n",
       "      <td>2</td>\n",
       "      <td>1</td>\n",
       "      <td>0</td>\n",
       "      <td>NaN</td>\n",
       "    </tr>\n",
       "  </tbody>\n",
       "</table>\n",
       "<p>5 rows × 22 columns</p>\n",
       "</div>"
      ],
      "text/plain": [
       "                                tweet_id      conversation_id     user_id  \\\n",
       "1000000284486139904  1000000284486139904  1000000284486139904  2841506345   \n",
       "1000000308003696640  1000000308003696640  1000000284486139904  2841506345   \n",
       "1000000521158234114  1000000521158234114  1000000521158234114    54414081   \n",
       "1000000589944639488  1000000589944639488  1000000589944639488   140065192   \n",
       "1000000951195971584  1000000951195971584  1000000951195971584    35778170   \n",
       "\n",
       "                                created_at lang  retweet_count  \\\n",
       "1000000284486139904  2018-05-25 13:07:01.0   es             23   \n",
       "1000000308003696640  2018-05-25 13:07:07.0   es             24   \n",
       "1000000521158234114  2018-05-25 13:07:58.0   es           1287   \n",
       "1000000589944639488  2018-05-25 13:08:14.0   es              4   \n",
       "1000000951195971584  2018-05-25 13:09:40.0  und             22   \n",
       "\n",
       "                     favorite_count  reply_count  quote_count  is_reply  \\\n",
       "1000000284486139904             124            5            1         0   \n",
       "1000000308003696640              83           12            0         1   \n",
       "1000000521158234114            3959          183           36         0   \n",
       "1000000589944639488              20            0            0         0   \n",
       "1000000951195971584             119           12            0         0   \n",
       "\n",
       "                           ...         is_quote     quoted_id  \\\n",
       "1000000284486139904        ...                0           NaN   \n",
       "1000000308003696640        ...                0           NaN   \n",
       "1000000521158234114        ...                0           NaN   \n",
       "1000000589944639488        ...                0           NaN   \n",
       "1000000951195971584        ...                1  9.999982e+17   \n",
       "\n",
       "                                                             full_text  \\\n",
       "1000000284486139904  Feliz día de la patria para todos los cordobes...   \n",
       "1000000308003696640  #25deMayo Es un día en el que todos tenemos qu...   \n",
       "1000000521158234114  Feliz #DíaDeLaPatria.\\nQuiero reconocer a todo...   \n",
       "1000000589944639488  (AHORA) Escuela de Robótica #Misiones. ​El vic...   \n",
       "1000000951195971584            #EnVivo #Tedeum https://t.co/ERZoTL6VAJ   \n",
       "\n",
       "                                  source            scrapped_at  \\\n",
       "1000000284486139904  Twitter for Android  2020-07-07 11:42:04.0   \n",
       "1000000308003696640  Twitter for Android  2020-07-07 11:42:04.0   \n",
       "1000000521158234114  Twitter for Android  2020-07-07 03:58:05.0   \n",
       "1000000589944639488   Twitter Web Client  2020-07-07 14:37:01.0   \n",
       "1000000951195971584  Twitter for Android  2020-07-07 03:59:28.0   \n",
       "\n",
       "                    user_mentions_count hashtags_count  urls_count  \\\n",
       "1000000284486139904                   0              0           0   \n",
       "1000000308003696640                   0              1           0   \n",
       "1000000521158234114                   0              2           0   \n",
       "1000000589944639488                   0              1           0   \n",
       "1000000951195971584                   0              2           1   \n",
       "\n",
       "                     media_count  replied_original  \n",
       "1000000284486139904            3               NaN  \n",
       "1000000308003696640            2               1.0  \n",
       "1000000521158234114            1               NaN  \n",
       "1000000589944639488            1               NaN  \n",
       "1000000951195971584            0               NaN  \n",
       "\n",
       "[5 rows x 22 columns]"
      ]
     },
     "execution_count": 20,
     "metadata": {},
     "output_type": "execute_result"
    }
   ],
   "source": [
    "df = tweets.copy()\n",
    "df.index = df.tweet_id.values\n",
    "print(len(df))\n",
    "print(df.columns)\n",
    "df.head()"
   ]
  },
  {
   "cell_type": "code",
   "execution_count": 33,
   "metadata": {},
   "outputs": [
    {
     "name": "stdout",
     "output_type": "stream",
     "text": [
      "1634530\n",
      "2318754\n"
     ]
    },
    {
     "data": {
      "text/plain": [
       "array([1098586196102602753,\n",
       "       'Las fotografías seleccionadas a mejor imagen del año del World Press Photo: https://t.co/WzlSlubtkk '],\n",
       "      dtype=object)"
      ]
     },
     "execution_count": 33,
     "metadata": {},
     "output_type": "execute_result"
    }
   ],
   "source": [
    "print(len(df[(df.favorite_count > 5) & (df.lang == 'es')]))\n",
    "print(len(df[df.lang=='es']))\n",
    "df.sample(1)[['tweet_id', 'full_text']].values[0]"
   ]
  },
  {
   "cell_type": "code",
   "execution_count": 40,
   "metadata": {},
   "outputs": [],
   "source": [
    "from joblib import Parallel, delayed\n",
    "\n",
    "def paralell_func(values, func, frac=4):\n",
    "    r = Parallel(n_jobs=8, backend='threading')(delayed(func)(i) for i in values)\n",
    "    return r\n",
    "\n",
    "def clean_fn(row):\n",
    "    row[1] = clean_text.clean(row[1])\n",
    "    return row\n",
    "\n",
    "cleaned_texts = paralell_func(df.sample(5)[['tweet_id', 'full_text']].values, clean_fn)"
   ]
  },
  {
   "cell_type": "code",
   "execution_count": 47,
   "metadata": {},
   "outputs": [
    {
     "data": {
      "text/plain": [
       "[(1268769852006727680,\n",
       "  1269327743747084289,\n",
       "  1277969247973421068,\n",
       "  1279129712640622597,\n",
       "  1194485053558054912),\n",
       " ('qué perdidos que están mamita URL',\n",
       "  '@ maxi_andres_m @ giacodiego @ horaciorlarreta jajaja los reyes son los padres..',\n",
       "  'cadetes de la escuela nacional de náutica embarcaron para cumplir sus prácticas profesionales. se re',\n",
       "  'en cuba hay comunistas, en argentina hay un congreso con cientos de representantes populistas hambri',\n",
       "  'fue una noche intensa en @ johnysabina, de debate y confrontación de las ideas. gracias a la diputad')]"
      ]
     },
     "execution_count": 47,
     "metadata": {},
     "output_type": "execute_result"
    }
   ],
   "source": [
    "list(zip(*cleaned_texts))"
   ]
  },
  {
   "cell_type": "code",
   "execution_count": 51,
   "metadata": {},
   "outputs": [],
   "source": [
    "frac = multiprocessing.cpu_count()\n",
    "values = df[['tweet_id', 'full_text']].values\n",
    "cleaned_texts = paralell_func(values, clean_fn, frac)"
   ]
  },
  {
   "cell_type": "code",
   "execution_count": 57,
   "metadata": {},
   "outputs": [],
   "source": [
    "to_insert = list(zip(*cleaned_texts))\n",
    "df.loc[to_insert[0], 'full_text'] = to_insert[1]"
   ]
  },
  {
   "cell_type": "code",
   "execution_count": 61,
   "metadata": {},
   "outputs": [
    {
     "data": {
      "text/html": [
       "<div>\n",
       "<style scoped>\n",
       "    .dataframe tbody tr th:only-of-type {\n",
       "        vertical-align: middle;\n",
       "    }\n",
       "\n",
       "    .dataframe tbody tr th {\n",
       "        vertical-align: top;\n",
       "    }\n",
       "\n",
       "    .dataframe thead th {\n",
       "        text-align: right;\n",
       "    }\n",
       "</style>\n",
       "<table border=\"1\" class=\"dataframe\">\n",
       "  <thead>\n",
       "    <tr style=\"text-align: right;\">\n",
       "      <th></th>\n",
       "      <th>full_text</th>\n",
       "    </tr>\n",
       "  </thead>\n",
       "  <tbody>\n",
       "    <tr>\n",
       "      <th>1000000284486139904</th>\n",
       "      <td>feliz día de la patria para todos los cordobeses. aquí en carlos paz tenemos un día espectacular, el</td>\n",
       "    </tr>\n",
       "    <tr>\n",
       "      <th>1000000308003696640</th>\n",
       "      <td># 25demayo es un día en el que todos tenemos que tirar para el mismo lado, para lograr el progreso y</td>\n",
       "    </tr>\n",
       "    <tr>\n",
       "      <th>1000000521158234114</th>\n",
       "      <td>feliz # díadelapatria. quiero reconocer a todos los que hoy están cuidando a los argentinos en cada r</td>\n",
       "    </tr>\n",
       "    <tr>\n",
       "      <th>1000000589944639488</th>\n",
       "      <td>ahora escuela de robótica # misiones. el vicegobernador oscar herrera ahuad, en reunión con los di</td>\n",
       "    </tr>\n",
       "    <tr>\n",
       "      <th>1000000951195971584</th>\n",
       "      <td># envivo # tedeum URL</td>\n",
       "    </tr>\n",
       "    <tr>\n",
       "      <th>1000000957688811520</th>\n",
       "      <td>🇦 🇷 ¡ feliz día de la patria ! que este # 25demayo nos encuentre unidos para seguir construyendo una arge</td>\n",
       "    </tr>\n",
       "    <tr>\n",
       "      <th>1000001099514990592</th>\n",
       "      <td>¡ feliz # 25demayo ! ahora, llega # demañana con @ prossioficial y equipo por am 810, fm 97.9 y en https</td>\n",
       "    </tr>\n",
       "    <tr>\n",
       "      <th>1000002159289749505</th>\n",
       "      <td>el hombre que vino a transformar la argentina, que nos llenó de sueños y convicciones. el hombre que</td>\n",
       "    </tr>\n",
       "    <tr>\n",
       "      <th>1000002696584318977</th>\n",
       "      <td>el modelo económico de macri está agotado hace décadas, repite una historia condenada al fracaso. t</td>\n",
       "    </tr>\n",
       "    <tr>\n",
       "      <th>1000002915916972033</th>\n",
       "      <td># nuevaplazasanmartín # 25demayo @ ciudaddemendoza # mendoza 🇦 🇷 💙 URL</td>\n",
       "    </tr>\n",
       "    <tr>\n",
       "      <th>1000002938251735042</th>\n",
       "      <td>🇦 🇷 ¡ feliz día de la patria ! 🇦 🇷 # 25demayo URL</td>\n",
       "    </tr>\n",
       "    <tr>\n",
       "      <th>1000002945742721025</th>\n",
       "      <td>¡ # argentina, felicitaciones por las fiestas de la # patria ! URL</td>\n",
       "    </tr>\n",
       "    <tr>\n",
       "      <th>1000003551060312065</th>\n",
       "      <td>¿ sabías qué ? la primera junta de gobierno, surgió como consecuencia del triunfo de la revolución de</td>\n",
       "    </tr>\n",
       "    <tr>\n",
       "      <th>1000003698821607424</th>\n",
       "      <td># nuevaplazasanmartín # 25demayo # tedeum basílica de san francisco @ ciudaddemendoza # mendoza 💙 🇦 🇷 htt</td>\n",
       "    </tr>\n",
       "    <tr>\n",
       "      <th>1000004033464209408</th>\n",
       "      <td>símbolo de estos tiempos. la plaza, hoy 25 de mayo URL</td>\n",
       "    </tr>\n",
       "    <tr>\n",
       "      <th>1000004537120378881</th>\n",
       "      <td>alberto fernández todos sabemos como termina este modelo económico. pero el club de odiadores de</td>\n",
       "    </tr>\n",
       "    <tr>\n",
       "      <th>1000004674483900418</th>\n",
       "      <td>muchas gracias a todos los vecinos que me acompañaron en el tradicional toque de diana. comenzamos</td>\n",
       "    </tr>\n",
       "    <tr>\n",
       "      <th>1000005334386257921</th>\n",
       "      <td>msci anunciará el 20 06 a las 10.30 pm central european summer time los resultados de la reclasifica</td>\n",
       "    </tr>\n",
       "    <tr>\n",
       "      <th>1000005509452353536</th>\n",
       "      <td>🇦 🇷 # 25demayo feliz día de la patria para todos. sigamos construyendo juntos una argentina mejor 🇦 🇷 h</td>\n",
       "    </tr>\n",
       "    <tr>\n",
       "      <th>1000005768475828224</th>\n",
       "      <td>atrás quedó el tiempo de los líderes predestinados, de los fundamentalistas, los mesiánicos. la arg</td>\n",
       "    </tr>\n",
       "  </tbody>\n",
       "</table>\n",
       "</div>"
      ],
      "text/plain": [
       "                                                                                                                     full_text\n",
       "1000000284486139904       feliz día de la patria para todos los cordobeses. aquí en carlos paz tenemos un día espectacular, el\n",
       "1000000308003696640       # 25demayo es un día en el que todos tenemos que tirar para el mismo lado, para lograr el progreso y\n",
       "1000000521158234114      feliz # díadelapatria. quiero reconocer a todos los que hoy están cuidando a los argentinos en cada r\n",
       "1000000589944639488         ahora escuela de robótica # misiones. el vicegobernador oscar herrera ahuad, en reunión con los di\n",
       "1000000951195971584                                                                                      # envivo # tedeum URL\n",
       "1000000957688811520  🇦 🇷 ¡ feliz día de la patria ! que este # 25demayo nos encuentre unidos para seguir construyendo una arge\n",
       "1000001099514990592   ¡ feliz # 25demayo ! ahora, llega # demañana con @ prossioficial y equipo por am 810, fm 97.9 y en https\n",
       "1000002159289749505       el hombre que vino a transformar la argentina, que nos llenó de sueños y convicciones. el hombre que\n",
       "1000002696584318977        el modelo económico de macri está agotado hace décadas, repite una historia condenada al fracaso. t\n",
       "1000002915916972033                                     # nuevaplazasanmartín # 25demayo @ ciudaddemendoza # mendoza 🇦 🇷 💙 URL\n",
       "1000002938251735042                                                          🇦 🇷 ¡ feliz día de la patria ! 🇦 🇷 # 25demayo URL\n",
       "1000002945742721025                                         ¡ # argentina, felicitaciones por las fiestas de la # patria ! URL\n",
       "1000003551060312065      ¿ sabías qué ? la primera junta de gobierno, surgió como consecuencia del triunfo de la revolución de\n",
       "1000003698821607424  # nuevaplazasanmartín # 25demayo # tedeum basílica de san francisco @ ciudaddemendoza # mendoza 💙 🇦 🇷 htt\n",
       "1000004033464209408                                                     símbolo de estos tiempos. la plaza, hoy 25 de mayo URL\n",
       "1000004537120378881           alberto fernández todos sabemos como termina este modelo económico. pero el club de odiadores de\n",
       "1000004674483900418         muchas gracias a todos los vecinos que me acompañaron en el tradicional toque de diana. comenzamos\n",
       "1000005334386257921       msci anunciará el 20 06 a las 10.30 pm central european summer time los resultados de la reclasifica\n",
       "1000005509452353536    🇦 🇷 # 25demayo feliz día de la patria para todos. sigamos construyendo juntos una argentina mejor 🇦 🇷 h\n",
       "1000005768475828224        atrás quedó el tiempo de los líderes predestinados, de los fundamentalistas, los mesiánicos. la arg"
      ]
     },
     "execution_count": 61,
     "metadata": {},
     "output_type": "execute_result"
    }
   ],
   "source": [
    "df.head(20)[['full_text']]"
   ]
  },
  {
   "cell_type": "code",
   "execution_count": 63,
   "metadata": {},
   "outputs": [],
   "source": [
    "# df.to_pickle('../datasets/tweets_cleaned.pkl')"
   ]
  },
  {
   "cell_type": "code",
   "execution_count": 7,
   "metadata": {},
   "outputs": [],
   "source": [
    "df = pd.read_pickle('../datasets/tweets_cleaned.pkl')"
   ]
  },
  {
   "cell_type": "code",
   "execution_count": 31,
   "metadata": {},
   "outputs": [
    {
     "data": {
      "text/plain": [
       "796626"
      ]
     },
     "execution_count": 31,
     "metadata": {},
     "output_type": "execute_result"
    }
   ],
   "source": [
    "len(df[(df.favorite_count > 50) & (df.lang == 'es')])"
   ]
  },
  {
   "cell_type": "code",
   "execution_count": 32,
   "metadata": {},
   "outputs": [],
   "source": [
    "corpus_to_save = df[(df.favorite_count > 50) & (df.lang == 'es')].full_text.values\n",
    "with open(\"../datasets/tweets_corpus.txt\", \"w\", encoding='utf-8') as text_file:\n",
    "    text_file.write(\n",
    "        \"\\n\".join(corpus_to_save)\n",
    "    )"
   ]
  }
 ],
 "metadata": {
  "kernelspec": {
   "display_name": "Python 3",
   "language": "python",
   "name": "python3"
  },
  "language_info": {
   "codemirror_mode": {
    "name": "ipython",
    "version": 3
   },
   "file_extension": ".py",
   "mimetype": "text/x-python",
   "name": "python",
   "nbconvert_exporter": "python",
   "pygments_lexer": "ipython3",
   "version": "3.7.1"
  }
 },
 "nbformat": 4,
 "nbformat_minor": 2
}
