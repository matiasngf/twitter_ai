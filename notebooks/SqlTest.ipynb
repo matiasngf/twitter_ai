{
 "cells": [
  {
   "cell_type": "code",
   "execution_count": 4,
   "metadata": {},
   "outputs": [
    {
     "name": "stdout",
     "output_type": "stream",
     "text": [
      "Conectando a 127.0.0.1\n"
     ]
    }
   ],
   "source": [
    "import pandas as pd\n",
    "import requests\n",
    "from IPython.display import HTML, display\n",
    "from bs4 import BeautifulSoup\n",
    "from bs4 import Comment\n",
    "import json\n",
    "import html\n",
    "import re\n",
    "import urllib.parse\n",
    "\n",
    "import locale\n",
    "import time\n",
    "from datetime import datetime\n",
    "from threading import Thread\n",
    "from tqdm import tqdm\n",
    "import mysql.connector\n",
    "import pypika\n",
    "from pypika import Table, Query, MySQLQuery\n",
    "with open('../config/db_conn.json', 'r') as db_config_file:\n",
    "    db_config=json.loads(db_config_file.read())\n",
    "print('Conectando a', db_config['host'])\n",
    "\n",
    "database_name = db_config['database']\n",
    "\n",
    "def get_cnxn():\n",
    "    cnxn = mysql.connector.connect(\n",
    "        host=db_config['host'],\n",
    "        user=db_config['user'],\n",
    "        password=db_config['password'],\n",
    "        database=db_config['database'],\n",
    "        charset=db_config['charset'],\n",
    "        port=db_config['port']\n",
    "    )\n",
    "    return cnxn"
   ]
  },
  {
   "cell_type": "code",
   "execution_count": 10,
   "metadata": {},
   "outputs": [
    {
     "data": {
      "text/plain": [
       "[(2240646,)]"
      ]
     },
     "execution_count": 10,
     "metadata": {},
     "output_type": "execute_result"
    }
   ],
   "source": [
    "sql2 = \"\"\"\n",
    "    SELECT count(*) from tweets\n",
    "\"\"\"\n",
    "cnxn = get_cnxn()\n",
    "cursor = cnxn.cursor()\n",
    "cursor.execute(sql2)\n",
    "cursor.fetchall()"
   ]
  }
 ],
 "metadata": {
  "kernelspec": {
   "display_name": "Python 3",
   "language": "python",
   "name": "python3"
  },
  "language_info": {
   "codemirror_mode": {
    "name": "ipython",
    "version": 3
   },
   "file_extension": ".py",
   "mimetype": "text/x-python",
   "name": "python",
   "nbconvert_exporter": "python",
   "pygments_lexer": "ipython3",
   "version": "3.7.1"
  }
 },
 "nbformat": 4,
 "nbformat_minor": 2
}
