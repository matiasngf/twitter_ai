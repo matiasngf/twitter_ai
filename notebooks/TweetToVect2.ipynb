{
 "cells": [
  {
   "cell_type": "markdown",
   "metadata": {},
   "source": [
    "## Just using mean of fasttext embedding\n",
    "https://towardsdatascience.com/super-easy-way-to-get-sentence-embedding-using-fasttext-in-python-a70f34ac5b7c\n",
    "\n",
    "https://arxiv.org/abs/1805.09843"
   ]
  },
  {
   "cell_type": "code",
   "execution_count": 4,
   "metadata": {},
   "outputs": [],
   "source": [
    "import tensorflow as tf\n",
    "from tensorflow.python.keras import layers\n",
    "import gensim.models.fasttext\n",
    "from tensorflow.python import keras\n",
    "from tensorflow.python.keras import backend as K\n",
    "import re\n",
    "import numpy as np\n",
    "import pandas as pd\n",
    "import sklearn.metrics\n",
    "from nltk.corpus import stopwords"
   ]
  },
  {
   "cell_type": "code",
   "execution_count": 10,
   "metadata": {},
   "outputs": [],
   "source": [
    "loaded_word_model = gensim.models.fasttext.load_facebook_vectors('../models/words_fast_text.bin')"
   ]
  },
  {
   "cell_type": "code",
   "execution_count": 58,
   "metadata": {},
   "outputs": [
    {
     "data": {
      "text/plain": [
       "TweetToVect2.TweetToVect"
      ]
     },
     "execution_count": 58,
     "metadata": {},
     "output_type": "execute_result"
    }
   ],
   "source": [
    "# import sys\n",
    "# sys.path.append(\"../scripts/\")\n",
    "from importlib import reload\n",
    "import clean_text\n",
    "import TweetToVect2 as TW\n",
    "\n",
    "reload(TW)\n",
    "reload(clean_text)\n",
    "TW.TweetToVect"
   ]
  },
  {
   "cell_type": "code",
   "execution_count": 59,
   "metadata": {},
   "outputs": [
    {
     "data": {
      "text/plain": [
       "array([[1.        , 0.69555867, 0.8390938 ],\n",
       "       [0.69555867, 0.9999998 , 0.6718305 ],\n",
       "       [0.8390938 , 0.6718305 , 1.0000001 ]], dtype=float32)"
      ]
     },
     "execution_count": 59,
     "metadata": {},
     "output_type": "execute_result"
    }
   ],
   "source": [
    "model = TW.TweetToVect()\n",
    "model.load_model(fast_text_model=loaded_word_model)\n",
    "vectors = model.get_vectors([\n",
    "    \"\"\"\n",
    "        En una entrevista radial, el presidente @alferdez afirmó que \"es una discusión falsa la cantidad de miembros que podría tener la Corte Suprema de Justicia\" en la reforma judicial impulsada esta semana.\n",
    "    \"\"\",\n",
    "    \"\"\"\n",
    "        Recordá que para prevenir contagios de Covid-19 es fundamental respetar los protocolos de higiene y cuidado\n",
    "    \"\"\",\n",
    "    \"\"\"\n",
    "        A quienes justifican la necesidad de la reforma judicial x la inseguridad (robos y homicidios), les digo q la reforma oficialista se refiere a juzgados federales. El robo y el homicidio NO son competencia de los juzgados federales. Buscan impunidad no luchar contra la inseguridad\n",
    "    \"\"\"\n",
    "])\n",
    "model.pairwise_similarity_vectors(vectors, vectors)"
   ]
  },
  {
   "cell_type": "markdown",
   "metadata": {},
   "source": [
    "## Test with df"
   ]
  },
  {
   "cell_type": "code",
   "execution_count": 47,
   "metadata": {},
   "outputs": [],
   "source": [
    "df = pd.read_pickle('../datasets/tweets_cleaned.pkl')\n",
    "df = df[(df.lang=='es')&(df.favorite_count > 10)]\n",
    "tokenize = lambda text: text.split(' ')\n",
    "df.loc[:,'tweet_l'] = df.full_text_cleaned.apply(lambda text: len(tokenize(text)))"
   ]
  },
  {
   "cell_type": "code",
   "execution_count": 48,
   "metadata": {},
   "outputs": [],
   "source": [
    "df_sample = df[df.tweet_l > 5].sample(30000)"
   ]
  },
  {
   "cell_type": "code",
   "execution_count": 49,
   "metadata": {},
   "outputs": [],
   "source": [
    "tweet_vectors = model.get_vectors(df_sample.full_text_cleaned.values, True)"
   ]
  },
  {
   "cell_type": "code",
   "execution_count": 53,
   "metadata": {},
   "outputs": [
    {
     "name": "stdout",
     "output_type": "stream",
     "text": [
      "SIMILAR TO: Esta tarde, en barrio Colibrí, inauguramos el nuevo pavimento de la calle Soldado Mansilla, junto a cientos de vecinos #SanMiguel https://t.co/rqcJFazB5T\n",
      "---- 1.0 Esta tarde, en barrio Colibrí, inauguramos el nuevo pavimento de la calle Soldado Mansilla, junto a cientos de vecinos #SanMiguel https://t.co/rqcJFazB5T\n",
      "---- 0.93 Junto a vecinos de barrio Constantini, esta tarde inauguramos la pavimentación de la calle Mateo Bootz, muy importante para el desarrollo de la zona @BAProvincia #SanMiguel https://t.co/Uxj7MkEZzY\n",
      "---- 0.92 Este jueves, en la inauguración del pavimento de Callao, tuvimos el gusto de escuchar a vecinos de barrio Parque San Miguel. Entre ellos habló Tito Baratini y nos dejó un gran testimonio #SanMiguel https://t.co/nOqYz9lspJ\n",
      "-----------------------------\n",
      "\n",
      "SIMILAR TO: Datos diarios sobre la situación del #Coronavirus en Rosario al 31 de mayo:  ➡️Ninguna persona dio positivo para #covid19 hoy. Total: 113  ➡️96 personas que se encuentran recuperadas  https://t.co/z45zrabr8p https://t.co/cYudDE6Txu\n",
      "---- 0.93 Datos diarios sobre la situación de #covid19 al 24 de julio:   ➡️21 personas dieron positivo.  Total: 329 / 154 activos  ➡️760 personas aisladas preventivamente (14 clústers)  ➡️1 persona más se ha recuperado. Total: 172 https://t.co/avpys1H9iy\n",
      "---- 0.93 Informe #COVID19: hoy procesamos 377 muestras, todas negativas. 10 internados, el resto en aislamiento domiciliario. 7 nuevos recuperados, sumando así 53. Total de confirmados: 208. #QuedateEnCasa @msaludpy https://t.co/IJ7RFuTuQz\n",
      "---- 0.91 Hasta las 21 horas del domingo 26 de julio, no se han detectado nuevos casos positivos de coronavirus en la provincia de Catamarca. El total acumulado de casos positivos detectados se mantiene en 60.  #COVID19 #Salud #Catamarca https://t.co/ezWdONVd4l\n",
      "-----------------------------\n",
      "\n",
      "SIMILAR TO: ¡Feliz cumple @JulioFalcioniDT! 💙💛💙🎂 https://t.co/04kOyRLufl\n",
      "---- 0.92 Es el aniversario de @RacingClub, con quien compartimos cracks como @osvaldooardiles y Ricky Villa. 💙  🎂 ¡Feliz cumpleaños, Academia! 🎉  #VamosSpurs ⚪️ #Racing117años https://t.co/FOW4HBvxma\n",
      "---- 0.91 ¡Feliz cumpleaños, @patronbermudez! https://t.co/yWlDJwJ7Ef\n",
      "---- 0.9 🎂 Hoy cumple años... @patitogarino!! 🎉  RT para desearle un feliz día a nuestro 🦆💥  #GoazenBaskonia https://t.co/jnqVr6AEyc\n",
      "-----------------------------\n",
      "\n",
      "SIMILAR TO: Mira que hermoso domingo de sol para ir a La Bombonera. La buena felicidad no se notaba.\n",
      "---- 0.87 \"Yo fui un perro sin esperanza.  Ustedes me devolvieron a la vida\" Así parece decir Lolo desde su serenidad con canas. Y el perro sin esperanzas se levantó de su miedo de nunca tener hogar. Y sonreía.  Otro moño naranja.Otro final feliz❤ Que seas muy feliz querido Lolo! #adopta https://t.co/sCIo00FWpb\n",
      "---- 0.87 La carita de Cappuccino llegando a su casa😁 Seguro fue movilizante para él irse del Refugio, era lo único que conocía. Llegó de bebé, había pasado casi 1 año y una familia preciosa se enamoró perdidamente de él. 🌈Que seas feliz hermoso!!!❤ #AdoptaNoCompres #camperitosadoptados https://t.co/sr40kAS6DG\n",
      "---- 0.87 Acabo de pasar por Pacha y se me vinieron miles de recuerdos Me acuerdo las ganas con las que esperaba que llegara el finde para ir al boliche Que durodebe ser esto para los pibes\n",
      "-----------------------------\n",
      "\n",
      "SIMILAR TO: El \"barril criollo\" ya está dando problemas🤦🏻‍♂️. Según esta nota nadie lo paga y se estarían negociando valores cercanos a USD 30 por barril para junio, muy lejos de los USD 45 del decreto. Mientras, el precio de los combustibles no se mueve.  https://t.co/ka5miI8M4o\n",
      "---- 0.91 El \"barril criollo\" siempre fue polémico, pero ahora más. No es oportuno, en el marco de esta crisis inédita, que carguemos al consumo, a las industrias y al campo con un sobrecosto que puede rondar entre USD 850 - 2500 millones en los proximos 12 meses. (2/7)\n",
      "---- 0.91 El petróleo que consumimos los argentinos es un recurso de los Estados provinciales y con costos de producción mayoritariamente en PESOS.  ¿Entonces por qué en lugar de congelar el precio del barril de petróleo en DÓLARES el Presidente no lo pesifica?\n",
      "---- 0.9 Hace años que nuestra sociedad discute acerca de los roles, alcances y el tamaño que debe tener el Estado. Hoy, el decreto 488/20 del “barril criollo”, que establece un precio para la facturación del petróleo crudo en el mercado local, brinda una respuesta clara a esa discusión. https://t.co/8NNYpyEThl\n",
      "-----------------------------\n",
      "\n",
      "SIMILAR TO: Está regresando al país un grupo de adultos mayores desde San Pablo. Necesitaban volver lo antes posible y gracias al trabajo coordinado con el @MindefArg llegarán esta tarde en un Fokker F28 de la @FuerzaAerea_ARG. Quiero agradecerles de corazón su paciencia. Los esperamos. https://t.co/AB48UiLS43\n",
      "---- 0.89 El día de hoy llevamos a cabo otra jornada de #EntregaSolidaria a 64 familias venezolanas en Buenos Aires. Gracias al pequeño gran equipo de voluntarios de la @EmbajadaVE_AR, trabajamos en la Pqa. Caacupé, que junto con Baires de Libertad, brindan el apoyo logístico necesario. https://t.co/W61WI26NJi\n",
      "---- 0.87 Con orgullo recibimos anoche a un nuevo Hércules C-130 proveniente de Guayaquil.  Por pedido de @CancilleriaARG, la @FuerzaAerea_Arg trajo de regreso a 70 compatriotas que se encontraban varados en Ecuador debido a la pandemia #COVID19   #CuidarteEsCuidarnos #ArgentinaUnida https://t.co/XRpTG1hkp8\n",
      "---- 0.87 En este momento la colaboración de todos es indispensable. Muchos equipos del Gobierno reconvirtieron sus tareas y están ayudando donde más hace falta, como este grupo de voluntarias y voluntarios que reciben a quienes vuelven del exterior. Eternas gracias por el esfuerzo 🙌 https://t.co/5HYInyAHQo\n",
      "-----------------------------\n",
      "\n",
      "SIMILAR TO: LA LUCHACONTRA EL ABORTO NO TIENE FRONTERAS,  UNÁMONOS ESTA TARDE CON EL HT #AbortoTolerancia0 @wiltamayo @WidowSantiago @wiltamayo @Wojtyliano @IsabellaWills @TEOFOROS @realAlonsoDMD @JOSEA_TOTUSTUUS @Yaniii_Ailen @UnidosxlaVidaCo @IsabelMartz1686 @orozco_arely @Patriesoprano https://t.co/dvBP19oe98\n",
      "---- 0.94 Las compañeras y los compañeros no paran. Algo está cambiando... @juventudamparo @EugeniaVera17 @mpaschettav2 @LoreIbarra19 @anagonzalez1392 @NatalySotomayor @pabloburela @Dayiolmos @ReartesVicky @yany1386 @ingrid_steenhus  @luisramirez0012 @KukuGallardoLRJ https://t.co/Q6P3G9yXCI\n",
      "---- 0.94 Ups!! Así estoy yo! 👇 alguien más tiene síntomas de este síndrome??? @elena_diaz_1209 @1jeanp @chrissierivas @GloMarinaGod @SoffiaAlarcon @markheredia7 @AndyLaraG @glowcg @AndreaRSantiag1 @Jimena_Who @jet_milton\n",
      "---- 0.94 💪Sigan a mis amigos y amigas, son buena gente y en minutos te van a seguir ellos a vos. #Vamos #SeguimeYTeSigo  @MeybeDom @ElDespertadorAR @insaurraldeh @elpaisdiario @elcontadorsv503  @yajiAlvarenga @SvPatriotico  @SvPibe @simondixit  @jvhr1969  @partigiana_  @drmerazo\n",
      "-----------------------------\n",
      "\n",
      "SIMILAR TO: \"Ninguno de los partidos políticos representa el futuro; siguen conectados al capitalismo corporativo. Tenemos que traducir la pasión que ha caracterizado estas protestas al trabajo dentro del ámbito electoral\" -Angela Davis sobre las elecciones de 2020 https://t.co/ICVL2boRU3\n",
      "---- 0.88 5 años de violencia, presiones y bloqueo económico, es el legado de una dirigencia anacrónica. En contraste, la respuesta del pueblo y en especial de la juventud, lejos de la desesperanza, se ha traducido en trabajo, organización y movilización permanentemente. ¡Aquí hay futuro! https://t.co/pv0fYo0cyr\n",
      "---- 0.87 Fue de la tendencia revolucionaria. Hoy le compra a un grupo capitalista de la república socialista fundada por Mao Tse Tung una supervalla robótica para reprimir a los pobres del tercer mundo. Hay cambios y cambios. Nosotros, así, nunca Cambiemos. https://t.co/4O89NzIHj7\n",
      "---- 0.87 Comparto mi colaboración semanal en @Excelsior: #Coronavirus: crisis sin precedentes. La búsqueda por un acceso más igualitario a la salud no puede seguir ausente del debate entre candidatos y partidos. Merecemos que estos asuntos formen parte de las campañas electorales.\n",
      "-----------------------------\n",
      "\n",
      "SIMILAR TO: Compartimos una nota de @perfilcom de nuestra investigadora @balz85 sobre cómo afecta el contexto de #pandemia #Covid19 a lxs #Jubiladxs que necesitan #Trabajar  Lee la nota completa acá   https://t.co/hLM192HzGf\n",
      "---- 0.9 Compartimos artículo de nuestra Directora del Área Salud del @ceglaplata, @Lulimarchionni:  #COVID-19 y necropolítica: la epidemia detrás de la pandemia 📌  🔗https://t.co/ukkQ2P9bX6  #CoronavirusArgentina #coronavirus #PandemiaMundial #MeQuedoEnCasa #CuarentenaCoronavirus https://t.co/Twx1aTs7UW\n",
      "---- 0.89 Les compartimos esta nota en base a una entrevista que le hicieron a Fernando Barrazo de Trabaja Social @Fb201fb211288 por el Observatorio en el @DiarioNCOok 👇 https://t.co/jx6Jv3YSsM\n",
      "---- 0.89 Hoy les comparto esta nota de opinión que escribí para @clarincom sobre la desigualdad social en tiempos de #Coronavirus y cómo pone bajo la lupa las políticas habitacionales.   https://t.co/Ly3eNA52k1\n",
      "-----------------------------\n",
      "\n",
      "SIMILAR TO: Sole 1 mes más, ya van 52, una eternidad, ayer pensaba que útil sería tu solidaridad en este momento tan difícil. Cada día que pasa te extrañamos un poco más. #teamamos #nuncatevamosaolvidar https://t.co/JoG2BP9CjZ\n",
      "---- 0.93 Sole, hijita hermosa, hoy hace 5 años que por culpa de un irresponsable no te tenenos con nosotros. Me pregunto desde que lugar nos estas cuidando.Te juro que sueño con vos todas las noches. No sabes lo que te extrañanos y necesitamos. #teamamos #nuncatevamosaolvidar https://t.co/k2bhkUwMHR\n",
      "---- 0.91 La jornada no termina sin antes recordar su calidez y pasión x todo lo que hacía. La falta se siente como el 1er día, con más deseo x saber verdaderamente qué pasó. Lo merece ella, su familia y quienes han pasado o pasan x la misma experiencia. Te extrañamos! #JusticiaPorDebora https://t.co/CxkzBa3x8G\n",
      "---- 0.89 Llegamos a los 90 años viejito !!! Comienzo este día parafraseándote “Estamos mal pero vamos bien “hoy es tu cumple,pero Dios me dio el regalo a mi de tenerte en este día ❤️te amo con mi alma.Fuerza pa 💪@CarlosMenem_LR #los90deMenem https://t.co/0TV3ITfo1d\n",
      "-----------------------------\n",
      "\n",
      "SIMILAR TO: Visitamos la escuela de Taekwondo y Boxeo \"OTO\". Conversamos con Dario Olivetto, su entrenador, sobre la participación de los jóvenes en el deporte y de la importancia del acompañamiento a los deportistas locales. #EsConTod☀️s #HayFuturoParaVos #OlavarríaMereceMás https://t.co/VFdqLt5MrK\n",
      "---- 0.89 Entre los deportistas que reconocimos también se encuentran taekwondistas y el entrenador Walter Capurro de #SanMartín. ¡Son un orgullo para nuestro municipio! 🥇 https://t.co/ECacQDdxrW\n",
      "---- 0.86 Nuevamente una grata visita a la Rioja los días 27 y 28 de Junio, @JoseMeolans presente con el programa #CampusConTuIdolo en natación, seguimos trabajando con distintas figuras del deporte Argentino para que nuestros chicos tengan la oportunidad de aprender en cada disciplina https://t.co/eybhhXQ9ET\n",
      "---- 0.86 @RomeroBettina visitó el Club 9 de Julio y charló con sus directivos.”Las entidades deportivas son muy importantes para nosotros por la labor que realizan para nuestros niños y jóvenes. Por eso estamos apoyándolos con medidas concretas\" #GobiernoEnAcción #ClubesDeportivos https://t.co/y9m4OeAVOH\n",
      "-----------------------------\n",
      "\n",
      "SIMILAR TO: Tres décadas después de la caída del muro de Berlín, las dos superpotencias del siglo XXI parecen lanzadas hacia una nueva guerra fría. EE UU y China avanzan en una espiral perversa de consecuencias impensables, para ellos y para el resto del mundo https://t.co/OJhoTPWezr\n",
      "---- 0.88 En pleno siglo XXI en China continúa la persecución religiosa contra los cristianos. Biblias, cruces e iglesias quemadas: cómo es la persecución del régimen chino contra la minoría cristiana - Y Argentina alineándose cada vez más con China... https://t.co/3laV1o144R\n",
      "---- 0.88 Como si se tratara de una película de terror, para finales de este siglo algunas partes del mundo podrían enfrentar hasta seis crisis relacionadas con el clima al mismo tiempo. https://t.co/iQFvsxEdAc\n",
      "---- 0.86 La clásica evidencia de la fuerte apertura de Uruguay en la segunda mitad del siglo XIX y su \"desarrollo hacia afuera\", en un mundo que era muy globalizado.\n",
      "-----------------------------\n",
      "\n",
      "SIMILAR TO: #Ahora, Mtros de Energía de Argentina @Energia_Ar y CHILE @MinEnergia y Gob de Neuquén @OmarGutierrezOk junto al Emb. Bordón participando del Tercer Encuentro Chileno-Argentino sobre Integración Energética 🇦🇷🇦🇷🇨🇱🇨🇱 https://t.co/aUWz0JSXmw\n",
      "---- 0.97 #Ahora Sec. @Energia_Ar @JavierJiguacel y Emb. Bordón junto al Pte @sebastianpinera y Mtra @MinEnergia @susanajimenezs en apertura de la válvula para gas argentino para la zona central de #chile después de 12 años #integración 🇦🇷🇨🇱🇦🇷🇨🇱 https://t.co/ABh8a1QSaj\n",
      "---- 0.89 🇨🇱🇨🇱🇨🇱Chile duplicará su potencia instalada de energías renovables al finalizar el 2021:   ¡incorporará más de 5600 MW!  👏👏👏 @acesol @ACERAAG @GeneradorasCL @GSolarCouncil @GWECGlobalWind @IRENA @IEA  https://t.co/g9VkKu5HeT\n",
      "---- 0.89 Damos inicio en @DiputadosAR al Seminario sobre el Acuerdo #Mercosur #EFTA 🇦🇷🇳🇴🇨🇭 https://t.co/79wLqjy5a8\n",
      "-----------------------------\n",
      "\n",
      "SIMILAR TO: A 13 años de su fusilamiento gritamos fuerte ¡Carlos Fuentealba Presente ahora y siempre! ✊ #13AñosDeImpunidad seguimos exigiendo #CarcelALosResponsablesPolíticos #CarcelASobisch Comparto imagen de la campaña artística de la Agrupación Negra en Aten 👇 https://t.co/rLcBxqct3D\n",
      "---- 0.9 A 18 años de la #MasacreDeAvellaneda seguimos en las calles pidiendo justicia por Darío y Maxi.   #DarioYMaxiVivenEnLaLucha https://t.co/51leiMj8rr\n",
      "---- 0.9 Nuestra historia nos hizo saber q un pueblo sin memoria es un pueblo sin futuro. Mis felicitaciones a la Agrupación H.I.J.O.S. en sus 25 años de lucha x la memoria, la verdad y la justicia. Sigamos manteniendo viva la llama de los 30.000 ahora y siempre. #NuncaMas #25AñosDeHijos https://t.co/2YcPhJXw5D\n",
      "---- 0.89 A las 19:30 compartimos la lectura del documento de los organismos de #DDHH, a 44 años del Golpe genocida. Podés seguirlo por acá, así nos acompañamos.  #Abuelas #EnCasaConMemoria #PanuelosConMemoria #ConstruimosMemoria  https://t.co/TQvxMf8BtK\n",
      "-----------------------------\n",
      "\n",
      "SIMILAR TO: Hoy, en la ES Nº6 “Juana Manso”, acompañamos el cierre del Modelo Internacional de Naciones Unidas, del que participaron más de 40 escuelas de gestión estatal y privada de nuestro distrito y la región #SanMiguel https://t.co/hOZ4jJvKAG\n",
      "---- 0.88 Junto al ministro @alefinocchiaro visitamos la Escuela Primaria Nro. 62 “Gral. Lamadrid” de Ramos Mejía, #LaMatanza, que desarrolla distintos procesos de inclusión de estudiantes con discapacidad. https://t.co/Ukw21SSbOj\n",
      "---- 0.88 #DiaDeLaBandera  Mañana, 135 estudiantes de cuarto año de escuelas primarias de toda la Provincia participarán, junto a intendentes e intendentas, a la Directora General de Cultura y Educación, Agustina Vila, y al Gobernador @kicillofok, de un acto homenaje a la Bandera Nacional. https://t.co/iRMKEHFTCu\n",
      "---- 0.87 Participé de la 19° edición de la maratón por la inclusión con la presencia de alumnos de varias instituciones del medio. Una gran iniciativa del colegio especial Santa Lucía https://t.co/u0LKV4jSga\n",
      "-----------------------------\n",
      "\n",
      "SIMILAR TO: El pueblo de Reconquista y Avellaneda salió a defender sus empresas del avance del gobierno nacional sobre una empresa santafesina , el gobernador @omarperotti  de qué lado está? . El Brigadier Estanislao Lopez seguro estaría junto a los ciudadanos de SU provincia.\n",
      "---- 0.9 Dionisio Scarpín, intendente del pueblo santafesino de Avellaneda, aseguró que \"es mentira que Vicentin iba a la quiebra. Queremos defender nuestra postura\", se descargó. https://t.co/wm59qSbto3\n",
      "---- 0.88 4) En el testimonio de Scarpin, quien parece vocero de la empresa Vicentín, queda al desnudo el sesgo feudal en esa región de Santa Fe. El concepto de Scarpin del Estado es que sólo debe \"hacer rutas\", pero no garantizar la soberanía alimentaria de 45 millones de argentinos.\n",
      "---- 0.88 Un detalle no menor  En el banderazo estaban los empleados y muchos productores a los que #vicentin les debe mucha plata. Defendiendo a la empresa. #Avellaneda https://t.co/vMjBXlQPkf\n",
      "-----------------------------\n",
      "\n",
      "SIMILAR TO: @colocavirus @Cechu_ @JimeRuizEchazu Ponerse la mascarilla salva vidas. Lo malo de que prefieras ponerte un gorro de papel albal en la cabeza es que pones en peligro la salud de otros. No te confundas: no eres un rebelde por desoír a la COMUNIDAD MÉDICA. La osadía a veces es fruto de la ignorancia. Este es el caso.\n",
      "---- 0.9 En lugar de hacerle propaganda a la cuica con el libro autoeditado sobre cómo sobrevivir sin ayuda de una empleada doméstica podríamos hacerle difusión a esta belleza de @CalicheChile que está a 9 lucas en la @LibCatalonia  No sé po.  Se me ocurre que es harto mejor. https://t.co/poecTqu5F5\n",
      "---- 0.9 @scorohernan Y encima el milico cabeza de tacho los hace tocar con las manos la vereda!! Con una orden absurda disparó el riesgo de que esa gente se contagie. Solo un imbécil puede creer que estos abusos contribuyen a detener la pandemia.\n",
      "---- 0.89 ________________________  🔴 Jaque Mate, GATES! Tu LENGUAJE CORPORAL MIENTE! ES PEOR AÚN QUÉ LO QUE DICE!   Observen cómo después de cada pregunta incómoda -Bebe  -se toca dif. partes del cuerpo al hablar -Se mueve en silla (incomodidad) -Tartamudea -Se rie  1️⃣de3️⃣  🔄👈 https://t.co/1klVQG0duu\n",
      "-----------------------------\n",
      "\n",
      "SIMILAR TO: Como los chicos no pueden ir a las aulas, que las aulas vayan a los chicos. Felicitaciones a @MuniHurlingham y @JuanZabaletaOK por elegir el camino de la telemática como instrumento para garantizar la educación pública, gratuita, de calidad e inclusiva.  #ArgentinaUnida ♥️🇦🇷 https://t.co/Ekse9rYmkJ\n",
      "---- 0.91 Estamos construyendo futuro en #Jujuy con más escuelas y jardines de infantes para que los chicos reciban educación de calidad, contención y puedan ser lo que elijan cuando sean grandes. @EducacionAR @alefinocchiaro https://t.co/7ZVkR5vY7u\n",
      "---- 0.89 Hace 136 años se promulgaba la #Ley1420 como emblema de nuestro país, garantizando a cada argentino y argentina el derecho a una educación común, gratuita y obligatoria; una Educación que permite brindar igualdad de oportunidades de desarrollo a todos y todas.   @mineducacion2 https://t.co/oO8sw4mpL8\n",
      "---- 0.89 #SeguimosTrabajando Más de 7 millones de estudiantes recibirán materiales educativos. Junto al ministro @ivexler seguimos mejorando la calidad educativa de nuestros niños y adolescentes. Mayor calidad, mejor educación. #BuenAñoEscolar2018. https://t.co/Xh13Xeo6aQ\n",
      "-----------------------------\n",
      "\n",
      "SIMILAR TO: RESPUESTAS PARA COMBATIR EL FUEGO Más de 33 brigadistas y 5 aviones trabajan hoy para combatir los incendios en las islas. Trabajamos por una solución definitiva, y para que los responsables sean castigados con la ley.  #ArribaRosario https://t.co/faxdfH8tVD\n",
      "---- 0.9 Charles De Gaulle decía algo similar a:  “Las FFAA no son necesarias justamente hasta que se las necesita”  Nuestra propuesta de intervención, hoy se ve materializada con Unidades Militares especializadas en incendios forestales que combaten el fuego en las islas #BastaDeHumo https://t.co/rJNrQPq34Q\n",
      "---- 0.85 Estamos viajando a Bolivia en un avión Hércules C-130.  Vamos a efectuar el recambio de bomberos jujeños: llevamos a brigadistas y traemos a los 26 héroes que estuvieron ayudando a combatir el fuego desde hace un par de semanas. https://t.co/HmcVtF9JQP\n",
      "---- 0.85 En #Rosario, logramos articular un acuerdo interjurisdiccional al problema de la quema de pastizales en la zona del delta del Río Paraná, que afecta a 1 millón y medio de personas, dañan el ambiente y la seguridad pública. https://t.co/5U9v6ZV5Sh\n",
      "-----------------------------\n",
      "\n",
      "SIMILAR TO: Siempre dijimos que la integración regional es imprescindible para el desarrollo de nuestros Pueblos. Una voz fuerte para que se escuche y una espalda grande para aguantar las presiones de las potencias.  La Unidad de América Latina es la respuesta. Es por acá. https://t.co/VViFV3Hti1\n",
      "---- 0.89 En la última cumbre del Mercosur, @alferdez manifestó la necesidad de construir un mundo más justo y en cooperación con los países hermanos.  Así también, reiteraron su apoyo al reclamo por la soberanía de Malvinas. Necesitamos crecer juntos y en paz en América Latina.\n",
      "---- 0.89 5 años de violencia, presiones y bloqueo económico, es el legado de una dirigencia anacrónica. En contraste, la respuesta del pueblo y en especial de la juventud, lejos de la desesperanza, se ha traducido en trabajo, organización y movilización permanentemente. ¡Aquí hay futuro! https://t.co/pv0fYo0cyr\n",
      "---- 0.88 Gracias, presidente @sebastianpinera. Así lo haremos. Nuestros pueblos merecen que trabajemos por la integración de nuestra América Latina y por un desarrollo que atienda a quienes más padecen este presente de desigualdad.\n",
      "-----------------------------\n",
      "\n",
      "SIMILAR TO: Más de 40 minutos esperando el tren por una medida gremial. En nuestro país somos rehenes del sindicalismo.\n",
      "---- 0.82 Enorme la movilización de los choferes de la UTA en #Rosario. Quizá ahora los empresarios y los gobiernos dejen de jugar con el salario de los laburantes en medio de una crisis social. La clase trabajadora dice presente, cada vez más, en todo el país.\n",
      "---- 0.8 #ATENTOS Uta anunció que mañana podrían decretar paro total de transporte en todo el país y la ciudad otra vez se quedaría sin colectivos. Los usuarios con fuertes reclamos por la demora y las largas esperas de más de hora y media en las paradas barriales. Movil @radiomitrecba. https://t.co/AupxhQq7y9\n",
      "---- 0.8 -LATAM propone recortar salarios al 50% -Gremios patalean \"conducta antisindical\". -Gobierno intima a que paguen el 100% de los salarios. -LATAM anuncia que deja de operar en el país.  GOBIERNO + SINDICATOS dejaron en la calle a los empleados. Acá se olvidaron que hay pandemia?\n",
      "-----------------------------\n",
      "\n",
      "SIMILAR TO: Esta mañana mantuve reuniones con personal de las delegaciones del @INVArgentina en San Juan, San Rafael y General Alvear. Agradezco a todos los equipos que pese a la emergencia sanitaria están llevando adelante sus tareas dando lo mejor de sí. https://t.co/9h1EnVOw7M\n",
      "---- 0.9 Hoy la ministra de Salud se reunió con sus pares de San Juan, La Rioja, Mendoza y Córdoba. Aproveché el encuentro para saludarlos y conversar con ellos sobre las políticas de vigilancia epidemiológica que vinieron a coordinar. ¡Gran trabajo en equipo! #SanLuisNosUne #SaludSanLuis https://t.co/QYNStpXVJM\n",
      "---- 0.88 Hoy visitamos al Intendente de General Alvear @WMarcolini para coordinar acciones entre Nación y Municipio. https://t.co/GTNRYBUyqo\n",
      "---- 0.88 Continuamos la recorrida en #Chacabuco. Allí fui recibido por el intendente Víctor Aiola y su gabinete para coordinar el trabajo entre el gobierno provincial y el municipio en el marco de la pandemia de COVID-19.  #CuidarteEsCuidarnos https://t.co/9ANKEj9Wva\n",
      "-----------------------------\n",
      "\n",
      "SIMILAR TO: \"Tenemos que volver a ordenar la vida de los argentinos\" #CristinaEnArsenal #UnidadCiudadana #VolvemosMejores https://t.co/efXzKwdD7h\n",
      "---- 0.9 Vuelven las oportunidades. Vuelve #Mendoza a ser protagonista. Vuelve Cristina. Somos más con más!!   #VotaAnabel #CristinaVuelve #elecciones2019 #mendoza #NuestroTiempo #NuestraAnabel #CFK ♥️ https://t.co/8DUu91lWbQ\n",
      "---- 0.88 Somos la Argentina. Vamos a levantarnos otra vez. #AlbertoPresidente https://t.co/ThNDWl7Btv\n",
      "---- 0.88 Caminante no hay camino se hace camino al andar....#Pjdigital #frentedetodos #LaCampanaDeTodos vamos compañeros ya queda poco #VamosAVolver #AlbertoPresidente https://t.co/GO0CEdK3sf\n",
      "-----------------------------\n",
      "\n",
      "SIMILAR TO: La enorme mayoría de la sociedad está cumpliendo la cuarentena de manera ejemplar, cuidada y protegida por los profesionales de la salud y las fuerzas de seguridad, cuyo servicio en estas semanas es conmovedor.\n",
      "---- 0.88 Es un orgullo para nosotros recibir una noticia tan importante, vamos a ratificar nuestro apoyo al sistema sanitario y trabajar de manera articulada con cada institución vinculada a la salud.\n",
      "---- 0.87 En el Día Mundial de la Salud envío mi apoyo a los profesionales de la salud que hoy forman parte de nuestra primera línea de defensa frente al #COVID19. Ante esta amenaza somos un solo equipo, Costa Rica. Cuidemos a nuestro personal de salud haciendo caso y quedándonos en casa.\n",
      "---- 0.86 Contener, acompañar y cuidar la salud: todo esto y más hacen las médicas y médicos en un contexto como la pandemia que, seguramente, sea de los más complejos que enfrentaron. Hoy les agradecí yo por videollamada, pero cada día lo hace la gente. Su esfuerzo se valora muchísimo 💕 https://t.co/KFUyvmKL8L\n",
      "-----------------------------\n",
      "\n",
      "SIMILAR TO: @rosmega Mítico Hotel Edén! Inaugurado en 1898, de allí nace lo que hoy es La Falda!, dónde? En Córdoba! https://t.co/e9XrViYy23\n",
      "---- 0.85 @MisticAlbiazul @CulturAlbiazul ¡¡Lo que busqué esta imagen y aparece ahora escarbando material de aquella tarde!!. Atilio \"Toro\" Willington y Paco Cabasés también estaban de fiesta junto a #Talleres en la previa del #clásicocordobés en la #Boutique. Sentados en el kiosco de la Mari esperando el partido. https://t.co/L6TGakZVLB\n",
      "---- 0.85 La torre de Hércules que está en Coruña es el faro romano más antiguo del mundo que todavía funciona. Esta foto es de cuando fuimos con mis viejos hace un mes. Se puede entrar pero hay que pagar y @Tronquito75 tiene bolsillo con candado https://t.co/uZGKioYgqV\n",
      "---- 0.84 Columna imperdible para los aficionados al Polo, recordando la final del 88 entre La Espadaña y Chapa: Un caballo muerto, 39 grados y un corazón de otra galaxia: así fue la final increíble del Abierto de Palermo https://t.co/9xJy6c9MGk vía @LANACION\n",
      "-----------------------------\n",
      "\n",
      "SIMILAR TO: Echar de menos es sin h, pibón es con b, una ostia es una ostra, por lo que si no se refiere a una ostra se escribe hostia con h, paranoia y no “paranoya”, rayarse la cabeza y no rallarse, cogí y cojo, a gusto se escribe separado, en serio?? Pues sí y se escribe separado también.\n",
      "---- 0.87 Otra versión: no se hablan. Pero es inútil, si piensa igual que ella se pelea por la pelota y no por el país. Para eso que se amigue y que la invite a bailar. https://t.co/mTYtr8iBW7\n",
      "---- 0.87 dios q horrible notar que con alguien ya no tienen ni tema de conversación pq la relación no es como antes voy a llorar en la ducha para disimular mis lagrimas adiós\n",
      "---- 0.86 A veces odio twitter pero también me acuerdo de que acá aprendí que la calabaza se puede pelar con pelapapas, dios te da y dios te quita\n",
      "-----------------------------\n",
      "\n",
      "SIMILAR TO: 𝟣𝟫 𝒹𝑒 𝒿𝓊𝓃𝒾𝑜: 𝟨𝟥° 𝒶𝓃𝒾𝓋𝑒𝓇𝓈𝒶𝓇𝒾𝑜 𝒹𝑒𝓁 𝐼𝒪𝑀𝒜  Feliz día a lxs trabajadorxs de nuestra obra social. En este momento de emergencia, gracias por el esfuerzo para garantizar el derecho a la salud de nuestrxs afiliadxs!  🎞️  https://t.co/450YbEmXih https://t.co/14LJmdaFX1\n",
      "---- 0.9 Feliz día a todxs lxs trabajadorxs y especialmente a aquellos que hoy sostienen los servicios de salud y salud mental asistiendo a la población en un momento critico y acompañando a sus compañerxs para fortalecer nuestro sistema sanitario.\n",
      "---- 0.89 #DíaDelTrabajadorMunicipal #DíaDeLaTrabajadoraMunicipal  Saludamos a lxs trabajadorxs municipales de Mendoza, quienes realizan una labor indispensable para cada comunidad.  Seguiremos luchando juntxs por sus derechos y salarios dignos. https://t.co/QUPhROhkGk\n",
      "---- 0.88 En este #DíaMundialDeLaSalud tan especial que nos toca transitar, pensemos y honremos a nuestrxs trabajadorxs de la salud argentina, que todos los días están en la primera línea de exposición, para ciudarnos a todxs del #coronavirus. #UnidosSomosLaCura https://t.co/UbbrLZa2h4\n",
      "-----------------------------\n",
      "\n",
      "SIMILAR TO: La Ministra @EstelaDiaz63  y la Subsecretaria @LuciaPortos recibieron a Agustina Cacault, Subsecretaria de Relaciones Institucionales y Planificación Estratégica de Fiscalía de Estado. https://t.co/VBBbG5ZBn4\n",
      "---- 0.88 La secretaria Roxana Dib, la subsecretaria de Políticas Socioeducativas @DipTorres, la presidente del C.D. de El Quebrachal, Ludmila Borujow y el director de la Agencia Provincial de la Juventud, @pablitomarcial, se reunieron para hablar sobre las demandas educativas del interior https://t.co/rezvLNSb26\n",
      "---- 0.88 En el día de ayer nos reunimos con la Ministra de Mujeres, Política de Género y Diversidad Sexual, @EstelaDiaz63; Subsecretaria de Políticas contra la violencia por razones de género, Flavia Marina Delmas, y la Subsecretaria de Políticas de Genero y Diversidad Sexual,Lucía Portos https://t.co/6OioqYXPMt\n",
      "---- 0.88 Impulsamos acciones preventivas con @MinDesarrolloBA. Encuentro con la Directora Pcial de Políticas de Cuidado, Infancias y Juventudes @perlatorales, la Directora de prevención socio comunitaria Mariana Ruiz, y @juanmadisocio de @ENVIONBA.  @julietacalmels  @Irupemar  @SaludBAP https://t.co/sgHcDj8GHd\n",
      "-----------------------------\n",
      "\n",
      "SIMILAR TO: Datos diarios sobre la situación del #Coronavirus en Rosario al 16 de julio:   ➡️7 personas dieron positivo para #covid19. Total: 205 / 78 activos  ➡️519 personas aisladas preventivamente (en 9 clústers)  ➡️11 personas internadas  ➡️2 personas se han recuperado hoy. Total: 125 https://t.co/77kD5yPM4o\n",
      "---- 0.98 Datos diarios sobre la situación de #covid19 al 24 de julio:   ➡️21 personas dieron positivo.  Total: 329 / 154 activos  ➡️760 personas aisladas preventivamente (14 clústers)  ➡️1 persona más se ha recuperado. Total: 172 https://t.co/avpys1H9iy\n",
      "---- 0.94 Informe #COVID19: hoy procesamos 377 muestras, todas negativas. 10 internados, el resto en aislamiento domiciliario. 7 nuevos recuperados, sumando así 53. Total de confirmados: 208. #QuedateEnCasa @msaludpy https://t.co/IJ7RFuTuQz\n",
      "---- 0.93 Informe #COVID19 | 6 de julio:   📍Procesamos 1486 muestras, 29 positivos: 20 contactos, 4 del exterior y 5 sin nexo, todos en aislamiento.   📍33 internados, 7 en UTI.   📍14 recuperados, sumando así 1180.   📍Total de confirmados: 2456.   #QuedateEnCasa https://t.co/zl9wPdDqgq\n",
      "-----------------------------\n",
      "\n",
      "SIMILAR TO: Macri termino haciendo obra pública a un 40% mas barato que estos tipos aun con la inflación acumulada de sus 4 años de gobierno y a algunos se los nota soprendidos por que ahoran comparon fideos moñitos con sobreprecio.\n",
      "---- 0.9 @RicardoLpezPav1 @elisacarrio Capo, los 4 años de Macri fueron el paraiso comparado con estos 7 meses de desidia, inoperancia, pobreza y miseria.  Te quejabas de que el dolar salto de 16 a 45. Alberto lo hizo saltar a 135.  Peor piña económica en la historia del país, fundiendo jubilados, y sin paritarias.\n",
      "---- 0.88 Genial que mientras hay 50% de pobreza, ajustan jubilados y le van a cobrar el IVA a la leche, quieran agregar 36 jueces federales y mas de 10 ministros de la Corte para que una sola persona (Cristina) quede libre de culpa y cargo. En un país serio terminan todos como Mussolini.\n",
      "---- 0.88 ¿Te acordas cuando dijo a V Llosa que si ganaba las elecciones iba a ir en la misma dirección pero más rápido? Llevó el U$D de $9 a $60, la inflación de 25% a 55%,  desempleo de 6% 10%, pobreza de 25% a %35, deuda dl 50% d PBI a 114% #MafiosoDejaDeMentir Memoria de #LaGranEstafaM https://t.co/HZFn2Y0xiU\n",
      "-----------------------------\n",
      "\n"
     ]
    }
   ],
   "source": [
    "for i in range(30):\n",
    "    to_compare = df[df.tweet_l > 7].sample(1)\n",
    "    to_compare_cleaned = to_compare.full_text_cleaned.values\n",
    "    to_compare_text = to_compare.full_text.values\n",
    "    to_compare_vector = model.get_vectors(to_compare_cleaned, True)\n",
    "    similarities = model.pairwise_similarity_vectors(to_compare_vector, tweet_vectors)\n",
    "    similarity_index = np.argsort(similarities[0])[::-1]\n",
    "    similarity_sorted = np.sort(similarities[0])[::-1]\n",
    "    \n",
    "    print('SIMILAR TO:', to_compare_text[0].replace('\\n', ' '))\n",
    "    similar_texts = df_sample.iloc[similarity_index].head(3).full_text.apply(lambda x: x.replace('\\n', ' ')).values\n",
    "    for i in range(len(similar_texts)):\n",
    "        print('----', round(similarity_sorted[i], 2), similar_texts[i])\n",
    "    print('-----------------------------\\n')"
   ]
  },
  {
   "cell_type": "code",
   "execution_count": 81,
   "metadata": {},
   "outputs": [
    {
     "name": "stdout",
     "output_type": "stream",
     "text": [
      "SIMILAR TWEETS TO: 🌈\n",
      "---- 0.94 🏳️‍🌈✨ buenas noches 🏳️‍🌈✨ https://t.co/EUEvc0pssB\n",
      "---- 0.9 Felices 10 años de Matrimonio igualitario ❤🌈🌈🌈 https://t.co/6hSKdplA5K\n",
      "---- 0.88 ¡Todos los días! 🏳️‍🌈  #IDAHOT https://t.co/kQ9JEFpfet\n",
      "---- 0.86 El mismo amor, los mismos derechos ❤️🧡💛💚💙💜 #10AñosMatrimonioIgualitario 🏳️‍🌈 https://t.co/65tGRjyhiI\n",
      "-----------------------------\n",
      "\n",
      "SIMILAR TWEETS TO: 🛫\n",
      "---- 0.71 En Ezeiza con la tripulación de Edelweiss - todo listo para el vuelo ✈️ de repatriación 👍🏼 https://t.co/kFkO0q1k8m\n",
      "---- 0.64 Despegó desde Roma un nuevo vuelo especial de @Aerolineas_AR. Desde el inicio de la pandemia, programamos más de 67 operaciones a destinos internacionales que han permitido que miles de argentinos y argentinas vuelvan a sus hogares. ✈️🇮🇹🇦🇷 https://t.co/bPN0k9J7Ge\n",
      "---- 0.63 Vuelo Especial a Shanghai: Listos para despegar #somosapla #pilotosargentinos #aeronauticos #flight #aerolineasargentinas #covi̇d19 https://t.co/PLxKBIrDi5\n",
      "---- 0.62 Ya a bordo del Boeing 737-800 LV-ITK de @Norwegian_ARG para partir en el vuelo inaugural a Salta. #FlyNorwegian https://t.co/yLIHimwO97\n",
      "-----------------------------\n",
      "\n",
      "SIMILAR TWEETS TO: 💚\n",
      "---- 0.97 ┏━━┓┏━━┓┏━━┓┏━━┓      💚          💚          💚 ┗━┓┃┃┏┓┃┗━┓┃┃┃ ┏━┛┃┃┃┃┃┏━┛┃┃┃ QUE EN 2020 EL ABORTO SEA LEY ┃┏━┛┃┃┃┃┃┏━┛┃┃┃┃ ┃┗━┓┃┗┛┃┃┗━┓┃┗┛┃     💚           💚          💚 ┗━━┛┗━━┛┗━━┛┗━\n",
      "---- 0.9 Un deseo recorre la Argentina #AbortoLegal2020 💚💚\n",
      "---- 0.89 Un paso más hacia el Aborto, legal, seguro y grauito!💚💚💚  #ProtocoloILEenCABA\n",
      "---- 0.86 Se escucha el ruido de la historia, esa que nunca se escribe silenciosamente.  Vamos por el #abortolegal 💚💚💚 https://t.co/MCGN3ozL5E\n",
      "-----------------------------\n",
      "\n",
      "SIMILAR TWEETS TO: 👮‍♂️\n",
      "---- 0.78 ¡LA FOTO DEL DÍA!  Un policía poniéndole un barbijo a un adulto mayor desprotegido.  👮🏽‍♂️👮🏽‍♀️👩🏽‍🦳👨🏽‍🦳👮🏽‍♀️👮🏽‍♂️  ¡Cuando las Instituciones funcionan bien!   Gracias muchachos/as por hacer su trabajo con profesionalismo y dedicación 👏🏾👏🏾👏🏾. https://t.co/OotbYVRnuI\n",
      "---- 0.68 Mañana convocamos una sesión especial para que @FelipeMiguelBA nos explique qué hacían oficiales de la Policía de la Ciudad cumpliendo tareas en la AFI 👮🏻‍♂️🔍  https://t.co/V2INkKmgS9\n",
      "---- 0.66 Hoy se celebra el día internacional de la mujer en ingeniería 👨🏽‍🔬👩🏽‍💻👩🏽‍🔬. Sale hilo 🧵 de quienes fueron las primeras ingenieras por estos lares 👇🏽\n",
      "---- 0.64 Estaba claro que tenía que pasar brasil no? 👮🏾‍♂️\n",
      "-----------------------------\n",
      "\n"
     ]
    }
   ],
   "source": [
    "for i in ['🌈', '🛫', '💚', '👮‍♂️']:\n",
    "    to_compare_text = [i]\n",
    "    to_compare_vector = model.get_vectors(to_compare_text)\n",
    "    similarities = model.pairwise_similarity_vectors(to_compare_vector, tweet_vectors)\n",
    "    similarity_index = np.argsort(similarities[0])[::-1]\n",
    "    similarity_sorted = np.sort(similarities[0])[::-1]\n",
    "    \n",
    "    print('SIMILAR TWEETS TO:', to_compare_text[0].replace('\\n', ' '))\n",
    "    similar_texts = df_sample.iloc[similarity_index].head(4).full_text.apply(lambda x: x.replace('\\n', ' ')).values\n",
    "    for i in range(len(similar_texts)):\n",
    "        print('----', round(similarity_sorted[i], 2), similar_texts[i])\n",
    "    print('-----------------------------\\n')"
   ]
  },
  {
   "cell_type": "markdown",
   "metadata": {},
   "source": [
    "Funciona bastante bien 🙄🙄"
   ]
  }
 ],
 "metadata": {
  "kernelspec": {
   "display_name": "Python 3",
   "language": "python",
   "name": "python3"
  },
  "language_info": {
   "codemirror_mode": {
    "name": "ipython",
    "version": 3
   },
   "file_extension": ".py",
   "mimetype": "text/x-python",
   "name": "python",
   "nbconvert_exporter": "python",
   "pygments_lexer": "ipython3",
   "version": "3.7.1"
  }
 },
 "nbformat": 4,
 "nbformat_minor": 2
}
