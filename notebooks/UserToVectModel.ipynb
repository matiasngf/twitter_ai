{
 "cells": [
  {
   "cell_type": "markdown",
   "metadata": {},
   "source": [
    "# UserToVect\n",
    "Autoencoder for twitter users\n",
    "<img src=\"./img/red_user_to_vect.jpg\" />"
   ]
  },
  {
   "cell_type": "code",
   "execution_count": 2,
   "metadata": {},
   "outputs": [],
   "source": [
    "import pandas as pd\n",
    "import numpy as np\n",
    "import gensim\n",
    "import seaborn as sns\n",
    "from matplotlib import pyplot\n",
    "import sys\n",
    "import math\n",
    "import sys\n",
    "sys.path.append(\"../scripts/\")\n",
    "import TweetToVect2 as TW"
   ]
  },
  {
   "cell_type": "code",
   "execution_count": 3,
   "metadata": {},
   "outputs": [],
   "source": [
    "word_model = gensim.models.fasttext.load_facebook_vectors(\"../models/words_fast_text.bin\")"
   ]
  },
  {
   "cell_type": "code",
   "execution_count": 4,
   "metadata": {},
   "outputs": [],
   "source": [
    "df_tw = pd.read_pickle('../datasets/tweets_cleaned.pkl')"
   ]
  },
  {
   "cell_type": "code",
   "execution_count": 5,
   "metadata": {},
   "outputs": [],
   "source": [
    "df_u = pd.read_csv('../datasets/users_202008032307.csv')"
   ]
  },
  {
   "cell_type": "code",
   "execution_count": 6,
   "metadata": {},
   "outputs": [
    {
     "data": {
      "text/html": [
       "<div>\n",
       "<style scoped>\n",
       "    .dataframe tbody tr th:only-of-type {\n",
       "        vertical-align: middle;\n",
       "    }\n",
       "\n",
       "    .dataframe tbody tr th {\n",
       "        vertical-align: top;\n",
       "    }\n",
       "\n",
       "    .dataframe thead th {\n",
       "        text-align: right;\n",
       "    }\n",
       "</style>\n",
       "<table border=\"1\" class=\"dataframe\">\n",
       "  <thead>\n",
       "    <tr style=\"text-align: right;\">\n",
       "      <th></th>\n",
       "      <th>user_id</th>\n",
       "      <th>user_name</th>\n",
       "      <th>name</th>\n",
       "      <th>description</th>\n",
       "      <th>url</th>\n",
       "      <th>created_at</th>\n",
       "      <th>geo_enabled</th>\n",
       "      <th>verified</th>\n",
       "      <th>profile_image_url</th>\n",
       "      <th>profile_image_url_large</th>\n",
       "      <th>...</th>\n",
       "      <th>friends_count</th>\n",
       "      <th>listed_count</th>\n",
       "      <th>favourites_count</th>\n",
       "      <th>statuses_count</th>\n",
       "      <th>media_count</th>\n",
       "      <th>pinned_tweet</th>\n",
       "      <th>tweets_scraped</th>\n",
       "      <th>tweets_scraped_at</th>\n",
       "      <th>scrapped_at</th>\n",
       "      <th>ignore</th>\n",
       "    </tr>\n",
       "  </thead>\n",
       "  <tbody>\n",
       "    <tr>\n",
       "      <th>0</th>\n",
       "      <td>1000012910</td>\n",
       "      <td>ElibeGoy</td>\n",
       "      <td>EliLorenzen</td>\n",
       "      <td>Se dicen Argentinos, pero lo unico que quieren...</td>\n",
       "      <td>NaN</td>\n",
       "      <td>2012-12-09 19:43:03.0</td>\n",
       "      <td>1</td>\n",
       "      <td>0</td>\n",
       "      <td>https://pbs.twimg.com/profile_images/295368622...</td>\n",
       "      <td>https://pbs.twimg.com/profile_images/295368622...</td>\n",
       "      <td>...</td>\n",
       "      <td>1015</td>\n",
       "      <td>11</td>\n",
       "      <td>119347</td>\n",
       "      <td>150497</td>\n",
       "      <td>1239</td>\n",
       "      <td>NaN</td>\n",
       "      <td>0</td>\n",
       "      <td>NaN</td>\n",
       "      <td>2020-07-28 17:33:45.0</td>\n",
       "      <td>0</td>\n",
       "    </tr>\n",
       "    <tr>\n",
       "      <th>1</th>\n",
       "      <td>1000016694310522880</td>\n",
       "      <td>ampirubio_</td>\n",
       "      <td>𝒜𝓂𝓅𝒶𝓇𝑜 🦋</td>\n",
       "      <td>17 años // siempre con las pibas♀️LAE ~ Arriba...</td>\n",
       "      <td>https://t.co/ET6On7tWRN</td>\n",
       "      <td>2018-05-25 14:12:14.0</td>\n",
       "      <td>0</td>\n",
       "      <td>0</td>\n",
       "      <td>https://pbs.twimg.com/profile_images/128064563...</td>\n",
       "      <td>https://pbs.twimg.com/profile_images/128064563...</td>\n",
       "      <td>...</td>\n",
       "      <td>714</td>\n",
       "      <td>2</td>\n",
       "      <td>46794</td>\n",
       "      <td>37603</td>\n",
       "      <td>65</td>\n",
       "      <td>1.210915e+18</td>\n",
       "      <td>0</td>\n",
       "      <td>NaN</td>\n",
       "      <td>2020-07-28 03:58:39.0</td>\n",
       "      <td>0</td>\n",
       "    </tr>\n",
       "    <tr>\n",
       "      <th>2</th>\n",
       "      <td>1000050140</td>\n",
       "      <td>Petey_57</td>\n",
       "      <td>Salvador#tropak</td>\n",
       "      <td>Radical alfonsinista, Un día sin darme cuenta ...</td>\n",
       "      <td>NaN</td>\n",
       "      <td>2012-12-09 20:01:59.0</td>\n",
       "      <td>1</td>\n",
       "      <td>0</td>\n",
       "      <td>https://pbs.twimg.com/profile_images/415566131...</td>\n",
       "      <td>https://pbs.twimg.com/profile_images/415566131...</td>\n",
       "      <td>...</td>\n",
       "      <td>2817</td>\n",
       "      <td>0</td>\n",
       "      <td>37429</td>\n",
       "      <td>15079</td>\n",
       "      <td>5530</td>\n",
       "      <td>1.116528e+18</td>\n",
       "      <td>0</td>\n",
       "      <td>NaN</td>\n",
       "      <td>2020-07-28 03:48:15.0</td>\n",
       "      <td>0</td>\n",
       "    </tr>\n",
       "  </tbody>\n",
       "</table>\n",
       "<p>3 rows × 21 columns</p>\n",
       "</div>"
      ],
      "text/plain": [
       "               user_id   user_name             name  \\\n",
       "0           1000012910    ElibeGoy      EliLorenzen   \n",
       "1  1000016694310522880  ampirubio_         𝒜𝓂𝓅𝒶𝓇𝑜 🦋   \n",
       "2           1000050140    Petey_57  Salvador#tropak   \n",
       "\n",
       "                                         description                      url  \\\n",
       "0  Se dicen Argentinos, pero lo unico que quieren...                      NaN   \n",
       "1  17 años // siempre con las pibas♀️LAE ~ Arriba...  https://t.co/ET6On7tWRN   \n",
       "2  Radical alfonsinista, Un día sin darme cuenta ...                      NaN   \n",
       "\n",
       "              created_at  geo_enabled  verified  \\\n",
       "0  2012-12-09 19:43:03.0            1         0   \n",
       "1  2018-05-25 14:12:14.0            0         0   \n",
       "2  2012-12-09 20:01:59.0            1         0   \n",
       "\n",
       "                                   profile_image_url  \\\n",
       "0  https://pbs.twimg.com/profile_images/295368622...   \n",
       "1  https://pbs.twimg.com/profile_images/128064563...   \n",
       "2  https://pbs.twimg.com/profile_images/415566131...   \n",
       "\n",
       "                             profile_image_url_large  ...    friends_count  \\\n",
       "0  https://pbs.twimg.com/profile_images/295368622...  ...             1015   \n",
       "1  https://pbs.twimg.com/profile_images/128064563...  ...              714   \n",
       "2  https://pbs.twimg.com/profile_images/415566131...  ...             2817   \n",
       "\n",
       "   listed_count  favourites_count  statuses_count  media_count  pinned_tweet  \\\n",
       "0            11            119347          150497         1239           NaN   \n",
       "1             2             46794           37603           65  1.210915e+18   \n",
       "2             0             37429           15079         5530  1.116528e+18   \n",
       "\n",
       "   tweets_scraped  tweets_scraped_at            scrapped_at ignore  \n",
       "0               0                NaN  2020-07-28 17:33:45.0      0  \n",
       "1               0                NaN  2020-07-28 03:58:39.0      0  \n",
       "2               0                NaN  2020-07-28 03:48:15.0      0  \n",
       "\n",
       "[3 rows x 21 columns]"
      ]
     },
     "metadata": {},
     "output_type": "display_data"
    },
    {
     "data": {
      "text/html": [
       "<div>\n",
       "<style scoped>\n",
       "    .dataframe tbody tr th:only-of-type {\n",
       "        vertical-align: middle;\n",
       "    }\n",
       "\n",
       "    .dataframe tbody tr th {\n",
       "        vertical-align: top;\n",
       "    }\n",
       "\n",
       "    .dataframe thead th {\n",
       "        text-align: right;\n",
       "    }\n",
       "</style>\n",
       "<table border=\"1\" class=\"dataframe\">\n",
       "  <thead>\n",
       "    <tr style=\"text-align: right;\">\n",
       "      <th></th>\n",
       "      <th>tweet_id</th>\n",
       "      <th>conversation_id</th>\n",
       "      <th>user_id</th>\n",
       "      <th>created_at</th>\n",
       "      <th>lang</th>\n",
       "      <th>retweet_count</th>\n",
       "      <th>favorite_count</th>\n",
       "      <th>reply_count</th>\n",
       "      <th>quote_count</th>\n",
       "      <th>is_reply</th>\n",
       "      <th>...</th>\n",
       "      <th>quoted_id</th>\n",
       "      <th>full_text</th>\n",
       "      <th>source</th>\n",
       "      <th>scrapped_at</th>\n",
       "      <th>user_mentions_count</th>\n",
       "      <th>hashtags_count</th>\n",
       "      <th>urls_count</th>\n",
       "      <th>media_count</th>\n",
       "      <th>replied_original</th>\n",
       "      <th>full_text_cleaned</th>\n",
       "    </tr>\n",
       "  </thead>\n",
       "  <tbody>\n",
       "    <tr>\n",
       "      <th>1000001051574046720</th>\n",
       "      <td>1000001051574046720</td>\n",
       "      <td>1000001051574046720</td>\n",
       "      <td>323956672</td>\n",
       "      <td>2018-05-25 13:10:04.0</td>\n",
       "      <td>es</td>\n",
       "      <td>9</td>\n",
       "      <td>12</td>\n",
       "      <td>1</td>\n",
       "      <td>0</td>\n",
       "      <td>0</td>\n",
       "      <td>...</td>\n",
       "      <td>NaN</td>\n",
       "      <td>Feliz día de la Patria! 🇦🇷 https://t.co/XfrTi2...</td>\n",
       "      <td>Twitter for iPhone</td>\n",
       "      <td>2020-07-28 05:10:54.0</td>\n",
       "      <td>0</td>\n",
       "      <td>0</td>\n",
       "      <td>0</td>\n",
       "      <td>1</td>\n",
       "      <td>NaN</td>\n",
       "      <td>feliz día patria ! 🇦 🇷 URL</td>\n",
       "    </tr>\n",
       "    <tr>\n",
       "      <th>1000002592955609088</th>\n",
       "      <td>1000002592955609088</td>\n",
       "      <td>1000002592955609088</td>\n",
       "      <td>53851352</td>\n",
       "      <td>2018-05-25 13:16:11.0</td>\n",
       "      <td>es</td>\n",
       "      <td>596</td>\n",
       "      <td>1486</td>\n",
       "      <td>2</td>\n",
       "      <td>4</td>\n",
       "      <td>0</td>\n",
       "      <td>...</td>\n",
       "      <td>NaN</td>\n",
       "      <td>No busquen explicación, es amor.\\n#117AñosDeHi...</td>\n",
       "      <td>Twitter for Android</td>\n",
       "      <td>2020-07-28 04:26:30.0</td>\n",
       "      <td>0</td>\n",
       "      <td>1</td>\n",
       "      <td>0</td>\n",
       "      <td>1</td>\n",
       "      <td>NaN</td>\n",
       "      <td>no busquen explicación amor # 117añosdehistori...</td>\n",
       "    </tr>\n",
       "    <tr>\n",
       "      <th>1000002668474101761</th>\n",
       "      <td>1000002668474101761</td>\n",
       "      <td>1000002668474101761</td>\n",
       "      <td>69668594</td>\n",
       "      <td>2018-05-25 13:16:29.0</td>\n",
       "      <td>es</td>\n",
       "      <td>5</td>\n",
       "      <td>23</td>\n",
       "      <td>0</td>\n",
       "      <td>0</td>\n",
       "      <td>0</td>\n",
       "      <td>...</td>\n",
       "      <td>NaN</td>\n",
       "      <td>🇦🇷 La Patria somos todos y la construimos junt...</td>\n",
       "      <td>Twitter for Android</td>\n",
       "      <td>2020-07-28 02:21:15.0</td>\n",
       "      <td>0</td>\n",
       "      <td>2</td>\n",
       "      <td>0</td>\n",
       "      <td>1</td>\n",
       "      <td>NaN</td>\n",
       "      <td>🇦 🇷 patria construimos juntos # felizdíadelapa...</td>\n",
       "    </tr>\n",
       "  </tbody>\n",
       "</table>\n",
       "<p>3 rows × 23 columns</p>\n",
       "</div>"
      ],
      "text/plain": [
       "                                tweet_id      conversation_id    user_id  \\\n",
       "1000001051574046720  1000001051574046720  1000001051574046720  323956672   \n",
       "1000002592955609088  1000002592955609088  1000002592955609088   53851352   \n",
       "1000002668474101761  1000002668474101761  1000002668474101761   69668594   \n",
       "\n",
       "                                created_at lang  retweet_count  \\\n",
       "1000001051574046720  2018-05-25 13:10:04.0   es              9   \n",
       "1000002592955609088  2018-05-25 13:16:11.0   es            596   \n",
       "1000002668474101761  2018-05-25 13:16:29.0   es              5   \n",
       "\n",
       "                     favorite_count  reply_count  quote_count  is_reply  \\\n",
       "1000001051574046720              12            1            0         0   \n",
       "1000002592955609088            1486            2            4         0   \n",
       "1000002668474101761              23            0            0         0   \n",
       "\n",
       "                                           ...                          \\\n",
       "1000001051574046720                        ...                           \n",
       "1000002592955609088                        ...                           \n",
       "1000002668474101761                        ...                           \n",
       "\n",
       "                     quoted_id  \\\n",
       "1000001051574046720        NaN   \n",
       "1000002592955609088        NaN   \n",
       "1000002668474101761        NaN   \n",
       "\n",
       "                                                             full_text  \\\n",
       "1000001051574046720  Feliz día de la Patria! 🇦🇷 https://t.co/XfrTi2...   \n",
       "1000002592955609088  No busquen explicación, es amor.\\n#117AñosDeHi...   \n",
       "1000002668474101761  🇦🇷 La Patria somos todos y la construimos junt...   \n",
       "\n",
       "                                  source            scrapped_at  \\\n",
       "1000001051574046720   Twitter for iPhone  2020-07-28 05:10:54.0   \n",
       "1000002592955609088  Twitter for Android  2020-07-28 04:26:30.0   \n",
       "1000002668474101761  Twitter for Android  2020-07-28 02:21:15.0   \n",
       "\n",
       "                    user_mentions_count hashtags_count urls_count  \\\n",
       "1000001051574046720                   0              0          0   \n",
       "1000002592955609088                   0              1          0   \n",
       "1000002668474101761                   0              2          0   \n",
       "\n",
       "                     media_count  replied_original  \\\n",
       "1000001051574046720            1               NaN   \n",
       "1000002592955609088            1               NaN   \n",
       "1000002668474101761            1               NaN   \n",
       "\n",
       "                                                     full_text_cleaned  \n",
       "1000001051574046720                         feliz día patria ! 🇦 🇷 URL  \n",
       "1000002592955609088  no busquen explicación amor # 117añosdehistori...  \n",
       "1000002668474101761  🇦 🇷 patria construimos juntos # felizdíadelapa...  \n",
       "\n",
       "[3 rows x 23 columns]"
      ]
     },
     "metadata": {},
     "output_type": "display_data"
    }
   ],
   "source": [
    "display(df_u.head(3))\n",
    "display(df_tw.head(3))"
   ]
  },
  {
   "cell_type": "code",
   "execution_count": 7,
   "metadata": {},
   "outputs": [
    {
     "data": {
      "image/png": "[encoded data removed]",
      "text/plain": [
       "<Figure size 1296x360 with 1 Axes>"
      ]
     },
     "metadata": {
      "needs_background": "light"
     },
     "output_type": "display_data"
    },
    {
     "name": "stdout",
     "output_type": "stream",
     "text": [
      "10682\n"
     ]
    }
   ],
   "source": [
    "users_tweets = df_tw.groupby('user_id').tweet_id.count().sort_values(ascending=False)\n",
    "fig, ax = pyplot.subplots(figsize=(18,5))\n",
    "sns.distplot(users_tweets[users_tweets<50])\n",
    "pyplot.show()\n",
    "print(len(users_tweets[users_tweets>=10])) # at least 10 tweets"
   ]
  },
  {
   "cell_type": "code",
   "execution_count": 166,
   "metadata": {},
   "outputs": [
    {
     "name": "stdout",
     "output_type": "stream",
     "text": [
      "1018646\n"
     ]
    }
   ],
   "source": [
    "selected_users = users_tweets[users_tweets>=5]\n",
    "df = df_tw[df_tw.user_id.isin(selected_users.index.values)]\n",
    "print(len(df))"
   ]
  },
  {
   "cell_type": "code",
   "execution_count": 167,
   "metadata": {},
   "outputs": [
    {
     "data": {
      "text/plain": [
       "Series([], Name: tweet_id, dtype: int64)"
      ]
     },
     "execution_count": 167,
     "metadata": {},
     "output_type": "execute_result"
    }
   ],
   "source": [
    "#check there is no extra users\n",
    "selected_users[~selected_users.index.isin(df_u.user_id.values)]"
   ]
  },
  {
   "cell_type": "markdown",
   "metadata": {},
   "source": [
    "## model"
   ]
  },
  {
   "cell_type": "code",
   "execution_count": 10,
   "metadata": {},
   "outputs": [],
   "source": [
    "import tensorflow_addons as tfa\n",
    "from tensorflow.python.keras import layers\n",
    "from tensorflow.python.keras import losses\n",
    "from tensorflow.python.keras import models\n",
    "from tensorflow.python.keras import backend as K  \n",
    "import tensorflow as tf\n",
    "from tensorflow.python import keras"
   ]
  },
  {
   "cell_type": "code",
   "execution_count": 11,
   "metadata": {},
   "outputs": [
    {
     "data": {
      "text/plain": [
       "256"
      ]
     },
     "execution_count": 11,
     "metadata": {},
     "output_type": "execute_result"
    }
   ],
   "source": [
    "2**8"
   ]
  },
  {
   "cell_type": "code",
   "execution_count": 259,
   "metadata": {},
   "outputs": [],
   "source": [
    "tw_len = 10\n",
    "embed_dim = 100\n",
    "residual_dim = 8\n",
    "\n",
    "inputs = layers.Input(shape=(tw_len, embed_dim), name='input')\n",
    "\n",
    "residual = layers.Dense(70, activation='elu')(inputs)\n",
    "residual = layers.Dense(residual_dim, activation='linear')(residual)\n",
    "residual = layers.BatchNormalization(axis=2)(residual)\n",
    "\n",
    "res = False\n",
    "\n",
    "for i in [70,30,20]:\n",
    "    first_layer = i == 70\n",
    "    x_0 = layers.Dense(i, activation='elu')(inputs if first_layer else x)\n",
    "    x_1 = layers.Dense(i, activation='elu')(inputs if first_layer else x)\n",
    "    x = keras.layers.concatenate([x_0,x_1], axis=1)\n",
    "    x = layers.BatchNormalization(axis=2)(x)\n",
    "    res_tmp = layers.Flatten()(layers.Dense(1, activation='elu')(x))\n",
    "    if(first_layer):\n",
    "        res = res_tmp\n",
    "    else:\n",
    "        res_tmp = keras.layers.concatenate([res, res_tmp])\n",
    "        res = keras.layers.Dense(50, activation='elu')(res_tmp)\n",
    "        res = layers.BatchNormalization()(res)\n",
    "    x = layers.Dense(i*2, activation='elu')(x)\n",
    "    x = layers.BatchNormalization(axis=2)(x)\n",
    "    \n",
    "x = layers.Flatten()(x)\n",
    "for i in [1024, 512, 256]:\n",
    "    x = layers.Dense(i, activation='elu')(x)\n",
    "    if(i==1024):\n",
    "        x = keras.layers.concatenate([x, res])\n",
    "    x = layers.BatchNormalization()(x)\n",
    "\n",
    "encoder_mu = layers.Dense(100, activation='linear', name='encoder_mu')(x)\n",
    "encoder_log_var = layers.Dense(100, activation='linear', name='encoder_log_var')(x)\n",
    "\n",
    "encoder = keras.Model(inputs=inputs, outputs=[encoder_mu, encoder_log_var, residual], name='encoder')\n",
    "\n",
    "decoder_input = layers.Input(shape=100)\n",
    "decoder_input_2 = layers.Input(shape=(tw_len, residual_dim))\n",
    "\n",
    "x = tf.keras.backend.repeat(decoder_input, tw_len)\n",
    "res = False\n",
    "\n",
    "for i in range(5):\n",
    "    first_layer = i == 0\n",
    "    x_1 = layers.Dense(70, activation='elu')(x) #(None, 10, 50)\n",
    "    x_2 = layers.Dense(40, activation='elu')(x) #(None, 10, 20)\n",
    "    if(not first_layer):\n",
    "        x_2 = keras.layers.concatenate([x_2, res], axis=2)\n",
    "        x_2 = layers.Dense(40, activation='elu')(x_2)\n",
    "    res = x_2\n",
    "    x_3 = keras.layers.concatenate([layers.Dense(70, activation='elu')(x), decoder_input_2], axis=2) #(None, 10, 70)\n",
    "    x = keras.layers.concatenate([x_1,x_2,x_3], axis=2)\n",
    "    x = layers.BatchNormalization(axis=2)(x)\n",
    "    \n",
    "x = layers.Dense(200, activation='elu')(x)\n",
    "x = layers.BatchNormalization(axis=2)(x)\n",
    "decoded = layers.Dense(100, activation='linear')(x)\n",
    "\n",
    "decoder = keras.Model([decoder_input, decoder_input_2], decoded, name=\"decoder\")"
   ]
  },
  {
   "cell_type": "code",
   "execution_count": 153,
   "metadata": {},
   "outputs": [
    {
     "name": "stdout",
     "output_type": "stream",
     "text": [
      "Model: \"encoder\"\n",
      "__________________________________________________________________________________________________\n",
      "Layer (type)                    Output Shape         Param #     Connected to                     \n",
      "==================================================================================================\n",
      "input (InputLayer)              [(None, 10, 100)]    0                                            \n",
      "__________________________________________________________________________________________________\n",
      "dense_42 (Dense)                (None, 10, 70)       7070        input[0][0]                      \n",
      "__________________________________________________________________________________________________\n",
      "dense_43 (Dense)                (None, 10, 70)       7070        input[0][0]                      \n",
      "__________________________________________________________________________________________________\n",
      "concatenate_20 (Concatenate)    (None, 20, 70)       0           dense_42[0][0]                   \n",
      "                                                                 dense_43[0][0]                   \n",
      "__________________________________________________________________________________________________\n",
      "batch_normalization_19 (BatchNo (None, 20, 70)       280         concatenate_20[0][0]             \n",
      "__________________________________________________________________________________________________\n",
      "dense_45 (Dense)                (None, 20, 140)      9940        batch_normalization_19[0][0]     \n",
      "__________________________________________________________________________________________________\n",
      "batch_normalization_20 (BatchNo (None, 20, 140)      560         dense_45[0][0]                   \n",
      "__________________________________________________________________________________________________\n",
      "dense_46 (Dense)                (None, 20, 30)       4230        batch_normalization_20[0][0]     \n",
      "__________________________________________________________________________________________________\n",
      "dense_47 (Dense)                (None, 20, 30)       4230        batch_normalization_20[0][0]     \n",
      "__________________________________________________________________________________________________\n",
      "concatenate_21 (Concatenate)    (None, 40, 30)       0           dense_46[0][0]                   \n",
      "                                                                 dense_47[0][0]                   \n",
      "__________________________________________________________________________________________________\n",
      "batch_normalization_21 (BatchNo (None, 40, 30)       120         concatenate_21[0][0]             \n",
      "__________________________________________________________________________________________________\n",
      "dense_50 (Dense)                (None, 40, 60)       1860        batch_normalization_21[0][0]     \n",
      "__________________________________________________________________________________________________\n",
      "batch_normalization_23 (BatchNo (None, 40, 60)       240         dense_50[0][0]                   \n",
      "__________________________________________________________________________________________________\n",
      "dense_51 (Dense)                (None, 40, 20)       1220        batch_normalization_23[0][0]     \n",
      "__________________________________________________________________________________________________\n",
      "dense_52 (Dense)                (None, 40, 20)       1220        batch_normalization_23[0][0]     \n",
      "__________________________________________________________________________________________________\n",
      "dense_44 (Dense)                (None, 20, 1)        71          batch_normalization_19[0][0]     \n",
      "__________________________________________________________________________________________________\n",
      "dense_48 (Dense)                (None, 40, 1)        31          batch_normalization_21[0][0]     \n",
      "__________________________________________________________________________________________________\n",
      "concatenate_23 (Concatenate)    (None, 80, 20)       0           dense_51[0][0]                   \n",
      "                                                                 dense_52[0][0]                   \n",
      "__________________________________________________________________________________________________\n",
      "flatten_4 (Flatten)             (None, 20)           0           dense_44[0][0]                   \n",
      "__________________________________________________________________________________________________\n",
      "flatten_5 (Flatten)             (None, 40)           0           dense_48[0][0]                   \n",
      "__________________________________________________________________________________________________\n",
      "batch_normalization_24 (BatchNo (None, 80, 20)       80          concatenate_23[0][0]             \n",
      "__________________________________________________________________________________________________\n",
      "concatenate_22 (Concatenate)    (None, 60)           0           flatten_4[0][0]                  \n",
      "                                                                 flatten_5[0][0]                  \n",
      "__________________________________________________________________________________________________\n",
      "dense_49 (Dense)                (None, 50)           3050        concatenate_22[0][0]             \n",
      "__________________________________________________________________________________________________\n",
      "dense_53 (Dense)                (None, 80, 1)        21          batch_normalization_24[0][0]     \n",
      "__________________________________________________________________________________________________\n",
      "dense_55 (Dense)                (None, 80, 40)       840         batch_normalization_24[0][0]     \n",
      "__________________________________________________________________________________________________\n",
      "batch_normalization_22 (BatchNo (None, 50)           200         dense_49[0][0]                   \n",
      "__________________________________________________________________________________________________\n",
      "flatten_6 (Flatten)             (None, 80)           0           dense_53[0][0]                   \n",
      "__________________________________________________________________________________________________\n",
      "batch_normalization_26 (BatchNo (None, 80, 40)       160         dense_55[0][0]                   \n",
      "__________________________________________________________________________________________________\n",
      "concatenate_24 (Concatenate)    (None, 130)          0           batch_normalization_22[0][0]     \n",
      "                                                                 flatten_6[0][0]                  \n",
      "__________________________________________________________________________________________________\n",
      "flatten_7 (Flatten)             (None, 3200)         0           batch_normalization_26[0][0]     \n",
      "__________________________________________________________________________________________________\n",
      "dense_54 (Dense)                (None, 50)           6550        concatenate_24[0][0]             \n",
      "__________________________________________________________________________________________________\n",
      "dense_56 (Dense)                (None, 1024)         3277824     flatten_7[0][0]                  \n",
      "__________________________________________________________________________________________________\n",
      "batch_normalization_25 (BatchNo (None, 50)           200         dense_54[0][0]                   \n",
      "__________________________________________________________________________________________________\n",
      "concatenate_25 (Concatenate)    (None, 1074)         0           dense_56[0][0]                   \n",
      "                                                                 batch_normalization_25[0][0]     \n",
      "__________________________________________________________________________________________________\n",
      "batch_normalization_27 (BatchNo (None, 1074)         4296        concatenate_25[0][0]             \n",
      "__________________________________________________________________________________________________\n",
      "dense_57 (Dense)                (None, 512)          550400      batch_normalization_27[0][0]     \n",
      "__________________________________________________________________________________________________\n",
      "batch_normalization_28 (BatchNo (None, 512)          2048        dense_57[0][0]                   \n",
      "__________________________________________________________________________________________________\n",
      "dense_58 (Dense)                (None, 256)          131328      batch_normalization_28[0][0]     \n",
      "__________________________________________________________________________________________________\n",
      "dense_40 (Dense)                (None, 10, 70)       7070        input[0][0]                      \n",
      "__________________________________________________________________________________________________\n",
      "batch_normalization_29 (BatchNo (None, 256)          1024        dense_58[0][0]                   \n",
      "__________________________________________________________________________________________________\n",
      "dense_41 (Dense)                (None, 10, 8)        568         dense_40[0][0]                   \n",
      "__________________________________________________________________________________________________\n",
      "encoder_mu (Dense)              (None, 100)          25700       batch_normalization_29[0][0]     \n",
      "__________________________________________________________________________________________________\n",
      "encoder_log_var (Dense)         (None, 100)          25700       batch_normalization_29[0][0]     \n",
      "__________________________________________________________________________________________________\n",
      "batch_normalization_18 (BatchNo (None, 10, 8)        32          dense_41[0][0]                   \n",
      "==================================================================================================\n",
      "Total params: 4,075,233\n",
      "Trainable params: 4,070,613\n",
      "Non-trainable params: 4,620\n",
      "__________________________________________________________________________________________________\n"
     ]
    },
    {
     "data": {
      "text/plain": [
       "None"
      ]
     },
     "metadata": {},
     "output_type": "display_data"
    },
    {
     "name": "stdout",
     "output_type": "stream",
     "text": [
      "Model: \"decoder\"\n",
      "__________________________________________________________________________________________________\n",
      "Layer (type)                    Output Shape         Param #     Connected to                     \n",
      "==================================================================================================\n",
      "input_3 (InputLayer)            [(None, 100)]        0                                            \n",
      "__________________________________________________________________________________________________\n",
      "tf_op_layer_ExpandDims_1 (Tenso [(None, 1, 100)]     0           input_3[0][0]                    \n",
      "__________________________________________________________________________________________________\n",
      "tf_op_layer_Tile_1 (TensorFlowO [(None, 10, 100)]    0           tf_op_layer_ExpandDims_1[0][0]   \n",
      "__________________________________________________________________________________________________\n",
      "dense_61 (Dense)                (None, 10, 70)       7070        tf_op_layer_Tile_1[0][0]         \n",
      "__________________________________________________________________________________________________\n",
      "input_4 (InputLayer)            [(None, 10, 8)]      0                                            \n",
      "__________________________________________________________________________________________________\n",
      "dense_59 (Dense)                (None, 10, 70)       7070        tf_op_layer_Tile_1[0][0]         \n",
      "__________________________________________________________________________________________________\n",
      "dense_60 (Dense)                (None, 10, 40)       4040        tf_op_layer_Tile_1[0][0]         \n",
      "__________________________________________________________________________________________________\n",
      "concatenate_26 (Concatenate)    (None, 10, 78)       0           dense_61[0][0]                   \n",
      "                                                                 input_4[0][0]                    \n",
      "__________________________________________________________________________________________________\n",
      "concatenate_27 (Concatenate)    (None, 10, 188)      0           dense_59[0][0]                   \n",
      "                                                                 dense_60[0][0]                   \n",
      "                                                                 concatenate_26[0][0]             \n",
      "__________________________________________________________________________________________________\n",
      "batch_normalization_30 (BatchNo (None, 10, 188)      752         concatenate_27[0][0]             \n",
      "__________________________________________________________________________________________________\n",
      "dense_63 (Dense)                (None, 10, 40)       7560        batch_normalization_30[0][0]     \n",
      "__________________________________________________________________________________________________\n",
      "concatenate_28 (Concatenate)    (None, 10, 80)       0           dense_63[0][0]                   \n",
      "                                                                 dense_60[0][0]                   \n",
      "__________________________________________________________________________________________________\n",
      "dense_65 (Dense)                (None, 10, 70)       13230       batch_normalization_30[0][0]     \n",
      "__________________________________________________________________________________________________\n",
      "dense_62 (Dense)                (None, 10, 70)       13230       batch_normalization_30[0][0]     \n",
      "__________________________________________________________________________________________________\n",
      "dense_64 (Dense)                (None, 10, 40)       3240        concatenate_28[0][0]             \n",
      "__________________________________________________________________________________________________\n",
      "concatenate_29 (Concatenate)    (None, 10, 78)       0           dense_65[0][0]                   \n",
      "                                                                 input_4[0][0]                    \n",
      "__________________________________________________________________________________________________\n",
      "concatenate_30 (Concatenate)    (None, 10, 188)      0           dense_62[0][0]                   \n",
      "                                                                 dense_64[0][0]                   \n",
      "                                                                 concatenate_29[0][0]             \n",
      "__________________________________________________________________________________________________\n",
      "batch_normalization_31 (BatchNo (None, 10, 188)      752         concatenate_30[0][0]             \n",
      "__________________________________________________________________________________________________\n",
      "dense_67 (Dense)                (None, 10, 40)       7560        batch_normalization_31[0][0]     \n",
      "__________________________________________________________________________________________________\n",
      "concatenate_31 (Concatenate)    (None, 10, 80)       0           dense_67[0][0]                   \n",
      "                                                                 dense_64[0][0]                   \n",
      "__________________________________________________________________________________________________\n",
      "dense_69 (Dense)                (None, 10, 70)       13230       batch_normalization_31[0][0]     \n",
      "__________________________________________________________________________________________________\n",
      "dense_66 (Dense)                (None, 10, 70)       13230       batch_normalization_31[0][0]     \n",
      "__________________________________________________________________________________________________\n",
      "dense_68 (Dense)                (None, 10, 40)       3240        concatenate_31[0][0]             \n",
      "__________________________________________________________________________________________________\n",
      "concatenate_32 (Concatenate)    (None, 10, 78)       0           dense_69[0][0]                   \n",
      "                                                                 input_4[0][0]                    \n",
      "__________________________________________________________________________________________________\n",
      "concatenate_33 (Concatenate)    (None, 10, 188)      0           dense_66[0][0]                   \n",
      "                                                                 dense_68[0][0]                   \n",
      "                                                                 concatenate_32[0][0]             \n",
      "__________________________________________________________________________________________________\n",
      "batch_normalization_32 (BatchNo (None, 10, 188)      752         concatenate_33[0][0]             \n",
      "__________________________________________________________________________________________________\n",
      "dense_71 (Dense)                (None, 10, 40)       7560        batch_normalization_32[0][0]     \n",
      "__________________________________________________________________________________________________\n",
      "concatenate_34 (Concatenate)    (None, 10, 80)       0           dense_71[0][0]                   \n",
      "                                                                 dense_68[0][0]                   \n",
      "__________________________________________________________________________________________________\n",
      "dense_73 (Dense)                (None, 10, 70)       13230       batch_normalization_32[0][0]     \n",
      "__________________________________________________________________________________________________\n",
      "dense_70 (Dense)                (None, 10, 70)       13230       batch_normalization_32[0][0]     \n",
      "__________________________________________________________________________________________________\n",
      "dense_72 (Dense)                (None, 10, 40)       3240        concatenate_34[0][0]             \n",
      "__________________________________________________________________________________________________\n",
      "concatenate_35 (Concatenate)    (None, 10, 78)       0           dense_73[0][0]                   \n",
      "                                                                 input_4[0][0]                    \n",
      "__________________________________________________________________________________________________\n",
      "concatenate_36 (Concatenate)    (None, 10, 188)      0           dense_70[0][0]                   \n",
      "                                                                 dense_72[0][0]                   \n",
      "                                                                 concatenate_35[0][0]             \n",
      "__________________________________________________________________________________________________\n",
      "batch_normalization_33 (BatchNo (None, 10, 188)      752         concatenate_36[0][0]             \n",
      "__________________________________________________________________________________________________\n",
      "dense_75 (Dense)                (None, 10, 40)       7560        batch_normalization_33[0][0]     \n",
      "__________________________________________________________________________________________________\n",
      "concatenate_37 (Concatenate)    (None, 10, 80)       0           dense_75[0][0]                   \n",
      "                                                                 dense_72[0][0]                   \n",
      "__________________________________________________________________________________________________\n",
      "dense_77 (Dense)                (None, 10, 70)       13230       batch_normalization_33[0][0]     \n",
      "__________________________________________________________________________________________________\n",
      "dense_74 (Dense)                (None, 10, 70)       13230       batch_normalization_33[0][0]     \n",
      "__________________________________________________________________________________________________\n",
      "dense_76 (Dense)                (None, 10, 40)       3240        concatenate_37[0][0]             \n",
      "__________________________________________________________________________________________________\n",
      "concatenate_38 (Concatenate)    (None, 10, 78)       0           dense_77[0][0]                   \n",
      "                                                                 input_4[0][0]                    \n",
      "__________________________________________________________________________________________________\n",
      "concatenate_39 (Concatenate)    (None, 10, 188)      0           dense_74[0][0]                   \n",
      "                                                                 dense_76[0][0]                   \n",
      "                                                                 concatenate_38[0][0]             \n",
      "__________________________________________________________________________________________________\n",
      "batch_normalization_34 (BatchNo (None, 10, 188)      752         concatenate_39[0][0]             \n",
      "__________________________________________________________________________________________________\n",
      "dense_78 (Dense)                (None, 10, 200)      37800       batch_normalization_34[0][0]     \n",
      "__________________________________________________________________________________________________\n",
      "batch_normalization_35 (BatchNo (None, 10, 200)      800         dense_78[0][0]                   \n",
      "__________________________________________________________________________________________________\n",
      "dense_79 (Dense)                (None, 10, 100)      20100       batch_normalization_35[0][0]     \n",
      "==================================================================================================\n",
      "Total params: 229,680\n",
      "Trainable params: 227,400\n",
      "Non-trainable params: 2,280\n",
      "__________________________________________________________________________________________________\n"
     ]
    },
    {
     "data": {
      "text/plain": [
       "None"
      ]
     },
     "metadata": {},
     "output_type": "display_data"
    }
   ],
   "source": [
    "display(encoder.summary())\n",
    "display(decoder.summary())"
   ]
  },
  {
   "cell_type": "code",
   "execution_count": 154,
   "metadata": {},
   "outputs": [
    {
     "data": {
      "image/png": "[encoded data removed]",
      "text/plain": [
       "<IPython.core.display.Image object>"
      ]
     },
     "metadata": {},
     "output_type": "display_data"
    },
    {
     "data": {
      "image/png": "[encoded data removed]",
      "text/plain": [
       "<IPython.core.display.Image object>"
      ]
     },
     "execution_count": 154,
     "metadata": {},
     "output_type": "execute_result"
    }
   ],
   "source": [
    "# import os\n",
    "# os.environ[\"PATH\"] += os.pathsep + 'C:/Program Files (x86)/Graphviz2.38/bin/'\n",
    "from tensorflow.keras.utils import plot_model\n",
    "display(plot_model(encoder))\n",
    "plot_model(decoder)"
   ]
  },
  {
   "cell_type": "markdown",
   "metadata": {},
   "source": [
    "## generator"
   ]
  },
  {
   "cell_type": "code",
   "execution_count": 241,
   "metadata": {},
   "outputs": [
    {
     "data": {
      "text/plain": [
       "(20, 10, 100)"
      ]
     },
     "execution_count": 241,
     "metadata": {},
     "output_type": "execute_result"
    }
   ],
   "source": [
    "def data_generator(df, batch_size=100, num_tweets=10, dim=100):\n",
    "    model = TW.TweetToVect()\n",
    "    model.load_model(fast_text_model=word_model)\n",
    "    while True:\n",
    "        user_ids = np.random.choice(df.user_id.unique(), batch_size)\n",
    "        tmp_df = df[df.user_id.isin(user_ids)]\n",
    "        users = []\n",
    "        for uid in user_ids:\n",
    "            user_df = tmp_df[tmp_df.user_id==uid]\n",
    "            if(len(user_df)<10):\n",
    "                texts = user_df.sample(10, replace=True).full_text_cleaned.values\n",
    "            else:\n",
    "                min_start = len(user_df) - 10\n",
    "                if(min_start==0):\n",
    "                    start=0\n",
    "                else:\n",
    "                    start = np.random.randint(0, min_start)\n",
    "                texts = user_df.full_text_cleaned.values[start:start+10]\n",
    "            vectors = model.get_vectors(texts, True)\n",
    "            users.append(vectors)\n",
    "            \n",
    "        users = np.array(users)\n",
    "        yield users\n",
    "\n",
    "gen_test = data_generator(df, 20)\n",
    "next(gen_test).shape"
   ]
  },
  {
   "cell_type": "markdown",
   "metadata": {},
   "source": [
    "## loss"
   ]
  },
  {
   "cell_type": "code",
   "execution_count": 284,
   "metadata": {},
   "outputs": [
    {
     "data": {
      "text/plain": [
       "(<tf.Tensor: shape=(), dtype=float32, numpy=-843.73004>,\n",
       " <tf.Tensor: shape=(), dtype=float32, numpy=-0.8439704>,\n",
       " <tf.Tensor: shape=(), dtype=float32, numpy=0.949101>)"
      ]
     },
     "execution_count": 284,
     "metadata": {},
     "output_type": "execute_result"
    }
   ],
   "source": [
    "def sampling(mu, log_var):\n",
    "    z_mean, z_log_var = mu, log_var\n",
    "    batch = K.shape(z_mean)[0]\n",
    "    dim = K.int_shape(z_mean)[1]\n",
    "    epsilon = K.random_normal(shape=(batch, dim))\n",
    "    return z_mean + K.exp(0.5 * z_log_var) * epsilon\n",
    "\n",
    "# Pérdida de reconstrucción\n",
    "def r_loss(y_true, encodings):\n",
    "    y_true = tf.convert_to_tensor(y_true, dtype=tf.float32)\n",
    "    cosine_loss = tf.keras.losses.CosineSimilarity(axis=2, reduction='none')\n",
    "    loss = cosine_loss(y_true, encodings)\n",
    "    loss = tf.keras.backend.mean(loss, axis=1)\n",
    "    return loss\n",
    "\n",
    "\n",
    "# Divergencia KL\n",
    "def kl_loss(mu, log_var):\n",
    "    kl_loss = 1 + log_var - tf.square(mu) - tf.exp(log_var)\n",
    "    kl_loss = tf.reduce_mean(kl_loss)\n",
    "    kl_loss *= -0.5\n",
    "    return kl_loss\n",
    "#     return -0.5 * K.sum(1 + log_var - K.square(mu) - K.exp(log_var), axis=-1)\n",
    "#     return -0.5 * K.sum(1 + log_var - K.square(mu)- K.exp(log_var), axis = 1)\n",
    "\n",
    "\n",
    "def vae_loss(encoder, decoder, input_tensor):\n",
    "    \n",
    "    mu, log_var, residual = encoder(input_tensor)\n",
    "    encoded = sampling(mu, log_var)\n",
    "    decoded = decoder([encoded, residual])\n",
    "    \n",
    "    r_l = r_loss(input_tensor, decoded) #loss reconstruccion\n",
    "    k_l = kl_loss(mu, log_var)\n",
    "    loss = (k_l*(r_l*-0.3)) + (r_l * 1000)\n",
    "    return K.mean(loss), K.mean(r_l), K.mean(k_l)\n",
    "\n",
    "# data_batch = next(gen_test)\n",
    "vae_loss(encoder, decoder, data_batch)"
   ]
  },
  {
   "cell_type": "markdown",
   "metadata": {},
   "source": [
    "## save"
   ]
  },
  {
   "cell_type": "code",
   "execution_count": 316,
   "metadata": {},
   "outputs": [
    {
     "data": {
      "text/plain": [
       "True"
      ]
     },
     "execution_count": 316,
     "metadata": {},
     "output_type": "execute_result"
    }
   ],
   "source": [
    "def save_autoencoder(encoder, decoder, model_dir):\n",
    "    model_json = encoder.to_json()\n",
    "    with open(model_dir+\"user_to_vect_encoder_b.json\", \"w\") as json_file:\n",
    "        json_file.write(model_json)\n",
    "    encoder.save_weights(model_dir+\"user_to_vect_encoder_b.h5\")\n",
    "    \n",
    "    model_json = decoder.to_json()\n",
    "    with open(model_dir+\"user_to_vect_decoder_b.json\", \"w\") as json_file:\n",
    "        json_file.write(model_json)\n",
    "    decoder.save_weights(model_dir+\"user_to_vect_decoder_b.h5\")\n",
    "    return True\n",
    "\n",
    "save_autoencoder(encoder, decoder, model_dir)"
   ]
  },
  {
   "cell_type": "markdown",
   "metadata": {},
   "source": [
    "## fit"
   ]
  },
  {
   "cell_type": "code",
   "execution_count": 231,
   "metadata": {},
   "outputs": [
    {
     "data": {
      "text/plain": [
       "128"
      ]
     },
     "execution_count": 231,
     "metadata": {},
     "output_type": "execute_result"
    }
   ],
   "source": [
    "2**7"
   ]
  },
  {
   "cell_type": "code",
   "execution_count": 312,
   "metadata": {},
   "outputs": [
    {
     "name": "stdout",
     "output_type": "stream",
     "text": [
      "Epoch 1: step 1/20 \t loss -884.45 \t r_loss -0.885 \t k_l 2.181"
     ]
    },
    {
     "name": "stderr",
     "output_type": "stream",
     "text": [
      "W0804 04:07:37.974661  2848 keyedvectors.py:2140] could not extract any ngrams from '', returning origin vector\n",
      "W0804 04:07:37.975662  2848 keyedvectors.py:2140] could not extract any ngrams from '', returning origin vector\n",
      "W0804 04:07:37.975662  2848 keyedvectors.py:2140] could not extract any ngrams from '', returning origin vector\n"
     ]
    },
    {
     "name": "stdout",
     "output_type": "stream",
     "text": [
      "Epoch 1: step 20/20 \t loss -879.87 \t r_loss -0.88 \t k_l 2.213\n",
      "Epoch 2: step 20/20 \t loss -885.52 \t r_loss -0.886 \t k_l 2.198\n",
      "Epoch 3: step 18/20 \t loss -886.33 \t r_loss -0.887 \t k_l 2.154"
     ]
    },
    {
     "name": "stderr",
     "output_type": "stream",
     "text": [
      "W0804 04:12:09.856487  2848 keyedvectors.py:2140] could not extract any ngrams from '', returning origin vector\n"
     ]
    },
    {
     "name": "stdout",
     "output_type": "stream",
     "text": [
      "Epoch 3: step 20/20 \t loss -887.6 \t r_loss -0.888 \t k_l 2.184\n",
      "Epoch 4: step 20/20 \t loss -888.67 \t r_loss -0.889 \t k_l 2.277\n",
      "Epoch 5: step 17/20 \t loss -897.52 \t r_loss -0.898 \t k_l 2.364"
     ]
    },
    {
     "name": "stderr",
     "output_type": "stream",
     "text": [
      "W0804 04:15:18.727176  2848 keyedvectors.py:2140] could not extract any ngrams from '', returning origin vector\n"
     ]
    },
    {
     "name": "stdout",
     "output_type": "stream",
     "text": [
      "Epoch 5: step 20/20 \t loss -888.16 \t r_loss -0.889 \t k_l 2.294\n",
      "Epoch 6: step 12/20 \t loss -889.23 \t r_loss -0.89 \t k_l 2.291"
     ]
    },
    {
     "name": "stderr",
     "output_type": "stream",
     "text": [
      "W0804 04:16:27.512640  2848 keyedvectors.py:2140] could not extract any ngrams from '', returning origin vector\n"
     ]
    },
    {
     "name": "stdout",
     "output_type": "stream",
     "text": [
      "Epoch 6: step 20/20 \t loss -893.88 \t r_loss -0.895 \t k_l 2.306\n",
      "Epoch 7: step 20/20 \t loss -891.4 \t r_loss -0.892 \t k_l 2.369\n",
      "Epoch 8: step 10/20 \t loss -894.5 \t r_loss -0.895 \t k_l 2.377"
     ]
    },
    {
     "name": "stderr",
     "output_type": "stream",
     "text": [
      "W0804 04:19:30.859501  2848 keyedvectors.py:2140] could not extract any ngrams from '', returning origin vector\n"
     ]
    },
    {
     "name": "stdout",
     "output_type": "stream",
     "text": [
      "Epoch 8: step 14/20 \t loss -897.49 \t r_loss -0.898 \t k_l 2.374"
     ]
    },
    {
     "name": "stderr",
     "output_type": "stream",
     "text": [
      "W0804 04:19:46.794463  2848 keyedvectors.py:2140] could not extract any ngrams from '', returning origin vector\n"
     ]
    },
    {
     "name": "stdout",
     "output_type": "stream",
     "text": [
      "Epoch 8: step 20/20 \t loss -894.44 \t r_loss -0.895 \t k_l 2.462\n",
      "Epoch 9: step 20/20 \t loss -896.84 \t r_loss -0.897 \t k_l 2.436\n",
      "Epoch 10: step 9/20 \t loss -898.4 \t r_loss -0.899 \t k_l 2.427"
     ]
    },
    {
     "name": "stderr",
     "output_type": "stream",
     "text": [
      "W0804 04:22:38.279770  2848 keyedvectors.py:2140] could not extract any ngrams from '', returning origin vector\n",
      "W0804 04:22:38.280738  2848 keyedvectors.py:2140] could not extract any ngrams from '', returning origin vector\n"
     ]
    },
    {
     "name": "stdout",
     "output_type": "stream",
     "text": [
      "Epoch 10: step 20/20 \t loss -897.7 \t r_loss -0.898 \t k_l 2.47\n",
      "Epoch 11: step 20/20 \t loss -897.64 \t r_loss -0.898 \t k_l 2.521\n",
      "Epoch 12: step 14/20 \t loss -897.64 \t r_loss -0.898 \t k_l 2.503"
     ]
    },
    {
     "name": "stderr",
     "output_type": "stream",
     "text": [
      "W0804 04:26:09.995069  2848 keyedvectors.py:2140] could not extract any ngrams from '', returning origin vector\n",
      "W0804 04:26:09.996069  2848 keyedvectors.py:2140] could not extract any ngrams from '', returning origin vector\n",
      "W0804 04:26:09.996069  2848 keyedvectors.py:2140] could not extract any ngrams from '', returning origin vector\n"
     ]
    },
    {
     "name": "stdout",
     "output_type": "stream",
     "text": [
      "Epoch 12: step 20/20 \t loss -898.92 \t r_loss -0.9 \t k_l 2.51\n",
      "Epoch 13: step 20/20 \t loss -896.99 \t r_loss -0.898 \t k_l 2.509\n",
      "Epoch 14: step 20/20 \t loss -900.6 \t r_loss -0.901 \t k_l 2.536\n",
      "Epoch 15: step 20/20 \t loss -902.64 \t r_loss -0.903 \t k_l 2.554\n",
      "Epoch 16: step 10/20 \t loss -898.16 \t r_loss -0.899 \t k_l 2.591"
     ]
    },
    {
     "name": "stderr",
     "output_type": "stream",
     "text": [
      "W0804 04:32:18.387892  2848 keyedvectors.py:2140] could not extract any ngrams from '', returning origin vector\n"
     ]
    },
    {
     "name": "stdout",
     "output_type": "stream",
     "text": [
      "Epoch 16: step 20/20 \t loss -898.99 \t r_loss -0.9 \t k_l 2.532\n",
      "Epoch 17: step 5/20 \t loss -897.11 \t r_loss -0.898 \t k_l 2.604"
     ]
    },
    {
     "name": "stderr",
     "output_type": "stream",
     "text": [
      "W0804 04:33:26.291602  2848 keyedvectors.py:2140] could not extract any ngrams from '', returning origin vector\n",
      "W0804 04:33:26.292602  2848 keyedvectors.py:2140] could not extract any ngrams from '', returning origin vector\n",
      "W0804 04:33:26.293602  2848 keyedvectors.py:2140] could not extract any ngrams from '', returning origin vector\n"
     ]
    },
    {
     "name": "stdout",
     "output_type": "stream",
     "text": [
      "Epoch 17: step 20/20 \t loss -900.34 \t r_loss -0.901 \t k_l 2.611\n",
      "Epoch 18: step 20/20 \t loss -903.1 \t r_loss -0.904 \t k_l 2.569\n",
      "Epoch 19: step 20/20 \t loss -902.37 \t r_loss -0.903 \t k_l 2.675\n",
      "Epoch 20: step 18/20 \t loss -901.03 \t r_loss -0.902 \t k_l 2.658"
     ]
    },
    {
     "name": "stderr",
     "output_type": "stream",
     "text": [
      "W0804 04:39:13.545338  2848 keyedvectors.py:2140] could not extract any ngrams from '', returning origin vector\n",
      "W0804 04:39:13.546338  2848 keyedvectors.py:2140] could not extract any ngrams from '', returning origin vector\n",
      "W0804 04:39:13.547338  2848 keyedvectors.py:2140] could not extract any ngrams from '', returning origin vector\n"
     ]
    },
    {
     "name": "stdout",
     "output_type": "stream",
     "text": [
      "Epoch 20: step 20/20 \t loss -905.76 \t r_loss -0.906 \t k_l 2.692\n",
      "Epoch 21: step 15/20 \t loss -902.26 \t r_loss -0.903 \t k_l 2.682"
     ]
    },
    {
     "name": "stderr",
     "output_type": "stream",
     "text": [
      "W0804 04:40:38.720523  2848 keyedvectors.py:2140] could not extract any ngrams from '', returning origin vector\n",
      "W0804 04:40:38.721522  2848 keyedvectors.py:2140] could not extract any ngrams from '', returning origin vector\n"
     ]
    },
    {
     "name": "stdout",
     "output_type": "stream",
     "text": [
      "Epoch 21: step 19/20 \t loss -900.7 \t r_loss -0.901 \t k_l 2.607"
     ]
    },
    {
     "name": "stderr",
     "output_type": "stream",
     "text": [
      "W0804 04:40:55.174037  2848 keyedvectors.py:2140] could not extract any ngrams from '', returning origin vector\n",
      "W0804 04:40:55.174037  2848 keyedvectors.py:2140] could not extract any ngrams from '', returning origin vector\n"
     ]
    },
    {
     "name": "stdout",
     "output_type": "stream",
     "text": [
      "Epoch 21: step 20/20 \t loss -902.12 \t r_loss -0.903 \t k_l 2.582\n",
      "Epoch 22: step 2/20 \t loss -900.79 \t r_loss -0.902 \t k_l 2.617"
     ]
    },
    {
     "name": "stderr",
     "output_type": "stream",
     "text": [
      "W0804 04:41:11.715221  2848 keyedvectors.py:2140] could not extract any ngrams from '', returning origin vector\n"
     ]
    },
    {
     "name": "stdout",
     "output_type": "stream",
     "text": [
      "Epoch 22: step 5/20 \t loss -898.72 \t r_loss -0.899 \t k_l 2.61"
     ]
    },
    {
     "name": "stderr",
     "output_type": "stream",
     "text": [
      "W0804 04:41:26.706835  2848 keyedvectors.py:2140] could not extract any ngrams from '', returning origin vector\n"
     ]
    },
    {
     "name": "stdout",
     "output_type": "stream",
     "text": [
      "Epoch 22: step 20/20 \t loss -901.06 \t r_loss -0.902 \t k_l 2.625\n",
      "Epoch 23: step 20/20 \t loss -904.72 \t r_loss -0.905 \t k_l 2.702\n",
      "Epoch 24: step 3/20 \t loss -906.67 \t r_loss -0.907 \t k_l 2.694"
     ]
    },
    {
     "name": "stderr",
     "output_type": "stream",
     "text": [
      "W0804 04:44:25.045848  2848 keyedvectors.py:2140] could not extract any ngrams from '', returning origin vector\n"
     ]
    },
    {
     "name": "stdout",
     "output_type": "stream",
     "text": [
      "Epoch 24: step 20/20 \t loss -907.07 \t r_loss -0.908 \t k_l 2.787\n",
      "Epoch 25: step 20/20 \t loss -904.37 \t r_loss -0.905 \t k_l 2.715\n",
      "Epoch 26: step 15/20 \t loss -903.38 \t r_loss -0.904 \t k_l 2.781"
     ]
    },
    {
     "name": "stderr",
     "output_type": "stream",
     "text": [
      "W0804 04:48:37.999482  2848 keyedvectors.py:2140] could not extract any ngrams from '', returning origin vector\n"
     ]
    },
    {
     "name": "stdout",
     "output_type": "stream",
     "text": [
      "Epoch 26: step 20/20 \t loss -906.18 \t r_loss -0.907 \t k_l 2.741\n",
      "Epoch 27: step 20/20 \t loss -902.87 \t r_loss -0.904 \t k_l 2.774\n",
      "Epoch 28: step 20/20 \t loss -904.4 \t r_loss -0.905 \t k_l 2.744\n",
      "Epoch 29: step 20/20 \t loss -905.11 \t r_loss -0.906 \t k_l 2.806\n",
      "Epoch 30: step 4/20 \t loss -902.37 \t r_loss -0.903 \t k_l 2.754"
     ]
    },
    {
     "name": "stderr",
     "output_type": "stream",
     "text": [
      "W0804 04:54:16.858026  2848 keyedvectors.py:2140] could not extract any ngrams from '', returning origin vector\n"
     ]
    },
    {
     "name": "stdout",
     "output_type": "stream",
     "text": [
      "Epoch 30: step 13/20 \t loss -910.35 \t r_loss -0.911 \t k_l 2.758"
     ]
    },
    {
     "name": "stderr",
     "output_type": "stream",
     "text": [
      "W0804 04:54:57.418723  2848 keyedvectors.py:2140] could not extract any ngrams from '', returning origin vector\n"
     ]
    },
    {
     "name": "stdout",
     "output_type": "stream",
     "text": [
      "Epoch 30: step 20/20 \t loss -901.9 \t r_loss -0.903 \t k_l 2.819\n",
      "Epoch 31: step 20/20 \t loss -906.29 \t r_loss -0.907 \t k_l 2.731\n",
      "Epoch 32: step 20/20 \t loss -906.8 \t r_loss -0.908 \t k_l 2.766\n",
      "Epoch 33: step 20/20 \t loss -900.06 \t r_loss -0.901 \t k_l 2.815\n",
      "Epoch 34: step 7/20 \t loss -907.73 \t r_loss -0.909 \t k_l 2.883"
     ]
    },
    {
     "name": "stderr",
     "output_type": "stream",
     "text": [
      "W0804 05:00:50.572224  2848 keyedvectors.py:2140] could not extract any ngrams from '', returning origin vector\n"
     ]
    },
    {
     "name": "stdout",
     "output_type": "stream",
     "text": [
      "Epoch 34: step 20/20 \t loss -909.18 \t r_loss -0.91 \t k_l 2.829\n",
      "Epoch 35: step 20/20 \t loss -906.64 \t r_loss -0.907 \t k_l 2.817\n",
      "Epoch 36: step 20/20 \t loss -908.45 \t r_loss -0.909 \t k_l 2.89\n",
      "Epoch 37: step 20/20 \t loss -907.86 \t r_loss -0.909 \t k_l 2.767\n",
      "Epoch 38: step 18/20 \t loss -904.7 \t r_loss -0.905 \t k_l 2.866"
     ]
    },
    {
     "name": "stderr",
     "output_type": "stream",
     "text": [
      "W0804 05:08:03.464646  2848 keyedvectors.py:2140] could not extract any ngrams from '', returning origin vector\n"
     ]
    },
    {
     "name": "stdout",
     "output_type": "stream",
     "text": [
      "Epoch 38: step 20/20 \t loss -909.58 \t r_loss -0.91 \t k_l 2.858\n",
      "Epoch 39: step 20/20 \t loss -912.02 \t r_loss -0.913 \t k_l 2.85\n",
      "Epoch 40: step 1/20 \t loss -914.43 \t r_loss -0.915 \t k_l 2.839"
     ]
    },
    {
     "name": "stderr",
     "output_type": "stream",
     "text": [
      "W0804 05:09:57.363032  2848 keyedvectors.py:2140] could not extract any ngrams from '', returning origin vector\n"
     ]
    },
    {
     "name": "stdout",
     "output_type": "stream",
     "text": [
      "Epoch 40: step 20/20 \t loss -910.04 \t r_loss -0.911 \t k_l 2.896\n",
      "Epoch 41: step 20/20 \t loss -904.96 \t r_loss -0.906 \t k_l 2.895\n",
      "Epoch 42: step 20/20 \t loss -908.94 \t r_loss -0.91 \t k_l 2.911\n",
      "Epoch 43: step 20/20 \t loss -906.51 \t r_loss -0.907 \t k_l 2.873\n",
      "Epoch 44: step 20/20 \t loss -908.48 \t r_loss -0.909 \t k_l 2.866\n",
      "Epoch 45: step 20/20 \t loss -913.43 \t r_loss -0.914 \t k_l 2.879\n",
      "Epoch 46: step 20/20 \t loss -911.3 \t r_loss -0.912 \t k_l 2.967\n",
      "Epoch 47: step 20/20 \t loss -913.31 \t r_loss -0.914 \t k_l 2.926\n",
      "Epoch 48: step 20/20 \t loss -913.74 \t r_loss -0.915 \t k_l 2.943\n",
      "Epoch 49: step 20/20 \t loss -910.09 \t r_loss -0.911 \t k_l 2.96\n",
      "Epoch 50: step 10/20 \t loss -911.52 \t r_loss -0.912 \t k_l 2.932"
     ]
    },
    {
     "name": "stderr",
     "output_type": "stream",
     "text": [
      "W0804 05:26:31.167621  2848 keyedvectors.py:2140] could not extract any ngrams from '', returning origin vector\n"
     ]
    },
    {
     "name": "stdout",
     "output_type": "stream",
     "text": [
      "Epoch 50: step 20/20 \t loss -914.81 \t r_loss -0.916 \t k_l 2.98\n",
      "Epoch 51: step 11/20 \t loss -913.02 \t r_loss -0.914 \t k_l 2.975"
     ]
    },
    {
     "name": "stderr",
     "output_type": "stream",
     "text": [
      "W0804 05:28:13.586406  2848 keyedvectors.py:2140] could not extract any ngrams from '', returning origin vector\n"
     ]
    },
    {
     "name": "stdout",
     "output_type": "stream",
     "text": [
      "Epoch 51: step 20/20 \t loss -912.57 \t r_loss -0.913 \t k_l 2.943\n",
      "Epoch 52: step 4/20 \t loss -913.38 \t r_loss -0.914 \t k_l 2.977"
     ]
    },
    {
     "name": "stderr",
     "output_type": "stream",
     "text": [
      "W0804 05:29:15.891559  2848 keyedvectors.py:2140] could not extract any ngrams from '', returning origin vector\n"
     ]
    },
    {
     "name": "stdout",
     "output_type": "stream",
     "text": [
      "Epoch 52: step 12/20 \t loss -911.08 \t r_loss -0.912 \t k_l 2.947"
     ]
    },
    {
     "name": "stderr",
     "output_type": "stream",
     "text": [
      "W0804 05:29:51.176157  2848 keyedvectors.py:2140] could not extract any ngrams from '', returning origin vector\n"
     ]
    },
    {
     "name": "stdout",
     "output_type": "stream",
     "text": [
      "Epoch 52: step 20/20 \t loss -912.2 \t r_loss -0.913 \t k_l 3.007\n",
      "Epoch 53: step 20/20 \t loss -912.58 \t r_loss -0.913 \t k_l 2.959\n"
     ]
    },
    {
     "name": "stderr",
     "output_type": "stream",
     "text": [
      "W0804 05:32:15.738771  2848 keyedvectors.py:2140] could not extract any ngrams from '', returning origin vector\n"
     ]
    },
    {
     "name": "stdout",
     "output_type": "stream",
     "text": [
      "Epoch 54: step 3/20 \t loss -912.94 \t r_loss -0.914 \t k_l 2.885"
     ]
    },
    {
     "name": "stderr",
     "output_type": "stream",
     "text": [
      "W0804 05:32:28.051770  2848 keyedvectors.py:2140] could not extract any ngrams from '', returning origin vector\n",
      "W0804 05:32:28.052770  2848 keyedvectors.py:2140] could not extract any ngrams from '', returning origin vector\n"
     ]
    },
    {
     "name": "stdout",
     "output_type": "stream",
     "text": [
      "Epoch 54: step 17/20 \t loss -911.36 \t r_loss -0.912 \t k_l 2.928"
     ]
    },
    {
     "name": "stderr",
     "output_type": "stream",
     "text": [
      "W0804 05:33:34.553162  2848 keyedvectors.py:2140] could not extract any ngrams from '', returning origin vector\n"
     ]
    },
    {
     "name": "stdout",
     "output_type": "stream",
     "text": [
      "Epoch 54: step 20/20 \t loss -916.78 \t r_loss -0.918 \t k_l 2.971\n",
      "Epoch 55: step 20/20 \t loss -910.69 \t r_loss -0.911 \t k_l 2.943\n",
      "Epoch 56: step 20/20 \t loss -910.55 \t r_loss -0.911 \t k_l 2.943\n",
      "Epoch 57: step 2/20 \t loss -908.67 \t r_loss -0.909 \t k_l 2.962"
     ]
    },
    {
     "name": "stderr",
     "output_type": "stream",
     "text": [
      "W0804 05:37:07.390733  2848 keyedvectors.py:2140] could not extract any ngrams from '', returning origin vector\n"
     ]
    },
    {
     "name": "stdout",
     "output_type": "stream",
     "text": [
      "Epoch 57: step 20/20 \t loss -910.42 \t r_loss -0.911 \t k_l 2.968\n",
      "Epoch 58: step 3/20 \t loss -908.95 \t r_loss -0.91 \t k_l 2.877"
     ]
    },
    {
     "name": "stderr",
     "output_type": "stream",
     "text": [
      "W0804 05:38:47.341179  2848 keyedvectors.py:2140] could not extract any ngrams from '', returning origin vector\n"
     ]
    },
    {
     "name": "stdout",
     "output_type": "stream",
     "text": [
      "Epoch 58: step 20/20 \t loss -915.37 \t r_loss -0.916 \t k_l 2.935\n",
      "Epoch 59: step 20/20 \t loss -910.48 \t r_loss -0.911 \t k_l 2.941\n",
      "Epoch 60: step 20/20 \t loss -911.75 \t r_loss -0.913 \t k_l 3.003\n",
      "Epoch 61: step 20/20 \t loss -914.74 \t r_loss -0.916 \t k_l 3.007\n",
      "Epoch 62: step 8/20 \t loss -908.67 \t r_loss -0.909 \t k_l 2.959"
     ]
    },
    {
     "name": "stderr",
     "output_type": "stream",
     "text": [
      "W0804 05:45:27.789387  2848 keyedvectors.py:2140] could not extract any ngrams from '', returning origin vector\n",
      "W0804 05:45:27.848405  2848 keyedvectors.py:2140] could not extract any ngrams from '', returning origin vector\n"
     ]
    },
    {
     "name": "stdout",
     "output_type": "stream",
     "text": [
      "Epoch 62: step 14/20 \t loss -912.82 \t r_loss -0.914 \t k_l 2.952"
     ]
    },
    {
     "name": "stderr",
     "output_type": "stream",
     "text": [
      "W0804 05:45:56.380410  2848 keyedvectors.py:2140] could not extract any ngrams from '', returning origin vector\n"
     ]
    },
    {
     "name": "stdout",
     "output_type": "stream",
     "text": [
      "Epoch 62: step 19/20 \t loss -912.08 \t r_loss -0.913 \t k_l 2.958"
     ]
    },
    {
     "name": "stderr",
     "output_type": "stream",
     "text": [
      "W0804 05:46:19.835901  2848 keyedvectors.py:2140] could not extract any ngrams from '', returning origin vector\n"
     ]
    },
    {
     "name": "stdout",
     "output_type": "stream",
     "text": [
      "Epoch 62: step 20/20 \t loss -914.0 \t r_loss -0.915 \t k_l 2.974\n",
      "Epoch 63: step 20/20 \t loss -914.18 \t r_loss -0.915 \t k_l 2.981\n",
      "Epoch 64: step 20/20 \t loss -911.45 \t r_loss -0.912 \t k_l 2.942\n",
      "Epoch 65: step 10/20 \t loss -914.36 \t r_loss -0.915 \t k_l 2.969"
     ]
    },
    {
     "name": "stderr",
     "output_type": "stream",
     "text": [
      "W0804 05:50:25.065222  2848 keyedvectors.py:2140] could not extract any ngrams from '', returning origin vector\n"
     ]
    },
    {
     "name": "stdout",
     "output_type": "stream",
     "text": [
      "Epoch 65: step 20/20 \t loss -914.21 \t r_loss -0.915 \t k_l 3.016\n",
      "Epoch 66: step 3/20 \t loss -916.1 \t r_loss -0.917 \t k_l 3.001"
     ]
    },
    {
     "name": "stderr",
     "output_type": "stream",
     "text": [
      "W0804 05:51:27.107997  2848 keyedvectors.py:2140] could not extract any ngrams from '', returning origin vector\n",
      "W0804 05:51:27.108996  2848 keyedvectors.py:2140] could not extract any ngrams from '', returning origin vector\n",
      "W0804 05:51:27.109998  2848 keyedvectors.py:2140] could not extract any ngrams from '', returning origin vector\n",
      "W0804 05:51:27.109998  2848 keyedvectors.py:2140] could not extract any ngrams from '', returning origin vector\n"
     ]
    },
    {
     "name": "stdout",
     "output_type": "stream",
     "text": [
      "Epoch 66: step 20/20 \t loss -913.78 \t r_loss -0.915 \t k_l 2.897\n",
      "Epoch 67: step 15/20 \t loss -912.91 \t r_loss -0.914 \t k_l 3.013"
     ]
    },
    {
     "name": "stderr",
     "output_type": "stream",
     "text": [
      "W0804 05:54:06.277009  2848 keyedvectors.py:2140] could not extract any ngrams from '', returning origin vector\n"
     ]
    },
    {
     "name": "stdout",
     "output_type": "stream",
     "text": [
      "Epoch 67: step 18/20 \t loss -913.23 \t r_loss -0.914 \t k_l 3.025"
     ]
    },
    {
     "name": "stderr",
     "output_type": "stream",
     "text": [
      "W0804 05:54:19.223903  2848 keyedvectors.py:2140] could not extract any ngrams from '', returning origin vector\n",
      "W0804 05:54:19.224903  2848 keyedvectors.py:2140] could not extract any ngrams from '', returning origin vector\n",
      "W0804 05:54:19.225902  2848 keyedvectors.py:2140] could not extract any ngrams from '', returning origin vector\n",
      "W0804 05:54:19.226902  2848 keyedvectors.py:2140] could not extract any ngrams from '', returning origin vector\n",
      "W0804 05:54:19.227909  2848 keyedvectors.py:2140] could not extract any ngrams from '', returning origin vector\n"
     ]
    },
    {
     "name": "stdout",
     "output_type": "stream",
     "text": [
      "Epoch 67: step 19/20 \t loss -911.04 \t r_loss -0.912 \t k_l 3.02"
     ]
    },
    {
     "name": "stderr",
     "output_type": "stream",
     "text": [
      "W0804 05:54:26.620122  2848 keyedvectors.py:2140] could not extract any ngrams from '', returning origin vector\n",
      "W0804 05:54:26.621096  2848 keyedvectors.py:2140] could not extract any ngrams from '', returning origin vector\n",
      "W0804 05:54:26.621096  2848 keyedvectors.py:2140] could not extract any ngrams from '', returning origin vector\n"
     ]
    },
    {
     "name": "stdout",
     "output_type": "stream",
     "text": [
      "Epoch 67: step 20/20 \t loss -906.23 \t r_loss -0.907 \t k_l 2.985\n",
      "Epoch 68: step 20/20 \t loss -914.19 \t r_loss -0.915 \t k_l 2.999\n",
      "Epoch 69: step 20/20 \t loss -911.18 \t r_loss -0.912 \t k_l 2.954\n"
     ]
    },
    {
     "name": "stderr",
     "output_type": "stream",
     "text": [
      "W0804 05:57:41.709859  2848 keyedvectors.py:2140] could not extract any ngrams from '', returning origin vector\n",
      "W0804 05:57:41.709859  2848 keyedvectors.py:2140] could not extract any ngrams from '', returning origin vector\n",
      "W0804 05:57:41.710864  2848 keyedvectors.py:2140] could not extract any ngrams from '', returning origin vector\n"
     ]
    },
    {
     "name": "stdout",
     "output_type": "stream",
     "text": [
      "Epoch 70: step 20/20 \t loss -912.08 \t r_loss -0.913 \t k_l 3.024\n",
      "Epoch 71: step 11/20 \t loss -913.17 \t r_loss -0.914 \t k_l 2.993"
     ]
    },
    {
     "name": "stderr",
     "output_type": "stream",
     "text": [
      "W0804 06:00:09.358561  2848 keyedvectors.py:2140] could not extract any ngrams from '', returning origin vector\n"
     ]
    },
    {
     "name": "stdout",
     "output_type": "stream",
     "text": [
      "Epoch 71: step 12/20 \t loss -915.19 \t r_loss -0.916 \t k_l 2.956"
     ]
    },
    {
     "name": "stderr",
     "output_type": "stream",
     "text": [
      "W0804 06:00:13.759587  2848 keyedvectors.py:2140] could not extract any ngrams from '', returning origin vector\n",
      "W0804 06:00:13.760592  2848 keyedvectors.py:2140] could not extract any ngrams from '', returning origin vector\n",
      "W0804 06:00:13.760592  2848 keyedvectors.py:2140] could not extract any ngrams from '', returning origin vector\n",
      "W0804 06:00:13.761575  2848 keyedvectors.py:2140] could not extract any ngrams from '', returning origin vector\n"
     ]
    },
    {
     "name": "stdout",
     "output_type": "stream",
     "text": [
      "Epoch 71: step 20/20 \t loss -911.86 \t r_loss -0.913 \t k_l 3.004\n",
      "Epoch 72: step 4/20 \t loss -916.02 \t r_loss -0.917 \t k_l 3.032"
     ]
    },
    {
     "name": "stderr",
     "output_type": "stream",
     "text": [
      "W0804 06:01:14.738389  2848 keyedvectors.py:2140] could not extract any ngrams from '', returning origin vector\n"
     ]
    },
    {
     "name": "stdout",
     "output_type": "stream",
     "text": [
      "Epoch 72: step 20/20 \t loss -913.89 \t r_loss -0.915 \t k_l 2.956\n",
      "Epoch 73: step 20/20 \t loss -916.42 \t r_loss -0.917 \t k_l 3.008\n",
      "Epoch 74: step 2/20 \t loss -910.56 \t r_loss -0.911 \t k_l 3.005"
     ]
    },
    {
     "name": "stderr",
     "output_type": "stream",
     "text": [
      "W0804 06:04:17.979431  2848 keyedvectors.py:2140] could not extract any ngrams from '', returning origin vector\n"
     ]
    },
    {
     "name": "stdout",
     "output_type": "stream",
     "text": [
      "Epoch 74: step 18/20 \t loss -914.46 \t r_loss -0.915 \t k_l 3.029"
     ]
    },
    {
     "name": "stderr",
     "output_type": "stream",
     "text": [
      "W0804 06:05:41.416295  2848 keyedvectors.py:2140] could not extract any ngrams from '', returning origin vector\n"
     ]
    },
    {
     "name": "stdout",
     "output_type": "stream",
     "text": [
      "Epoch 74: step 20/20 \t loss -912.43 \t r_loss -0.913 \t k_l 3.023\n",
      "Epoch 75: step 8/20 \t loss -911.53 \t r_loss -0.912 \t k_l 2.95"
     ]
    },
    {
     "name": "stderr",
     "output_type": "stream",
     "text": [
      "W0804 06:06:28.028479  2848 keyedvectors.py:2140] could not extract any ngrams from '', returning origin vector\n"
     ]
    },
    {
     "name": "stdout",
     "output_type": "stream",
     "text": [
      "Epoch 75: step 9/20 \t loss -912.86 \t r_loss -0.914 \t k_l 2.946"
     ]
    },
    {
     "name": "stderr",
     "output_type": "stream",
     "text": [
      "W0804 06:06:30.297505  2848 keyedvectors.py:2140] could not extract any ngrams from '', returning origin vector\n"
     ]
    },
    {
     "name": "stdout",
     "output_type": "stream",
     "text": [
      "Epoch 75: step 20/20 \t loss -915.5 \t r_loss -0.916 \t k_l 2.995\n",
      "Epoch 76: step 20/20 \t loss -912.74 \t r_loss -0.914 \t k_l 3.003\n",
      "Epoch 77: step 20/20 \t loss -916.23 \t r_loss -0.917 \t k_l 2.977\n",
      "Epoch 78: step 5/20 \t loss -913.6 \t r_loss -0.914 \t k_l 2.99"
     ]
    },
    {
     "name": "stderr",
     "output_type": "stream",
     "text": [
      "W0804 06:11:02.309452  2848 keyedvectors.py:2140] could not extract any ngrams from '', returning origin vector\n"
     ]
    },
    {
     "name": "stdout",
     "output_type": "stream",
     "text": [
      "Epoch 78: step 20/20 \t loss -913.29 \t r_loss -0.914 \t k_l 2.952\n",
      "Epoch 79: step 20/20 \t loss -911.33 \t r_loss -0.912 \t k_l 2.973\n",
      "Epoch 80: step 3/20 \t loss -911.22 \t r_loss -0.912 \t k_l 3.026"
     ]
    },
    {
     "name": "stderr",
     "output_type": "stream",
     "text": [
      "W0804 06:14:08.718344  2848 keyedvectors.py:2140] could not extract any ngrams from '', returning origin vector\n"
     ]
    },
    {
     "name": "stdout",
     "output_type": "stream",
     "text": [
      "Epoch 80: step 20/20 \t loss -915.28 \t r_loss -0.916 \t k_l 3.0\n",
      "Epoch 81: step 20/20 \t loss -913.38 \t r_loss -0.914 \t k_l 2.983\n",
      "Epoch 82: step 3/20 \t loss -915.07 \t r_loss -0.916 \t k_l 2.967"
     ]
    },
    {
     "name": "stderr",
     "output_type": "stream",
     "text": [
      "W0804 06:17:16.533488  2848 keyedvectors.py:2140] could not extract any ngrams from '', returning origin vector\n"
     ]
    },
    {
     "name": "stdout",
     "output_type": "stream",
     "text": [
      "Epoch 82: step 9/20 \t loss -915.64 \t r_loss -0.916 \t k_l 2.987"
     ]
    },
    {
     "name": "stderr",
     "output_type": "stream",
     "text": [
      "W0804 06:17:42.894149  2848 keyedvectors.py:2140] could not extract any ngrams from '', returning origin vector\n"
     ]
    },
    {
     "name": "stdout",
     "output_type": "stream",
     "text": [
      "Epoch 82: step 14/20 \t loss -918.03 \t r_loss -0.919 \t k_l 2.988"
     ]
    },
    {
     "name": "stderr",
     "output_type": "stream",
     "text": [
      "W0804 06:18:04.188989  2848 keyedvectors.py:2140] could not extract any ngrams from '', returning origin vector\n",
      "W0804 06:18:04.189957  2848 keyedvectors.py:2140] could not extract any ngrams from '', returning origin vector\n",
      "W0804 06:18:04.189957  2848 keyedvectors.py:2140] could not extract any ngrams from '', returning origin vector\n",
      "W0804 06:18:04.190956  2848 keyedvectors.py:2140] could not extract any ngrams from '', returning origin vector\n"
     ]
    },
    {
     "name": "stdout",
     "output_type": "stream",
     "text": [
      "Epoch 82: step 18/20 \t loss -916.61 \t r_loss -0.917 \t k_l 2.979"
     ]
    },
    {
     "name": "stderr",
     "output_type": "stream",
     "text": [
      "W0804 06:18:23.179985  2848 keyedvectors.py:2140] could not extract any ngrams from '', returning origin vector\n"
     ]
    },
    {
     "name": "stdout",
     "output_type": "stream",
     "text": [
      "Epoch 82: step 20/20 \t loss -917.51 \t r_loss -0.918 \t k_l 3.012\n",
      "Epoch 83: step 20/20 \t loss -915.56 \t r_loss -0.916 \t k_l 3.004\n",
      "Epoch 84: step 14/20 \t loss -912.94 \t r_loss -0.914 \t k_l 2.98"
     ]
    },
    {
     "name": "stderr",
     "output_type": "stream",
     "text": [
      "W0804 06:21:19.281107  2848 keyedvectors.py:2140] could not extract any ngrams from '', returning origin vector\n",
      "W0804 06:21:19.281107  2848 keyedvectors.py:2140] could not extract any ngrams from '', returning origin vector\n"
     ]
    },
    {
     "name": "stdout",
     "output_type": "stream",
     "text": [
      "Epoch 84: step 20/20 \t loss -915.33 \t r_loss -0.916 \t k_l 3.022\n",
      "Epoch 85: step 7/20 \t loss -914.52 \t r_loss -0.915 \t k_l 2.959"
     ]
    },
    {
     "name": "stderr",
     "output_type": "stream",
     "text": [
      "W0804 06:22:20.947388  2848 keyedvectors.py:2140] could not extract any ngrams from '', returning origin vector\n"
     ]
    },
    {
     "name": "stdout",
     "output_type": "stream",
     "text": [
      "Epoch 85: step 11/20 \t loss -912.66 \t r_loss -0.913 \t k_l 2.94"
     ]
    },
    {
     "name": "stderr",
     "output_type": "stream",
     "text": [
      "W0804 06:22:41.396309  2848 keyedvectors.py:2140] could not extract any ngrams from '', returning origin vector\n"
     ]
    },
    {
     "name": "stdout",
     "output_type": "stream",
     "text": [
      "Epoch 85: step 20/20 \t loss -911.08 \t r_loss -0.912 \t k_l 3.04\n",
      "Epoch 86: step 20/20 \t loss -912.42 \t r_loss -0.913 \t k_l 2.97\n",
      "Epoch 87: step 7/20 \t loss -912.72 \t r_loss -0.914 \t k_l 2.995"
     ]
    },
    {
     "name": "stderr",
     "output_type": "stream",
     "text": [
      "W0804 06:25:30.446438  2848 keyedvectors.py:2140] could not extract any ngrams from '', returning origin vector\n",
      "W0804 06:25:30.447438  2848 keyedvectors.py:2140] could not extract any ngrams from '', returning origin vector\n"
     ]
    },
    {
     "name": "stdout",
     "output_type": "stream",
     "text": [
      "Epoch 87: step 8/20 \t loss -911.76 \t r_loss -0.913 \t k_l 2.997"
     ]
    },
    {
     "name": "stderr",
     "output_type": "stream",
     "text": [
      "W0804 06:25:33.295439  2848 keyedvectors.py:2140] could not extract any ngrams from '', returning origin vector\n",
      "W0804 06:25:33.295439  2848 keyedvectors.py:2140] could not extract any ngrams from '', returning origin vector\n"
     ]
    },
    {
     "name": "stdout",
     "output_type": "stream",
     "text": [
      "Epoch 87: step 20/20 \t loss -909.52 \t r_loss -0.91 \t k_l 2.981\n",
      "Epoch 88: step 20/20 \t loss -917.27 \t r_loss -0.918 \t k_l 2.985\n",
      "Epoch 89: step 20/20 \t loss -913.22 \t r_loss -0.914 \t k_l 2.992\n",
      "Epoch 90: step 20/20 \t loss -916.4 \t r_loss -0.917 \t k_l 3.017\n",
      "Epoch 91: step 20/20 \t loss -914.85 \t r_loss -0.916 \t k_l 3.036\n",
      "Epoch 92: step 7/20 \t loss -915.9 \t r_loss -0.917 \t k_l 3.017"
     ]
    },
    {
     "name": "stderr",
     "output_type": "stream",
     "text": [
      "W0804 06:33:25.647589  2848 keyedvectors.py:2140] could not extract any ngrams from '', returning origin vector\n"
     ]
    },
    {
     "name": "stdout",
     "output_type": "stream",
     "text": [
      "Epoch 92: step 20/20 \t loss -910.83 \t r_loss -0.912 \t k_l 2.964\n",
      "Epoch 93: step 7/20 \t loss -916.68 \t r_loss -0.918 \t k_l 3.053"
     ]
    },
    {
     "name": "stderr",
     "output_type": "stream",
     "text": [
      "W0804 06:34:57.050444  2848 keyedvectors.py:2140] could not extract any ngrams from '', returning origin vector\n"
     ]
    },
    {
     "name": "stdout",
     "output_type": "stream",
     "text": [
      "Epoch 93: step 20/20 \t loss -919.98 \t r_loss -0.921 \t k_l 2.99\n",
      "Epoch 94: step 20/20 \t loss -910.98 \t r_loss -0.912 \t k_l 3.077\n",
      "Epoch 95: step 11/20 \t loss -914.29 \t r_loss -0.915 \t k_l 3.008"
     ]
    },
    {
     "name": "stderr",
     "output_type": "stream",
     "text": [
      "W0804 06:38:26.161277  2848 keyedvectors.py:2140] could not extract any ngrams from '', returning origin vector\n"
     ]
    },
    {
     "name": "stdout",
     "output_type": "stream",
     "text": [
      "Epoch 95: step 20/20 \t loss -915.11 \t r_loss -0.916 \t k_l 3.013\n",
      "Epoch 96: step 20/20 \t loss -916.96 \t r_loss -0.918 \t k_l 3.041\n",
      "Epoch 97: step 20/20 \t loss -916.27 \t r_loss -0.917 \t k_l 2.973\n",
      "Epoch 98: step 5/20 \t loss -918.78 \t r_loss -0.92 \t k_l 2.965"
     ]
    },
    {
     "name": "stderr",
     "output_type": "stream",
     "text": [
      "W0804 06:42:45.669594  2848 keyedvectors.py:2140] could not extract any ngrams from '', returning origin vector\n"
     ]
    },
    {
     "name": "stdout",
     "output_type": "stream",
     "text": [
      "Epoch 98: step 20/20 \t loss -913.93 \t r_loss -0.915 \t k_l 3.054\n",
      "Epoch 99: step 4/20 \t loss -919.92 \t r_loss -0.921 \t k_l 2.998"
     ]
    },
    {
     "name": "stderr",
     "output_type": "stream",
     "text": [
      "W0804 06:44:16.105319  2848 keyedvectors.py:2140] could not extract any ngrams from '', returning origin vector\n"
     ]
    },
    {
     "name": "stdout",
     "output_type": "stream",
     "text": [
      "Epoch 99: step 9/20 \t loss -920.19 \t r_loss -0.921 \t k_l 2.995"
     ]
    },
    {
     "name": "stderr",
     "output_type": "stream",
     "text": [
      "W0804 06:44:38.508251  2848 keyedvectors.py:2140] could not extract any ngrams from '', returning origin vector\n",
      "W0804 06:44:38.509218  2848 keyedvectors.py:2140] could not extract any ngrams from '', returning origin vector\n"
     ]
    },
    {
     "name": "stdout",
     "output_type": "stream",
     "text": [
      "Epoch 99: step 18/20 \t loss -915.03 \t r_loss -0.916 \t k_l 3.035"
     ]
    },
    {
     "name": "stderr",
     "output_type": "stream",
     "text": [
      "W0804 06:45:19.117154  2848 keyedvectors.py:2140] could not extract any ngrams from '', returning origin vector\n",
      "W0804 06:45:19.118154  2848 keyedvectors.py:2140] could not extract any ngrams from '', returning origin vector\n",
      "W0804 06:45:19.118154  2848 keyedvectors.py:2140] could not extract any ngrams from '', returning origin vector\n"
     ]
    },
    {
     "name": "stdout",
     "output_type": "stream",
     "text": [
      "Epoch 99: step 20/20 \t loss -917.03 \t r_loss -0.918 \t k_l 2.999\n",
      "Epoch 100: step 2/20 \t loss -913.38 \t r_loss -0.914 \t k_l 2.982"
     ]
    },
    {
     "name": "stderr",
     "output_type": "stream",
     "text": [
      "W0804 06:45:40.985010  2848 keyedvectors.py:2140] could not extract any ngrams from '', returning origin vector\n"
     ]
    },
    {
     "name": "stdout",
     "output_type": "stream",
     "text": [
      "Epoch 100: step 4/20 \t loss -912.6 \t r_loss -0.913 \t k_l 2.975"
     ]
    },
    {
     "name": "stderr",
     "output_type": "stream",
     "text": [
      "W0804 06:45:50.546010  2848 keyedvectors.py:2140] could not extract any ngrams from '', returning origin vector\n"
     ]
    },
    {
     "name": "stdout",
     "output_type": "stream",
     "text": [
      "Epoch 100: step 20/20 \t loss -913.93 \t r_loss -0.915 \t k_l 3.063\n"
     ]
    }
   ],
   "source": [
    "epochs = 100\n",
    "steps = 20\n",
    "batch_size = 2**7\n",
    "model_dir = '../models/'\n",
    "# history = []\n",
    "\n",
    "generator = data_generator(df, batch_size)\n",
    "\n",
    "optimizer = tf.keras.optimizers.Adam(learning_rate=0.001, amsgrad=True)\n",
    "\n",
    "for e in range(epochs):\n",
    "    for s in range(steps):\n",
    "        with tf.GradientTape() as tape:\n",
    "            data_batch = next(generator)\n",
    "            loss, r_l, k_l = vae_loss(encoder, decoder, data_batch)\n",
    "            \n",
    "        sys.stdout.write(f'\\rEpoch {e+1}: step {s+1}/{steps} \\t loss {round(float(loss), 2)} \\t r_loss {round(float(r_l), 3)} \\t k_l {round(float(k_l), 3)}')\n",
    "        sys.stdout.flush()\n",
    "            \n",
    "        trainable_variables = encoder.trainable_variables + decoder.trainable_variables\n",
    "        grads = tape.gradient(loss, trainable_variables)\n",
    "\n",
    "        optimizer.apply_gradients(zip(grads, trainable_variables))\n",
    "        if(s+1==steps):\n",
    "            print('')\n",
    "            history.append(loss)\n",
    "            try:\n",
    "                save_autoencoder(encoder, decoder, model_dir)\n",
    "            except:\n",
    "                print('ERROR ON SAVE')"
   ]
  },
  {
   "cell_type": "markdown",
   "metadata": {},
   "source": [
    "## test model"
   ]
  },
  {
   "cell_type": "code",
   "execution_count": 307,
   "metadata": {},
   "outputs": [
    {
     "name": "stdout",
     "output_type": "stream",
     "text": [
      "user_id\n",
      "1055919539739938816      57\n",
      "1066770503115988992     214\n",
      "1103628302491754496      40\n",
      "1114172164612268032      13\n",
      "1234856938971766785     105\n",
      "126418051               209\n",
      "149991703              1351\n",
      "18143118                598\n",
      "196340158               300\n",
      "250297107               467\n",
      "2952640125               53\n",
      "2953955753             1512\n",
      "36152999                 11\n",
      "4906419622               72\n",
      "768068458848382976      102\n",
      "987454440549568512       11\n",
      "Name: tweet_id, dtype: int64\n",
      "pocos tweets: ['Marafer23701816']\n"
     ]
    },
    {
     "data": {
      "text/html": [
       "<div>\n",
       "<style scoped>\n",
       "    .dataframe tbody tr th:only-of-type {\n",
       "        vertical-align: middle;\n",
       "    }\n",
       "\n",
       "    .dataframe tbody tr th {\n",
       "        vertical-align: top;\n",
       "    }\n",
       "\n",
       "    .dataframe thead th {\n",
       "        text-align: right;\n",
       "    }\n",
       "</style>\n",
       "<table border=\"1\" class=\"dataframe\">\n",
       "  <thead>\n",
       "    <tr style=\"text-align: right;\">\n",
       "      <th></th>\n",
       "      <th>user_id</th>\n",
       "      <th>user_name</th>\n",
       "      <th>name</th>\n",
       "      <th>description</th>\n",
       "      <th>url</th>\n",
       "      <th>created_at</th>\n",
       "      <th>geo_enabled</th>\n",
       "      <th>verified</th>\n",
       "      <th>profile_image_url</th>\n",
       "      <th>profile_image_url_large</th>\n",
       "      <th>...</th>\n",
       "      <th>friends_count</th>\n",
       "      <th>listed_count</th>\n",
       "      <th>favourites_count</th>\n",
       "      <th>statuses_count</th>\n",
       "      <th>media_count</th>\n",
       "      <th>pinned_tweet</th>\n",
       "      <th>tweets_scraped</th>\n",
       "      <th>tweets_scraped_at</th>\n",
       "      <th>scrapped_at</th>\n",
       "      <th>ignore</th>\n",
       "    </tr>\n",
       "  </thead>\n",
       "  <tbody>\n",
       "    <tr>\n",
       "      <th>4750</th>\n",
       "      <td>1055919539739938816</td>\n",
       "      <td>RubenhMarin</td>\n",
       "      <td>Rubén Marin</td>\n",
       "      <td>✌Pte. del PJ Pampeano ✌Coordinador de la mesa de acción política del PJ Nacional. ✌4 veces gober...</td>\n",
       "      <td>NaN</td>\n",
       "      <td>2018-10-26 20:30:11.0</td>\n",
       "      <td>1</td>\n",
       "      <td>0</td>\n",
       "      <td>https://pbs.twimg.com/profile_images/1192395305154699264/aPjaHRtD_normal.jpg</td>\n",
       "      <td>https://pbs.twimg.com/profile_images/1192395305154699264/aPjaHRtD_400x400.jpg</td>\n",
       "      <td>...</td>\n",
       "      <td>267</td>\n",
       "      <td>4</td>\n",
       "      <td>306</td>\n",
       "      <td>93</td>\n",
       "      <td>31</td>\n",
       "      <td>NaN</td>\n",
       "      <td>1</td>\n",
       "      <td>2020-07-28 03:01:15.0</td>\n",
       "      <td>2020-07-28 02:17:01.0</td>\n",
       "      <td>0</td>\n",
       "    </tr>\n",
       "    <tr>\n",
       "      <th>5547</th>\n",
       "      <td>1066770503115988992</td>\n",
       "      <td>MAbolicion</td>\n",
       "      <td>Mujeres por la abolición</td>\n",
       "      <td>Somos feministas radicales. Abolicionistas del género, prostitución, pornografía y vientres de a...</td>\n",
       "      <td>https://t.co/ua6mr4ysRM</td>\n",
       "      <td>2018-11-25 19:08:02.0</td>\n",
       "      <td>0</td>\n",
       "      <td>0</td>\n",
       "      <td>https://pbs.twimg.com/profile_images/1268640645645774850/6SzMcljs_normal.jpg</td>\n",
       "      <td>https://pbs.twimg.com/profile_images/1268640645645774850/6SzMcljs_400x400.jpg</td>\n",
       "      <td>...</td>\n",
       "      <td>845</td>\n",
       "      <td>39</td>\n",
       "      <td>6163</td>\n",
       "      <td>15089</td>\n",
       "      <td>2205</td>\n",
       "      <td>1.279824e+18</td>\n",
       "      <td>1</td>\n",
       "      <td>2020-07-28 04:12:27.0</td>\n",
       "      <td>2020-07-28 03:51:34.0</td>\n",
       "      <td>0</td>\n",
       "    </tr>\n",
       "    <tr>\n",
       "      <th>8689</th>\n",
       "      <td>1103628302491754496</td>\n",
       "      <td>Norma20191</td>\n",
       "      <td>Norma2019</td>\n",
       "      <td>Mamá, Ingeniera Industrial, docente y peronista✌ Candidata a Intendente de Esquel #tiempodemujeres</td>\n",
       "      <td>NaN</td>\n",
       "      <td>2019-03-07 12:07:46.0</td>\n",
       "      <td>0</td>\n",
       "      <td>0</td>\n",
       "      <td>https://pbs.twimg.com/profile_images/1126126960260861958/rHer4Yli_normal.jpg</td>\n",
       "      <td>https://pbs.twimg.com/profile_images/1126126960260861958/rHer4Yli_400x400.jpg</td>\n",
       "      <td>...</td>\n",
       "      <td>109</td>\n",
       "      <td>0</td>\n",
       "      <td>22</td>\n",
       "      <td>107</td>\n",
       "      <td>27</td>\n",
       "      <td>NaN</td>\n",
       "      <td>1</td>\n",
       "      <td>2020-07-28 14:33:22.0</td>\n",
       "      <td>2020-07-28 02:17:57.0</td>\n",
       "      <td>0</td>\n",
       "    </tr>\n",
       "    <tr>\n",
       "      <th>9696</th>\n",
       "      <td>1114172164612268032</td>\n",
       "      <td>MujeresCFKChaco</td>\n",
       "      <td>Mujeres Peronistas con Cristina - Chaco</td>\n",
       "      <td>Espacio político trasversal donde Mujeres Peronistas reconocen el liderazgo de CFK en el proyect...</td>\n",
       "      <td>NaN</td>\n",
       "      <td>2019-04-05 14:25:19.0</td>\n",
       "      <td>0</td>\n",
       "      <td>0</td>\n",
       "      <td>https://pbs.twimg.com/profile_images/1114172494196375553/YDSQft7M_normal.jpg</td>\n",
       "      <td>https://pbs.twimg.com/profile_images/1114172494196375553/YDSQft7M_400x400.jpg</td>\n",
       "      <td>...</td>\n",
       "      <td>246</td>\n",
       "      <td>0</td>\n",
       "      <td>43</td>\n",
       "      <td>123</td>\n",
       "      <td>31</td>\n",
       "      <td>NaN</td>\n",
       "      <td>1</td>\n",
       "      <td>2020-07-28 16:12:44.0</td>\n",
       "      <td>2020-07-28 02:19:29.0</td>\n",
       "      <td>0</td>\n",
       "    </tr>\n",
       "    <tr>\n",
       "      <th>20697</th>\n",
       "      <td>1234856938971766785</td>\n",
       "      <td>FMetaza</td>\n",
       "      <td>Franco Metaza</td>\n",
       "      <td>Peronista kirchnerista✌🏻. Fundamentalista de la democracia 🗳. Politólogo 🌎. Director de Relacion...</td>\n",
       "      <td>https://t.co/kB6HoE4sGg</td>\n",
       "      <td>2020-03-03 15:03:43.0</td>\n",
       "      <td>0</td>\n",
       "      <td>0</td>\n",
       "      <td>https://pbs.twimg.com/profile_images/1266583748348391425/SzDaxPRk_normal.jpg</td>\n",
       "      <td>https://pbs.twimg.com/profile_images/1266583748348391425/SzDaxPRk_400x400.jpg</td>\n",
       "      <td>...</td>\n",
       "      <td>895</td>\n",
       "      <td>0</td>\n",
       "      <td>1832</td>\n",
       "      <td>291</td>\n",
       "      <td>44</td>\n",
       "      <td>1.240696e+18</td>\n",
       "      <td>1</td>\n",
       "      <td>2020-07-28 04:29:12.0</td>\n",
       "      <td>2020-07-28 02:18:32.0</td>\n",
       "      <td>0</td>\n",
       "    </tr>\n",
       "    <tr>\n",
       "      <th>24697</th>\n",
       "      <td>126418051</td>\n",
       "      <td>PRO_Mujeres</td>\n",
       "      <td>PRO Mujeres</td>\n",
       "      <td>PRO Mujeres: más mujeres, mejor política. Buscamos incrementar la participación política de las ...</td>\n",
       "      <td>https://t.co/qNRlpKjmzF</td>\n",
       "      <td>2010-03-25 20:26:09.0</td>\n",
       "      <td>1</td>\n",
       "      <td>0</td>\n",
       "      <td>https://pbs.twimg.com/profile_images/984510589602074624/7bBIrJNG_normal.jpg</td>\n",
       "      <td>https://pbs.twimg.com/profile_images/984510589602074624/7bBIrJNG_400x400.jpg</td>\n",
       "      <td>...</td>\n",
       "      <td>861</td>\n",
       "      <td>100</td>\n",
       "      <td>3630</td>\n",
       "      <td>2891</td>\n",
       "      <td>685</td>\n",
       "      <td>NaN</td>\n",
       "      <td>1</td>\n",
       "      <td>2020-07-28 18:28:18.0</td>\n",
       "      <td>2020-07-28 02:20:47.0</td>\n",
       "      <td>0</td>\n",
       "    </tr>\n",
       "    <tr>\n",
       "      <th>34654</th>\n",
       "      <td>149991703</td>\n",
       "      <td>alferdez</td>\n",
       "      <td>Alberto Fernández</td>\n",
       "      <td>Abogado. Profesor de Derecho Penal (UBA). Hincha de Argentinos Juniors. Presidente de la Nación ...</td>\n",
       "      <td>https://t.co/1FuikS9nVQ</td>\n",
       "      <td>2010-05-30 19:38:40.0</td>\n",
       "      <td>0</td>\n",
       "      <td>1</td>\n",
       "      <td>https://pbs.twimg.com/profile_images/1192149786503327744/l232oveZ_normal.jpg</td>\n",
       "      <td>https://pbs.twimg.com/profile_images/1192149786503327744/l232oveZ_400x400.jpg</td>\n",
       "      <td>...</td>\n",
       "      <td>7286</td>\n",
       "      <td>1414</td>\n",
       "      <td>6760</td>\n",
       "      <td>26608</td>\n",
       "      <td>1703</td>\n",
       "      <td>NaN</td>\n",
       "      <td>1</td>\n",
       "      <td>2020-07-28 02:15:29.0</td>\n",
       "      <td>2020-07-28 02:12:16.0</td>\n",
       "      <td>0</td>\n",
       "    </tr>\n",
       "    <tr>\n",
       "      <th>44417</th>\n",
       "      <td>18143118</td>\n",
       "      <td>proargentina</td>\n",
       "      <td>PRO</td>\n",
       "      <td>Canal oficial de Twitter de PRO (Propuesta Republicana). Partido que lidera @mauriciomacri.</td>\n",
       "      <td>https://t.co/zyYm9UklqI</td>\n",
       "      <td>2008-12-15 18:54:05.0</td>\n",
       "      <td>1</td>\n",
       "      <td>1</td>\n",
       "      <td>https://pbs.twimg.com/profile_images/1246544306262990851/JkR82MLH_normal.jpg</td>\n",
       "      <td>https://pbs.twimg.com/profile_images/1246544306262990851/JkR82MLH_400x400.jpg</td>\n",
       "      <td>...</td>\n",
       "      <td>362</td>\n",
       "      <td>717</td>\n",
       "      <td>562</td>\n",
       "      <td>25445</td>\n",
       "      <td>3316</td>\n",
       "      <td>NaN</td>\n",
       "      <td>1</td>\n",
       "      <td>2020-07-28 11:18:24.0</td>\n",
       "      <td>2020-07-28 02:12:22.0</td>\n",
       "      <td>0</td>\n",
       "    </tr>\n",
       "    <tr>\n",
       "      <th>48036</th>\n",
       "      <td>196340158</td>\n",
       "      <td>JulioDeVido</td>\n",
       "      <td>Julio De Vido</td>\n",
       "      <td>Ministro de Planificación Federal de Néstor y Cristina Kirchner. Perseguido por el régimen macri...</td>\n",
       "      <td>NaN</td>\n",
       "      <td>2010-09-28 22:16:00.0</td>\n",
       "      <td>0</td>\n",
       "      <td>1</td>\n",
       "      <td>https://pbs.twimg.com/profile_images/517046223358808064/UaSdZ6qc_normal.jpeg</td>\n",
       "      <td>https://pbs.twimg.com/profile_images/517046223358808064/UaSdZ6qc_400x400.jpeg</td>\n",
       "      <td>...</td>\n",
       "      <td>94</td>\n",
       "      <td>304</td>\n",
       "      <td>402</td>\n",
       "      <td>2074</td>\n",
       "      <td>216</td>\n",
       "      <td>1.242497e+18</td>\n",
       "      <td>1</td>\n",
       "      <td>2020-07-28 14:38:23.0</td>\n",
       "      <td>2020-07-28 02:17:57.0</td>\n",
       "      <td>0</td>\n",
       "    </tr>\n",
       "    <tr>\n",
       "      <th>58936</th>\n",
       "      <td>250297107</td>\n",
       "      <td>diputadosucr</td>\n",
       "      <td>Bloque UCR - HCDN</td>\n",
       "      <td>Secretaría de Prensa del Bloque de Diputados Nacionales de la UCR prensa.bucr@hcdn.gob.ar</td>\n",
       "      <td>https://t.co/eNkJcmdusV</td>\n",
       "      <td>2011-02-10 20:29:34.0</td>\n",
       "      <td>1</td>\n",
       "      <td>1</td>\n",
       "      <td>https://pbs.twimg.com/profile_images/875381860578320385/deu0N0ik_normal.jpg</td>\n",
       "      <td>https://pbs.twimg.com/profile_images/875381860578320385/deu0N0ik_400x400.jpg</td>\n",
       "      <td>...</td>\n",
       "      <td>1436</td>\n",
       "      <td>114</td>\n",
       "      <td>14651</td>\n",
       "      <td>75405</td>\n",
       "      <td>12346</td>\n",
       "      <td>NaN</td>\n",
       "      <td>1</td>\n",
       "      <td>2020-07-28 02:46:05.0</td>\n",
       "      <td>2020-07-28 02:14:16.0</td>\n",
       "      <td>0</td>\n",
       "    </tr>\n",
       "    <tr>\n",
       "      <th>68007</th>\n",
       "      <td>2952640125</td>\n",
       "      <td>SilContini</td>\n",
       "      <td>Sil #SoyDel41% 🐱 🇦🇷 #MásJuntosQueNunca #MM2023</td>\n",
       "      <td>Prefiero que me llamen gorila a ser cómplice de los que nos robaron el país. Educación y cultura...</td>\n",
       "      <td>NaN</td>\n",
       "      <td>2014-12-31 07:18:16.0</td>\n",
       "      <td>0</td>\n",
       "      <td>0</td>\n",
       "      <td>https://pbs.twimg.com/profile_images/1262630511081672704/A7RP9plY_normal.jpg</td>\n",
       "      <td>https://pbs.twimg.com/profile_images/1262630511081672704/A7RP9plY_400x400.jpg</td>\n",
       "      <td>...</td>\n",
       "      <td>8282</td>\n",
       "      <td>5</td>\n",
       "      <td>22579</td>\n",
       "      <td>22160</td>\n",
       "      <td>8121</td>\n",
       "      <td>1.160759e+18</td>\n",
       "      <td>1</td>\n",
       "      <td>2020-07-28 12:59:59.0</td>\n",
       "      <td>2020-07-28 02:16:24.0</td>\n",
       "      <td>0</td>\n",
       "    </tr>\n",
       "    <tr>\n",
       "      <th>68030</th>\n",
       "      <td>2953955753</td>\n",
       "      <td>Kicillofok</td>\n",
       "      <td>Axel Kicillof</td>\n",
       "      <td>Gobernador de la Provincia de Buenos Aires.</td>\n",
       "      <td>https://t.co/YNNCasa69C</td>\n",
       "      <td>2014-12-31 23:38:55.0</td>\n",
       "      <td>1</td>\n",
       "      <td>1</td>\n",
       "      <td>https://pbs.twimg.com/profile_images/1207283568021581831/EFWhoTUw_normal.jpg</td>\n",
       "      <td>https://pbs.twimg.com/profile_images/1207283568021581831/EFWhoTUw_400x400.jpg</td>\n",
       "      <td>...</td>\n",
       "      <td>307</td>\n",
       "      <td>1017</td>\n",
       "      <td>4109</td>\n",
       "      <td>4290</td>\n",
       "      <td>1883</td>\n",
       "      <td>NaN</td>\n",
       "      <td>1</td>\n",
       "      <td>2020-07-28 02:15:35.0</td>\n",
       "      <td>2020-07-28 02:12:16.0</td>\n",
       "      <td>0</td>\n",
       "    </tr>\n",
       "    <tr>\n",
       "      <th>78836</th>\n",
       "      <td>36152999</td>\n",
       "      <td>bombo787</td>\n",
       "      <td>Andres R. Stegelmann</td>\n",
       "      <td>▪️Abogado 🎓\\n▪️Militante radical 🇲🇨 y muy GEEK hoy por hoy 💻</td>\n",
       "      <td>https://t.co/Yh9gsvza35</td>\n",
       "      <td>2009-04-28 19:15:57.0</td>\n",
       "      <td>1</td>\n",
       "      <td>0</td>\n",
       "      <td>https://pbs.twimg.com/profile_images/584866358434889728/ZtPGfLeT_normal.jpg</td>\n",
       "      <td>https://pbs.twimg.com/profile_images/584866358434889728/ZtPGfLeT_400x400.jpg</td>\n",
       "      <td>...</td>\n",
       "      <td>1849</td>\n",
       "      <td>52</td>\n",
       "      <td>2246</td>\n",
       "      <td>32537</td>\n",
       "      <td>2154</td>\n",
       "      <td>NaN</td>\n",
       "      <td>1</td>\n",
       "      <td>2020-07-28 16:57:54.0</td>\n",
       "      <td>2020-07-28 02:19:15.0</td>\n",
       "      <td>0</td>\n",
       "    </tr>\n",
       "    <tr>\n",
       "      <th>88921</th>\n",
       "      <td>4906419622</td>\n",
       "      <td>JPROConcordia1</td>\n",
       "      <td>Jóvenes PRO Concordia</td>\n",
       "      <td>Twitter oficial de la Juventud PRO CONCORDIA Entre Ríos.\\nPartido que lidera @PatoBullrich\\n#Una...</td>\n",
       "      <td>https://t.co/6oG5KjLEXB</td>\n",
       "      <td>2016-02-13 22:38:58.0</td>\n",
       "      <td>1</td>\n",
       "      <td>0</td>\n",
       "      <td>https://pbs.twimg.com/profile_images/1286431547554398213/jdxRQBFX_normal.jpg</td>\n",
       "      <td>https://pbs.twimg.com/profile_images/1286431547554398213/jdxRQBFX_400x400.jpg</td>\n",
       "      <td>...</td>\n",
       "      <td>849</td>\n",
       "      <td>1</td>\n",
       "      <td>1552</td>\n",
       "      <td>1142</td>\n",
       "      <td>258</td>\n",
       "      <td>9.174495e+17</td>\n",
       "      <td>1</td>\n",
       "      <td>2020-07-28 15:05:30.0</td>\n",
       "      <td>2020-07-28 02:16:53.0</td>\n",
       "      <td>0</td>\n",
       "    </tr>\n",
       "    <tr>\n",
       "      <th>102280</th>\n",
       "      <td>768068458848382976</td>\n",
       "      <td>PrismaMov</td>\n",
       "      <td>PRISMA - Movimiento Pensamiento y Acción</td>\n",
       "      <td>Somos radicales de la @UCRNacional, socialdemócratas y progresistas. Nuestro lema es #Pensamient...</td>\n",
       "      <td>NaN</td>\n",
       "      <td>2016-08-23 12:52:45.0</td>\n",
       "      <td>1</td>\n",
       "      <td>0</td>\n",
       "      <td>https://pbs.twimg.com/profile_images/1028463574555996160/MCubZzgx_normal.jpg</td>\n",
       "      <td>https://pbs.twimg.com/profile_images/1028463574555996160/MCubZzgx_400x400.jpg</td>\n",
       "      <td>...</td>\n",
       "      <td>3413</td>\n",
       "      <td>2</td>\n",
       "      <td>1796</td>\n",
       "      <td>1215</td>\n",
       "      <td>235</td>\n",
       "      <td>NaN</td>\n",
       "      <td>1</td>\n",
       "      <td>2020-07-28 14:40:26.0</td>\n",
       "      <td>2020-07-28 02:16:41.0</td>\n",
       "      <td>0</td>\n",
       "    </tr>\n",
       "    <tr>\n",
       "      <th>119090</th>\n",
       "      <td>987454440549568512</td>\n",
       "      <td>omar_panart</td>\n",
       "      <td>Alejandro antiK</td>\n",
       "      <td>Fanatico de la playa ,el buen vino y el sol.\\npoliticamente incorrecto anti k anti pj , si sos f...</td>\n",
       "      <td>NaN</td>\n",
       "      <td>2018-04-20 22:14:19.0</td>\n",
       "      <td>0</td>\n",
       "      <td>0</td>\n",
       "      <td>https://pbs.twimg.com/profile_images/1261019784709357569/3b70YJgk_normal.jpg</td>\n",
       "      <td>https://pbs.twimg.com/profile_images/1261019784709357569/3b70YJgk_400x400.jpg</td>\n",
       "      <td>...</td>\n",
       "      <td>4562</td>\n",
       "      <td>3</td>\n",
       "      <td>26458</td>\n",
       "      <td>23512</td>\n",
       "      <td>9539</td>\n",
       "      <td>1.216815e+18</td>\n",
       "      <td>1</td>\n",
       "      <td>2020-07-28 17:36:51.0</td>\n",
       "      <td>2020-07-28 02:20:02.0</td>\n",
       "      <td>0</td>\n",
       "    </tr>\n",
       "  </tbody>\n",
       "</table>\n",
       "<p>16 rows × 21 columns</p>\n",
       "</div>"
      ],
      "text/plain": [
       "                    user_id        user_name  \\\n",
       "4750    1055919539739938816      RubenhMarin   \n",
       "5547    1066770503115988992       MAbolicion   \n",
       "8689    1103628302491754496       Norma20191   \n",
       "9696    1114172164612268032  MujeresCFKChaco   \n",
       "20697   1234856938971766785          FMetaza   \n",
       "24697             126418051      PRO_Mujeres   \n",
       "34654             149991703         alferdez   \n",
       "44417              18143118     proargentina   \n",
       "48036             196340158      JulioDeVido   \n",
       "58936             250297107     diputadosucr   \n",
       "68007            2952640125       SilContini   \n",
       "68030            2953955753       Kicillofok   \n",
       "78836              36152999         bombo787   \n",
       "88921            4906419622   JPROConcordia1   \n",
       "102280   768068458848382976        PrismaMov   \n",
       "119090   987454440549568512      omar_panart   \n",
       "\n",
       "                                                  name  \\\n",
       "4750                                       Rubén Marin   \n",
       "5547                          Mujeres por la abolición   \n",
       "8689                                         Norma2019   \n",
       "9696           Mujeres Peronistas con Cristina - Chaco   \n",
       "20697                                    Franco Metaza   \n",
       "24697                                      PRO Mujeres   \n",
       "34654                                Alberto Fernández   \n",
       "44417                                              PRO   \n",
       "48036                                    Julio De Vido   \n",
       "58936                                Bloque UCR - HCDN   \n",
       "68007   Sil #SoyDel41% 🐱 🇦🇷 #MásJuntosQueNunca #MM2023   \n",
       "68030                                    Axel Kicillof   \n",
       "78836                             Andres R. Stegelmann   \n",
       "88921                            Jóvenes PRO Concordia   \n",
       "102280        PRISMA - Movimiento Pensamiento y Acción   \n",
       "119090                                 Alejandro antiK   \n",
       "\n",
       "                                                                                                description  \\\n",
       "4750    ✌Pte. del PJ Pampeano ✌Coordinador de la mesa de acción política del PJ Nacional. ✌4 veces gober...   \n",
       "5547    Somos feministas radicales. Abolicionistas del género, prostitución, pornografía y vientres de a...   \n",
       "8689     Mamá, Ingeniera Industrial, docente y peronista✌ Candidata a Intendente de Esquel #tiempodemujeres   \n",
       "9696    Espacio político trasversal donde Mujeres Peronistas reconocen el liderazgo de CFK en el proyect...   \n",
       "20697   Peronista kirchnerista✌🏻. Fundamentalista de la democracia 🗳. Politólogo 🌎. Director de Relacion...   \n",
       "24697   PRO Mujeres: más mujeres, mejor política. Buscamos incrementar la participación política de las ...   \n",
       "34654   Abogado. Profesor de Derecho Penal (UBA). Hincha de Argentinos Juniors. Presidente de la Nación ...   \n",
       "44417           Canal oficial de Twitter de PRO (Propuesta Republicana). Partido que lidera @mauriciomacri.   \n",
       "48036   Ministro de Planificación Federal de Néstor y Cristina Kirchner. Perseguido por el régimen macri...   \n",
       "58936             Secretaría de Prensa del Bloque de Diputados Nacionales de la UCR prensa.bucr@hcdn.gob.ar   \n",
       "68007   Prefiero que me llamen gorila a ser cómplice de los que nos robaron el país. Educación y cultura...   \n",
       "68030                                                           Gobernador de la Provincia de Buenos Aires.   \n",
       "78836                                          ▪️Abogado 🎓\\n▪️Militante radical 🇲🇨 y muy GEEK hoy por hoy 💻   \n",
       "88921   Twitter oficial de la Juventud PRO CONCORDIA Entre Ríos.\\nPartido que lidera @PatoBullrich\\n#Una...   \n",
       "102280  Somos radicales de la @UCRNacional, socialdemócratas y progresistas. Nuestro lema es #Pensamient...   \n",
       "119090  Fanatico de la playa ,el buen vino y el sol.\\npoliticamente incorrecto anti k anti pj , si sos f...   \n",
       "\n",
       "                            url             created_at  geo_enabled  verified  \\\n",
       "4750                        NaN  2018-10-26 20:30:11.0            1         0   \n",
       "5547    https://t.co/ua6mr4ysRM  2018-11-25 19:08:02.0            0         0   \n",
       "8689                        NaN  2019-03-07 12:07:46.0            0         0   \n",
       "9696                        NaN  2019-04-05 14:25:19.0            0         0   \n",
       "20697   https://t.co/kB6HoE4sGg  2020-03-03 15:03:43.0            0         0   \n",
       "24697   https://t.co/qNRlpKjmzF  2010-03-25 20:26:09.0            1         0   \n",
       "34654   https://t.co/1FuikS9nVQ  2010-05-30 19:38:40.0            0         1   \n",
       "44417   https://t.co/zyYm9UklqI  2008-12-15 18:54:05.0            1         1   \n",
       "48036                       NaN  2010-09-28 22:16:00.0            0         1   \n",
       "58936   https://t.co/eNkJcmdusV  2011-02-10 20:29:34.0            1         1   \n",
       "68007                       NaN  2014-12-31 07:18:16.0            0         0   \n",
       "68030   https://t.co/YNNCasa69C  2014-12-31 23:38:55.0            1         1   \n",
       "78836   https://t.co/Yh9gsvza35  2009-04-28 19:15:57.0            1         0   \n",
       "88921   https://t.co/6oG5KjLEXB  2016-02-13 22:38:58.0            1         0   \n",
       "102280                      NaN  2016-08-23 12:52:45.0            1         0   \n",
       "119090                      NaN  2018-04-20 22:14:19.0            0         0   \n",
       "\n",
       "                                                                   profile_image_url  \\\n",
       "4750    https://pbs.twimg.com/profile_images/1192395305154699264/aPjaHRtD_normal.jpg   \n",
       "5547    https://pbs.twimg.com/profile_images/1268640645645774850/6SzMcljs_normal.jpg   \n",
       "8689    https://pbs.twimg.com/profile_images/1126126960260861958/rHer4Yli_normal.jpg   \n",
       "9696    https://pbs.twimg.com/profile_images/1114172494196375553/YDSQft7M_normal.jpg   \n",
       "20697   https://pbs.twimg.com/profile_images/1266583748348391425/SzDaxPRk_normal.jpg   \n",
       "24697    https://pbs.twimg.com/profile_images/984510589602074624/7bBIrJNG_normal.jpg   \n",
       "34654   https://pbs.twimg.com/profile_images/1192149786503327744/l232oveZ_normal.jpg   \n",
       "44417   https://pbs.twimg.com/profile_images/1246544306262990851/JkR82MLH_normal.jpg   \n",
       "48036   https://pbs.twimg.com/profile_images/517046223358808064/UaSdZ6qc_normal.jpeg   \n",
       "58936    https://pbs.twimg.com/profile_images/875381860578320385/deu0N0ik_normal.jpg   \n",
       "68007   https://pbs.twimg.com/profile_images/1262630511081672704/A7RP9plY_normal.jpg   \n",
       "68030   https://pbs.twimg.com/profile_images/1207283568021581831/EFWhoTUw_normal.jpg   \n",
       "78836    https://pbs.twimg.com/profile_images/584866358434889728/ZtPGfLeT_normal.jpg   \n",
       "88921   https://pbs.twimg.com/profile_images/1286431547554398213/jdxRQBFX_normal.jpg   \n",
       "102280  https://pbs.twimg.com/profile_images/1028463574555996160/MCubZzgx_normal.jpg   \n",
       "119090  https://pbs.twimg.com/profile_images/1261019784709357569/3b70YJgk_normal.jpg   \n",
       "\n",
       "                                                              profile_image_url_large  \\\n",
       "4750    https://pbs.twimg.com/profile_images/1192395305154699264/aPjaHRtD_400x400.jpg   \n",
       "5547    https://pbs.twimg.com/profile_images/1268640645645774850/6SzMcljs_400x400.jpg   \n",
       "8689    https://pbs.twimg.com/profile_images/1126126960260861958/rHer4Yli_400x400.jpg   \n",
       "9696    https://pbs.twimg.com/profile_images/1114172494196375553/YDSQft7M_400x400.jpg   \n",
       "20697   https://pbs.twimg.com/profile_images/1266583748348391425/SzDaxPRk_400x400.jpg   \n",
       "24697    https://pbs.twimg.com/profile_images/984510589602074624/7bBIrJNG_400x400.jpg   \n",
       "34654   https://pbs.twimg.com/profile_images/1192149786503327744/l232oveZ_400x400.jpg   \n",
       "44417   https://pbs.twimg.com/profile_images/1246544306262990851/JkR82MLH_400x400.jpg   \n",
       "48036   https://pbs.twimg.com/profile_images/517046223358808064/UaSdZ6qc_400x400.jpeg   \n",
       "58936    https://pbs.twimg.com/profile_images/875381860578320385/deu0N0ik_400x400.jpg   \n",
       "68007   https://pbs.twimg.com/profile_images/1262630511081672704/A7RP9plY_400x400.jpg   \n",
       "68030   https://pbs.twimg.com/profile_images/1207283568021581831/EFWhoTUw_400x400.jpg   \n",
       "78836    https://pbs.twimg.com/profile_images/584866358434889728/ZtPGfLeT_400x400.jpg   \n",
       "88921   https://pbs.twimg.com/profile_images/1286431547554398213/jdxRQBFX_400x400.jpg   \n",
       "102280  https://pbs.twimg.com/profile_images/1028463574555996160/MCubZzgx_400x400.jpg   \n",
       "119090  https://pbs.twimg.com/profile_images/1261019784709357569/3b70YJgk_400x400.jpg   \n",
       "\n",
       "        ...    friends_count  listed_count  favourites_count  statuses_count  \\\n",
       "4750    ...              267             4               306              93   \n",
       "5547    ...              845            39              6163           15089   \n",
       "8689    ...              109             0                22             107   \n",
       "9696    ...              246             0                43             123   \n",
       "20697   ...              895             0              1832             291   \n",
       "24697   ...              861           100              3630            2891   \n",
       "34654   ...             7286          1414              6760           26608   \n",
       "44417   ...              362           717               562           25445   \n",
       "48036   ...               94           304               402            2074   \n",
       "58936   ...             1436           114             14651           75405   \n",
       "68007   ...             8282             5             22579           22160   \n",
       "68030   ...              307          1017              4109            4290   \n",
       "78836   ...             1849            52              2246           32537   \n",
       "88921   ...              849             1              1552            1142   \n",
       "102280  ...             3413             2              1796            1215   \n",
       "119090  ...             4562             3             26458           23512   \n",
       "\n",
       "        media_count  pinned_tweet  tweets_scraped      tweets_scraped_at  \\\n",
       "4750             31           NaN               1  2020-07-28 03:01:15.0   \n",
       "5547           2205  1.279824e+18               1  2020-07-28 04:12:27.0   \n",
       "8689             27           NaN               1  2020-07-28 14:33:22.0   \n",
       "9696             31           NaN               1  2020-07-28 16:12:44.0   \n",
       "20697            44  1.240696e+18               1  2020-07-28 04:29:12.0   \n",
       "24697           685           NaN               1  2020-07-28 18:28:18.0   \n",
       "34654          1703           NaN               1  2020-07-28 02:15:29.0   \n",
       "44417          3316           NaN               1  2020-07-28 11:18:24.0   \n",
       "48036           216  1.242497e+18               1  2020-07-28 14:38:23.0   \n",
       "58936         12346           NaN               1  2020-07-28 02:46:05.0   \n",
       "68007          8121  1.160759e+18               1  2020-07-28 12:59:59.0   \n",
       "68030          1883           NaN               1  2020-07-28 02:15:35.0   \n",
       "78836          2154           NaN               1  2020-07-28 16:57:54.0   \n",
       "88921           258  9.174495e+17               1  2020-07-28 15:05:30.0   \n",
       "102280          235           NaN               1  2020-07-28 14:40:26.0   \n",
       "119090         9539  1.216815e+18               1  2020-07-28 17:36:51.0   \n",
       "\n",
       "                  scrapped_at ignore  \n",
       "4750    2020-07-28 02:17:01.0      0  \n",
       "5547    2020-07-28 03:51:34.0      0  \n",
       "8689    2020-07-28 02:17:57.0      0  \n",
       "9696    2020-07-28 02:19:29.0      0  \n",
       "20697   2020-07-28 02:18:32.0      0  \n",
       "24697   2020-07-28 02:20:47.0      0  \n",
       "34654   2020-07-28 02:12:16.0      0  \n",
       "44417   2020-07-28 02:12:22.0      0  \n",
       "48036   2020-07-28 02:17:57.0      0  \n",
       "58936   2020-07-28 02:14:16.0      0  \n",
       "68007   2020-07-28 02:16:24.0      0  \n",
       "68030   2020-07-28 02:12:16.0      0  \n",
       "78836   2020-07-28 02:19:15.0      0  \n",
       "88921   2020-07-28 02:16:53.0      0  \n",
       "102280  2020-07-28 02:16:41.0      0  \n",
       "119090  2020-07-28 02:20:02.0      0  \n",
       "\n",
       "[16 rows x 21 columns]"
      ]
     },
     "execution_count": 307,
     "metadata": {},
     "output_type": "execute_result"
    }
   ],
   "source": [
    "to_compare_df = df_u[df_u.user_name.isin(['alferdez','Kicillofok','SilContini','Marafer23701816','KikeMasllorens','omar_panart','proargentina','JulioDeVido','FMetaza','Norma20191','MAbolicion','PGimenezDC''monfortmarcelo','bombo787','PrismaMov','RubenhMarin','MujeresCFKChaco','PRO_Mujeres','diputadosucr', 'JPROConcordia1'])]\n",
    "# to_compare_df = df_u[df_u.user_name.isin(['alferdez','Kicillofok','Marafer23701816','KikeMasllorens','proargentina','JulioDeVido','PGimenezDC''monfortmarcelo','bombo787','PrismaMov'])]\n",
    "\n",
    "#filtro los usuarios de aca que no tengan mas de 3 tweets\n",
    "filtrados = to_compare_df[(to_compare_df.user_id.isin(users_tweets[users_tweets>3].index.values))==False].user_name.values\n",
    "to_compare_df = to_compare_df[to_compare_df.user_id.isin(users_tweets[users_tweets>3].index.values)]\n",
    "print(users_tweets[to_compare_df.user_id])\n",
    "print('pocos tweets:', filtrados)\n",
    "to_compare_df"
   ]
  },
  {
   "cell_type": "code",
   "execution_count": 313,
   "metadata": {},
   "outputs": [
    {
     "name": "stdout",
     "output_type": "stream",
     "text": [
      "(16, 10, 100)\n"
     ]
    }
   ],
   "source": [
    "to_compare_ids = to_compare_df.user_id.values\n",
    "users = []\n",
    "model = TW.TweetToVect()\n",
    "model.load_model(fast_text_model=word_model)\n",
    "for uid in to_compare_ids:\n",
    "    user_df = df_tw[df_tw.user_id==uid]\n",
    "    if(len(user_df)<10):\n",
    "        texts = user_df.sample(10, replace=True).full_text_cleaned.values\n",
    "    else:\n",
    "        texts = user_df.full_text_cleaned.values[0:10]\n",
    "    vectors = model.get_vectors(texts)\n",
    "    users.append(vectors)\n",
    "print(np.array(users).shape)\n",
    "mu, log_var, residual = encoder(np.array(users))\n",
    "encoded_users = sampling(mu, log_var)"
   ]
  },
  {
   "cell_type": "code",
   "execution_count": 314,
   "metadata": {},
   "outputs": [
    {
     "data": {
      "text/plain": [
       "<tf.Tensor: shape=(100,), dtype=float32, numpy=\n",
       "array([ 6.33128345e-01, -2.04094261e-01, -3.98684204e-01,  5.29603101e-02,\n",
       "        2.55172141e-04, -2.30583832e-01,  4.23170805e-01,  3.63176733e-01,\n",
       "        6.15513682e-01,  8.57332170e-01,  3.26960653e-01, -3.91459882e-01,\n",
       "       -2.90126532e-01,  3.08556557e-01,  1.50394112e-01,  3.76503319e-02,\n",
       "       -3.44012886e-01,  6.19749784e-01, -5.97349823e-01,  1.14319727e-01,\n",
       "       -6.48080647e-01, -6.70617446e-02, -3.83609802e-01,  3.11987221e-01,\n",
       "       -2.29898825e-01,  5.64880490e-01,  3.92296851e-01, -4.52058874e-02,\n",
       "        3.04304153e-01, -1.15979999e-01,  4.45723347e-02,  4.00973052e-01,\n",
       "       -4.06385750e-01, -2.40583748e-01, -1.58435643e-01, -4.83796448e-02,\n",
       "        6.91999316e-01,  8.88134539e-03, -5.07317960e-01,  5.35537675e-02,\n",
       "        3.38888526e-01, -2.59946585e-01, -5.19727096e-02,  4.55627620e-01,\n",
       "        2.28318542e-01, -2.52388492e-02, -5.15986860e-01, -1.37858987e-01,\n",
       "        3.20176721e-01,  1.30970284e-01, -1.95762128e-01,  1.54746041e-01,\n",
       "        3.94868046e-01, -1.00659466e+00, -5.61770558e-01,  1.23649314e-01,\n",
       "        9.30406600e-02, -2.31911719e-01,  8.23947668e-01, -7.99795091e-02,\n",
       "        8.68469477e-02,  1.27477944e-01, -5.03568910e-02, -2.88241684e-01,\n",
       "       -2.57207572e-01, -4.87308383e-01,  3.00653070e-01,  4.38538909e-01,\n",
       "       -1.92837447e-01,  7.06321180e-01, -3.20131302e-01, -2.16406077e-01,\n",
       "        4.15631682e-02,  1.97453201e-01, -2.96087116e-01, -3.50267321e-01,\n",
       "       -5.39616227e-01, -2.15516582e-01,  3.31155181e-01, -6.06868804e-01,\n",
       "        5.06049514e-01, -1.01137161e-01, -3.15222502e-01, -1.78448677e-01,\n",
       "       -5.73914126e-03, -5.15229926e-02,  4.40510660e-02, -3.88262197e-02,\n",
       "       -4.04059470e-01, -1.34663984e-01, -7.75570750e-01,  5.82914591e-01,\n",
       "       -5.43865442e-01,  3.51136386e-01,  2.20918015e-01, -4.77385700e-01,\n",
       "        1.10207312e-01,  3.08371007e-01,  4.14814472e-01,  3.71486485e-01],\n",
       "      dtype=float32)>"
      ]
     },
     "execution_count": 314,
     "metadata": {},
     "output_type": "execute_result"
    }
   ],
   "source": [
    "encoded_users[0]"
   ]
  },
  {
   "cell_type": "code",
   "execution_count": 315,
   "metadata": {},
   "outputs": [
    {
     "name": "stdout",
     "output_type": "stream",
     "text": [
      "Rubén Marin ✌Pte. del PJ Pampeano ✌Coordinador de la mesa de acción política del PJ Nacional. ✌4 veces gobernador de mi provincia. ✌Siempre del lado de la unidad nacional.\n",
      "SIMILAR A\n",
      "0.53 Julio De Vido Ministro de Planificación Federal de Néstor y Cristina Kirchner. Perseguido por el régimen macrista. Militante peronista. Libertad a los presos políticos.\n",
      "0.47 Alberto Fernández Abogado. Profesor de Derecho Penal (UBA). Hincha de Argentinos Juniors. Presidente de la Nación Argentina.\n",
      "0.41 Mujeres Peronistas con Cristina - Chaco Espacio político trasversal donde Mujeres Peronistas reconocen el liderazgo de CFK en el proyecto nacional, popular, democrático y feminista.\n",
      "---\n",
      "Mujeres por la abolición Somos feministas radicales. Abolicionistas del género, prostitución, pornografía y vientres de alquiler. Promovemos acciones para acabar con el patriarcado.\n",
      "SIMILAR A\n",
      "0.59 Mujeres Peronistas con Cristina - Chaco Espacio político trasversal donde Mujeres Peronistas reconocen el liderazgo de CFK en el proyecto nacional, popular, democrático y feminista.\n",
      "0.39 PRISMA - Movimiento Pensamiento y Acción Somos radicales de la @UCRNacional, socialdemócratas y progresistas. Nuestro lema es #PensamientoyAcción. Queremos una política para la transformación social.\n",
      "0.39 PRO Mujeres PRO Mujeres: más mujeres, mejor política. Buscamos incrementar la participación política de las mujeres con perspectiva de género ¡Seguinos! 💪🙋🏻‍♀️\n",
      "---\n",
      "Norma2019 Mamá, Ingeniera Industrial, docente y peronista✌ Candidata a Intendente de Esquel #tiempodemujeres\n",
      "SIMILAR A\n",
      "0.37 Axel Kicillof Gobernador de la Provincia de Buenos Aires.\n",
      "0.37 Rubén Marin ✌Pte. del PJ Pampeano ✌Coordinador de la mesa de acción política del PJ Nacional. ✌4 veces gobernador de mi provincia. ✌Siempre del lado de la unidad nacional.\n",
      "0.36 Andres R. Stegelmann ▪️Abogado 🎓 ▪️Militante radical 🇲🇨 y muy GEEK hoy por hoy 💻\n",
      "---\n",
      "Mujeres Peronistas con Cristina - Chaco Espacio político trasversal donde Mujeres Peronistas reconocen el liderazgo de CFK en el proyecto nacional, popular, democrático y feminista.\n",
      "SIMILAR A\n",
      "0.59 Mujeres por la abolición Somos feministas radicales. Abolicionistas del género, prostitución, pornografía y vientres de alquiler. Promovemos acciones para acabar con el patriarcado.\n",
      "0.48 PRO Mujeres PRO Mujeres: más mujeres, mejor política. Buscamos incrementar la participación política de las mujeres con perspectiva de género ¡Seguinos! 💪🙋🏻‍♀️\n",
      "0.43 Alberto Fernández Abogado. Profesor de Derecho Penal (UBA). Hincha de Argentinos Juniors. Presidente de la Nación Argentina.\n",
      "---\n",
      "Franco Metaza Peronista kirchnerista✌🏻. Fundamentalista de la democracia 🗳. Politólogo 🌎. Director de Relaciones Internacionales del Senado de la Nación 🇦🇷\n",
      "SIMILAR A\n",
      "0.46 Andres R. Stegelmann ▪️Abogado 🎓 ▪️Militante radical 🇲🇨 y muy GEEK hoy por hoy 💻\n",
      "0.45 Alberto Fernández Abogado. Profesor de Derecho Penal (UBA). Hincha de Argentinos Juniors. Presidente de la Nación Argentina.\n",
      "0.42 Bloque UCR - HCDN Secretaría de Prensa del Bloque de Diputados Nacionales de la UCR prensa.bucr@hcdn.gob.ar\n",
      "---\n",
      "PRO Mujeres PRO Mujeres: más mujeres, mejor política. Buscamos incrementar la participación política de las mujeres con perspectiva de género ¡Seguinos! 💪🙋🏻‍♀️\n",
      "SIMILAR A\n",
      "0.48 Mujeres Peronistas con Cristina - Chaco Espacio político trasversal donde Mujeres Peronistas reconocen el liderazgo de CFK en el proyecto nacional, popular, democrático y feminista.\n",
      "0.43 Alberto Fernández Abogado. Profesor de Derecho Penal (UBA). Hincha de Argentinos Juniors. Presidente de la Nación Argentina.\n",
      "0.4 Jóvenes PRO Concordia Twitter oficial de la Juventud PRO CONCORDIA Entre Ríos. Partido que lidera @PatoBullrich #UnaSanaRebeldia\n",
      "---\n",
      "Alberto Fernández Abogado. Profesor de Derecho Penal (UBA). Hincha de Argentinos Juniors. Presidente de la Nación Argentina.\n",
      "SIMILAR A\n",
      "0.52 Julio De Vido Ministro de Planificación Federal de Néstor y Cristina Kirchner. Perseguido por el régimen macrista. Militante peronista. Libertad a los presos políticos.\n",
      "0.51 Alejandro antiK Fanatico de la playa ,el buen vino y el sol. politicamente incorrecto anti k anti pj , si sos fanático ni te molestes xq no nos entenderemos .  NVM , NSB.\n",
      "0.47 Rubén Marin ✌Pte. del PJ Pampeano ✌Coordinador de la mesa de acción política del PJ Nacional. ✌4 veces gobernador de mi provincia. ✌Siempre del lado de la unidad nacional.\n",
      "---\n",
      "PRO Canal oficial de Twitter de PRO (Propuesta Republicana). Partido que lidera @mauriciomacri.\n",
      "SIMILAR A\n",
      "0.41 Alberto Fernández Abogado. Profesor de Derecho Penal (UBA). Hincha de Argentinos Juniors. Presidente de la Nación Argentina.\n",
      "0.39 Jóvenes PRO Concordia Twitter oficial de la Juventud PRO CONCORDIA Entre Ríos. Partido que lidera @PatoBullrich #UnaSanaRebeldia\n",
      "0.38 PRO Mujeres PRO Mujeres: más mujeres, mejor política. Buscamos incrementar la participación política de las mujeres con perspectiva de género ¡Seguinos! 💪🙋🏻‍♀️\n",
      "---\n",
      "Julio De Vido Ministro de Planificación Federal de Néstor y Cristina Kirchner. Perseguido por el régimen macrista. Militante peronista. Libertad a los presos políticos.\n",
      "SIMILAR A\n",
      "0.53 Rubén Marin ✌Pte. del PJ Pampeano ✌Coordinador de la mesa de acción política del PJ Nacional. ✌4 veces gobernador de mi provincia. ✌Siempre del lado de la unidad nacional.\n",
      "0.52 Alberto Fernández Abogado. Profesor de Derecho Penal (UBA). Hincha de Argentinos Juniors. Presidente de la Nación Argentina.\n",
      "0.36 Alejandro antiK Fanatico de la playa ,el buen vino y el sol. politicamente incorrecto anti k anti pj , si sos fanático ni te molestes xq no nos entenderemos .  NVM , NSB.\n",
      "---\n",
      "Bloque UCR - HCDN Secretaría de Prensa del Bloque de Diputados Nacionales de la UCR prensa.bucr@hcdn.gob.ar\n",
      "SIMILAR A\n",
      "0.42 Franco Metaza Peronista kirchnerista✌🏻. Fundamentalista de la democracia 🗳. Politólogo 🌎. Director de Relaciones Internacionales del Senado de la Nación 🇦🇷\n",
      "0.35 PRO Mujeres PRO Mujeres: más mujeres, mejor política. Buscamos incrementar la participación política de las mujeres con perspectiva de género ¡Seguinos! 💪🙋🏻‍♀️\n",
      "0.33 Axel Kicillof Gobernador de la Provincia de Buenos Aires.\n",
      "---\n",
      "Sil #SoyDel41% 🐱 🇦🇷 #MásJuntosQueNunca #MM2023 Prefiero que me llamen gorila a ser cómplice de los que nos robaron el país. Educación y cultura del trabajo son nuestra única opción! Anti k obvio, los bloqueo\n",
      "SIMILAR A\n",
      "0.38 Andres R. Stegelmann ▪️Abogado 🎓 ▪️Militante radical 🇲🇨 y muy GEEK hoy por hoy 💻\n",
      "0.36 PRO Mujeres PRO Mujeres: más mujeres, mejor política. Buscamos incrementar la participación política de las mujeres con perspectiva de género ¡Seguinos! 💪🙋🏻‍♀️\n",
      "0.32 PRISMA - Movimiento Pensamiento y Acción Somos radicales de la @UCRNacional, socialdemócratas y progresistas. Nuestro lema es #PensamientoyAcción. Queremos una política para la transformación social.\n",
      "---\n",
      "Axel Kicillof Gobernador de la Provincia de Buenos Aires.\n",
      "SIMILAR A\n",
      "0.46 Alejandro antiK Fanatico de la playa ,el buen vino y el sol. politicamente incorrecto anti k anti pj , si sos fanático ni te molestes xq no nos entenderemos .  NVM , NSB.\n",
      "0.46 Alberto Fernández Abogado. Profesor de Derecho Penal (UBA). Hincha de Argentinos Juniors. Presidente de la Nación Argentina.\n",
      "0.37 Norma2019 Mamá, Ingeniera Industrial, docente y peronista✌ Candidata a Intendente de Esquel #tiempodemujeres\n",
      "---\n",
      "Andres R. Stegelmann ▪️Abogado 🎓 ▪️Militante radical 🇲🇨 y muy GEEK hoy por hoy 💻\n",
      "SIMILAR A\n",
      "0.46 Franco Metaza Peronista kirchnerista✌🏻. Fundamentalista de la democracia 🗳. Politólogo 🌎. Director de Relaciones Internacionales del Senado de la Nación 🇦🇷\n",
      "0.4 Alejandro antiK Fanatico de la playa ,el buen vino y el sol. politicamente incorrecto anti k anti pj , si sos fanático ni te molestes xq no nos entenderemos .  NVM , NSB.\n",
      "0.39 Alberto Fernández Abogado. Profesor de Derecho Penal (UBA). Hincha de Argentinos Juniors. Presidente de la Nación Argentina.\n",
      "---\n",
      "Jóvenes PRO Concordia Twitter oficial de la Juventud PRO CONCORDIA Entre Ríos. Partido que lidera @PatoBullrich #UnaSanaRebeldia\n",
      "SIMILAR A\n",
      "0.4 PRO Mujeres PRO Mujeres: más mujeres, mejor política. Buscamos incrementar la participación política de las mujeres con perspectiva de género ¡Seguinos! 💪🙋🏻‍♀️\n",
      "0.39 Alberto Fernández Abogado. Profesor de Derecho Penal (UBA). Hincha de Argentinos Juniors. Presidente de la Nación Argentina.\n",
      "0.39 PRO Canal oficial de Twitter de PRO (Propuesta Republicana). Partido que lidera @mauriciomacri.\n",
      "---\n",
      "PRISMA - Movimiento Pensamiento y Acción Somos radicales de la @UCRNacional, socialdemócratas y progresistas. Nuestro lema es #PensamientoyAcción. Queremos una política para la transformación social.\n",
      "SIMILAR A\n",
      "0.39 Mujeres por la abolición Somos feministas radicales. Abolicionistas del género, prostitución, pornografía y vientres de alquiler. Promovemos acciones para acabar con el patriarcado.\n",
      "0.38 Andres R. Stegelmann ▪️Abogado 🎓 ▪️Militante radical 🇲🇨 y muy GEEK hoy por hoy 💻\n",
      "0.36 Jóvenes PRO Concordia Twitter oficial de la Juventud PRO CONCORDIA Entre Ríos. Partido que lidera @PatoBullrich #UnaSanaRebeldia\n",
      "---\n",
      "Alejandro antiK Fanatico de la playa ,el buen vino y el sol. politicamente incorrecto anti k anti pj , si sos fanático ni te molestes xq no nos entenderemos .  NVM , NSB.\n",
      "SIMILAR A\n",
      "0.51 Alberto Fernández Abogado. Profesor de Derecho Penal (UBA). Hincha de Argentinos Juniors. Presidente de la Nación Argentina.\n",
      "0.46 Axel Kicillof Gobernador de la Provincia de Buenos Aires.\n",
      "0.4 Andres R. Stegelmann ▪️Abogado 🎓 ▪️Militante radical 🇲🇨 y muy GEEK hoy por hoy 💻\n",
      "---\n"
     ]
    }
   ],
   "source": [
    "for i in range(len(encoded_users)):\n",
    "    similarities = model.pairwise_similarity_vectors([encoded_users[i]], encoded_users)\n",
    "    similarity_index = np.argsort(similarities[0])[::-1]\n",
    "    similarity_sorted = np.sort(similarities[0])[::-1]\n",
    "#     display(to_compare_df.iloc[similarity_index])\n",
    "    print(to_compare_df.name.values[i], to_compare_df.description.values[i].replace('\\n',' '))\n",
    "    print('SIMILAR A')\n",
    "    similar_df = to_compare_df.iloc[similarity_index]\n",
    "    print(round(similarity_sorted[1],2), similar_df.name.values[1], similar_df.description.values[1].replace('\\n',' '))\n",
    "    print(round(similarity_sorted[2],2), similar_df.name.values[2], similar_df.description.values[2].replace('\\n',' '))\n",
    "    print(round(similarity_sorted[3],2), similar_df.name.values[3], similar_df.description.values[3].replace('\\n',' '))\n",
    "    print('---')"
   ]
  },
  {
   "cell_type": "code",
   "execution_count": 311,
   "metadata": {},
   "outputs": [
    {
     "data": {
      "text/html": [
       "<div>\n",
       "<style scoped>\n",
       "    .dataframe tbody tr th:only-of-type {\n",
       "        vertical-align: middle;\n",
       "    }\n",
       "\n",
       "    .dataframe tbody tr th {\n",
       "        vertical-align: top;\n",
       "    }\n",
       "\n",
       "    .dataframe thead th {\n",
       "        text-align: right;\n",
       "    }\n",
       "</style>\n",
       "<table border=\"1\" class=\"dataframe\">\n",
       "  <thead>\n",
       "    <tr style=\"text-align: right;\">\n",
       "      <th></th>\n",
       "      <th>user_name</th>\n",
       "      <th>name</th>\n",
       "      <th>description</th>\n",
       "      <th>friends_count</th>\n",
       "    </tr>\n",
       "  </thead>\n",
       "  <tbody>\n",
       "    <tr>\n",
       "      <th>57919</th>\n",
       "      <td>eljugenio</td>\n",
       "      <td>EL INTERIOR PROFUNDO 😺</td>\n",
       "      <td>JUJEÑO VIVIENDO EN EL SUDESTE CORDOBÉS /HOMBRE DEL DERECHO/SIGO LA COHERENCIA/VALORES MORALES/PR...</td>\n",
       "      <td>8708</td>\n",
       "    </tr>\n",
       "    <tr>\n",
       "      <th>119870</th>\n",
       "      <td>ChauOperetaK</td>\n",
       "      <td>EL ANTI OPERETA</td>\n",
       "      <td>Blanco👱‍♂️, Anti K 🇦🇷, anti Maduro 🇻🇪, anti Evo 🇬🇭, anti planeros✌🏿, anti feministas violentas 💅...</td>\n",
       "      <td>7592</td>\n",
       "    </tr>\n",
       "    <tr>\n",
       "      <th>32771</th>\n",
       "      <td>Horaciogenta</td>\n",
       "      <td>Horacio Genta</td>\n",
       "      <td>Divorciado y solo !!,pisciano,optimista con este gobierno del PRO,me seguis ? te sigo !! nunca v...</td>\n",
       "      <td>4709</td>\n",
       "    </tr>\n",
       "    <tr>\n",
       "      <th>39348</th>\n",
       "      <td>laurmachado</td>\n",
       "      <td>Laura Rodríguez Machado</td>\n",
       "      <td>Abogada. Senadora Nacional (2015-2021). Vicepresidente segunda del PRO Nacional. Vicepresidente ...</td>\n",
       "      <td>4216</td>\n",
       "    </tr>\n",
       "    <tr>\n",
       "      <th>84933</th>\n",
       "      <td>FlorDittrich</td>\n",
       "      <td>Florencia Dittrich</td>\n",
       "      <td>🇦🇷💙💙 entre Buenos Aires y San Francisco #Córdoba 🎼 melómana 📚 MBA @UCEMA_edu Lic.en Adm @Economi...</td>\n",
       "      <td>4057</td>\n",
       "    </tr>\n",
       "    <tr>\n",
       "      <th>45851</th>\n",
       "      <td>elkotur</td>\n",
       "      <td>jorge rachid</td>\n",
       "      <td>MEDICO DE BARRIO Y DEL TRABAJO-MILITANTE PERONISTA-PROFESOR EN LA SOCIALES EN UNLZ-ESCRITOR-PRES...</td>\n",
       "      <td>3686</td>\n",
       "    </tr>\n",
       "    <tr>\n",
       "      <th>32317</th>\n",
       "      <td>MLVarela</td>\n",
       "      <td>Marta Varela</td>\n",
       "      <td>Sigo pensando en una Argentina con futuro. PRO. Facebook/MartaVarela15 https://t.co/9Y42PBrNkH</td>\n",
       "      <td>3684</td>\n",
       "    </tr>\n",
       "    <tr>\n",
       "      <th>51001</th>\n",
       "      <td>oscar_orion</td>\n",
       "      <td>OSCAR A. RODRIGUEZ</td>\n",
       "      <td>HE NACIDO, HE CRECIDO Y ME HE REPRODUCIDO, CREO QUE NO ES POCO VERDAD?</td>\n",
       "      <td>3235</td>\n",
       "    </tr>\n",
       "    <tr>\n",
       "      <th>109145</th>\n",
       "      <td>Elvio_bono</td>\n",
       "      <td>Cordobes Macrista💙</td>\n",
       "      <td>Cordobes Macrista del 61% Hincha de River y afiliado al PRO.  A la derecha de la derecha siempre...</td>\n",
       "      <td>3182</td>\n",
       "    </tr>\n",
       "    <tr>\n",
       "      <th>62750</th>\n",
       "      <td>silvinafrana</td>\n",
       "      <td>Silvina Frana</td>\n",
       "      <td>Justicialista. Trabajadora. Contadora. Esposa, madre y abuela. \\nMINISTRA DE INFRAESTRUCTURA, SE...</td>\n",
       "      <td>2219</td>\n",
       "    </tr>\n",
       "    <tr>\n",
       "      <th>75821</th>\n",
       "      <td>CRomeroOK</td>\n",
       "      <td>Claudio Romero ✋🏼🧼🤚🏼</td>\n",
       "      <td>Legislador del bloque de @VamosJuntos en @LegisCABA. Apoderado en @PROCapitalBA. Coordinador en ...</td>\n",
       "      <td>2151</td>\n",
       "    </tr>\n",
       "    <tr>\n",
       "      <th>42558</th>\n",
       "      <td>AlvaroApud</td>\n",
       "      <td>Alvaro Apud</td>\n",
       "      <td>Socio MACSER S.R.L., CONCEJAL del PRO Yerba Buena - Tucumán #JuntosPorElCambio</td>\n",
       "      <td>1736</td>\n",
       "    </tr>\n",
       "    <tr>\n",
       "      <th>119872</th>\n",
       "      <td>noracebreiro</td>\n",
       "      <td>Nora Cebreiro</td>\n",
       "      <td>@PROMujeresColon\\n@WDNArgentina #NodoCórdoba @MediadoraComunitaria\\n#NuestraMiradaesIndispensabl...</td>\n",
       "      <td>1675</td>\n",
       "    </tr>\n",
       "    <tr>\n",
       "      <th>56161</th>\n",
       "      <td>GabrielHuespe</td>\n",
       "      <td>Gabriel Huespe</td>\n",
       "      <td>PRO▶️Propuesta Republicana | Cordobés | Abogado UNC | Magister en Políticas Públicas Univ. Austr...</td>\n",
       "      <td>1580</td>\n",
       "    </tr>\n",
       "    <tr>\n",
       "      <th>74367</th>\n",
       "      <td>SoyDel41_JxC</td>\n",
       "      <td>Soy del 41 💙🇦🇷</td>\n",
       "      <td>Defensor de la República. Doy RT a todo lo que apoyo.\\n\\n#SoyDel41 #JuntosPorElCambio #PROArgent...</td>\n",
       "      <td>1501</td>\n",
       "    </tr>\n",
       "    <tr>\n",
       "      <th>81160</th>\n",
       "      <td>anaclromero</td>\n",
       "      <td>Ana Clara Romero</td>\n",
       "      <td>Mamá de Salva, Beli y Nica. Esposa de Ignacio. Comodorense.  Abogada. Concejal JxC PRO. Decidida...</td>\n",
       "      <td>1342</td>\n",
       "    </tr>\n",
       "    <tr>\n",
       "      <th>100818</th>\n",
       "      <td>juanfiorini</td>\n",
       "      <td>Juan Fiorini</td>\n",
       "      <td>sᴇɴᴀᴅᴏʀ 🇦🇷 ᴘʀᴏᴠɪɴᴄɪᴀ ᴅᴇ ʙᴜᴇɴᴏs ᴀɪʀᴇs #JuntosPorElCambio | \\n► PRO</td>\n",
       "      <td>1170</td>\n",
       "    </tr>\n",
       "    <tr>\n",
       "      <th>78469</th>\n",
       "      <td>titomelu</td>\n",
       "      <td>Tito Aguirre</td>\n",
       "      <td>Peronista en el PRO -nostalgico del 45'- Hincha de River. Abogado Laboralista. Padre de tres mil...</td>\n",
       "      <td>1128</td>\n",
       "    </tr>\n",
       "    <tr>\n",
       "      <th>116947</th>\n",
       "      <td>SoherElSukaria</td>\n",
       "      <td>Soher El Sukaria</td>\n",
       "      <td>Abogada y Mgter en RRII. Vicepresidente del Bloque PRO en Diputados. Miembro de Comipaz y Presid...</td>\n",
       "      <td>1125</td>\n",
       "    </tr>\n",
       "    <tr>\n",
       "      <th>18820</th>\n",
       "      <td>LannuttiMonica</td>\n",
       "      <td>monica lannutti</td>\n",
       "      <td>diplomada gerenciamiento de empresas. Decoradora profesional. Dpto Rio Iv. Candidata Legisladora...</td>\n",
       "      <td>1083</td>\n",
       "    </tr>\n",
       "    <tr>\n",
       "      <th>95088</th>\n",
       "      <td>VMoralesGorleri</td>\n",
       "      <td>Victoria Morales Gorleri</td>\n",
       "      <td>Diputada Nacional por la Ciudad de Buenos Aires. Bloque PRO. Juntos por el Cambio.</td>\n",
       "      <td>1077</td>\n",
       "    </tr>\n",
       "    <tr>\n",
       "      <th>77678</th>\n",
       "      <td>CorneliaSL</td>\n",
       "      <td>Cornelia Schmidt-L</td>\n",
       "      <td>Madre, ciudadana y abogada. Diputada nacional x PRO (MC 2011 - 2019) Síndica Corporación Buenos ...</td>\n",
       "      <td>1064</td>\n",
       "    </tr>\n",
       "    <tr>\n",
       "      <th>30678</th>\n",
       "      <td>bartolosanluis</td>\n",
       "      <td>Bartolo Abdala</td>\n",
       "      <td>Soy puntano, Pte de la Liga de Futbol de San Luis y Diputado Provincial del PRO. Trabajo por un ...</td>\n",
       "      <td>972</td>\n",
       "    </tr>\n",
       "    <tr>\n",
       "      <th>109143</th>\n",
       "      <td>SanBravoOk</td>\n",
       "      <td>#LaGrietaEsMoral 🇦🇷</td>\n",
       "      <td>SIN Justicia NO Hay REPÚBLICA. Soy Del 41%. Te sigo Por ELECCIÓN, NO Por RECÍPROCIDAD. Seamos LI...</td>\n",
       "      <td>958</td>\n",
       "    </tr>\n",
       "    <tr>\n",
       "      <th>77557</th>\n",
       "      <td>albertoamhed</td>\n",
       "      <td>betoamhed</td>\n",
       "      <td>Esposo perfecto.Padre de tres soles/Medico U.B.A/Especialista en Medicina General/Director Provi...</td>\n",
       "      <td>927</td>\n",
       "    </tr>\n",
       "    <tr>\n",
       "      <th>36734</th>\n",
       "      <td>Centenojulietam</td>\n",
       "      <td>Julieta Centeno</td>\n",
       "      <td>Bioquímica. Una adecuada nutrición es fundamental para que nuestros chicos y la PBA alcancen tod...</td>\n",
       "      <td>896</td>\n",
       "    </tr>\n",
       "    <tr>\n",
       "      <th>24697</th>\n",
       "      <td>PRO_Mujeres</td>\n",
       "      <td>PRO Mujeres</td>\n",
       "      <td>PRO Mujeres: más mujeres, mejor política. Buscamos incrementar la participación política de las ...</td>\n",
       "      <td>861</td>\n",
       "    </tr>\n",
       "    <tr>\n",
       "      <th>88921</th>\n",
       "      <td>JPROConcordia1</td>\n",
       "      <td>Jóvenes PRO Concordia</td>\n",
       "      <td>Twitter oficial de la Juventud PRO CONCORDIA Entre Ríos.\\nPartido que lidera @PatoBullrich\\n#Una...</td>\n",
       "      <td>849</td>\n",
       "    </tr>\n",
       "    <tr>\n",
       "      <th>68152</th>\n",
       "      <td>gustavotraverso</td>\n",
       "      <td>Gustavo Traverso</td>\n",
       "      <td>🇦🇷SENADOR PROVINCIAL POR LA IV SECCIÓN ELECTORAL 🌞#FrenteDeTodos</td>\n",
       "      <td>794</td>\n",
       "    </tr>\n",
       "    <tr>\n",
       "      <th>54413</th>\n",
       "      <td>LetiEstevesNqn</td>\n",
       "      <td>Leti Esteves</td>\n",
       "      <td>Neuquina (NyC) . Mamá de Hipólito y Alfonsina. Médica Veterinaria, amante de los animales ❤️. Di...</td>\n",
       "      <td>754</td>\n",
       "    </tr>\n",
       "    <tr>\n",
       "      <th>71990</th>\n",
       "      <td>pauespanol</td>\n",
       "      <td>Paula Español</td>\n",
       "      <td>Secretaria de Comercio Interior en @PRODUCCION_ARG. Economista y docente.</td>\n",
       "      <td>725</td>\n",
       "    </tr>\n",
       "    <tr>\n",
       "      <th>100836</th>\n",
       "      <td>SahadJulio</td>\n",
       "      <td>Julio Sahad</td>\n",
       "      <td>Diputado Nacional por @juntoscambioar |\\nPresidente de @PROLARIOJAOK | Esposo | 4 hijos | Hincha...</td>\n",
       "      <td>669</td>\n",
       "    </tr>\n",
       "    <tr>\n",
       "      <th>58618</th>\n",
       "      <td>mauriciomacri</td>\n",
       "      <td>Mauricio Macri</td>\n",
       "      <td>Miembro fundador de PRO Argentina y Cambiemos. Casado. 4 hijos. Hincha de Boca.</td>\n",
       "      <td>638</td>\n",
       "    </tr>\n",
       "    <tr>\n",
       "      <th>85601</th>\n",
       "      <td>carmenAlvarezR</td>\n",
       "      <td>Carmen Alvarez Rivero OK(De Córdoba)</td>\n",
       "      <td>Hola Amigos,\\n\\nQuiero contarles que invitados por Patricia Bullrich estamos entrando al PRO, co...</td>\n",
       "      <td>508</td>\n",
       "    </tr>\n",
       "    <tr>\n",
       "      <th>18574</th>\n",
       "      <td>germuller39</td>\n",
       "      <td>Muller German</td>\n",
       "      <td>Miembro de la Seccional 4° PRO Cba. Relator de Comisión en el Concejo Deliberante de la Ciudad d...</td>\n",
       "      <td>458</td>\n",
       "    </tr>\n",
       "    <tr>\n",
       "      <th>71482</th>\n",
       "      <td>OsmarMonaldi</td>\n",
       "      <td>Osmar Monaldi</td>\n",
       "      <td>Jujeño. Diputado Nacional. Presidente de PRO Jujuy.</td>\n",
       "      <td>454</td>\n",
       "    </tr>\n",
       "    <tr>\n",
       "      <th>52141</th>\n",
       "      <td>AliciablRubin</td>\n",
       "      <td>Alicia Locatelli</td>\n",
       "      <td>DIPUTADA DE LA PROVINCIA DE CORRIENTES Ex Intendente de CURUZU CUATIA</td>\n",
       "      <td>444</td>\n",
       "    </tr>\n",
       "    <tr>\n",
       "      <th>69851</th>\n",
       "      <td>dimarbar</td>\n",
       "      <td>DianaMartínezBarrios</td>\n",
       "      <td>Docente.Profesora de Cs Biológicas Mandato Cumplido 2007-2015 como Legisladora de la Ciudad Autó...</td>\n",
       "      <td>419</td>\n",
       "    </tr>\n",
       "    <tr>\n",
       "      <th>72958</th>\n",
       "      <td>PlataformaQL</td>\n",
       "      <td>PlataformaQL</td>\n",
       "      <td>TIC legislativa del PRO. Desde 2009 acompañamos a nuestros legisladores nacionales, provinciales...</td>\n",
       "      <td>415</td>\n",
       "    </tr>\n",
       "    <tr>\n",
       "      <th>62401</th>\n",
       "      <td>PROCapitalBA</td>\n",
       "      <td>PRO Capital</td>\n",
       "      <td>Canal Oficial de Twitter de PRO Capital #VamosJuntos</td>\n",
       "      <td>387</td>\n",
       "    </tr>\n",
       "    <tr>\n",
       "      <th>44417</th>\n",
       "      <td>proargentina</td>\n",
       "      <td>PRO</td>\n",
       "      <td>Canal oficial de Twitter de PRO (Propuesta Republicana). Partido que lidera @mauriciomacri.</td>\n",
       "      <td>362</td>\n",
       "    </tr>\n",
       "    <tr>\n",
       "      <th>78938</th>\n",
       "      <td>suicidologiaarg</td>\n",
       "      <td>ENTRENADORESDEVIDA</td>\n",
       "      <td>Equipo de SALUD y  EDUCACIÓN especializado con habilidades y destrezas para la PROMOCIÓN,PREVENC...</td>\n",
       "      <td>358</td>\n",
       "    </tr>\n",
       "    <tr>\n",
       "      <th>57903</th>\n",
       "      <td>fececo</td>\n",
       "      <td>FeCeCo</td>\n",
       "      <td>FECECO es la FEDERACION DE CENTROS COMERCIALES DE LA PROVINCIA DE SANTA FE</td>\n",
       "      <td>354</td>\n",
       "    </tr>\n",
       "    <tr>\n",
       "      <th>102478</th>\n",
       "      <td>horaciorlarreta</td>\n",
       "      <td>Horacio Rodríguez Larreta ✋🏼🧼🤚🏼</td>\n",
       "      <td>Jefe de Gobierno de @gcba y presidente del PRO en la Ciudad. Lic en Economía (UBA). Fanático de ...</td>\n",
       "      <td>340</td>\n",
       "    </tr>\n",
       "    <tr>\n",
       "      <th>39269</th>\n",
       "      <td>FedeFarjat</td>\n",
       "      <td>CU</td>\n",
       "      <td>PRO PIBAS 💚</td>\n",
       "      <td>333</td>\n",
       "    </tr>\n",
       "    <tr>\n",
       "      <th>51607</th>\n",
       "      <td>PensarEC</td>\n",
       "      <td>#PEC</td>\n",
       "      <td>Somos Pensar El Camino, el espacio de jóvenes #PRO que acompañan el proyecto del presidente @Mau...</td>\n",
       "      <td>280</td>\n",
       "    </tr>\n",
       "    <tr>\n",
       "      <th>88348</th>\n",
       "      <td>MinisterioEduc</td>\n",
       "      <td>Ministerio Educación</td>\n",
       "      <td>MINISTERIO DE EDUCACIÓN DE LA PROVINCIA DE CORRIENTES, ARGENTINA</td>\n",
       "      <td>262</td>\n",
       "    </tr>\n",
       "    <tr>\n",
       "      <th>54228</th>\n",
       "      <td>PRORosario</td>\n",
       "      <td>PRO Rosario</td>\n",
       "      <td>Canal oficial de twitter de PRO Rosario. Partido que lidera @mauriciomacri y que en la ciudad ti...</td>\n",
       "      <td>253</td>\n",
       "    </tr>\n",
       "    <tr>\n",
       "      <th>43477</th>\n",
       "      <td>belrol</td>\n",
       "      <td>Belén Rolfo</td>\n",
       "      <td>Mamá. Abogada. Ex-concejal PRO de la ciudad de Jesús Maria.</td>\n",
       "      <td>233</td>\n",
       "    </tr>\n",
       "    <tr>\n",
       "      <th>71955</th>\n",
       "      <td>CBconsultoraok</td>\n",
       "      <td>CB Consultora Opinión Pública</td>\n",
       "      <td>Especialistas en estudios de Imagen, coyuntura y proyecciones electorales.\\nMEDICIONES EN CADA P...</td>\n",
       "      <td>232</td>\n",
       "    </tr>\n",
       "    <tr>\n",
       "      <th>27899</th>\n",
       "      <td>cristianritondo</td>\n",
       "      <td>Cristian Ritondo</td>\n",
       "      <td>Diputado Nacional por la Provincia de Buenos Aires - Presidente del bloque PRO - Esposo y padre....</td>\n",
       "      <td>208</td>\n",
       "    </tr>\n",
       "    <tr>\n",
       "      <th>19782</th>\n",
       "      <td>MaricheVIDA</td>\n",
       "      <td>Mariche</td>\n",
       "      <td>por siempre PROVIDA</td>\n",
       "      <td>187</td>\n",
       "    </tr>\n",
       "    <tr>\n",
       "      <th>34646</th>\n",
       "      <td>ProDirigentes</td>\n",
       "      <td>Escuela de Dirigentes</td>\n",
       "      <td>Oficial. Escuela Nacional de Formación de Dirigentes Políticos PRO. Formamos personas con respon...</td>\n",
       "      <td>170</td>\n",
       "    </tr>\n",
       "    <tr>\n",
       "      <th>99586</th>\n",
       "      <td>FabianaPortill6</td>\n",
       "      <td>Fabiana Portillo</td>\n",
       "      <td>Concejal PRO Villa del Dique /coord de mujeres pro/ Docente/ Que la vida te sonria!!!☺☺☺☺</td>\n",
       "      <td>142</td>\n",
       "    </tr>\n",
       "    <tr>\n",
       "      <th>15754</th>\n",
       "      <td>JimenadelaTorr6</td>\n",
       "      <td>Jimena de la Torre</td>\n",
       "      <td>Especialista en Impuestos. Jefe Despacho Presidencia Diputados PRO, ex Subdirectora AFIP (2018.2...</td>\n",
       "      <td>131</td>\n",
       "    </tr>\n",
       "    <tr>\n",
       "      <th>45809</th>\n",
       "      <td>herrerayflia</td>\n",
       "      <td>Oscar Herrera Ahuad</td>\n",
       "      <td>GOBERNADOR      PROVINCIA DE MISIONES</td>\n",
       "      <td>62</td>\n",
       "    </tr>\n",
       "    <tr>\n",
       "      <th>1386</th>\n",
       "      <td>PabloRuisi</td>\n",
       "      <td>Pablo Ruisi</td>\n",
       "      <td>Dirección Nacional de Asistencia a Emprendedores y Pymes, SePyMe, Ministerio de Produccion y Tra...</td>\n",
       "      <td>28</td>\n",
       "    </tr>\n",
       "  </tbody>\n",
       "</table>\n",
       "</div>"
      ],
      "text/plain": [
       "              user_name                                  name  \\\n",
       "57919         eljugenio                EL INTERIOR PROFUNDO 😺   \n",
       "119870     ChauOperetaK                       EL ANTI OPERETA   \n",
       "32771      Horaciogenta                         Horacio Genta   \n",
       "39348       laurmachado               Laura Rodríguez Machado   \n",
       "84933      FlorDittrich                    Florencia Dittrich   \n",
       "45851           elkotur                          jorge rachid   \n",
       "32317          MLVarela                          Marta Varela   \n",
       "51001       oscar_orion                    OSCAR A. RODRIGUEZ   \n",
       "109145       Elvio_bono                    Cordobes Macrista💙   \n",
       "62750      silvinafrana                         Silvina Frana   \n",
       "75821         CRomeroOK                  Claudio Romero ✋🏼🧼🤚🏼   \n",
       "42558        AlvaroApud                           Alvaro Apud   \n",
       "119872     noracebreiro                         Nora Cebreiro   \n",
       "56161     GabrielHuespe                        Gabriel Huespe   \n",
       "74367      SoyDel41_JxC                        Soy del 41 💙🇦🇷   \n",
       "81160       anaclromero                      Ana Clara Romero   \n",
       "100818      juanfiorini                          Juan Fiorini   \n",
       "78469          titomelu                          Tito Aguirre   \n",
       "116947   SoherElSukaria                      Soher El Sukaria   \n",
       "18820    LannuttiMonica                       monica lannutti   \n",
       "95088   VMoralesGorleri              Victoria Morales Gorleri   \n",
       "77678        CorneliaSL                    Cornelia Schmidt-L   \n",
       "30678    bartolosanluis                        Bartolo Abdala   \n",
       "109143       SanBravoOk                   #LaGrietaEsMoral 🇦🇷   \n",
       "77557      albertoamhed                             betoamhed   \n",
       "36734   Centenojulietam                       Julieta Centeno   \n",
       "24697       PRO_Mujeres                           PRO Mujeres   \n",
       "88921    JPROConcordia1                 Jóvenes PRO Concordia   \n",
       "68152   gustavotraverso                      Gustavo Traverso   \n",
       "54413    LetiEstevesNqn                          Leti Esteves   \n",
       "71990        pauespanol                         Paula Español   \n",
       "100836       SahadJulio                           Julio Sahad   \n",
       "58618     mauriciomacri                        Mauricio Macri   \n",
       "85601    carmenAlvarezR  Carmen Alvarez Rivero OK(De Córdoba)   \n",
       "18574       germuller39                         Muller German   \n",
       "71482      OsmarMonaldi                         Osmar Monaldi   \n",
       "52141     AliciablRubin                      Alicia Locatelli   \n",
       "69851          dimarbar                  DianaMartínezBarrios   \n",
       "72958      PlataformaQL                          PlataformaQL   \n",
       "62401      PROCapitalBA                           PRO Capital   \n",
       "44417      proargentina                                   PRO   \n",
       "78938   suicidologiaarg                    ENTRENADORESDEVIDA   \n",
       "57903            fececo                                FeCeCo   \n",
       "102478  horaciorlarreta       Horacio Rodríguez Larreta ✋🏼🧼🤚🏼   \n",
       "39269        FedeFarjat                                    CU   \n",
       "51607          PensarEC                                  #PEC   \n",
       "88348    MinisterioEduc                  Ministerio Educación   \n",
       "54228        PRORosario                           PRO Rosario   \n",
       "43477            belrol                           Belén Rolfo   \n",
       "71955    CBconsultoraok         CB Consultora Opinión Pública   \n",
       "27899   cristianritondo                      Cristian Ritondo   \n",
       "19782       MaricheVIDA                               Mariche   \n",
       "34646     ProDirigentes                 Escuela de Dirigentes   \n",
       "99586   FabianaPortill6                      Fabiana Portillo   \n",
       "15754   JimenadelaTorr6                    Jimena de la Torre   \n",
       "45809      herrerayflia                   Oscar Herrera Ahuad   \n",
       "1386         PabloRuisi                           Pablo Ruisi   \n",
       "\n",
       "                                                                                                description  \\\n",
       "57919   JUJEÑO VIVIENDO EN EL SUDESTE CORDOBÉS /HOMBRE DEL DERECHO/SIGO LA COHERENCIA/VALORES MORALES/PR...   \n",
       "119870  Blanco👱‍♂️, Anti K 🇦🇷, anti Maduro 🇻🇪, anti Evo 🇬🇭, anti planeros✌🏿, anti feministas violentas 💅...   \n",
       "32771   Divorciado y solo !!,pisciano,optimista con este gobierno del PRO,me seguis ? te sigo !! nunca v...   \n",
       "39348   Abogada. Senadora Nacional (2015-2021). Vicepresidente segunda del PRO Nacional. Vicepresidente ...   \n",
       "84933   🇦🇷💙💙 entre Buenos Aires y San Francisco #Córdoba 🎼 melómana 📚 MBA @UCEMA_edu Lic.en Adm @Economi...   \n",
       "45851   MEDICO DE BARRIO Y DEL TRABAJO-MILITANTE PERONISTA-PROFESOR EN LA SOCIALES EN UNLZ-ESCRITOR-PRES...   \n",
       "32317        Sigo pensando en una Argentina con futuro. PRO. Facebook/MartaVarela15 https://t.co/9Y42PBrNkH   \n",
       "51001                                HE NACIDO, HE CRECIDO Y ME HE REPRODUCIDO, CREO QUE NO ES POCO VERDAD?   \n",
       "109145  Cordobes Macrista del 61% Hincha de River y afiliado al PRO.  A la derecha de la derecha siempre...   \n",
       "62750   Justicialista. Trabajadora. Contadora. Esposa, madre y abuela. \\nMINISTRA DE INFRAESTRUCTURA, SE...   \n",
       "75821   Legislador del bloque de @VamosJuntos en @LegisCABA. Apoderado en @PROCapitalBA. Coordinador en ...   \n",
       "42558                        Socio MACSER S.R.L., CONCEJAL del PRO Yerba Buena - Tucumán #JuntosPorElCambio   \n",
       "119872  @PROMujeresColon\\n@WDNArgentina #NodoCórdoba @MediadoraComunitaria\\n#NuestraMiradaesIndispensabl...   \n",
       "56161   PRO▶️Propuesta Republicana | Cordobés | Abogado UNC | Magister en Políticas Públicas Univ. Austr...   \n",
       "74367   Defensor de la República. Doy RT a todo lo que apoyo.\\n\\n#SoyDel41 #JuntosPorElCambio #PROArgent...   \n",
       "81160   Mamá de Salva, Beli y Nica. Esposa de Ignacio. Comodorense.  Abogada. Concejal JxC PRO. Decidida...   \n",
       "100818                                    sᴇɴᴀᴅᴏʀ 🇦🇷 ᴘʀᴏᴠɪɴᴄɪᴀ ᴅᴇ ʙᴜᴇɴᴏs ᴀɪʀᴇs #JuntosPorElCambio | \\n► PRO   \n",
       "78469   Peronista en el PRO -nostalgico del 45'- Hincha de River. Abogado Laboralista. Padre de tres mil...   \n",
       "116947  Abogada y Mgter en RRII. Vicepresidente del Bloque PRO en Diputados. Miembro de Comipaz y Presid...   \n",
       "18820   diplomada gerenciamiento de empresas. Decoradora profesional. Dpto Rio Iv. Candidata Legisladora...   \n",
       "95088                    Diputada Nacional por la Ciudad de Buenos Aires. Bloque PRO. Juntos por el Cambio.   \n",
       "77678   Madre, ciudadana y abogada. Diputada nacional x PRO (MC 2011 - 2019) Síndica Corporación Buenos ...   \n",
       "30678   Soy puntano, Pte de la Liga de Futbol de San Luis y Diputado Provincial del PRO. Trabajo por un ...   \n",
       "109143  SIN Justicia NO Hay REPÚBLICA. Soy Del 41%. Te sigo Por ELECCIÓN, NO Por RECÍPROCIDAD. Seamos LI...   \n",
       "77557   Esposo perfecto.Padre de tres soles/Medico U.B.A/Especialista en Medicina General/Director Provi...   \n",
       "36734   Bioquímica. Una adecuada nutrición es fundamental para que nuestros chicos y la PBA alcancen tod...   \n",
       "24697   PRO Mujeres: más mujeres, mejor política. Buscamos incrementar la participación política de las ...   \n",
       "88921   Twitter oficial de la Juventud PRO CONCORDIA Entre Ríos.\\nPartido que lidera @PatoBullrich\\n#Una...   \n",
       "68152                                      🇦🇷SENADOR PROVINCIAL POR LA IV SECCIÓN ELECTORAL 🌞#FrenteDeTodos   \n",
       "54413   Neuquina (NyC) . Mamá de Hipólito y Alfonsina. Médica Veterinaria, amante de los animales ❤️. Di...   \n",
       "71990                             Secretaria de Comercio Interior en @PRODUCCION_ARG. Economista y docente.   \n",
       "100836  Diputado Nacional por @juntoscambioar |\\nPresidente de @PROLARIOJAOK | Esposo | 4 hijos | Hincha...   \n",
       "58618                       Miembro fundador de PRO Argentina y Cambiemos. Casado. 4 hijos. Hincha de Boca.   \n",
       "85601   Hola Amigos,\\n\\nQuiero contarles que invitados por Patricia Bullrich estamos entrando al PRO, co...   \n",
       "18574   Miembro de la Seccional 4° PRO Cba. Relator de Comisión en el Concejo Deliberante de la Ciudad d...   \n",
       "71482                                                   Jujeño. Diputado Nacional. Presidente de PRO Jujuy.   \n",
       "52141                                 DIPUTADA DE LA PROVINCIA DE CORRIENTES Ex Intendente de CURUZU CUATIA   \n",
       "69851   Docente.Profesora de Cs Biológicas Mandato Cumplido 2007-2015 como Legisladora de la Ciudad Autó...   \n",
       "72958   TIC legislativa del PRO. Desde 2009 acompañamos a nuestros legisladores nacionales, provinciales...   \n",
       "62401                                                  Canal Oficial de Twitter de PRO Capital #VamosJuntos   \n",
       "44417           Canal oficial de Twitter de PRO (Propuesta Republicana). Partido que lidera @mauriciomacri.   \n",
       "78938   Equipo de SALUD y  EDUCACIÓN especializado con habilidades y destrezas para la PROMOCIÓN,PREVENC...   \n",
       "57903                            FECECO es la FEDERACION DE CENTROS COMERCIALES DE LA PROVINCIA DE SANTA FE   \n",
       "102478  Jefe de Gobierno de @gcba y presidente del PRO en la Ciudad. Lic en Economía (UBA). Fanático de ...   \n",
       "39269                                                                                           PRO PIBAS 💚   \n",
       "51607   Somos Pensar El Camino, el espacio de jóvenes #PRO que acompañan el proyecto del presidente @Mau...   \n",
       "88348                                      MINISTERIO DE EDUCACIÓN DE LA PROVINCIA DE CORRIENTES, ARGENTINA   \n",
       "54228   Canal oficial de twitter de PRO Rosario. Partido que lidera @mauriciomacri y que en la ciudad ti...   \n",
       "43477                                           Mamá. Abogada. Ex-concejal PRO de la ciudad de Jesús Maria.   \n",
       "71955   Especialistas en estudios de Imagen, coyuntura y proyecciones electorales.\\nMEDICIONES EN CADA P...   \n",
       "27899   Diputado Nacional por la Provincia de Buenos Aires - Presidente del bloque PRO - Esposo y padre....   \n",
       "19782                                                                                   por siempre PROVIDA   \n",
       "34646   Oficial. Escuela Nacional de Formación de Dirigentes Políticos PRO. Formamos personas con respon...   \n",
       "99586             Concejal PRO Villa del Dique /coord de mujeres pro/ Docente/ Que la vida te sonria!!!☺☺☺☺   \n",
       "15754   Especialista en Impuestos. Jefe Despacho Presidencia Diputados PRO, ex Subdirectora AFIP (2018.2...   \n",
       "45809                                                                 GOBERNADOR      PROVINCIA DE MISIONES   \n",
       "1386    Dirección Nacional de Asistencia a Emprendedores y Pymes, SePyMe, Ministerio de Produccion y Tra...   \n",
       "\n",
       "        friends_count  \n",
       "57919            8708  \n",
       "119870           7592  \n",
       "32771            4709  \n",
       "39348            4216  \n",
       "84933            4057  \n",
       "45851            3686  \n",
       "32317            3684  \n",
       "51001            3235  \n",
       "109145           3182  \n",
       "62750            2219  \n",
       "75821            2151  \n",
       "42558            1736  \n",
       "119872           1675  \n",
       "56161            1580  \n",
       "74367            1501  \n",
       "81160            1342  \n",
       "100818           1170  \n",
       "78469            1128  \n",
       "116947           1125  \n",
       "18820            1083  \n",
       "95088            1077  \n",
       "77678            1064  \n",
       "30678             972  \n",
       "109143            958  \n",
       "77557             927  \n",
       "36734             896  \n",
       "24697             861  \n",
       "88921             849  \n",
       "68152             794  \n",
       "54413             754  \n",
       "71990             725  \n",
       "100836            669  \n",
       "58618             638  \n",
       "85601             508  \n",
       "18574             458  \n",
       "71482             454  \n",
       "52141             444  \n",
       "69851             419  \n",
       "72958             415  \n",
       "62401             387  \n",
       "44417             362  \n",
       "78938             358  \n",
       "57903             354  \n",
       "102478            340  \n",
       "39269             333  \n",
       "51607             280  \n",
       "88348             262  \n",
       "54228             253  \n",
       "43477             233  \n",
       "71955             232  \n",
       "27899             208  \n",
       "19782             187  \n",
       "34646             170  \n",
       "99586             142  \n",
       "15754             131  \n",
       "45809              62  \n",
       "1386               28  "
      ]
     },
     "execution_count": 311,
     "metadata": {},
     "output_type": "execute_result"
    }
   ],
   "source": [
    "pd.options.display.max_colwidth = 100\n",
    "df_u[(df_u.description.str.contains('PRO')==True) & (df_u.tweets_scraped==1)][['user_name', 'name', 'description', 'friends_count']].sort_values('friends_count', ascending=False)"
   ]
  }
 ],
 "metadata": {
  "kernelspec": {
   "display_name": "Python 3",
   "language": "python",
   "name": "python3"
  },
  "language_info": {
   "codemirror_mode": {
    "name": "ipython",
    "version": 3
   },
   "file_extension": ".py",
   "mimetype": "text/x-python",
   "name": "python",
   "nbconvert_exporter": "python",
   "pygments_lexer": "ipython3",
   "version": "3.7.1"
  }
 },
 "nbformat": 4,
 "nbformat_minor": 2
}
