{
 "cells": [
  {
   "cell_type": "code",
   "execution_count": 1,
   "metadata": {},
   "outputs": [],
   "source": [
    "import pandas as pd\n",
    "import fasttext\n",
    "import numpy as np\n",
    "from gensim.models import FastText"
   ]
  },
  {
   "cell_type": "code",
   "execution_count": 2,
   "metadata": {},
   "outputs": [
    {
     "data": {
      "text/plain": [
       "'3.8.3'"
      ]
     },
     "execution_count": 2,
     "metadata": {},
     "output_type": "execute_result"
    }
   ],
   "source": [
    "import gensim\n",
    "gensim.__version__"
   ]
  },
  {
   "cell_type": "code",
   "execution_count": 2,
   "metadata": {},
   "outputs": [],
   "source": [
    "df = pd.read_pickle('../datasets/tweets_cleaned.pkl')"
   ]
  },
  {
   "cell_type": "code",
   "execution_count": 150,
   "metadata": {},
   "outputs": [],
   "source": [
    "df = df[(df.lang=='es')&(df.favorite_count>4)]"
   ]
  },
  {
   "cell_type": "code",
   "execution_count": 151,
   "metadata": {},
   "outputs": [],
   "source": [
    "tokenize = lambda text: text.split(' ')\n",
    "\n",
    "class Corpus():\n",
    "    def __init__(self, df, size):\n",
    "        self.df = df\n",
    "        self.rowids = df.index.values\n",
    "        self.len = size\n",
    "\n",
    "    def __iter__(self):\n",
    "        rowids = np.random.choice(self.rowids, self.len, replace=False)\n",
    "        for doc_id in rowids:\n",
    "            yield tokenize(self.df.loc[doc_id].full_text)\n",
    "\n",
    "    def __len__(self):\n",
    "        return self.len"
   ]
  },
  {
   "cell_type": "code",
   "execution_count": 152,
   "metadata": {},
   "outputs": [],
   "source": [
    "docs_s = Corpus(df, 5000)\n",
    "docs_l = Corpus(df, 50000)"
   ]
  },
  {
   "cell_type": "code",
   "execution_count": 157,
   "metadata": {},
   "outputs": [],
   "source": [
    "vocab_corpus = df.full_text.apply(tokenize).values"
   ]
  },
  {
   "cell_type": "code",
   "execution_count": 161,
   "metadata": {},
   "outputs": [
    {
     "data": {
      "text/plain": [
       "1696882"
      ]
     },
     "execution_count": 161,
     "metadata": {},
     "output_type": "execute_result"
    }
   ],
   "source": [
    "len(vocab_corpus)"
   ]
  },
  {
   "cell_type": "code",
   "execution_count": 190,
   "metadata": {},
   "outputs": [
    {
     "name": "stderr",
     "output_type": "stream",
     "text": [
      "C:\\ProgramData\\Anaconda3\\lib\\site-packages\\ipykernel_launcher.py:1: DeprecationWarning: Call to deprecated `load_fasttext_format` (use load_facebook_vectors (to use pretrained embeddings) or load_facebook_model (to continue training with the loaded full model, more RAM) instead).\n",
      "  \"\"\"Entry point for launching an IPython kernel.\n"
     ]
    }
   ],
   "source": [
    "model = FastText.load_fasttext_format(\"../models/words_fast_text.bin\")"
   ]
  },
  {
   "cell_type": "code",
   "execution_count": 191,
   "metadata": {},
   "outputs": [],
   "source": [
    "model.build_vocab(sentences=vocab_corpus, update=True)"
   ]
  },
  {
   "cell_type": "code",
   "execution_count": 192,
   "metadata": {},
   "outputs": [],
   "source": [
    "model.train(sentences=vocab_corpus, total_examples=len(vocab_corpus), epochs=5, start_alpha=0.0001)  # train"
   ]
  },
  {
   "cell_type": "markdown",
   "metadata": {},
   "source": [
    "## fasttext\n",
    "Probar con fasttext a ver si sale mejor"
   ]
  },
  {
   "cell_type": "code",
   "execution_count": 3,
   "metadata": {},
   "outputs": [],
   "source": [
    "import fasttext\n",
    "model2 = fasttext.train_unsupervised('../datasets/tweets_corpus.txt', 'skipgram', epoch=20, dim=100, verbose=1)"
   ]
  },
  {
   "cell_type": "code",
   "execution_count": 4,
   "metadata": {},
   "outputs": [
    {
     "data": {
      "text/plain": [
       "[(0.9084580540657043, 'kirchner'),\n",
       " (0.8913578391075134, 'cfk'),\n",
       " (0.788396954536438, 'kristina'),\n",
       " (0.7751791477203369, 'cristino'),\n",
       " (0.7686817646026611, 'cristinas'),\n",
       " (0.7596039175987244, 'cristinakirchner'),\n",
       " (0.7590711116790771, 'cristinafernández'),\n",
       " (0.7290238738059998, 'kichner'),\n",
       " (0.7122859954833984, 'cristinafernandez'),\n",
       " (0.7106063961982727, 'fernández')]"
      ]
     },
     "metadata": {},
     "output_type": "display_data"
    },
    {
     "name": "stdout",
     "output_type": "stream",
     "text": [
      " \n"
     ]
    },
    {
     "data": {
      "text/plain": [
       "[(0.8794925212860107, 'mauricio'),\n",
       " (0.7782546281814575, 'macrismo'),\n",
       " (0.7477707862854004, 'macriato'),\n",
       " (0.7305310368537903, 'macrivsmacri'),\n",
       " (0.7167033553123474, 'macrimafioso'),\n",
       " (0.7137525081634521, 'macrista'),\n",
       " (0.7105763554573059, 'mauriciomacri'),\n",
       " (0.696845531463623, 'macripichetto'),\n",
       " (0.6946280002593994, 'michetti'),\n",
       " (0.6918284893035889, 'dujovne')]"
      ]
     },
     "metadata": {},
     "output_type": "display_data"
    }
   ],
   "source": [
    "display(model2.get_nearest_neighbors('cristina'))\n",
    "print(' ')\n",
    "display(model2.get_nearest_neighbors('macri'))"
   ]
  },
  {
   "cell_type": "code",
   "execution_count": 5,
   "metadata": {},
   "outputs": [],
   "source": [
    "model2.save_model(\"../models/words_fast_text.bin\")"
   ]
  },
  {
   "cell_type": "code",
   "execution_count": 6,
   "metadata": {},
   "outputs": [
    {
     "name": "stderr",
     "output_type": "stream",
     "text": [
      "C:\\ProgramData\\Anaconda3\\lib\\site-packages\\ipykernel_launcher.py:1: DeprecationWarning: Call to deprecated `load_fasttext_format` (use load_facebook_vectors (to use pretrained embeddings) or load_facebook_model (to continue training with the loaded full model, more RAM) instead).\n",
      "  \"\"\"Entry point for launching an IPython kernel.\n"
     ]
    }
   ],
   "source": [
    "loaded_model = FastText.load_fasttext_format(\"../models/words_fast_text.bin\")"
   ]
  },
  {
   "cell_type": "code",
   "execution_count": 7,
   "metadata": {},
   "outputs": [
    {
     "name": "stdout",
     "output_type": "stream",
     "text": [
      "Similitud entre palabras: cfk y cristina 0.89\n",
      "Similitud entre palabras: cfk y macri 0.63\n"
     ]
    }
   ],
   "source": [
    "def print_simil(w1,w2):\n",
    "    print(\n",
    "        'Similitud entre palabras:',w1,'y',w2, round(loaded_model.wv.similarity(w1, w2), 2)\n",
    "    )\n",
    "\n",
    "print_simil('cfk', 'cristina')\n",
    "print_simil('cfk', 'macri')"
   ]
  },
  {
   "cell_type": "code",
   "execution_count": 37,
   "metadata": {},
   "outputs": [
    {
     "name": "stdout",
     "output_type": "stream",
     "text": [
      "Palabras similares a 👭\n"
     ]
    },
    {
     "data": {
      "text/plain": [
       "[('👫', 0.6877906322479248),\n",
       " ('👬', 0.6820177435874939),\n",
       " ('chicaspochocleras', 0.6516629457473755),\n",
       " ('bisexuales', 0.6416600942611694),\n",
       " ('🌈', 0.6250035762786865),\n",
       " ('🏳', 0.6083692908287048),\n",
       " ('35encuentroplurinacional', 0.6034274101257324),\n",
       " ('diversidadygénero', 0.5986554622650146),\n",
       " ('barbiesimons', 0.5915629267692566),\n",
       " ('10añosmatrimonioigualitario', 0.5897146463394165)]"
      ]
     },
     "metadata": {},
     "output_type": "display_data"
    },
    {
     "name": "stdout",
     "output_type": "stream",
     "text": [
      "\n",
      "\n",
      "Palabras similares a 👮‍♂️\n"
     ]
    },
    {
     "data": {
      "text/plain": [
       "[('feiman', 0.5960816740989685),\n",
       " ('feimann', 0.565120279788971),\n",
       " ('opereta', 0.4878638684749603),\n",
       " ('elpeor', 0.4789178967475891),\n",
       " ('k5n', 0.47482776641845703),\n",
       " ('elpeorperiodismodelahistoria', 0.4602394998073578),\n",
       " ('sinverguenza', 0.4578441083431244),\n",
       " ('tándem', 0.45630669593811035),\n",
       " ('operetas', 0.45112377405166626),\n",
       " ('mentirosos', 0.448702335357666)]"
      ]
     },
     "metadata": {},
     "output_type": "display_data"
    },
    {
     "name": "stdout",
     "output_type": "stream",
     "text": [
      "\n",
      "\n",
      "Palabras similares a 🌈\n"
     ]
    },
    {
     "data": {
      "text/plain": [
       "[('🏳', 0.9444333910942078),\n",
       " ('mesdelorgullo', 0.7774953842163086),\n",
       " ('10añosdematrimonioigualitario', 0.7723351716995239),\n",
       " ('loveislove', 0.7712818384170532),\n",
       " ('diadelorgullolgtbi', 0.7707332372665405),\n",
       " ('10añosmatrimonioigualitario', 0.7705092430114746),\n",
       " ('diadelorgullolgtbiq', 0.7702069878578186),\n",
       " ('orgullo2020', 0.7693032622337341),\n",
       " ('díadelorgullolgtbi', 0.7672439813613892),\n",
       " ('10anosmatrimonioigualitario', 0.761284351348877)]"
      ]
     },
     "metadata": {},
     "output_type": "display_data"
    },
    {
     "name": "stdout",
     "output_type": "stream",
     "text": [
      "\n",
      "\n"
     ]
    }
   ],
   "source": [
    "for i in ['👭', '👮‍♂️', '🌈']:\n",
    "    print('Palabras similares a', i)\n",
    "    display(loaded_model.wv.most_similar(i,topn=10))\n",
    "    print('\\n')\n",
    "\n",
    "\n",
    "# print()\n",
    "# display(loaded_model.wv.most_similar('👮‍♂️',topn=10))\n",
    "# print()\n",
    "# display(loaded_model.wv.most_similar('🌈',topn=10))\n",
    "# print()"
   ]
  },
  {
   "cell_type": "code",
   "execution_count": 12,
   "metadata": {},
   "outputs": [
    {
     "data": {
      "text/plain": [
       "[('kirchner', 0.9084581136703491),\n",
       " ('cfk', 0.8913581371307373),\n",
       " ('kristina', 0.788396954536438),\n",
       " ('cristino', 0.775179386138916),\n",
       " ('cristinas', 0.7686818242073059),\n",
       " ('cristinakirchner', 0.7596039772033691),\n",
       " ('cristinafernández', 0.7590712308883667),\n",
       " ('kichner', 0.7290239334106445),\n",
       " ('cristinafernandez', 0.712286114692688),\n",
       " ('fernández', 0.7106066346168518),\n",
       " ('alberto', 0.703244149684906),\n",
       " ('cristinadenuncia', 0.6974077224731445),\n",
       " ('cris', 0.6954469680786133),\n",
       " ('cristinafkirchner', 0.6922573447227478),\n",
       " ('cfkargentina', 0.6913692951202393),\n",
       " ('zaninni', 0.6866728067398071),\n",
       " ('sagasti', 0.6858562231063843),\n",
       " ('cristinista', 0.6853848695755005),\n",
       " ('néstor', 0.6832185983657837),\n",
       " ('fernandez', 0.6789864301681519),\n",
       " ('christina', 0.6720216274261475),\n",
       " ('cristina2019', 0.6695528626441956),\n",
       " ('berniescristina', 0.6691409349441528),\n",
       " ('cristinapresidenta', 0.6659271717071533),\n",
       " ('cristinismo', 0.6650446057319641),\n",
       " ('albertocristina', 0.6631612777709961),\n",
       " ('cristinaenrcv', 0.6609560251235962),\n",
       " ('af', 0.66081303358078),\n",
       " ('cristinaencalafate', 0.65874183177948),\n",
       " ('kirchnerimo', 0.6586859822273254),\n",
       " ('kirchnerismo', 0.6583731770515442),\n",
       " ('ckf', 0.6557307839393616),\n",
       " ('massa', 0.654075026512146),\n",
       " ('anabel', 0.6539425849914551),\n",
       " ('cfk_', 0.6434524059295654),\n",
       " ('cristinasenadora', 0.6427498459815979),\n",
       " ('nestor', 0.6390126943588257),\n",
       " ('cristinistas', 0.6350060701370239),\n",
       " ('k', 0.6328980922698975),\n",
       " ('hotesur', 0.6311383247375488),\n",
       " ('bonadío', 0.628385066986084),\n",
       " ('vicepresidenta', 0.6235710382461548),\n",
       " ('cristinaperez', 0.6220454573631287),\n",
       " ('morsa', 0.6213377714157104),\n",
       " ('porota', 0.6128349304199219),\n",
       " ('cámpora', 0.6126328110694885),\n",
       " ('cristinaencrónica', 0.6125629544258118),\n",
       " ('bonafini', 0.61204993724823),\n",
       " ('cristinanochorr', 0.609694242477417),\n",
       " ('zaninnichino', 0.6085109710693359)]"
      ]
     },
     "metadata": {},
     "output_type": "display_data"
    },
    {
     "name": "stdout",
     "output_type": "stream",
     "text": [
      "\n"
     ]
    },
    {
     "data": {
      "text/plain": [
       "[('mauricio', 0.8794925212860107),\n",
       " ('macrismo', 0.7782548069953918),\n",
       " ('macriato', 0.7477709054946899),\n",
       " ('macrivsmacri', 0.7305310368537903),\n",
       " ('macrimafioso', 0.7167034149169922),\n",
       " ('macrista', 0.7137525081634521),\n",
       " ('mauriciomacri', 0.7105764150619507),\n",
       " ('macripichetto', 0.696845531463623),\n",
       " ('michetti', 0.6946278810501099),\n",
       " ('dujovne', 0.6918286085128784),\n",
       " ('vidal', 0.6891368627548218),\n",
       " ('mmacri', 0.6822087168693542),\n",
       " ('macriísta', 0.6786187887191772),\n",
       " ('macrimafia', 0.6769134998321533),\n",
       " ('macritemintio', 0.6754363775253296),\n",
       " ('carrio', 0.6747381091117859),\n",
       " ('scioli', 0.6582700610160828),\n",
       " ('gobierno', 0.6567320823669434),\n",
       " ('frigerio', 0.656435489654541),\n",
       " ('kirchnerismo', 0.6564202308654785),\n",
       " ('macris', 0.6553067564964294),\n",
       " ('bullrich', 0.6533313393592834),\n",
       " ('macricaradepiedra', 0.6526529788970947),\n",
       " ('carrió', 0.651379406452179),\n",
       " ('caputo', 0.6491774320602417),\n",
       " ('garavano', 0.6483981609344482),\n",
       " ('pichetto', 0.6480467915534973),\n",
       " ('cambiemos', 0.6428484916687012),\n",
       " ('macrï', 0.6425061225891113),\n",
       " ('andatemacri', 0.6406723260879517),\n",
       " ('macrisefuga', 0.6401588916778564),\n",
       " ('marquitos', 0.6392014026641846),\n",
       " ('madjalani', 0.6382600665092468),\n",
       " ('espiaba', 0.6380553841590881),\n",
       " ('mauri', 0.636286735534668),\n",
       " ('macridemia', 0.6337648034095764),\n",
       " ('af', 0.6330022215843201),\n",
       " ('espió', 0.6326569318771362),\n",
       " ('macritips', 0.6306305527687073),\n",
       " ('cfk', 0.6304672360420227),\n",
       " ('macri2023', 0.6304447650909424),\n",
       " ('arribas', 0.6303443312644958),\n",
       " ('randazzo', 0.6290832161903381),\n",
       " ('triaca', 0.6281912326812744),\n",
       " ('anterior', 0.6279683113098145),\n",
       " ('larreta', 0.6238657236099243),\n",
       " ('ganamacri', 0.623159646987915),\n",
       " ('macriesmafia', 0.6221084594726562),\n",
       " ('maurico', 0.6218760013580322),\n",
       " ('rúa', 0.619759738445282)]"
      ]
     },
     "metadata": {},
     "output_type": "display_data"
    }
   ],
   "source": [
    "display(loaded_model.wv.most_similar('cristina',topn=50))\n",
    "print()\n",
    "display(loaded_model.wv.most_similar('macri',topn=50))"
   ]
  }
 ],
 "metadata": {
  "kernelspec": {
   "display_name": "Python 3",
   "language": "python",
   "name": "python3"
  },
  "language_info": {
   "codemirror_mode": {
    "name": "ipython",
    "version": 3
   },
   "file_extension": ".py",
   "mimetype": "text/x-python",
   "name": "python",
   "nbconvert_exporter": "python",
   "pygments_lexer": "ipython3",
   "version": "3.7.1"
  }
 },
 "nbformat": 4,
 "nbformat_minor": 2
}
