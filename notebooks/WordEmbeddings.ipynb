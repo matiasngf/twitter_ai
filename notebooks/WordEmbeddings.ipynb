{
 "cells": [
  {
   "cell_type": "code",
   "execution_count": 1,
   "metadata": {},
   "outputs": [],
   "source": [
    "import pandas as pd\n",
    "import fasttext\n",
    "import numpy as np\n",
    "from gensim.models import FastText"
   ]
  },
  {
   "cell_type": "code",
   "execution_count": 180,
   "metadata": {},
   "outputs": [
    {
     "data": {
      "text/plain": [
       "'3.8.3'"
      ]
     },
     "execution_count": 180,
     "metadata": {},
     "output_type": "execute_result"
    }
   ],
   "source": [
    "import gensim\n",
    "gensim.__version__"
   ]
  },
  {
   "cell_type": "code",
   "execution_count": 2,
   "metadata": {},
   "outputs": [],
   "source": [
    "df = pd.read_pickle('../datasets/tweets_cleaned.pkl')"
   ]
  },
  {
   "cell_type": "code",
   "execution_count": 150,
   "metadata": {},
   "outputs": [],
   "source": [
    "df = df[(df.lang=='es')&(df.favorite_count>4)]"
   ]
  },
  {
   "cell_type": "code",
   "execution_count": 151,
   "metadata": {},
   "outputs": [],
   "source": [
    "tokenize = lambda text: text.split(' ')\n",
    "\n",
    "class Corpus():\n",
    "    def __init__(self, df, size):\n",
    "        self.df = df\n",
    "        self.rowids = df.index.values\n",
    "        self.len = size\n",
    "\n",
    "    def __iter__(self):\n",
    "        rowids = np.random.choice(self.rowids, self.len, replace=False)\n",
    "        for doc_id in rowids:\n",
    "            yield tokenize(self.df.loc[doc_id].full_text)\n",
    "\n",
    "    def __len__(self):\n",
    "        return self.len"
   ]
  },
  {
   "cell_type": "code",
   "execution_count": 152,
   "metadata": {},
   "outputs": [],
   "source": [
    "docs_s = Corpus(df, 5000)\n",
    "docs_l = Corpus(df, 50000)"
   ]
  },
  {
   "cell_type": "code",
   "execution_count": 157,
   "metadata": {},
   "outputs": [],
   "source": [
    "vocab_corpus = df.full_text.apply(tokenize).values"
   ]
  },
  {
   "cell_type": "code",
   "execution_count": 161,
   "metadata": {},
   "outputs": [
    {
     "data": {
      "text/plain": [
       "1696882"
      ]
     },
     "execution_count": 161,
     "metadata": {},
     "output_type": "execute_result"
    }
   ],
   "source": [
    "len(vocab_corpus)"
   ]
  },
  {
   "cell_type": "code",
   "execution_count": 190,
   "metadata": {},
   "outputs": [
    {
     "name": "stderr",
     "output_type": "stream",
     "text": [
      "C:\\ProgramData\\Anaconda3\\lib\\site-packages\\ipykernel_launcher.py:1: DeprecationWarning: Call to deprecated `load_fasttext_format` (use load_facebook_vectors (to use pretrained embeddings) or load_facebook_model (to continue training with the loaded full model, more RAM) instead).\n",
      "  \"\"\"Entry point for launching an IPython kernel.\n"
     ]
    }
   ],
   "source": [
    "model = FastText.load_fasttext_format(\"../models/words_fast_text.bin\")"
   ]
  },
  {
   "cell_type": "code",
   "execution_count": 191,
   "metadata": {},
   "outputs": [],
   "source": [
    "model.build_vocab(sentences=vocab_corpus, update=True)"
   ]
  },
  {
   "cell_type": "code",
   "execution_count": 192,
   "metadata": {},
   "outputs": [],
   "source": [
    "model.train(sentences=vocab_corpus, total_examples=len(vocab_corpus), epochs=5, start_alpha=0.0001)  # train"
   ]
  },
  {
   "cell_type": "code",
   "execution_count": 208,
   "metadata": {},
   "outputs": [
    {
     "data": {
      "text/plain": [
       "[('asaltarlo', 0.9117130041122437),\n",
       " ('asaltó', 0.8137835264205933),\n",
       " ('asalta', 0.8106139898300171),\n",
       " ('asaltaba', 0.8070903420448303),\n",
       " ('asalto,', 0.7765742540359497),\n",
       " ('asaltante', 0.7615628838539124),\n",
       " ('saltar', 0.7594578862190247),\n",
       " ('asaltan', 0.758118748664856),\n",
       " ('asalto', 0.739290177822113),\n",
       " ('asaltaron', 0.7358256578445435),\n",
       " ('apuñalar', 0.7297820448875427),\n",
       " ('robarle', 0.7226705551147461),\n",
       " ('asaltado', 0.7160390615463257),\n",
       " ('asaltos', 0.7111418843269348),\n",
       " ('asaltada', 0.7083549499511719),\n",
       " ('escaparle', 0.7044856548309326),\n",
       " ('escapar,', 0.7018070220947266),\n",
       " ('linchar', 0.6931817531585693),\n",
       " ('escapar', 0.6861633062362671),\n",
       " ('tirarle', 0.6855013966560364)]"
      ]
     },
     "metadata": {},
     "output_type": "display_data"
    },
    {
     "data": {
      "text/plain": [
       "[('asaltarlo', 0.9108335971832275),\n",
       " ('asaltó', 0.8123462796211243),\n",
       " ('asalta', 0.8108409643173218),\n",
       " ('asaltaba', 0.8037557601928711),\n",
       " ('asalto,', 0.7731844186782837),\n",
       " ('asaltante', 0.7624841332435608),\n",
       " ('asaltan', 0.7605288028717041),\n",
       " ('saltar', 0.7541090250015259),\n",
       " ('asaltaron', 0.7419539093971252),\n",
       " ('asalto', 0.7385604381561279),\n",
       " ('asalto.', 0.7364054322242737),\n",
       " ('apuñalar', 0.7197585701942444),\n",
       " ('asaltado', 0.7161492109298706),\n",
       " ('asaltos', 0.7125351428985596),\n",
       " ('robarle', 0.7092669010162354),\n",
       " ('asaltada', 0.708945631980896),\n",
       " ('robarle,', 0.6973253488540649),\n",
       " ('exaltar', 0.6943596601486206),\n",
       " ('escaparle', 0.6881387233734131),\n",
       " ('escapar,', 0.6864504218101501)]"
      ]
     },
     "metadata": {},
     "output_type": "display_data"
    }
   ],
   "source": [
    "display(loaded_model.wv.most_similar('asaltar',topn=20))\n",
    "display(model.wv.most_similar('asaltar', topn=20))"
   ]
  },
  {
   "cell_type": "markdown",
   "metadata": {},
   "source": [
    "## fasttext\n",
    "Probar con fasttext a ver si sale mejor"
   ]
  },
  {
   "cell_type": "code",
   "execution_count": 67,
   "metadata": {},
   "outputs": [],
   "source": [
    "import fasttext\n",
    "model2 = fasttext.train_unsupervised('../datasets/tweets_corpus.txt')"
   ]
  },
  {
   "cell_type": "code",
   "execution_count": 75,
   "metadata": {},
   "outputs": [
    {
     "data": {
      "text/plain": [
       "[(0.9002553224563599, 'cristinafkirchner'),\n",
       " (0.8794339299201965, 'cristin'),\n",
       " (0.8776041865348816, 'kirchner'),\n",
       " (0.8734220266342163, 'cristina.'),\n",
       " (0.8689563870429993, 'cristina,'),\n",
       " (0.849723219871521, 'kirchner...'),\n",
       " (0.844254195690155, 'kirchne'),\n",
       " (0.8441767692565918, 'cristinae'),\n",
       " (0.8404933214187622, 'cristina...'),\n",
       " (0.8366885185241699, 'cfk')]"
      ]
     },
     "metadata": {},
     "output_type": "display_data"
    },
    {
     "name": "stdout",
     "output_type": "stream",
     "text": [
      " \n"
     ]
    },
    {
     "data": {
      "text/plain": [
       "[(0.8801941871643066, 'mauricio'),\n",
       " (0.8704853653907776, 'macri.'),\n",
       " (0.8669970631599426, 'macri,'),\n",
       " (0.8294124007225037, 'macr'),\n",
       " (0.8200663328170776, 'macriísmo'),\n",
       " (0.8187850713729858, 'macriísta'),\n",
       " (0.8139486908912659, 'maurici'),\n",
       " (0.7999427914619446, 'macrí'),\n",
       " (0.7990912199020386, 'macri...'),\n",
       " (0.7980033755302429, 'macrì,')]"
      ]
     },
     "metadata": {},
     "output_type": "display_data"
    }
   ],
   "source": [
    "display(model2.get_nearest_neighbors('cristina'))\n",
    "print(' ')\n",
    "display(model2.get_nearest_neighbors('macri'))"
   ]
  },
  {
   "cell_type": "code",
   "execution_count": 70,
   "metadata": {},
   "outputs": [],
   "source": [
    "model2.save_model(\"../models/words_fast_text.bin\")"
   ]
  },
  {
   "cell_type": "code",
   "execution_count": 73,
   "metadata": {},
   "outputs": [
    {
     "name": "stderr",
     "output_type": "stream",
     "text": [
      "C:\\ProgramData\\Anaconda3\\lib\\site-packages\\ipykernel_launcher.py:1: DeprecationWarning: Call to deprecated `load_fasttext_format` (use load_facebook_vectors (to use pretrained embeddings) or load_facebook_model (to continue training with the loaded full model, more RAM) instead).\n",
      "  \"\"\"Entry point for launching an IPython kernel.\n"
     ]
    }
   ],
   "source": [
    "loaded_model = FastText.load_fasttext_format(\"../models/words_fast_text.bin\")"
   ]
  },
  {
   "cell_type": "code",
   "execution_count": 98,
   "metadata": {},
   "outputs": [
    {
     "name": "stdout",
     "output_type": "stream",
     "text": [
      "Similitud entre palabras: cfk y cristina 0.84\n",
      "Similitud entre palabras: cfk y macri 0.58\n"
     ]
    }
   ],
   "source": [
    "def print_simil(w1,w2):\n",
    "    print(\n",
    "        'Similitud entre palabras:',w1,'y',w2, round(loaded_model.wv.similarity(w1, w2), 2)\n",
    "    )\n",
    "\n",
    "print_simil('cfk', 'cristina')\n",
    "print_simil('cfk', 'macri')"
   ]
  },
  {
   "cell_type": "code",
   "execution_count": 198,
   "metadata": {},
   "outputs": [
    {
     "data": {
      "text/plain": [
       "[('👬', 0.8831042051315308),\n",
       " ('👫', 0.8070534467697144),\n",
       " ('3j', 0.7954803109169006),\n",
       " ('tiempodemujeres', 0.7897360920906067),\n",
       " ('eltiempodelasmujeres', 0.7881421446800232),\n",
       " ('28m', 0.7808589339256287),\n",
       " ('💜', 0.7804324626922607),\n",
       " ('gritoglobalporabortoseguro', 0.7748526930809021),\n",
       " ('mesdelasmujeres', 0.7732834815979004),\n",
       " ('9m', 0.7725346088409424)]"
      ]
     },
     "metadata": {},
     "output_type": "display_data"
    },
    {
     "name": "stdout",
     "output_type": "stream",
     "text": [
      "\n"
     ]
    },
    {
     "data": {
      "text/plain": [
       "[('cristinafkirchner', 0.9002549648284912),\n",
       " ('cristin', 0.8794336318969727),\n",
       " ('kirchner', 0.877604067325592),\n",
       " ('cristina.', 0.8734220266342163),\n",
       " ('cristina,', 0.8689561486244202),\n",
       " ('kirchner...', 0.8497229814529419),\n",
       " ('kirchne', 0.8442540168762207),\n",
       " ('cristinae', 0.8441766500473022),\n",
       " ('cristina...', 0.8404931426048279),\n",
       " ('cfk', 0.8366882801055908),\n",
       " ('kirchn', 0.8271057605743408),\n",
       " ('kirchneri', 0.815038800239563),\n",
       " ('kirchner.', 0.814825713634491),\n",
       " ('kirchnersimo', 0.8125392198562622),\n",
       " ('kirchner,', 0.8105255365371704),\n",
       " ('cfka', 0.8093292713165283),\n",
       " ('cristino', 0.8075121641159058),\n",
       " ('cristinacaamano', 0.8021661043167114),\n",
       " ('cristi', 0.7954428195953369),\n",
       " ('kirch', 0.7885162234306335),\n",
       " ('christina', 0.7852152585983276),\n",
       " ('cristinaencalafate', 0.7801288366317749),\n",
       " ('cristinaenrcv', 0.7793889045715332),\n",
       " ('cfk.', 0.7758830785751343),\n",
       " ('cristinista', 0.7746282815933228),\n",
       " ('cristina2019', 0.7715036869049072),\n",
       " ('kirc', 0.768621027469635),\n",
       " ('cfk,', 0.7568901777267456),\n",
       " ('cristinaenc5n', 0.7523801326751709),\n",
       " ('kirchneris', 0.7482974529266357),\n",
       " ('cristinaenpop', 0.7412887215614319),\n",
       " ('cristinavuelve', 0.7399497628211975),\n",
       " ('cristinaencrónica', 0.7393827438354492),\n",
       " ('néstorkirchner', 0.7367367744445801),\n",
       " ('cfkarge', 0.7328144311904907),\n",
       " ('cristinismo', 0.7299009561538696),\n",
       " ('cfkar', 0.7298662662506104),\n",
       " ('cfkargentina', 0.7275784015655518),\n",
       " ('cristinaenelpj', 0.7245665788650513),\n",
       " ('cfkargentina.', 0.7228388786315918),\n",
       " ('cfkarg', 0.721962571144104),\n",
       " ('kirchnerism', 0.7206997871398926),\n",
       " ('cristinaenvarela', 0.7184665203094482),\n",
       " ('fuerzacristina', 0.713333010673523),\n",
       " ('cristinaenquilmes', 0.7133098840713501),\n",
       " ('cfkargen', 0.7128859758377075),\n",
       " ('cfkargentin', 0.7120866775512695),\n",
       " ('cristinaendolores', 0.7114346623420715),\n",
       " ('kichner', 0.7108316421508789),\n",
       " ('cristinaentelesur', 0.7101855278015137)]"
      ]
     },
     "metadata": {},
     "output_type": "display_data"
    }
   ],
   "source": [
    "display(loaded_model.wv.most_similar('👭',topn=10))\n",
    "print()\n",
    "display(loaded_model.wv.most_similar('cristina',topn=50))"
   ]
  }
 ],
 "metadata": {
  "kernelspec": {
   "display_name": "Python 3",
   "language": "python",
   "name": "python3"
  },
  "language_info": {
   "codemirror_mode": {
    "name": "ipython",
    "version": 3
   },
   "file_extension": ".py",
   "mimetype": "text/x-python",
   "name": "python",
   "nbconvert_exporter": "python",
   "pygments_lexer": "ipython3",
   "version": "3.7.1"
  }
 },
 "nbformat": 4,
 "nbformat_minor": 2
}
